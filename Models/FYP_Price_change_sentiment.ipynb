{
  "nbformat": 4,
  "nbformat_minor": 0,
  "metadata": {
    "accelerator": "GPU",
    "colab": {
      "name": "FYP_Price_change_sentiment.ipynb",
      "provenance": [],
      "collapsed_sections": []
    },
    "kernelspec": {
      "display_name": "Python 3",
      "name": "python3"
    }
  },
  "cells": [
    {
      "cell_type": "code",
      "metadata": {
        "id": "6EOgDeEwMtX1"
      },
      "source": [
        "# multivariate output stacked lstm example\n",
        "from numpy import array\n",
        "from numpy import hstack\n",
        "import tensorflow as tf\n",
        "from keras.models import Sequential\n",
        "from keras.layers import LSTM,Embedding\n",
        "from keras.layers import Dense\n",
        "from keras.optimizers import Adam,SGD\n",
        "from keras.optimizers import RMSprop\n",
        "import pandas as pd\n",
        "import numpy as np\n",
        "import matplotlib.pyplot as plt\n",
        "from sklearn.preprocessing import MinMaxScaler,RobustScaler\n",
        "from sklearn.preprocessing import StandardScaler\n",
        "from keras.models import load_model\n",
        "from keras.layers import Input\n",
        "from keras.layers import Dropout\n",
        "from keras.layers import AlphaDropout\n",
        "from keras.layers import Activation\n",
        "from keras.layers import Bidirectional\n",
        "from keras.layers import RepeatVector\n",
        "from keras.layers import BatchNormalization\n",
        "from keras.layers import TimeDistributed,Conv1D,MaxPooling1D,Flatten\n",
        "from keras.callbacks import EarlyStopping\n",
        "from keras.callbacks import ModelCheckpoint\n",
        "from keras.layers import LeakyReLU\n",
        "from keras.constraints import maxnorm\n",
        "from tqdm import tqdm_notebook, tqdm\n",
        "from collections import deque"
      ],
      "execution_count": null,
      "outputs": []
    },
    {
      "cell_type": "code",
      "metadata": {
        "colab": {
          "base_uri": "https://localhost:8080/"
        },
        "id": "SDUNko4N0o3h",
        "outputId": "f06f9a1f-05ba-4de2-a579-03d9d0af9527"
      },
      "source": [
        "%pip install yfinance"
      ],
      "execution_count": null,
      "outputs": [
        {
          "output_type": "stream",
          "text": [
            "Collecting yfinance\n",
            "  Downloading https://files.pythonhosted.org/packages/7a/e8/b9d7104d3a4bf39924799067592d9e59119fcfc900a425a12e80a3123ec8/yfinance-0.1.55.tar.gz\n",
            "Requirement already satisfied: pandas>=0.24 in /usr/local/lib/python3.7/dist-packages (from yfinance) (1.1.5)\n",
            "Requirement already satisfied: numpy>=1.15 in /usr/local/lib/python3.7/dist-packages (from yfinance) (1.19.5)\n",
            "Requirement already satisfied: requests>=2.20 in /usr/local/lib/python3.7/dist-packages (from yfinance) (2.23.0)\n",
            "Requirement already satisfied: multitasking>=0.0.7 in /usr/local/lib/python3.7/dist-packages (from yfinance) (0.0.9)\n",
            "Collecting lxml>=4.5.1\n",
            "\u001b[?25l  Downloading https://files.pythonhosted.org/packages/d2/88/b25778f17e5320c1c58f8c5060fb5b037288e162bd7554c30799e9ea90db/lxml-4.6.2-cp37-cp37m-manylinux1_x86_64.whl (5.5MB)\n",
            "\u001b[K     |████████████████████████████████| 5.5MB 19.4MB/s \n",
            "\u001b[?25hRequirement already satisfied: pytz>=2017.2 in /usr/local/lib/python3.7/dist-packages (from pandas>=0.24->yfinance) (2018.9)\n",
            "Requirement already satisfied: python-dateutil>=2.7.3 in /usr/local/lib/python3.7/dist-packages (from pandas>=0.24->yfinance) (2.8.1)\n",
            "Requirement already satisfied: urllib3!=1.25.0,!=1.25.1,<1.26,>=1.21.1 in /usr/local/lib/python3.7/dist-packages (from requests>=2.20->yfinance) (1.24.3)\n",
            "Requirement already satisfied: certifi>=2017.4.17 in /usr/local/lib/python3.7/dist-packages (from requests>=2.20->yfinance) (2020.12.5)\n",
            "Requirement already satisfied: chardet<4,>=3.0.2 in /usr/local/lib/python3.7/dist-packages (from requests>=2.20->yfinance) (3.0.4)\n",
            "Requirement already satisfied: idna<3,>=2.5 in /usr/local/lib/python3.7/dist-packages (from requests>=2.20->yfinance) (2.10)\n",
            "Requirement already satisfied: six>=1.5 in /usr/local/lib/python3.7/dist-packages (from python-dateutil>=2.7.3->pandas>=0.24->yfinance) (1.15.0)\n",
            "Building wheels for collected packages: yfinance\n",
            "  Building wheel for yfinance (setup.py) ... \u001b[?25l\u001b[?25hdone\n",
            "  Created wheel for yfinance: filename=yfinance-0.1.55-py2.py3-none-any.whl size=22616 sha256=0c05ade88f721f4929cfe2c851d3f85a16a34b11ae293dd4654c179783ff4919\n",
            "  Stored in directory: /root/.cache/pip/wheels/04/98/cc/2702a4242d60bdc14f48b4557c427ded1fe92aedf257d4565c\n",
            "Successfully built yfinance\n",
            "Installing collected packages: lxml, yfinance\n",
            "  Found existing installation: lxml 4.2.6\n",
            "    Uninstalling lxml-4.2.6:\n",
            "      Successfully uninstalled lxml-4.2.6\n",
            "Successfully installed lxml-4.6.2 yfinance-0.1.55\n"
          ],
          "name": "stdout"
        }
      ]
    },
    {
      "cell_type": "code",
      "metadata": {
        "id": "DWlNWC0f0o3i"
      },
      "source": [
        "import yfinance as yf\n",
        "ticker = 'AMZN'\n",
        "index = yf.Ticker(ticker)\n",
        "\n",
        "# get 6 year 2013-2019 historical market data to train \n",
        "df_A = index.history(start='2013-01-01', end= '2019-12-30', actions=False)"
      ],
      "execution_count": null,
      "outputs": []
    },
    {
      "cell_type": "code",
      "metadata": {
        "id": "dmQ1aH2P38HD",
        "colab": {
          "base_uri": "https://localhost:8080/"
        },
        "outputId": "896913bf-bb49-43ec-996c-39725cb86c2a"
      },
      "source": [
        "#!unzip 'AMZN.zip' -d AMZN"
      ],
      "execution_count": null,
      "outputs": [
        {
          "output_type": "stream",
          "text": [
            "Archive:  AMZN.zip\n",
            "   creating: AMZN/content/my_model/\n",
            "   creating: AMZN/content/my_model/.ipynb_checkpoints/\n",
            "   creating: AMZN/content/my_model/variables/\n",
            "  inflating: AMZN/content/my_model/variables/variables.data-00000-of-00001  \n",
            "  inflating: AMZN/content/my_model/variables/variables.index  \n",
            "   creating: AMZN/content/my_model/assets/\n",
            "  inflating: AMZN/content/my_model/saved_model.pb  \n"
          ],
          "name": "stdout"
        }
      ]
    },
    {
      "cell_type": "code",
      "metadata": {
        "id": "EpN4cD1j2_Sd"
      },
      "source": [
        "#model = tf.keras.models.load_model('my_model')\n",
        "#NVDA SP500 NFLX DJI AMZN-> GOOG"
      ],
      "execution_count": null,
      "outputs": []
    },
    {
      "cell_type": "code",
      "metadata": {
        "id": "i9Mymf8Eziba"
      },
      "source": [
        "lookback_days=30\n",
        "forward_days =3"
      ],
      "execution_count": null,
      "outputs": []
    },
    {
      "cell_type": "code",
      "metadata": {
        "colab": {
          "base_uri": "https://localhost:8080/"
        },
        "id": "eyINKjJup-Vg",
        "outputId": "8943134e-29f1-4c03-d527-4edca38cfed7"
      },
      "source": [
        "%pip install vaderSentiment\n",
        "\n",
        "from vaderSentiment.vaderSentiment import SentimentIntensityAnalyzer"
      ],
      "execution_count": null,
      "outputs": [
        {
          "output_type": "stream",
          "text": [
            "Collecting vaderSentiment\n",
            "\u001b[?25l  Downloading https://files.pythonhosted.org/packages/76/fc/310e16254683c1ed35eeb97386986d6c00bc29df17ce280aed64d55537e9/vaderSentiment-3.3.2-py2.py3-none-any.whl (125kB)\n",
            "\r\u001b[K     |██▋                             | 10kB 20.9MB/s eta 0:00:01\r\u001b[K     |█████▏                          | 20kB 27.9MB/s eta 0:00:01\r\u001b[K     |███████▉                        | 30kB 27.8MB/s eta 0:00:01\r\u001b[K     |██████████▍                     | 40kB 30.2MB/s eta 0:00:01\r\u001b[K     |█████████████                   | 51kB 30.3MB/s eta 0:00:01\r\u001b[K     |███████████████▋                | 61kB 32.4MB/s eta 0:00:01\r\u001b[K     |██████████████████▏             | 71kB 20.7MB/s eta 0:00:01\r\u001b[K     |████████████████████▉           | 81kB 20.9MB/s eta 0:00:01\r\u001b[K     |███████████████████████▍        | 92kB 22.4MB/s eta 0:00:01\r\u001b[K     |██████████████████████████      | 102kB 21.2MB/s eta 0:00:01\r\u001b[K     |████████████████████████████▋   | 112kB 21.2MB/s eta 0:00:01\r\u001b[K     |███████████████████████████████▏| 122kB 21.2MB/s eta 0:00:01\r\u001b[K     |████████████████████████████████| 133kB 21.2MB/s \n",
            "\u001b[?25hRequirement already satisfied: requests in /usr/local/lib/python3.7/dist-packages (from vaderSentiment) (2.23.0)\n",
            "Requirement already satisfied: idna<3,>=2.5 in /usr/local/lib/python3.7/dist-packages (from requests->vaderSentiment) (2.10)\n",
            "Requirement already satisfied: urllib3!=1.25.0,!=1.25.1,<1.26,>=1.21.1 in /usr/local/lib/python3.7/dist-packages (from requests->vaderSentiment) (1.24.3)\n",
            "Requirement already satisfied: certifi>=2017.4.17 in /usr/local/lib/python3.7/dist-packages (from requests->vaderSentiment) (2020.12.5)\n",
            "Requirement already satisfied: chardet<4,>=3.0.2 in /usr/local/lib/python3.7/dist-packages (from requests->vaderSentiment) (3.0.4)\n",
            "Installing collected packages: vaderSentiment\n",
            "Successfully installed vaderSentiment-3.3.2\n"
          ],
          "name": "stdout"
        }
      ]
    },
    {
      "cell_type": "code",
      "metadata": {
        "id": "nOK3BZ-Np-0p"
      },
      "source": [
        "# Sentiment Analysis\n",
        "analyzer = SentimentIntensityAnalyzer()\n",
        "tweets_df2 = pd.read_csv('AMZN.csv')\n",
        "columns = ['Datetime', 'Tweet Id', 'Text']\n",
        "news = pd.DataFrame(tweets_df2, columns=columns)\n",
        "#news.Datetime = news.Datetime.apply(lambda x: x.date())\n",
        "news['Date'] = pd.to_datetime(news['Datetime'].astype(str).str[:10], errors='coerce')\n",
        "news['Text'] = news['Text'].astype(str)\n",
        "scores = news['Text'].apply(analyzer.polarity_scores).tolist()\n",
        "\n",
        "df_scores = pd.DataFrame(scores)\n",
        "news = news.join(df_scores, rsuffix='_right')\n",
        "\n",
        "news.set_index = pd.to_datetime(news['Date'])\n",
        "news = news.groupby(\n",
        "    [news['Date']]\n",
        ")['compound','neg','neu','pos'].mean()"
      ],
      "execution_count": null,
      "outputs": []
    },
    {
      "cell_type": "code",
      "metadata": {
        "colab": {
          "base_uri": "https://localhost:8080/",
          "height": 204
        },
        "id": "ztl7rZs5uT8T",
        "outputId": "e0d428d3-4918-400c-ae0f-f3e92739c117"
      },
      "source": [
        "news.tail(5)"
      ],
      "execution_count": null,
      "outputs": [
        {
          "output_type": "execute_result",
          "data": {
            "text/html": [
              "<div>\n",
              "<style scoped>\n",
              "    .dataframe tbody tr th:only-of-type {\n",
              "        vertical-align: middle;\n",
              "    }\n",
              "\n",
              "    .dataframe tbody tr th {\n",
              "        vertical-align: top;\n",
              "    }\n",
              "\n",
              "    .dataframe thead th {\n",
              "        text-align: right;\n",
              "    }\n",
              "</style>\n",
              "<table border=\"1\" class=\"dataframe\">\n",
              "  <thead>\n",
              "    <tr style=\"text-align: right;\">\n",
              "      <th></th>\n",
              "      <th>Datetime</th>\n",
              "      <th>Tweet Id</th>\n",
              "      <th>Text</th>\n",
              "      <th>Date</th>\n",
              "      <th>neg</th>\n",
              "      <th>neu</th>\n",
              "      <th>pos</th>\n",
              "      <th>compound</th>\n",
              "    </tr>\n",
              "  </thead>\n",
              "  <tbody>\n",
              "    <tr>\n",
              "      <th>95653</th>\n",
              "      <td>2021-02-28 07:18:57+00:00</td>\n",
              "      <td>1365924434113032196</td>\n",
              "      <td>@TheLioncom It's the best broker for people th...</td>\n",
              "      <td>2021-02-28</td>\n",
              "      <td>0.000</td>\n",
              "      <td>0.792</td>\n",
              "      <td>0.208</td>\n",
              "      <td>0.6705</td>\n",
              "    </tr>\n",
              "    <tr>\n",
              "      <th>95654</th>\n",
              "      <td>2021-02-28 06:43:42+00:00</td>\n",
              "      <td>1365915565425008640</td>\n",
              "      <td>@ArbiterValue @AaronDayAtlas @Fxhedgers $AAPL ...</td>\n",
              "      <td>2021-02-28</td>\n",
              "      <td>0.000</td>\n",
              "      <td>0.880</td>\n",
              "      <td>0.120</td>\n",
              "      <td>0.3818</td>\n",
              "    </tr>\n",
              "    <tr>\n",
              "      <th>95655</th>\n",
              "      <td>2021-02-28 04:49:46+00:00</td>\n",
              "      <td>1365886891191533570</td>\n",
              "      <td>@ArbiterValue @AaronDayAtlas @Fxhedgers Wym Bu...</td>\n",
              "      <td>2021-02-28</td>\n",
              "      <td>0.000</td>\n",
              "      <td>1.000</td>\n",
              "      <td>0.000</td>\n",
              "      <td>0.0000</td>\n",
              "    </tr>\n",
              "    <tr>\n",
              "      <th>95656</th>\n",
              "      <td>2021-02-28 03:47:41+00:00</td>\n",
              "      <td>1365871266893164559</td>\n",
              "      <td>@Frankie42033653 @Reuters Berkshire invested i...</td>\n",
              "      <td>2021-02-28</td>\n",
              "      <td>0.000</td>\n",
              "      <td>0.945</td>\n",
              "      <td>0.055</td>\n",
              "      <td>0.4215</td>\n",
              "    </tr>\n",
              "    <tr>\n",
              "      <th>95657</th>\n",
              "      <td>2021-02-28 01:22:04+00:00</td>\n",
              "      <td>1365834621880049666</td>\n",
              "      <td>@c64f7e94 @jchervinsky @TheStalwart Youre miss...</td>\n",
              "      <td>2021-02-28</td>\n",
              "      <td>0.084</td>\n",
              "      <td>0.881</td>\n",
              "      <td>0.034</td>\n",
              "      <td>-0.3818</td>\n",
              "    </tr>\n",
              "  </tbody>\n",
              "</table>\n",
              "</div>"
            ],
            "text/plain": [
              "                        Datetime             Tweet Id  ...    pos compound\n",
              "95653  2021-02-28 07:18:57+00:00  1365924434113032196  ...  0.208   0.6705\n",
              "95654  2021-02-28 06:43:42+00:00  1365915565425008640  ...  0.120   0.3818\n",
              "95655  2021-02-28 04:49:46+00:00  1365886891191533570  ...  0.000   0.0000\n",
              "95656  2021-02-28 03:47:41+00:00  1365871266893164559  ...  0.055   0.4215\n",
              "95657  2021-02-28 01:22:04+00:00  1365834621880049666  ...  0.034  -0.3818\n",
              "\n",
              "[5 rows x 8 columns]"
            ]
          },
          "metadata": {
            "tags": []
          },
          "execution_count": 19
        }
      ]
    },
    {
      "cell_type": "code",
      "metadata": {
        "id": "Fw6V8L9qjW1e"
      },
      "source": [
        "news = pd.read_csv('amzn.csv')"
      ],
      "execution_count": null,
      "outputs": []
    },
    {
      "cell_type": "code",
      "metadata": {
        "id": "YjMtO3bX8MPp"
      },
      "source": [
        "def get_technical_indicators(dataset):\n",
        "    # Create 7 and 30 days Moving Average\n",
        "    dataset['ma7'] = dataset['Close'].rolling(window=7, min_periods = 1).mean()\n",
        "    dataset['ma26'] = dataset['Close'].rolling(window=26, min_periods = 1).mean()\n",
        "\n",
        "    dataset['ma7_open'] = dataset['Open'].rolling(window=7, min_periods = 1).mean()\n",
        "    dataset['ma26_open'] = dataset['Open'].rolling(window=26, min_periods = 1).mean()\n",
        "    \n",
        "    \n",
        "    # Create MACD\n",
        "    dataset['26ema'] = dataset['Close'].ewm(span=26).mean()\n",
        "    dataset['12ema'] = dataset['Close'].ewm(span=12).mean()\n",
        "    dataset['MACD'] = (dataset['12ema']-dataset['26ema'])\n",
        "# Create Bollinger Bands\n",
        "    dataset['20sd'] = dataset['Close'].rolling(window=20, min_periods = 1).std()\n",
        "    dataset['20sd'] = dataset['20sd'].fillna(method='backfill').dropna()\n",
        "    dataset['upper_band'] = dataset['ma26'] + (dataset['20sd']*2)\n",
        "    dataset['lower_band'] = dataset['ma26'] - (dataset['20sd']*2)\n",
        "\n",
        "    dataset['Close_lag1'] = dataset['Close'] .shift(1)\n",
        "    #dataset['Close_lag1'] = dataset['Close_lag1'].fillna(method='backfill').dropna()\n",
        "    dataset['Close_lag2'] = dataset['Close'] .shift(2)\n",
        "    #dataset['Close_lag2'] = dataset['Close_lag2'].fillna(method='backfill').dropna()\n",
        "    dataset['Close_lag3'] = dataset['Close'] .shift(3)\n",
        "    #dataset['Close_lag3'] = dataset['Close_lag3'].fillna(method='backfill').dropna()\n",
        "    dataset['Close_lag4'] = dataset['Close'] .shift(4)\n",
        "    #dataset['Close_lag4'] = dataset['Close_lag4'].fillna(method='backfill').dropna()\n",
        "    dataset['Close_lag5'] = dataset['Close'] .shift(5)\n",
        "    #dataset['Close_lag5'] = dataset['Close_lag5'].fillna(method='backfill').dropna()\n",
        "    \n",
        "    # Create Exponential moving average\n",
        "    dataset['ema'] = dataset['Close'].ewm(com=0.5).mean()\n",
        "\n",
        "    dataset['Close_ahead1'] = dataset['Close'] .shift(-1)\n",
        "    dataset['Close_ahead2'] = dataset['Close'] .shift(-2)\n",
        "    dataset['Close_ahead3'] = dataset['Close'] .shift(-3)\n",
        "\n",
        "    dataset['ClosePerChg1'] = ((dataset['Close_ahead1'] - dataset['Close'])/dataset['Close'])   \n",
        "    dataset['ClosePerChg2'] = ((dataset['Close_ahead2'] - dataset['Close'])/dataset['Close']) \n",
        "    dataset['ClosePerChg3'] = ((dataset['Close_ahead3'] - dataset['Close'])/dataset['Close']) \n",
        "\n",
        "    dataset['Open_ahead1'] = dataset['Open'] .shift(-1)\n",
        "    dataset['Open_ahead2'] = dataset['Open'] .shift(-2)\n",
        "    dataset['Open_ahead3'] = dataset['Open'] .shift(-3)\n",
        "\n",
        "    dataset['OpenPerChg1'] = ((dataset['Open_ahead1'] - dataset['Open'])/dataset['Open'])  \n",
        "    dataset['OpenPerChg2'] = ((dataset['Open_ahead2'] - dataset['Open'])/dataset['Open']) \n",
        "    dataset['OpenPerChg3'] = ((dataset['Open_ahead3'] - dataset['Open'])/dataset['Open']) \n",
        "    # Create Momentum\n",
        "    #dataset['momentum'] = dataset['Close']-1\n",
        "    \n",
        "    return dataset"
      ],
      "execution_count": null,
      "outputs": []
    },
    {
      "cell_type": "code",
      "metadata": {
        "id": "hDqpzAPGfm_Y"
      },
      "source": [
        "df_A_ti = get_technical_indicators(df_A)"
      ],
      "execution_count": null,
      "outputs": []
    },
    {
      "cell_type": "code",
      "metadata": {
        "id": "R-BXb387fpMD"
      },
      "source": [
        "df_A_ti = df_A_ti.merge(news, how ='left' , on = 'Date')\n",
        "\n",
        "df_A_ti.neg = df_A_ti.neg.fillna(0.5)\n",
        "df_A_ti.neu = df_A_ti.neu.fillna(0.5)\n",
        "df_A_ti.pos = df_A_ti.pos.fillna(0.5)"
      ],
      "execution_count": null,
      "outputs": []
    },
    {
      "cell_type": "code",
      "metadata": {
        "colab": {
          "base_uri": "https://localhost:8080/",
          "height": 640
        },
        "id": "EZlHY4nWvmgO",
        "outputId": "996c6690-33a8-4d93-8d9d-34e79dbf9e40"
      },
      "source": [
        "df_A_ti"
      ],
      "execution_count": null,
      "outputs": [
        {
          "output_type": "execute_result",
          "data": {
            "text/html": [
              "<div>\n",
              "<style scoped>\n",
              "    .dataframe tbody tr th:only-of-type {\n",
              "        vertical-align: middle;\n",
              "    }\n",
              "\n",
              "    .dataframe tbody tr th {\n",
              "        vertical-align: top;\n",
              "    }\n",
              "\n",
              "    .dataframe thead th {\n",
              "        text-align: right;\n",
              "    }\n",
              "</style>\n",
              "<table border=\"1\" class=\"dataframe\">\n",
              "  <thead>\n",
              "    <tr style=\"text-align: right;\">\n",
              "      <th></th>\n",
              "      <th>Open</th>\n",
              "      <th>High</th>\n",
              "      <th>Low</th>\n",
              "      <th>Close</th>\n",
              "      <th>Volume</th>\n",
              "      <th>ma7</th>\n",
              "      <th>ma26</th>\n",
              "      <th>ma7_open</th>\n",
              "      <th>ma26_open</th>\n",
              "      <th>26ema</th>\n",
              "      <th>12ema</th>\n",
              "      <th>MACD</th>\n",
              "      <th>20sd</th>\n",
              "      <th>upper_band</th>\n",
              "      <th>lower_band</th>\n",
              "      <th>Close_lag1</th>\n",
              "      <th>Close_lag2</th>\n",
              "      <th>Close_lag3</th>\n",
              "      <th>Close_lag4</th>\n",
              "      <th>Close_lag5</th>\n",
              "      <th>ema</th>\n",
              "      <th>Close_ahead1</th>\n",
              "      <th>Close_ahead2</th>\n",
              "      <th>Close_ahead3</th>\n",
              "      <th>ClosePerChg1</th>\n",
              "      <th>ClosePerChg2</th>\n",
              "      <th>ClosePerChg3</th>\n",
              "      <th>Open_ahead1</th>\n",
              "      <th>Open_ahead2</th>\n",
              "      <th>Open_ahead3</th>\n",
              "      <th>OpenPerChg1</th>\n",
              "      <th>OpenPerChg2</th>\n",
              "      <th>OpenPerChg3</th>\n",
              "      <th>compound</th>\n",
              "      <th>neg</th>\n",
              "      <th>neu</th>\n",
              "      <th>pos</th>\n",
              "    </tr>\n",
              "    <tr>\n",
              "      <th>Date</th>\n",
              "      <th></th>\n",
              "      <th></th>\n",
              "      <th></th>\n",
              "      <th></th>\n",
              "      <th></th>\n",
              "      <th></th>\n",
              "      <th></th>\n",
              "      <th></th>\n",
              "      <th></th>\n",
              "      <th></th>\n",
              "      <th></th>\n",
              "      <th></th>\n",
              "      <th></th>\n",
              "      <th></th>\n",
              "      <th></th>\n",
              "      <th></th>\n",
              "      <th></th>\n",
              "      <th></th>\n",
              "      <th></th>\n",
              "      <th></th>\n",
              "      <th></th>\n",
              "      <th></th>\n",
              "      <th></th>\n",
              "      <th></th>\n",
              "      <th></th>\n",
              "      <th></th>\n",
              "      <th></th>\n",
              "      <th></th>\n",
              "      <th></th>\n",
              "      <th></th>\n",
              "      <th></th>\n",
              "      <th></th>\n",
              "      <th></th>\n",
              "      <th></th>\n",
              "      <th></th>\n",
              "      <th></th>\n",
              "      <th></th>\n",
              "    </tr>\n",
              "  </thead>\n",
              "  <tbody>\n",
              "    <tr>\n",
              "      <th>2013-01-02</th>\n",
              "      <td>13412.500000</td>\n",
              "      <td>13412.500000</td>\n",
              "      <td>13412.500000</td>\n",
              "      <td>13412.500000</td>\n",
              "      <td>0</td>\n",
              "      <td>13412.500000</td>\n",
              "      <td>13412.500000</td>\n",
              "      <td>13412.500000</td>\n",
              "      <td>13412.500000</td>\n",
              "      <td>13412.500000</td>\n",
              "      <td>13412.500000</td>\n",
              "      <td>0.000000</td>\n",
              "      <td>14.919677</td>\n",
              "      <td>13442.339354</td>\n",
              "      <td>13382.660646</td>\n",
              "      <td>NaN</td>\n",
              "      <td>NaN</td>\n",
              "      <td>NaN</td>\n",
              "      <td>NaN</td>\n",
              "      <td>NaN</td>\n",
              "      <td>13412.500000</td>\n",
              "      <td>13391.400391</td>\n",
              "      <td>13435.200195</td>\n",
              "      <td>13384.299805</td>\n",
              "      <td>-0.001573</td>\n",
              "      <td>0.001692</td>\n",
              "      <td>-0.002103</td>\n",
              "      <td>13391.400391</td>\n",
              "      <td>13435.200195</td>\n",
              "      <td>13384.299805</td>\n",
              "      <td>-0.001573</td>\n",
              "      <td>0.001692</td>\n",
              "      <td>-0.002103</td>\n",
              "      <td>0.162100</td>\n",
              "      <td>0.028129</td>\n",
              "      <td>0.870143</td>\n",
              "      <td>0.101714</td>\n",
              "    </tr>\n",
              "    <tr>\n",
              "      <th>2013-01-03</th>\n",
              "      <td>13391.400391</td>\n",
              "      <td>13391.400391</td>\n",
              "      <td>13391.400391</td>\n",
              "      <td>13391.400391</td>\n",
              "      <td>0</td>\n",
              "      <td>13401.950195</td>\n",
              "      <td>13401.950195</td>\n",
              "      <td>13401.950195</td>\n",
              "      <td>13401.950195</td>\n",
              "      <td>13401.544434</td>\n",
              "      <td>13401.071045</td>\n",
              "      <td>-0.473389</td>\n",
              "      <td>14.919677</td>\n",
              "      <td>13431.789549</td>\n",
              "      <td>13372.110842</td>\n",
              "      <td>13412.500000</td>\n",
              "      <td>NaN</td>\n",
              "      <td>NaN</td>\n",
              "      <td>NaN</td>\n",
              "      <td>NaN</td>\n",
              "      <td>13396.675293</td>\n",
              "      <td>13435.200195</td>\n",
              "      <td>13384.299805</td>\n",
              "      <td>13328.799805</td>\n",
              "      <td>0.003271</td>\n",
              "      <td>-0.000530</td>\n",
              "      <td>-0.004675</td>\n",
              "      <td>13435.200195</td>\n",
              "      <td>13384.299805</td>\n",
              "      <td>13328.799805</td>\n",
              "      <td>0.003271</td>\n",
              "      <td>-0.000530</td>\n",
              "      <td>-0.004675</td>\n",
              "      <td>0.335328</td>\n",
              "      <td>0.020262</td>\n",
              "      <td>0.792934</td>\n",
              "      <td>0.186787</td>\n",
              "    </tr>\n",
              "    <tr>\n",
              "      <th>2013-01-04</th>\n",
              "      <td>13435.200195</td>\n",
              "      <td>13435.200195</td>\n",
              "      <td>13435.200195</td>\n",
              "      <td>13435.200195</td>\n",
              "      <td>0</td>\n",
              "      <td>13413.033529</td>\n",
              "      <td>13413.033529</td>\n",
              "      <td>13413.033529</td>\n",
              "      <td>13413.033529</td>\n",
              "      <td>13413.636622</td>\n",
              "      <td>13414.391660</td>\n",
              "      <td>0.755038</td>\n",
              "      <td>21.904776</td>\n",
              "      <td>13456.843081</td>\n",
              "      <td>13369.223977</td>\n",
              "      <td>13391.400391</td>\n",
              "      <td>13412.500000</td>\n",
              "      <td>NaN</td>\n",
              "      <td>NaN</td>\n",
              "      <td>NaN</td>\n",
              "      <td>13423.346379</td>\n",
              "      <td>13384.299805</td>\n",
              "      <td>13328.799805</td>\n",
              "      <td>13390.500000</td>\n",
              "      <td>-0.003789</td>\n",
              "      <td>-0.007920</td>\n",
              "      <td>-0.003327</td>\n",
              "      <td>13384.299805</td>\n",
              "      <td>13328.799805</td>\n",
              "      <td>13390.500000</td>\n",
              "      <td>-0.003789</td>\n",
              "      <td>-0.007920</td>\n",
              "      <td>-0.003327</td>\n",
              "      <td>0.158577</td>\n",
              "      <td>0.054535</td>\n",
              "      <td>0.775837</td>\n",
              "      <td>0.169628</td>\n",
              "    </tr>\n",
              "    <tr>\n",
              "      <th>2013-01-07</th>\n",
              "      <td>13384.299805</td>\n",
              "      <td>13384.299805</td>\n",
              "      <td>13384.299805</td>\n",
              "      <td>13384.299805</td>\n",
              "      <td>0</td>\n",
              "      <td>13405.850098</td>\n",
              "      <td>13405.850098</td>\n",
              "      <td>13405.850098</td>\n",
              "      <td>13405.850098</td>\n",
              "      <td>13405.435330</td>\n",
              "      <td>13404.892837</td>\n",
              "      <td>-0.542492</td>\n",
              "      <td>22.940928</td>\n",
              "      <td>13451.731955</td>\n",
              "      <td>13359.968241</td>\n",
              "      <td>13435.200195</td>\n",
              "      <td>13391.400391</td>\n",
              "      <td>13412.500000</td>\n",
              "      <td>NaN</td>\n",
              "      <td>NaN</td>\n",
              "      <td>13396.989941</td>\n",
              "      <td>13328.799805</td>\n",
              "      <td>13390.500000</td>\n",
              "      <td>13471.200195</td>\n",
              "      <td>-0.004147</td>\n",
              "      <td>0.000463</td>\n",
              "      <td>0.006493</td>\n",
              "      <td>13328.799805</td>\n",
              "      <td>13390.500000</td>\n",
              "      <td>13471.200195</td>\n",
              "      <td>-0.004147</td>\n",
              "      <td>0.000463</td>\n",
              "      <td>0.006493</td>\n",
              "      <td>0.052937</td>\n",
              "      <td>0.033815</td>\n",
              "      <td>0.911457</td>\n",
              "      <td>0.054753</td>\n",
              "    </tr>\n",
              "    <tr>\n",
              "      <th>2013-01-08</th>\n",
              "      <td>13328.799805</td>\n",
              "      <td>13328.799805</td>\n",
              "      <td>13328.799805</td>\n",
              "      <td>13328.799805</td>\n",
              "      <td>0</td>\n",
              "      <td>13390.440039</td>\n",
              "      <td>13390.440039</td>\n",
              "      <td>13390.440039</td>\n",
              "      <td>13390.440039</td>\n",
              "      <td>13387.663236</td>\n",
              "      <td>13384.218632</td>\n",
              "      <td>-3.444603</td>\n",
              "      <td>39.775170</td>\n",
              "      <td>13469.990380</td>\n",
              "      <td>13310.889698</td>\n",
              "      <td>13384.299805</td>\n",
              "      <td>13435.200195</td>\n",
              "      <td>13391.400391</td>\n",
              "      <td>13412.500000</td>\n",
              "      <td>NaN</td>\n",
              "      <td>13351.341999</td>\n",
              "      <td>13390.500000</td>\n",
              "      <td>13471.200195</td>\n",
              "      <td>13488.400391</td>\n",
              "      <td>0.004629</td>\n",
              "      <td>0.010684</td>\n",
              "      <td>0.011974</td>\n",
              "      <td>13390.500000</td>\n",
              "      <td>13471.200195</td>\n",
              "      <td>13488.400391</td>\n",
              "      <td>0.004629</td>\n",
              "      <td>0.010684</td>\n",
              "      <td>0.011974</td>\n",
              "      <td>0.152150</td>\n",
              "      <td>0.015444</td>\n",
              "      <td>0.894067</td>\n",
              "      <td>0.090500</td>\n",
              "    </tr>\n",
              "    <tr>\n",
              "      <th>...</th>\n",
              "      <td>...</td>\n",
              "      <td>...</td>\n",
              "      <td>...</td>\n",
              "      <td>...</td>\n",
              "      <td>...</td>\n",
              "      <td>...</td>\n",
              "      <td>...</td>\n",
              "      <td>...</td>\n",
              "      <td>...</td>\n",
              "      <td>...</td>\n",
              "      <td>...</td>\n",
              "      <td>...</td>\n",
              "      <td>...</td>\n",
              "      <td>...</td>\n",
              "      <td>...</td>\n",
              "      <td>...</td>\n",
              "      <td>...</td>\n",
              "      <td>...</td>\n",
              "      <td>...</td>\n",
              "      <td>...</td>\n",
              "      <td>...</td>\n",
              "      <td>...</td>\n",
              "      <td>...</td>\n",
              "      <td>...</td>\n",
              "      <td>...</td>\n",
              "      <td>...</td>\n",
              "      <td>...</td>\n",
              "      <td>...</td>\n",
              "      <td>...</td>\n",
              "      <td>...</td>\n",
              "      <td>...</td>\n",
              "      <td>...</td>\n",
              "      <td>...</td>\n",
              "      <td>...</td>\n",
              "      <td>...</td>\n",
              "      <td>...</td>\n",
              "      <td>...</td>\n",
              "    </tr>\n",
              "    <tr>\n",
              "      <th>2019-05-31</th>\n",
              "      <td>24815.000000</td>\n",
              "      <td>24815.000000</td>\n",
              "      <td>24815.000000</td>\n",
              "      <td>24815.000000</td>\n",
              "      <td>0</td>\n",
              "      <td>25330.271484</td>\n",
              "      <td>25877.969351</td>\n",
              "      <td>25330.271484</td>\n",
              "      <td>25877.969351</td>\n",
              "      <td>25701.783945</td>\n",
              "      <td>25432.001861</td>\n",
              "      <td>-269.782084</td>\n",
              "      <td>411.548818</td>\n",
              "      <td>26701.066988</td>\n",
              "      <td>25054.871714</td>\n",
              "      <td>25169.900391</td>\n",
              "      <td>25126.400391</td>\n",
              "      <td>25347.800781</td>\n",
              "      <td>25585.699219</td>\n",
              "      <td>25490.500000</td>\n",
              "      <td>24939.624986</td>\n",
              "      <td>24819.800781</td>\n",
              "      <td>25332.199219</td>\n",
              "      <td>25539.599609</td>\n",
              "      <td>0.000193</td>\n",
              "      <td>0.020842</td>\n",
              "      <td>0.029200</td>\n",
              "      <td>24819.800781</td>\n",
              "      <td>25332.199219</td>\n",
              "      <td>25539.599609</td>\n",
              "      <td>0.000193</td>\n",
              "      <td>0.020842</td>\n",
              "      <td>0.029200</td>\n",
              "      <td>0.162745</td>\n",
              "      <td>0.030911</td>\n",
              "      <td>0.871386</td>\n",
              "      <td>0.097673</td>\n",
              "    </tr>\n",
              "    <tr>\n",
              "      <th>2019-06-03</th>\n",
              "      <td>24819.800781</td>\n",
              "      <td>24819.800781</td>\n",
              "      <td>24819.800781</td>\n",
              "      <td>24819.800781</td>\n",
              "      <td>0</td>\n",
              "      <td>25193.585938</td>\n",
              "      <td>25809.615535</td>\n",
              "      <td>25193.585938</td>\n",
              "      <td>25809.615535</td>\n",
              "      <td>25636.451859</td>\n",
              "      <td>25337.817079</td>\n",
              "      <td>-298.634779</td>\n",
              "      <td>406.756616</td>\n",
              "      <td>26623.128766</td>\n",
              "      <td>24996.102304</td>\n",
              "      <td>24815.000000</td>\n",
              "      <td>25169.900391</td>\n",
              "      <td>25126.400391</td>\n",
              "      <td>25347.800781</td>\n",
              "      <td>25585.699219</td>\n",
              "      <td>24859.742183</td>\n",
              "      <td>25332.199219</td>\n",
              "      <td>25539.599609</td>\n",
              "      <td>25983.900391</td>\n",
              "      <td>0.020645</td>\n",
              "      <td>0.029001</td>\n",
              "      <td>0.046902</td>\n",
              "      <td>25332.199219</td>\n",
              "      <td>25539.599609</td>\n",
              "      <td>25983.900391</td>\n",
              "      <td>0.020645</td>\n",
              "      <td>0.029001</td>\n",
              "      <td>0.046902</td>\n",
              "      <td>0.277552</td>\n",
              "      <td>0.031396</td>\n",
              "      <td>0.862515</td>\n",
              "      <td>0.106099</td>\n",
              "    </tr>\n",
              "    <tr>\n",
              "      <th>2019-06-04</th>\n",
              "      <td>25332.199219</td>\n",
              "      <td>25332.199219</td>\n",
              "      <td>25332.199219</td>\n",
              "      <td>25332.199219</td>\n",
              "      <td>0</td>\n",
              "      <td>25170.971540</td>\n",
              "      <td>25766.157828</td>\n",
              "      <td>25170.971540</td>\n",
              "      <td>25766.157828</td>\n",
              "      <td>25613.914626</td>\n",
              "      <td>25336.952793</td>\n",
              "      <td>-276.961833</td>\n",
              "      <td>358.860582</td>\n",
              "      <td>26483.878991</td>\n",
              "      <td>25048.436664</td>\n",
              "      <td>24819.800781</td>\n",
              "      <td>24815.000000</td>\n",
              "      <td>25169.900391</td>\n",
              "      <td>25126.400391</td>\n",
              "      <td>25347.800781</td>\n",
              "      <td>25174.713540</td>\n",
              "      <td>25539.599609</td>\n",
              "      <td>25983.900391</td>\n",
              "      <td>NaN</td>\n",
              "      <td>0.008187</td>\n",
              "      <td>0.025726</td>\n",
              "      <td>NaN</td>\n",
              "      <td>25539.599609</td>\n",
              "      <td>25983.900391</td>\n",
              "      <td>NaN</td>\n",
              "      <td>0.008187</td>\n",
              "      <td>0.025726</td>\n",
              "      <td>NaN</td>\n",
              "      <td>0.259014</td>\n",
              "      <td>0.030485</td>\n",
              "      <td>0.851307</td>\n",
              "      <td>0.118208</td>\n",
              "    </tr>\n",
              "    <tr>\n",
              "      <th>2019-06-05</th>\n",
              "      <td>25539.599609</td>\n",
              "      <td>25539.599609</td>\n",
              "      <td>25539.599609</td>\n",
              "      <td>25539.599609</td>\n",
              "      <td>0</td>\n",
              "      <td>25164.385882</td>\n",
              "      <td>25727.553936</td>\n",
              "      <td>25164.385882</td>\n",
              "      <td>25727.553936</td>\n",
              "      <td>25608.409810</td>\n",
              "      <td>25368.129226</td>\n",
              "      <td>-240.280584</td>\n",
              "      <td>344.846135</td>\n",
              "      <td>26417.246206</td>\n",
              "      <td>25037.861666</td>\n",
              "      <td>25332.199219</td>\n",
              "      <td>24819.800781</td>\n",
              "      <td>24815.000000</td>\n",
              "      <td>25169.900391</td>\n",
              "      <td>25126.400391</td>\n",
              "      <td>25417.970920</td>\n",
              "      <td>25983.900391</td>\n",
              "      <td>NaN</td>\n",
              "      <td>NaN</td>\n",
              "      <td>0.017397</td>\n",
              "      <td>NaN</td>\n",
              "      <td>NaN</td>\n",
              "      <td>25983.900391</td>\n",
              "      <td>NaN</td>\n",
              "      <td>NaN</td>\n",
              "      <td>0.017397</td>\n",
              "      <td>NaN</td>\n",
              "      <td>NaN</td>\n",
              "      <td>0.170840</td>\n",
              "      <td>0.025941</td>\n",
              "      <td>0.886020</td>\n",
              "      <td>0.088040</td>\n",
              "    </tr>\n",
              "    <tr>\n",
              "      <th>2019-06-07</th>\n",
              "      <td>25983.900391</td>\n",
              "      <td>25983.900391</td>\n",
              "      <td>25983.900391</td>\n",
              "      <td>25983.900391</td>\n",
              "      <td>0</td>\n",
              "      <td>25255.257254</td>\n",
              "      <td>25705.611629</td>\n",
              "      <td>25255.257254</td>\n",
              "      <td>25705.611629</td>\n",
              "      <td>25636.223927</td>\n",
              "      <td>25462.863252</td>\n",
              "      <td>-173.360676</td>\n",
              "      <td>345.993570</td>\n",
              "      <td>26397.598768</td>\n",
              "      <td>25013.624489</td>\n",
              "      <td>25539.599609</td>\n",
              "      <td>25332.199219</td>\n",
              "      <td>24819.800781</td>\n",
              "      <td>24815.000000</td>\n",
              "      <td>25169.900391</td>\n",
              "      <td>25795.257234</td>\n",
              "      <td>NaN</td>\n",
              "      <td>NaN</td>\n",
              "      <td>NaN</td>\n",
              "      <td>NaN</td>\n",
              "      <td>NaN</td>\n",
              "      <td>NaN</td>\n",
              "      <td>NaN</td>\n",
              "      <td>NaN</td>\n",
              "      <td>NaN</td>\n",
              "      <td>NaN</td>\n",
              "      <td>NaN</td>\n",
              "      <td>NaN</td>\n",
              "      <td>0.300087</td>\n",
              "      <td>0.018406</td>\n",
              "      <td>0.859752</td>\n",
              "      <td>0.121822</td>\n",
              "    </tr>\n",
              "  </tbody>\n",
              "</table>\n",
              "<p>1614 rows × 37 columns</p>\n",
              "</div>"
            ],
            "text/plain": [
              "                    Open          High  ...       neu       pos\n",
              "Date                                    ...                    \n",
              "2013-01-02  13412.500000  13412.500000  ...  0.870143  0.101714\n",
              "2013-01-03  13391.400391  13391.400391  ...  0.792934  0.186787\n",
              "2013-01-04  13435.200195  13435.200195  ...  0.775837  0.169628\n",
              "2013-01-07  13384.299805  13384.299805  ...  0.911457  0.054753\n",
              "2013-01-08  13328.799805  13328.799805  ...  0.894067  0.090500\n",
              "...                  ...           ...  ...       ...       ...\n",
              "2019-05-31  24815.000000  24815.000000  ...  0.871386  0.097673\n",
              "2019-06-03  24819.800781  24819.800781  ...  0.862515  0.106099\n",
              "2019-06-04  25332.199219  25332.199219  ...  0.851307  0.118208\n",
              "2019-06-05  25539.599609  25539.599609  ...  0.886020  0.088040\n",
              "2019-06-07  25983.900391  25983.900391  ...  0.859752  0.121822\n",
              "\n",
              "[1614 rows x 37 columns]"
            ]
          },
          "metadata": {
            "tags": []
          },
          "execution_count": 277
        }
      ]
    },
    {
      "cell_type": "code",
      "metadata": {
        "colab": {
          "base_uri": "https://localhost:8080/",
          "height": 563
        },
        "id": "PjtPn6eodyep",
        "outputId": "3051651a-919b-4a1a-fe3c-adfec0568065"
      },
      "source": [
        "import seaborn as sns \n",
        "from scipy.stats import norm \n",
        "\n",
        "#df_A_ti = get_technical_indicators(df_A)\n",
        "#df_A_ti = df_A_ti.dropna()\n",
        "\n",
        "corrmat = df_A_ti.corr() \n",
        "  \n",
        "f, ax = plt.subplots(figsize =(9, 8)) \n",
        "sns.heatmap(corrmat, ax = ax, cmap =\"YlGnBu\", linewidths = 0.1) "
      ],
      "execution_count": null,
      "outputs": [
        {
          "output_type": "execute_result",
          "data": {
            "text/plain": [
              "<matplotlib.axes._subplots.AxesSubplot at 0x7f4be4503050>"
            ]
          },
          "metadata": {
            "tags": []
          },
          "execution_count": 278
        },
        {
          "output_type": "display_data",
          "data": {
            "image/png": "[encoded data removed]",
            "text/plain": [
              "<Figure size 648x576 with 2 Axes>"
            ]
          },
          "metadata": {
            "tags": [],
            "needs_background": "light"
          }
        }
      ]
    },
    {
      "cell_type": "code",
      "metadata": {
        "id": "MofhCvetrHsy"
      },
      "source": [
        "#df_A_ti = get_technical_indicators(df_A)\n",
        "#df_A_ti = df_A_ti.dropna()\n",
        "#df_A_ti = df_A_ti[5:]\n",
        "#df_A_ti = df_A_ti.fillna(method='backfill')\n",
        "df_A_ti = df_A_ti.fillna(method='backfill')\n",
        "df_A_ti = df_A_ti.dropna()\n",
        "df_A_y = df_A_ti.copy()\n",
        "\n",
        "#df_A_y['Per'] = (df_A_y['Close_lag1'] - df_A_y['Close'])/ df_A_y['Close_lag1'] )*100\n",
        "df_A_y = df_A_y[['OpenPerChg1','ClosePerChg1','OpenPerChg2','ClosePerChg2','OpenPerChg3','ClosePerChg3']]\n",
        "#df_A_ti = df_A_ti[5:]\n",
        "df_A_ti = df_A_ti[['Open','Close','High', 'Low','Volume','20sd','MACD','neg','neu','pos']]\n",
        "#,'Close_lag1','Close_lag2','Close_lag3','Close_lag4','Close_lag5'\n",
        "#,'Adj Close','VIX_Open','VIX_High','VIX_Low','VIX_Close','VIX_Adj Close'\n",
        " #,'VIX_20sd','upper_band','lower_band']]#,'VIX_Open','VIX_High','VIX_Low','VIX_Close']]\n"
      ],
      "execution_count": null,
      "outputs": []
    },
    {
      "cell_type": "code",
      "metadata": {
        "colab": {
          "base_uri": "https://localhost:8080/"
        },
        "id": "lBF2zRUJ51e1",
        "outputId": "8708b2c8-1558-4738-86b9-e555bb9e0f03"
      },
      "source": [
        "df_A_ti.isna().any()\n",
        "df_A_y.isna().any()"
      ],
      "execution_count": null,
      "outputs": [
        {
          "output_type": "execute_result",
          "data": {
            "text/plain": [
              "OpenPerChg1     False\n",
              "ClosePerChg1    False\n",
              "OpenPerChg2     False\n",
              "ClosePerChg2    False\n",
              "OpenPerChg3     False\n",
              "ClosePerChg3    False\n",
              "dtype: bool"
            ]
          },
          "metadata": {
            "tags": []
          },
          "execution_count": 280
        }
      ]
    },
    {
      "cell_type": "code",
      "metadata": {
        "id": "x3Jj9Ah4N0g_"
      },
      "source": [
        "#from statsmodels.graphics.tsaplots import plot_acf,plot_pacf\n",
        "#plot_acf(df_A_ti['Close'], lags=50)\n",
        "#plot_pacf(df_A_ti['Close'], lags=50)"
      ],
      "execution_count": null,
      "outputs": []
    },
    {
      "cell_type": "code",
      "metadata": {
        "colab": {
          "base_uri": "https://localhost:8080/",
          "height": 450
        },
        "id": "vjwgBu9ZPuc6",
        "outputId": "4450a1c0-b697-4b2d-b347-979dc294db3c"
      },
      "source": [
        "df_A_y"
      ],
      "execution_count": null,
      "outputs": [
        {
          "output_type": "execute_result",
          "data": {
            "text/html": [
              "<div>\n",
              "<style scoped>\n",
              "    .dataframe tbody tr th:only-of-type {\n",
              "        vertical-align: middle;\n",
              "    }\n",
              "\n",
              "    .dataframe tbody tr th {\n",
              "        vertical-align: top;\n",
              "    }\n",
              "\n",
              "    .dataframe thead th {\n",
              "        text-align: right;\n",
              "    }\n",
              "</style>\n",
              "<table border=\"1\" class=\"dataframe\">\n",
              "  <thead>\n",
              "    <tr style=\"text-align: right;\">\n",
              "      <th></th>\n",
              "      <th>OpenPerChg1</th>\n",
              "      <th>ClosePerChg1</th>\n",
              "      <th>OpenPerChg2</th>\n",
              "      <th>ClosePerChg2</th>\n",
              "      <th>OpenPerChg3</th>\n",
              "      <th>ClosePerChg3</th>\n",
              "    </tr>\n",
              "    <tr>\n",
              "      <th>Date</th>\n",
              "      <th></th>\n",
              "      <th></th>\n",
              "      <th></th>\n",
              "      <th></th>\n",
              "      <th></th>\n",
              "      <th></th>\n",
              "    </tr>\n",
              "  </thead>\n",
              "  <tbody>\n",
              "    <tr>\n",
              "      <th>2013-01-02</th>\n",
              "      <td>-0.001573</td>\n",
              "      <td>-0.001573</td>\n",
              "      <td>0.001692</td>\n",
              "      <td>0.001692</td>\n",
              "      <td>-0.002103</td>\n",
              "      <td>-0.002103</td>\n",
              "    </tr>\n",
              "    <tr>\n",
              "      <th>2013-01-03</th>\n",
              "      <td>0.003271</td>\n",
              "      <td>0.003271</td>\n",
              "      <td>-0.000530</td>\n",
              "      <td>-0.000530</td>\n",
              "      <td>-0.004675</td>\n",
              "      <td>-0.004675</td>\n",
              "    </tr>\n",
              "    <tr>\n",
              "      <th>2013-01-04</th>\n",
              "      <td>-0.003789</td>\n",
              "      <td>-0.003789</td>\n",
              "      <td>-0.007920</td>\n",
              "      <td>-0.007920</td>\n",
              "      <td>-0.003327</td>\n",
              "      <td>-0.003327</td>\n",
              "    </tr>\n",
              "    <tr>\n",
              "      <th>2013-01-07</th>\n",
              "      <td>-0.004147</td>\n",
              "      <td>-0.004147</td>\n",
              "      <td>0.000463</td>\n",
              "      <td>0.000463</td>\n",
              "      <td>0.006493</td>\n",
              "      <td>0.006493</td>\n",
              "    </tr>\n",
              "    <tr>\n",
              "      <th>2013-01-08</th>\n",
              "      <td>0.004629</td>\n",
              "      <td>0.004629</td>\n",
              "      <td>0.010684</td>\n",
              "      <td>0.010684</td>\n",
              "      <td>0.011974</td>\n",
              "      <td>0.011974</td>\n",
              "    </tr>\n",
              "    <tr>\n",
              "      <th>...</th>\n",
              "      <td>...</td>\n",
              "      <td>...</td>\n",
              "      <td>...</td>\n",
              "      <td>...</td>\n",
              "      <td>...</td>\n",
              "      <td>...</td>\n",
              "    </tr>\n",
              "    <tr>\n",
              "      <th>2019-05-28</th>\n",
              "      <td>-0.008735</td>\n",
              "      <td>-0.008735</td>\n",
              "      <td>-0.007018</td>\n",
              "      <td>-0.007018</td>\n",
              "      <td>-0.021020</td>\n",
              "      <td>-0.021020</td>\n",
              "    </tr>\n",
              "    <tr>\n",
              "      <th>2019-05-29</th>\n",
              "      <td>0.001731</td>\n",
              "      <td>0.001731</td>\n",
              "      <td>-0.012393</td>\n",
              "      <td>-0.012393</td>\n",
              "      <td>-0.012202</td>\n",
              "      <td>-0.012202</td>\n",
              "    </tr>\n",
              "    <tr>\n",
              "      <th>2019-05-30</th>\n",
              "      <td>-0.014100</td>\n",
              "      <td>-0.014100</td>\n",
              "      <td>-0.013909</td>\n",
              "      <td>-0.013909</td>\n",
              "      <td>0.006448</td>\n",
              "      <td>0.006448</td>\n",
              "    </tr>\n",
              "    <tr>\n",
              "      <th>2019-05-31</th>\n",
              "      <td>0.000193</td>\n",
              "      <td>0.000193</td>\n",
              "      <td>0.020842</td>\n",
              "      <td>0.020842</td>\n",
              "      <td>0.029200</td>\n",
              "      <td>0.029200</td>\n",
              "    </tr>\n",
              "    <tr>\n",
              "      <th>2019-06-03</th>\n",
              "      <td>0.020645</td>\n",
              "      <td>0.020645</td>\n",
              "      <td>0.029001</td>\n",
              "      <td>0.029001</td>\n",
              "      <td>0.046902</td>\n",
              "      <td>0.046902</td>\n",
              "    </tr>\n",
              "  </tbody>\n",
              "</table>\n",
              "<p>1611 rows × 6 columns</p>\n",
              "</div>"
            ],
            "text/plain": [
              "            OpenPerChg1  ClosePerChg1  ...  OpenPerChg3  ClosePerChg3\n",
              "Date                                   ...                           \n",
              "2013-01-02    -0.001573     -0.001573  ...    -0.002103     -0.002103\n",
              "2013-01-03     0.003271      0.003271  ...    -0.004675     -0.004675\n",
              "2013-01-04    -0.003789     -0.003789  ...    -0.003327     -0.003327\n",
              "2013-01-07    -0.004147     -0.004147  ...     0.006493      0.006493\n",
              "2013-01-08     0.004629      0.004629  ...     0.011974      0.011974\n",
              "...                 ...           ...  ...          ...           ...\n",
              "2019-05-28    -0.008735     -0.008735  ...    -0.021020     -0.021020\n",
              "2019-05-29     0.001731      0.001731  ...    -0.012202     -0.012202\n",
              "2019-05-30    -0.014100     -0.014100  ...     0.006448      0.006448\n",
              "2019-05-31     0.000193      0.000193  ...     0.029200      0.029200\n",
              "2019-06-03     0.020645      0.020645  ...     0.046902      0.046902\n",
              "\n",
              "[1611 rows x 6 columns]"
            ]
          },
          "metadata": {
            "tags": []
          },
          "execution_count": 282
        }
      ]
    },
    {
      "cell_type": "code",
      "metadata": {
        "id": "p8E7WpOAkDIX"
      },
      "source": [
        "args = df_A_ti.values.reshape(df_A_ti.shape[0],10)\n",
        "args_y = df_A_y.values.reshape(df_A_y.shape[0],6)"
      ],
      "execution_count": null,
      "outputs": []
    },
    {
      "cell_type": "code",
      "metadata": {
        "id": "J-Dtw7eEMtef"
      },
      "source": [
        "in_seq1 = args\n",
        "in_seq1_y= args_y"
      ],
      "execution_count": null,
      "outputs": []
    },
    {
      "cell_type": "code",
      "metadata": {
        "colab": {
          "base_uri": "https://localhost:8080/"
        },
        "id": "LSXfesVVQKT1",
        "outputId": "8a8c8e61-2833-43b8-b4d3-b10d87a23f50"
      },
      "source": [
        "#x_scaler = MinMaxScaler().fit(args)\n",
        "#X= x_scaler.transform(args)\n",
        "print(in_seq1.shape)\n",
        "print(in_seq1_y.shape)"
      ],
      "execution_count": null,
      "outputs": [
        {
          "output_type": "stream",
          "text": [
            "(1611, 10)\n",
            "(1611, 6)\n"
          ],
          "name": "stdout"
        }
      ]
    },
    {
      "cell_type": "code",
      "metadata": {
        "id": "JCkBwx1cMtd0"
      },
      "source": [
        "division = int(len(in_seq1) *8/10)\n",
        "\n",
        "data_train = in_seq1[:division]\n",
        "data_test = in_seq1[(division-lookback_days):]\n",
        "\n",
        "data_train_y= in_seq1_y[:division]\n",
        "data_test_y = in_seq1_y[(division-lookback_days):]"
      ],
      "execution_count": null,
      "outputs": []
    },
    {
      "cell_type": "code",
      "metadata": {
        "id": "gZwqB7ZFpRwW"
      },
      "source": [
        "def split_sequences(sequences, sequences_y,  n_steps_in, n_steps_out):\n",
        "\tX, y = list(), list()\n",
        "\tfor i in range(len(sequences)):\n",
        "\t\t# find the end of this pattern\n",
        "\t\tend_ix = i + n_steps_in\n",
        "\t\tout_end_ix = end_ix + n_steps_out\n",
        "\t\t# check if we are beyond the dataset\n",
        "\t\tif end_ix > len(sequences):\n",
        "\t\t\tbreak\n",
        "\t\t# gather input and output parts of the pattern\n",
        "\t\tseq_x, seq_y = sequences[i:end_ix, :], sequences_y[end_ix-1:end_ix, :]\n",
        "\t\tX.append(seq_x)\n",
        "\t\ty.append(seq_y)\n",
        "\treturn array(X), array(y)"
      ],
      "execution_count": null,
      "outputs": []
    },
    {
      "cell_type": "code",
      "metadata": {
        "id": "6RaTaqRGdDcM"
      },
      "source": [
        "X_train,y_train = split_sequences(data_train, data_train_y, lookback_days, forward_days)"
      ],
      "execution_count": null,
      "outputs": []
    },
    {
      "cell_type": "code",
      "metadata": {
        "colab": {
          "base_uri": "https://localhost:8080/"
        },
        "id": "F-u3OosRs63y",
        "outputId": "abae8364-0aa9-4ba5-8ecf-5655445416a5"
      },
      "source": [
        "y_train.shape"
      ],
      "execution_count": null,
      "outputs": [
        {
          "output_type": "execute_result",
          "data": {
            "text/plain": [
              "(1259, 1, 6)"
            ]
          },
          "metadata": {
            "tags": []
          },
          "execution_count": 290
        }
      ]
    },
    {
      "cell_type": "code",
      "metadata": {
        "id": "0W48lnW5xh-V"
      },
      "source": [
        "X_features = X_train.shape[2]\n",
        "y_features = y_train.shape[2]"
      ],
      "execution_count": null,
      "outputs": []
    },
    {
      "cell_type": "code",
      "metadata": {
        "id": "64aznSEIOAoI"
      },
      "source": [
        "X_train=X_train.reshape(X_train.shape[0],lookback_days*X_features)\n",
        "y_train=y_train.reshape(y_train.shape[0],y_features)"
      ],
      "execution_count": null,
      "outputs": []
    },
    {
      "cell_type": "code",
      "metadata": {
        "colab": {
          "base_uri": "https://localhost:8080/"
        },
        "id": "VBdhVISxalzh",
        "outputId": "a55d4d99-f7cb-43e3-ea8c-2a969d47baea"
      },
      "source": [
        "X_train.shape"
      ],
      "execution_count": null,
      "outputs": [
        {
          "output_type": "execute_result",
          "data": {
            "text/plain": [
              "(1259, 300)"
            ]
          },
          "metadata": {
            "tags": []
          },
          "execution_count": 293
        }
      ]
    },
    {
      "cell_type": "code",
      "metadata": {
        "id": "ZgA2KZB-NaXV"
      },
      "source": [
        "x_scaler = MinMaxScaler()#.fit(X_train)\n",
        "#x_scaler = RobustScaler(quantile_range = (0.05,0.95))\n",
        "#x_scaler.fit(X_train)\n",
        "#X_train = x_scaler.transform(X_train)"
      ],
      "execution_count": null,
      "outputs": []
    },
    {
      "cell_type": "code",
      "metadata": {
        "id": "FvFXJPSraUYz"
      },
      "source": [
        "smoothing_window_size = 500\n",
        "for di in range(0,1000,smoothing_window_size):\n",
        "    x_scaler.fit(X_train[di:di+smoothing_window_size,:])\n",
        "    X_train[di:di+smoothing_window_size,:] = x_scaler.transform(X_train[di:di+smoothing_window_size,:])\n",
        "\n",
        "# You normalize the last bit of remaining data\n",
        "x_scaler.fit(X_train[di+smoothing_window_size:,:])\n",
        "X_train[di+smoothing_window_size:,:] = x_scaler.transform(X_train[di+smoothing_window_size:,:])"
      ],
      "execution_count": null,
      "outputs": []
    },
    {
      "cell_type": "code",
      "metadata": {
        "id": "se6FZOGMNaZn"
      },
      "source": [
        "y_scaler = MinMaxScaler(feature_range=(0, 1))#.fit(y_train)\n",
        "#y_scaler = RobustScaler(quantile_range = (0.05,0.95))\n",
        "#y_scaler.fit(y_train)\n",
        "#y_train = y_scaler.transform(y_train)"
      ],
      "execution_count": null,
      "outputs": []
    },
    {
      "cell_type": "code",
      "metadata": {
        "id": "TxHUe2BUbL1d"
      },
      "source": [
        "# smoothing_window_size = 500\n",
        "# for di in range(0,1000,smoothing_window_size):\n",
        "#     y_scaler.fit(y_train[di:di+smoothing_window_size,:])\n",
        "#     y_train[di:di+smoothing_window_size,:] = y_scaler.transform(y_train[di:di+smoothing_window_size,:])\n",
        "\n",
        "# # You normalize the last bit of remaining data\n",
        "# y_scaler.fit(y_train[di+smoothing_window_size:,:])\n",
        "# y_train[di+smoothing_window_size:,:] = y_scaler.transform(y_train[di+smoothing_window_size:,:])"
      ],
      "execution_count": null,
      "outputs": []
    },
    {
      "cell_type": "code",
      "metadata": {
        "id": "r-sXRKJbfXho"
      },
      "source": [
        "#y_scaler = StandardScaler()\n",
        "y_scaler.fit(y_train)\n",
        "y_train = y_scaler.transform(y_train)"
      ],
      "execution_count": null,
      "outputs": []
    },
    {
      "cell_type": "code",
      "metadata": {
        "colab": {
          "base_uri": "https://localhost:8080/",
          "height": 282
        },
        "id": "q9LTm70-cAn-",
        "outputId": "3d3e27dc-e611-434a-ddc3-105e36622f2d"
      },
      "source": [
        "#plt.plot(X_train)\n",
        "plt.plot(y_train)\n",
        "plt.show"
      ],
      "execution_count": null,
      "outputs": [
        {
          "output_type": "execute_result",
          "data": {
            "text/plain": [
              "<function matplotlib.pyplot.show>"
            ]
          },
          "metadata": {
            "tags": []
          },
          "execution_count": 299
        },
        {
          "output_type": "display_data",
          "data": {
            "image/png": "[encoded data removed]",
            "text/plain": [
              "<Figure size 432x288 with 1 Axes>"
            ]
          },
          "metadata": {
            "tags": [],
            "needs_background": "light"
          }
        }
      ]
    },
    {
      "cell_type": "code",
      "metadata": {
        "id": "bgwJMvKFNacE"
      },
      "source": [
        "X_train = X_train.reshape(X_train.shape[0], lookback_days, X_features)\n",
        "#y_train = y_train.reshape(y_train.shape[0], forward_days,y_features )"
      ],
      "execution_count": null,
      "outputs": []
    },
    {
      "cell_type": "markdown",
      "metadata": {
        "id": "AG6zaHXOjehF"
      },
      "source": [
        "# Attention & Loss Function"
      ]
    },
    {
      "cell_type": "code",
      "metadata": {
        "id": "Wqk0gz92TF4N"
      },
      "source": [
        "from tensorflow.keras import backend as K\n",
        "class attention(tf.keras.layers.Layer):\n",
        "    \n",
        "    def __init__(self, return_sequences=True):\n",
        "        self.return_sequences = return_sequences\n",
        "        super(attention,self).__init__()\n",
        "        \n",
        "    def build(self, input_shape):\n",
        "        \n",
        "        self.W=self.add_weight(name=\"att_weight\", shape=(input_shape[-1],1),\n",
        "                               initializer=\"normal\")\n",
        "        self.b=self.add_weight(name=\"att_bias\", shape=(input_shape[1],1),\n",
        "                               initializer=\"zeros\")\n",
        "        \n",
        "        super(attention,self).build(input_shape)\n",
        "        \n",
        "    def call(self, x):\n",
        "        \n",
        "        e = K.tanh(K.dot(x,self.W)+self.b)\n",
        "        a = K.softmax(e, axis=1)\n",
        "        output = x*a\n",
        "        \n",
        "        if self.return_sequences:\n",
        "            return output\n",
        "        \n",
        "        return K.sum(output, axis=1)\n",
        "\n",
        "    # def get_config(self):\n",
        "    #     config = super().get_config().copy()\n",
        "    #     config.update({\n",
        "    #         'return_sequences': self.return_sequences \n",
        "    #     })\n",
        "    #     return config"
      ],
      "execution_count": null,
      "outputs": []
    },
    {
      "cell_type": "code",
      "metadata": {
        "id": "0SsIQg3p4_4k"
      },
      "source": [
        "def customLoss(ytrue,ypred):  \n",
        "    diff = ypred - ytrue\n",
        "    upperband = K.less(tf.cast(ytrue, dtype=tf.float32, name=None),tf.constant(0.6))\n",
        "    \n",
        "    upperband = K.cast(upperband, K.floatx()) #1 for lower, 0 for greater\n",
        "    # print(upper\n",
        "    p_upperband = K.less(tf.cast(ypred, dtype=tf.float32, name=None),tf.constant(0.6))\n",
        "    \n",
        "    p_upperband = K.cast(p_upperband, K.floatx()) #1 for lower, 0 for greater\n",
        "    lowerband = K.greater(tf.cast(ytrue, dtype=tf.float32, name=None),tf.constant(0.2))\n",
        "    lowerband = K.cast(lowerband, K.floatx()) #0 for lower, 1 for greater\n",
        "    \n",
        "    p_lowerband = K.greater(tf.cast(ypred, dtype=tf.float32, name=None),tf.constant(0.2))\n",
        "    p_lowerband = K.cast(p_lowerband, K.floatx()) #0 for lower, 1 for greater\n",
        "\n",
        "    ub_check = K.not_equal(upperband,p_upperband)\n",
        "    ub_check = K.cast(ub_check, K.floatx())\n",
        "    ub_check = ub_check + 1\n",
        "    lb_check = K.not_equal(lowerband,p_lowerband)\n",
        "    lb_check = K.cast(lb_check, K.floatx())\n",
        "    lb_check = lb_check + 1\n",
        "    band = K.equal(upperband,lowerband)\n",
        "    band = K.cast(band, K.floatx())\n",
        "    band = band + 1                 #1 for lower, 2 for greater\n",
        "    greater = K.greater(tf.abs(diff),tf.constant(0.3))\n",
        "    greater = K.cast(greater, K.floatx()) #0 for lower, 1 for greater\n",
        "    greater = greater + 1                 #1 for lower, 2 for greater\n",
        "\n",
        "    #use some kind of loss here, such as mse or mae, or pick one from keras\n",
        "    #using mse:\n",
        "    return (ub_check * lb_check * band * greater * K.square(diff))"
      ],
      "execution_count": null,
      "outputs": []
    },
    {
      "cell_type": "markdown",
      "metadata": {
        "id": "j44P0KfbjjrC"
      },
      "source": [
        "# Model"
      ]
    },
    {
      "cell_type": "code",
      "metadata": {
        "colab": {
          "base_uri": "https://localhost:8080/"
        },
        "id": "KkKflWvunmQH",
        "outputId": "35556672-f0a1-48ac-831a-56c6c7d410dc"
      },
      "source": [
        "model = Sequential()\n",
        "model.add((Conv1D(filters=32, kernel_size=5, activation='relu',\n",
        "                                 input_shape=(30,10))))\n",
        "# #model.add((MaxPooling1D(pool_size=2)))\n",
        "# #model.add((Conv1D(filters=16, kernel_size=5, activation='relu')))\n",
        "model.add((MaxPooling1D(pool_size=2)))\n",
        "#model.add((Flatten()))A\n",
        "model.add(Bidirectional(LSTM(100, return_sequences=True,#input_shape=(30,7),\n",
        "              activation='tanh', recurrent_activation='hard_sigmoid',kernel_initializer='random_uniform')))\n",
        "model.add(Dropout(0.5))\n",
        "model.add(Bidirectional(LSTM(100, return_sequences=True,\n",
        "              activation='relu', recurrent_activation='hard_sigmoid',kernel_initializer='random_uniform')))\n",
        "model.add(Dropout(0.5))\n",
        "\n",
        "model.add(attention(return_sequences=False))\n",
        "model.add((Dense(6)))\n",
        "opt = Adam(lr=0.001)\n",
        "model = tf.keras.models.load_model('AMZN/content/my_model', custom_objects={'customLoss':customLoss})\n",
        "es = tf.keras.callbacks.EarlyStopping(monitor='val_loss', mode='min',  patience=30)\n",
        "#mc = tf.keras.callbacks.ModelCheckpoint( 'model.h5' ,monitor='val_loss', mode='min',  save_best_only=True )\n",
        "model.compile(optimizer=opt, loss=[customLoss], metrics=[customLoss,'mse','mae','mape'])"
      ],
      "execution_count": null,
      "outputs": [
        {
          "output_type": "stream",
          "text": [
            "WARNING:tensorflow:Layer lstm will not use cuDNN kernel since it doesn't meet the cuDNN kernel criteria. It will use generic GPU kernel as fallback when running on GPU\n",
            "WARNING:tensorflow:Layer lstm will not use cuDNN kernel since it doesn't meet the cuDNN kernel criteria. It will use generic GPU kernel as fallback when running on GPU\n",
            "WARNING:tensorflow:Layer lstm will not use cuDNN kernel since it doesn't meet the cuDNN kernel criteria. It will use generic GPU kernel as fallback when running on GPU\n",
            "WARNING:tensorflow:Layer lstm_1 will not use cuDNN kernel since it doesn't meet the cuDNN kernel criteria. It will use generic GPU kernel as fallback when running on GPU\n",
            "WARNING:tensorflow:Layer lstm_1 will not use cuDNN kernel since it doesn't meet the cuDNN kernel criteria. It will use generic GPU kernel as fallback when running on GPU\n",
            "WARNING:tensorflow:Layer lstm_1 will not use cuDNN kernel since it doesn't meet the cuDNN kernel criteria. It will use generic GPU kernel as fallback when running on GPU\n",
            "WARNING:tensorflow:Layer lstm_2 will not use cuDNN kernel since it doesn't meet the cuDNN kernel criteria. It will use generic GPU kernel as fallback when running on GPU\n",
            "WARNING:tensorflow:Layer lstm_2 will not use cuDNN kernel since it doesn't meet the cuDNN kernel criteria. It will use generic GPU kernel as fallback when running on GPU\n",
            "WARNING:tensorflow:Layer lstm_2 will not use cuDNN kernel since it doesn't meet the cuDNN kernel criteria. It will use generic GPU kernel as fallback when running on GPU\n",
            "WARNING:tensorflow:Layer lstm_3 will not use cuDNN kernel since it doesn't meet the cuDNN kernel criteria. It will use generic GPU kernel as fallback when running on GPU\n",
            "WARNING:tensorflow:Layer lstm_3 will not use cuDNN kernel since it doesn't meet the cuDNN kernel criteria. It will use generic GPU kernel as fallback when running on GPU\n",
            "WARNING:tensorflow:Layer lstm_3 will not use cuDNN kernel since it doesn't meet the cuDNN kernel criteria. It will use generic GPU kernel as fallback when running on GPU\n"
          ],
          "name": "stdout"
        }
      ]
    },
    {
      "cell_type": "code",
      "metadata": {
        "colab": {
          "base_uri": "https://localhost:8080/"
        },
        "id": "ufNW_KMhoZch",
        "outputId": "1b8f6b34-cff8-4651-a87d-94a592ba7552"
      },
      "source": [
        "batch_size = 32\n",
        "model.fit(np.asarray(X_train).astype(np.float32), np.asarray(y_train).astype(np.float32), epochs=150, verbose=1 , shuffle=True,\n",
        "      callbacks=[es], batch_size=batch_size, validation_split=0.2)"
      ],
      "execution_count": null,
      "outputs": [
        {
          "output_type": "stream",
          "text": [
            "Epoch 1/150\n",
            "32/32 [==============================] - 11s 177ms/step - loss: 1.1223 - customLoss: 1.1223 - mse: 0.1511 - mae: 0.3289 - mape: 35939.6033 - val_loss: 0.0486 - val_customLoss: 0.0486 - val_mse: 0.0175 - val_mae: 0.1126 - val_mape: 1571039.0000\n",
            "Epoch 2/150\n",
            "32/32 [==============================] - 5s 146ms/step - loss: 0.0297 - customLoss: 0.0297 - mse: 0.0116 - mae: 0.0839 - mape: 124672.0540 - val_loss: 0.0288 - val_customLoss: 0.0288 - val_mse: 0.0124 - val_mae: 0.0935 - val_mape: 1435853.7500\n",
            "Epoch 3/150\n",
            "32/32 [==============================] - 5s 148ms/step - loss: 0.0238 - customLoss: 0.0238 - mse: 0.0097 - mae: 0.0766 - mape: 44494.8553 - val_loss: 0.0238 - val_customLoss: 0.0238 - val_mse: 0.0101 - val_mae: 0.0816 - val_mape: 1441547.5000\n",
            "Epoch 4/150\n",
            "32/32 [==============================] - 5s 147ms/step - loss: 0.0237 - customLoss: 0.0237 - mse: 0.0096 - mae: 0.0743 - mape: 158269.0581 - val_loss: 0.0171 - val_customLoss: 0.0171 - val_mse: 0.0066 - val_mae: 0.0583 - val_mape: 1449438.0000\n",
            "Epoch 5/150\n",
            "32/32 [==============================] - 5s 146ms/step - loss: 0.0264 - customLoss: 0.0264 - mse: 0.0102 - mae: 0.0757 - mape: 33564.3695 - val_loss: 0.0168 - val_customLoss: 0.0168 - val_mse: 0.0065 - val_mae: 0.0576 - val_mape: 1449074.1250\n",
            "Epoch 6/150\n",
            "32/32 [==============================] - 5s 151ms/step - loss: 0.0190 - customLoss: 0.0190 - mse: 0.0080 - mae: 0.0686 - mape: 10774.0201 - val_loss: 0.0196 - val_customLoss: 0.0196 - val_mse: 0.0085 - val_mae: 0.0725 - val_mape: 1344238.8750\n",
            "Epoch 7/150\n",
            "32/32 [==============================] - 5s 148ms/step - loss: 0.0248 - customLoss: 0.0248 - mse: 0.0101 - mae: 0.0767 - mape: 71850.0395 - val_loss: 0.0160 - val_customLoss: 0.0160 - val_mse: 0.0056 - val_mae: 0.0506 - val_mape: 1455924.5000\n",
            "Epoch 8/150\n",
            "32/32 [==============================] - 5s 150ms/step - loss: 0.0228 - customLoss: 0.0228 - mse: 0.0092 - mae: 0.0726 - mape: 68714.5275 - val_loss: 0.0155 - val_customLoss: 0.0155 - val_mse: 0.0060 - val_mae: 0.0538 - val_mape: 1434504.5000\n",
            "Epoch 9/150\n",
            "32/32 [==============================] - 5s 147ms/step - loss: 0.0213 - customLoss: 0.0213 - mse: 0.0089 - mae: 0.0701 - mape: 42915.7632 - val_loss: 0.0157 - val_customLoss: 0.0157 - val_mse: 0.0065 - val_mae: 0.0581 - val_mape: 1367397.1250\n",
            "Epoch 10/150\n",
            "32/32 [==============================] - 5s 146ms/step - loss: 0.0218 - customLoss: 0.0218 - mse: 0.0093 - mae: 0.0739 - mape: 170680.8634 - val_loss: 0.0150 - val_customLoss: 0.0150 - val_mse: 0.0057 - val_mae: 0.0522 - val_mape: 1412475.1250\n",
            "Epoch 11/150\n",
            "32/32 [==============================] - 4s 140ms/step - loss: 0.0202 - customLoss: 0.0202 - mse: 0.0083 - mae: 0.0688 - mape: 189946.4036 - val_loss: 0.0149 - val_customLoss: 0.0149 - val_mse: 0.0055 - val_mae: 0.0502 - val_mape: 1432073.7500\n",
            "Epoch 12/150\n",
            "32/32 [==============================] - 5s 145ms/step - loss: 0.0207 - customLoss: 0.0207 - mse: 0.0085 - mae: 0.0696 - mape: 88823.4280 - val_loss: 0.0159 - val_customLoss: 0.0159 - val_mse: 0.0063 - val_mae: 0.0564 - val_mape: 1411236.8750\n",
            "Epoch 13/150\n",
            "32/32 [==============================] - 5s 147ms/step - loss: 0.0196 - customLoss: 0.0196 - mse: 0.0084 - mae: 0.0689 - mape: 40411.4651 - val_loss: 0.0156 - val_customLoss: 0.0156 - val_mse: 0.0056 - val_mae: 0.0512 - val_mape: 1441530.5000\n",
            "Epoch 14/150\n",
            "32/32 [==============================] - 5s 148ms/step - loss: 0.0222 - customLoss: 0.0222 - mse: 0.0090 - mae: 0.0705 - mape: 112144.4402 - val_loss: 0.0151 - val_customLoss: 0.0151 - val_mse: 0.0055 - val_mae: 0.0501 - val_mape: 1435385.7500\n",
            "Epoch 15/150\n",
            "32/32 [==============================] - 5s 147ms/step - loss: 0.0198 - customLoss: 0.0198 - mse: 0.0083 - mae: 0.0685 - mape: 68610.4830 - val_loss: 0.0148 - val_customLoss: 0.0148 - val_mse: 0.0055 - val_mae: 0.0504 - val_mape: 1431680.2500\n",
            "Epoch 16/150\n",
            "32/32 [==============================] - 5s 150ms/step - loss: 0.0221 - customLoss: 0.0221 - mse: 0.0089 - mae: 0.0698 - mape: 542412.4881 - val_loss: 0.0167 - val_customLoss: 0.0167 - val_mse: 0.0058 - val_mae: 0.0521 - val_mape: 1452566.5000\n",
            "Epoch 17/150\n",
            "32/32 [==============================] - 5s 146ms/step - loss: 0.0211 - customLoss: 0.0211 - mse: 0.0084 - mae: 0.0683 - mape: 222502.6213 - val_loss: 0.0156 - val_customLoss: 0.0156 - val_mse: 0.0056 - val_mae: 0.0499 - val_mape: 1469906.3750\n",
            "Epoch 18/150\n",
            "32/32 [==============================] - 5s 146ms/step - loss: 0.0227 - customLoss: 0.0227 - mse: 0.0092 - mae: 0.0717 - mape: 46890.9569 - val_loss: 0.0160 - val_customLoss: 0.0160 - val_mse: 0.0063 - val_mae: 0.0560 - val_mape: 1416210.8750\n",
            "Epoch 19/150\n",
            "32/32 [==============================] - 5s 146ms/step - loss: 0.0226 - customLoss: 0.0226 - mse: 0.0089 - mae: 0.0705 - mape: 325087.2061 - val_loss: 0.0148 - val_customLoss: 0.0148 - val_mse: 0.0056 - val_mae: 0.0515 - val_mape: 1416291.6250\n",
            "Epoch 20/150\n",
            "32/32 [==============================] - 5s 149ms/step - loss: 0.0209 - customLoss: 0.0209 - mse: 0.0087 - mae: 0.0693 - mape: 242445.7232 - val_loss: 0.0151 - val_customLoss: 0.0151 - val_mse: 0.0059 - val_mae: 0.0531 - val_mape: 1419505.5000\n",
            "Epoch 21/150\n",
            "32/32 [==============================] - 5s 145ms/step - loss: 0.0183 - customLoss: 0.0183 - mse: 0.0078 - mae: 0.0656 - mape: 79751.0561 - val_loss: 0.0163 - val_customLoss: 0.0163 - val_mse: 0.0058 - val_mae: 0.0513 - val_mape: 1464046.5000\n",
            "Epoch 22/150\n",
            "32/32 [==============================] - 5s 151ms/step - loss: 0.0234 - customLoss: 0.0234 - mse: 0.0093 - mae: 0.0717 - mape: 513290.7439 - val_loss: 0.0188 - val_customLoss: 0.0188 - val_mse: 0.0056 - val_mae: 0.0491 - val_mape: 1503052.3750\n",
            "Epoch 23/150\n",
            "32/32 [==============================] - 5s 148ms/step - loss: 0.0183 - customLoss: 0.0183 - mse: 0.0080 - mae: 0.0667 - mape: 79224.5501 - val_loss: 0.0164 - val_customLoss: 0.0164 - val_mse: 0.0058 - val_mae: 0.0511 - val_mape: 1486427.0000\n",
            "Epoch 24/150\n",
            "32/32 [==============================] - 5s 147ms/step - loss: 0.0219 - customLoss: 0.0219 - mse: 0.0089 - mae: 0.0706 - mape: 35723.4778 - val_loss: 0.0150 - val_customLoss: 0.0150 - val_mse: 0.0055 - val_mae: 0.0510 - val_mape: 1404670.7500\n",
            "Epoch 25/150\n",
            "32/32 [==============================] - 5s 148ms/step - loss: 0.0190 - customLoss: 0.0190 - mse: 0.0081 - mae: 0.0678 - mape: 363878.5493 - val_loss: 0.0172 - val_customLoss: 0.0172 - val_mse: 0.0058 - val_mae: 0.0509 - val_mape: 1504278.1250\n",
            "Epoch 26/150\n",
            "32/32 [==============================] - 5s 148ms/step - loss: 0.0216 - customLoss: 0.0216 - mse: 0.0088 - mae: 0.0687 - mape: 40279.0541 - val_loss: 0.0147 - val_customLoss: 0.0147 - val_mse: 0.0058 - val_mae: 0.0536 - val_mape: 1372266.1250\n",
            "Epoch 27/150\n",
            "32/32 [==============================] - 5s 147ms/step - loss: 0.0187 - customLoss: 0.0187 - mse: 0.0080 - mae: 0.0677 - mape: 200808.7829 - val_loss: 0.0152 - val_customLoss: 0.0152 - val_mse: 0.0055 - val_mae: 0.0501 - val_mape: 1429522.2500\n",
            "Epoch 28/150\n",
            "32/32 [==============================] - 5s 146ms/step - loss: 0.0192 - customLoss: 0.0192 - mse: 0.0083 - mae: 0.0682 - mape: 155204.5236 - val_loss: 0.0216 - val_customLoss: 0.0216 - val_mse: 0.0064 - val_mae: 0.0539 - val_mape: 1507863.2500\n",
            "Epoch 29/150\n",
            "32/32 [==============================] - 5s 147ms/step - loss: 0.0245 - customLoss: 0.0245 - mse: 0.0098 - mae: 0.0731 - mape: 168139.7664 - val_loss: 0.0205 - val_customLoss: 0.0205 - val_mse: 0.0062 - val_mae: 0.0538 - val_mape: 1474769.0000\n",
            "Epoch 30/150\n",
            "32/32 [==============================] - 5s 148ms/step - loss: 0.0205 - customLoss: 0.0205 - mse: 0.0086 - mae: 0.0692 - mape: 194800.8880 - val_loss: 0.0169 - val_customLoss: 0.0169 - val_mse: 0.0059 - val_mae: 0.0530 - val_mape: 1441475.7500\n",
            "Epoch 31/150\n",
            "32/32 [==============================] - 5s 145ms/step - loss: 0.0204 - customLoss: 0.0204 - mse: 0.0085 - mae: 0.0691 - mape: 105334.5312 - val_loss: 0.0157 - val_customLoss: 0.0157 - val_mse: 0.0056 - val_mae: 0.0505 - val_mape: 1449388.5000\n",
            "Epoch 32/150\n",
            "32/32 [==============================] - 5s 141ms/step - loss: 0.0197 - customLoss: 0.0197 - mse: 0.0084 - mae: 0.0682 - mape: 260854.0409 - val_loss: 0.0148 - val_customLoss: 0.0148 - val_mse: 0.0054 - val_mae: 0.0495 - val_mape: 1438483.8750\n",
            "Epoch 33/150\n",
            "32/32 [==============================] - 5s 148ms/step - loss: 0.0217 - customLoss: 0.0217 - mse: 0.0089 - mae: 0.0696 - mape: 767194.8963 - val_loss: 0.0151 - val_customLoss: 0.0151 - val_mse: 0.0055 - val_mae: 0.0495 - val_mape: 1443129.0000\n",
            "Epoch 34/150\n",
            "32/32 [==============================] - 5s 148ms/step - loss: 0.0188 - customLoss: 0.0188 - mse: 0.0080 - mae: 0.0660 - mape: 164806.4412 - val_loss: 0.0153 - val_customLoss: 0.0153 - val_mse: 0.0056 - val_mae: 0.0502 - val_mape: 1460041.0000\n",
            "Epoch 35/150\n",
            "32/32 [==============================] - 5s 147ms/step - loss: 0.0200 - customLoss: 0.0200 - mse: 0.0084 - mae: 0.0675 - mape: 231014.7817 - val_loss: 0.0168 - val_customLoss: 0.0168 - val_mse: 0.0059 - val_mae: 0.0523 - val_mape: 1451912.1250\n",
            "Epoch 36/150\n",
            "32/32 [==============================] - 5s 145ms/step - loss: 0.0183 - customLoss: 0.0183 - mse: 0.0076 - mae: 0.0644 - mape: 114690.6057 - val_loss: 0.0153 - val_customLoss: 0.0153 - val_mse: 0.0056 - val_mae: 0.0508 - val_mape: 1414559.8750\n",
            "Epoch 37/150\n",
            "32/32 [==============================] - 5s 146ms/step - loss: 0.0201 - customLoss: 0.0201 - mse: 0.0085 - mae: 0.0687 - mape: 694447.8177 - val_loss: 0.0165 - val_customLoss: 0.0165 - val_mse: 0.0058 - val_mae: 0.0515 - val_mape: 1455720.7500\n",
            "Epoch 38/150\n",
            "32/32 [==============================] - 5s 148ms/step - loss: 0.0172 - customLoss: 0.0172 - mse: 0.0075 - mae: 0.0634 - mape: 166159.2884 - val_loss: 0.0185 - val_customLoss: 0.0185 - val_mse: 0.0062 - val_mae: 0.0538 - val_mape: 1469056.2500\n",
            "Epoch 39/150\n",
            "32/32 [==============================] - 5s 150ms/step - loss: 0.0182 - customLoss: 0.0182 - mse: 0.0080 - mae: 0.0669 - mape: 209523.8982 - val_loss: 0.0216 - val_customLoss: 0.0216 - val_mse: 0.0063 - val_mae: 0.0536 - val_mape: 1492279.5000\n",
            "Epoch 40/150\n",
            "32/32 [==============================] - 5s 153ms/step - loss: 0.0187 - customLoss: 0.0187 - mse: 0.0080 - mae: 0.0660 - mape: 105073.3071 - val_loss: 0.0166 - val_customLoss: 0.0166 - val_mse: 0.0058 - val_mae: 0.0509 - val_mape: 1448793.2500\n",
            "Epoch 41/150\n",
            "32/32 [==============================] - 5s 146ms/step - loss: 0.0178 - customLoss: 0.0178 - mse: 0.0078 - mae: 0.0652 - mape: 204546.2537 - val_loss: 0.0160 - val_customLoss: 0.0160 - val_mse: 0.0056 - val_mae: 0.0502 - val_mape: 1452519.7500\n",
            "Epoch 42/150\n",
            "32/32 [==============================] - 5s 150ms/step - loss: 0.0203 - customLoss: 0.0203 - mse: 0.0085 - mae: 0.0689 - mape: 318108.7870 - val_loss: 0.0148 - val_customLoss: 0.0148 - val_mse: 0.0058 - val_mae: 0.0542 - val_mape: 1368289.3750\n",
            "Epoch 43/150\n",
            "32/32 [==============================] - 5s 146ms/step - loss: 0.0209 - customLoss: 0.0209 - mse: 0.0086 - mae: 0.0678 - mape: 683277.8291 - val_loss: 0.0157 - val_customLoss: 0.0157 - val_mse: 0.0055 - val_mae: 0.0493 - val_mape: 1442769.2500\n",
            "Epoch 44/150\n",
            "32/32 [==============================] - 5s 146ms/step - loss: 0.0183 - customLoss: 0.0183 - mse: 0.0083 - mae: 0.0681 - mape: 109889.9820 - val_loss: 0.0151 - val_customLoss: 0.0151 - val_mse: 0.0055 - val_mae: 0.0500 - val_mape: 1428863.5000\n",
            "Epoch 45/150\n",
            "32/32 [==============================] - 5s 143ms/step - loss: 0.0164 - customLoss: 0.0164 - mse: 0.0073 - mae: 0.0637 - mape: 103520.7271 - val_loss: 0.0150 - val_customLoss: 0.0150 - val_mse: 0.0056 - val_mae: 0.0512 - val_mape: 1407731.5000\n",
            "Epoch 46/150\n",
            "32/32 [==============================] - 5s 146ms/step - loss: 0.0190 - customLoss: 0.0190 - mse: 0.0082 - mae: 0.0677 - mape: 41578.0228 - val_loss: 0.0210 - val_customLoss: 0.0210 - val_mse: 0.0062 - val_mae: 0.0530 - val_mape: 1482704.2500\n",
            "Epoch 47/150\n",
            "32/32 [==============================] - 5s 146ms/step - loss: 0.0194 - customLoss: 0.0194 - mse: 0.0084 - mae: 0.0676 - mape: 395182.5446 - val_loss: 0.0227 - val_customLoss: 0.0227 - val_mse: 0.0065 - val_mae: 0.0540 - val_mape: 1517262.3750\n",
            "Epoch 48/150\n",
            "32/32 [==============================] - 5s 142ms/step - loss: 0.0216 - customLoss: 0.0216 - mse: 0.0090 - mae: 0.0703 - mape: 156237.3909 - val_loss: 0.0147 - val_customLoss: 0.0147 - val_mse: 0.0054 - val_mae: 0.0485 - val_mape: 1447443.1250\n",
            "Epoch 49/150\n",
            "32/32 [==============================] - 5s 146ms/step - loss: 0.0170 - customLoss: 0.0170 - mse: 0.0075 - mae: 0.0640 - mape: 99621.7137 - val_loss: 0.0154 - val_customLoss: 0.0154 - val_mse: 0.0061 - val_mae: 0.0565 - val_mape: 1370482.8750\n",
            "Epoch 50/150\n",
            "32/32 [==============================] - 5s 148ms/step - loss: 0.0192 - customLoss: 0.0192 - mse: 0.0084 - mae: 0.0685 - mape: 32971.5271 - val_loss: 0.0248 - val_customLoss: 0.0248 - val_mse: 0.0069 - val_mae: 0.0559 - val_mape: 1537093.7500\n",
            "Epoch 51/150\n",
            "32/32 [==============================] - 5s 146ms/step - loss: 0.0196 - customLoss: 0.0196 - mse: 0.0081 - mae: 0.0670 - mape: 92570.2820 - val_loss: 0.0194 - val_customLoss: 0.0194 - val_mse: 0.0058 - val_mae: 0.0503 - val_mape: 1503683.1250\n",
            "Epoch 52/150\n",
            "32/32 [==============================] - 5s 148ms/step - loss: 0.0181 - customLoss: 0.0181 - mse: 0.0080 - mae: 0.0661 - mape: 173562.7057 - val_loss: 0.0171 - val_customLoss: 0.0171 - val_mse: 0.0055 - val_mae: 0.0489 - val_mape: 1470126.5000\n",
            "Epoch 53/150\n",
            "32/32 [==============================] - 5s 145ms/step - loss: 0.0182 - customLoss: 0.0182 - mse: 0.0080 - mae: 0.0670 - mape: 67540.8852 - val_loss: 0.0161 - val_customLoss: 0.0161 - val_mse: 0.0057 - val_mae: 0.0502 - val_mape: 1466998.8750\n",
            "Epoch 54/150\n",
            "32/32 [==============================] - 5s 146ms/step - loss: 0.0187 - customLoss: 0.0187 - mse: 0.0078 - mae: 0.0650 - mape: 56246.8159 - val_loss: 0.0245 - val_customLoss: 0.0245 - val_mse: 0.0069 - val_mae: 0.0559 - val_mape: 1527027.0000\n",
            "Epoch 55/150\n",
            "32/32 [==============================] - 5s 146ms/step - loss: 0.0183 - customLoss: 0.0183 - mse: 0.0079 - mae: 0.0663 - mape: 303197.2917 - val_loss: 0.0177 - val_customLoss: 0.0177 - val_mse: 0.0058 - val_mae: 0.0505 - val_mape: 1478238.5000\n",
            "Epoch 56/150\n",
            "32/32 [==============================] - 5s 149ms/step - loss: 0.0199 - customLoss: 0.0199 - mse: 0.0083 - mae: 0.0670 - mape: 126385.0521 - val_loss: 0.0148 - val_customLoss: 0.0148 - val_mse: 0.0054 - val_mae: 0.0496 - val_mape: 1437424.1250\n"
          ],
          "name": "stdout"
        },
        {
          "output_type": "execute_result",
          "data": {
            "text/plain": [
              "<tensorflow.python.keras.callbacks.History at 0x7f4bd3022b10>"
            ]
          },
          "metadata": {
            "tags": []
          },
          "execution_count": 308
        }
      ]
    },
    {
      "cell_type": "code",
      "metadata": {
        "colab": {
          "base_uri": "https://localhost:8080/"
        },
        "id": "-bDKkF5BYM8f",
        "outputId": "c59e723d-71da-48c9-990e-1de5c4206586"
      },
      "source": [
        "model.save('my_model') "
      ],
      "execution_count": null,
      "outputs": [
        {
          "output_type": "stream",
          "text": [
            "INFO:tensorflow:Assets written to: my_model/assets\n"
          ],
          "name": "stdout"
        }
      ]
    },
    {
      "cell_type": "markdown",
      "metadata": {
        "id": "pNnaYC4qjmfw"
      },
      "source": [
        "# Testing"
      ]
    },
    {
      "cell_type": "code",
      "metadata": {
        "colab": {
          "base_uri": "https://localhost:8080/"
        },
        "id": "vSEUfUTZ8YG4",
        "outputId": "c0284ede-8b4b-4192-aa22-0abfc9cb3374"
      },
      "source": [
        "y_train.max(),y_train.min()"
      ],
      "execution_count": null,
      "outputs": [
        {
          "output_type": "execute_result",
          "data": {
            "text/plain": [
              "(1.0, 0.0)"
            ]
          },
          "metadata": {
            "tags": []
          },
          "execution_count": 310
        }
      ]
    },
    {
      "cell_type": "code",
      "metadata": {
        "id": "G45Vza6LOqBk"
      },
      "source": [
        "X_test, y_test = split_sequences(data_test, data_test_y, lookback_days,forward_days)\n",
        "X_test_original = X_test"
      ],
      "execution_count": null,
      "outputs": []
    },
    {
      "cell_type": "code",
      "metadata": {
        "id": "Sr27oDqdSstj"
      },
      "source": [
        "X_test=X_test.reshape(X_test.shape[0],lookback_days*X_features)\n",
        "y_test=y_test.reshape(y_test.shape[0],y_features)"
      ],
      "execution_count": null,
      "outputs": []
    },
    {
      "cell_type": "code",
      "metadata": {
        "id": "oDy-8aTnNaep"
      },
      "source": [
        "xtest_scaler = MinMaxScaler().fit(X_test)\n",
        "X_test = xtest_scaler.transform(X_test)\n",
        "ytest_scaler = MinMaxScaler(feature_range=(0, 1)).fit(y_test)\n",
        "#y_scaler.fit(y_test)\n",
        "y_test = ytest_scaler.transform(y_test)"
      ],
      "execution_count": null,
      "outputs": []
    },
    {
      "cell_type": "code",
      "metadata": {
        "id": "-srbMGEBOkSK"
      },
      "source": [
        "X_test = X_test.reshape(X_test.shape[0],lookback_days, X_features)\n",
        "#y_test = y_test.reshape(y_test.shape[0],forward_days, y_features)"
      ],
      "execution_count": null,
      "outputs": []
    },
    {
      "cell_type": "code",
      "metadata": {
        "id": "lHJKpGpOOkWL"
      },
      "source": [
        "y_pred = model.predict(X_test,batch_size = 16)"
      ],
      "execution_count": null,
      "outputs": []
    },
    {
      "cell_type": "code",
      "metadata": {
        "colab": {
          "base_uri": "https://localhost:8080/"
        },
        "id": "ls3bB4CDCPg3",
        "outputId": "fee76f0c-cb08-4846-dcd4-1a3dfd2f3d50"
      },
      "source": [
        "evaluation = model.evaluate(X_test, y_test)\n",
        "print(evaluation) #'mse','mae', 'mape'"
      ],
      "execution_count": null,
      "outputs": [
        {
          "output_type": "stream",
          "text": [
            "11/11 [==============================] - 0s 10ms/step - loss: 0.0829 - customLoss: 0.0829 - mse: 0.0271 - mae: 0.1264 - mape: 1718993.3750\n",
            "[0.08285588026046753, 0.08285587280988693, 0.027090473100543022, 0.12642323970794678, 1718993.375]\n"
          ],
          "name": "stdout"
        }
      ]
    },
    {
      "cell_type": "code",
      "metadata": {
        "id": "EPvPKhxbOkYu"
      },
      "source": [
        "y_pred = y_pred.reshape(y_pred.shape[0],y_features)\n",
        "y_pred = ytest_scaler.inverse_transform(y_pred)"
      ],
      "execution_count": null,
      "outputs": []
    },
    {
      "cell_type": "code",
      "metadata": {
        "id": "GDp9CDMCK4fw"
      },
      "source": [
        "#y_pred = y_pred.reshape(y_pred.shape[0],forward_days,y_features)"
      ],
      "execution_count": null,
      "outputs": []
    },
    {
      "cell_type": "code",
      "metadata": {
        "id": "pWGIsqM_O4H0"
      },
      "source": [
        "y_test = y_test.reshape(y_test.shape[0],y_features)\n",
        "#y_true = y_test\n",
        "y_true = ytest_scaler.inverse_transform(y_test)"
      ],
      "execution_count": null,
      "outputs": []
    },
    {
      "cell_type": "code",
      "metadata": {
        "id": "Iz3PvwjqLSqU"
      },
      "source": [
        "X_test = X_test.reshape(X_test.shape[0],lookback_days*X_features)\n",
        "X_test = xtest_scaler.inverse_transform(X_test)\n",
        "#y_true = y_true.reshape(y_true.shape[0],forward_days,y_features)"
      ],
      "execution_count": null,
      "outputs": []
    },
    {
      "cell_type": "code",
      "metadata": {
        "id": "glInJEhla-0M"
      },
      "source": [
        "diff_true = array([y_true[:,x] - X_test_original[:,0,-1] for x in [0,1,2,3,4,5]])\n",
        "diff_pred = array([y_pred[:,x] - X_test_original[:,0,-1] for x in [0,1,2,3,4,5]])"
      ],
      "execution_count": null,
      "outputs": []
    },
    {
      "cell_type": "code",
      "metadata": {
        "id": "PZGVOgZNYuWy"
      },
      "source": [
        "diff_true1 = array([y_true[:,x] - X_test_original[:,1,-1] for x in [1,3,5]])\n",
        "diff_true2 = array([y_true[:,x] - X_test_original[:,0,-1] for x in [0,2,4]])\n",
        "diff_true=np.concatenate((diff_true1,diff_true2),axis=1)"
      ],
      "execution_count": null,
      "outputs": []
    },
    {
      "cell_type": "code",
      "metadata": {
        "id": "X1tI7Ba3YuWz"
      },
      "source": [
        "diff_pred1 = array([y_pred[:,x] - X_test_original[:,1,-1] for x in [1,3,5]])\n",
        "diff_pred2 = array([y_pred[:,x] - X_test_original[:,0,-1] for x in [0,2,4]])\n",
        "diff_pred=np.concatenate((diff_pred1,diff_pred2),axis=1)"
      ],
      "execution_count": null,
      "outputs": []
    },
    {
      "cell_type": "code",
      "metadata": {
        "id": "WaMrZi2BRdy6"
      },
      "source": [
        "def rsquared(y, y_hat):\n",
        "    y_bar = y.mean()\n",
        "    ss_tot = ((y-y_bar)**2).sum()\n",
        "    ss_res = ((y-y_hat)**2).sum()\n",
        "    return 1 - (ss_res/ss_tot)"
      ],
      "execution_count": null,
      "outputs": []
    },
    {
      "cell_type": "code",
      "metadata": {
        "colab": {
          "base_uri": "https://localhost:8080/"
        },
        "id": "OGs5oaw9j7To",
        "outputId": "e5d3cc10-1117-4f1a-cf7c-12120ba3b82e"
      },
      "source": [
        "y_bar = y_true.mean()\n",
        "ss_tot = ((y_true-y_bar)**2).sum()\n",
        "ss_res = ((y_true-y_pred)**2).sum()\n",
        "print(ss_res)\n",
        "print(ss_tot)\n",
        "\n",
        "y_bar = diff_true.mean()\n",
        "ss_tot = ((diff_true-y_bar)**2).sum()\n",
        "ss_res = ((diff_true-diff_pred)**2).sum()\n",
        "print(ss_res)\n",
        "print(ss_tot)"
      ],
      "execution_count": null,
      "outputs": [
        {
          "output_type": "stream",
          "text": [
            "0.5725182764455636\n",
            "0.3799434248983936\n",
            "0.5725182764455636\n",
            "1.6503701079827966\n"
          ],
          "name": "stdout"
        }
      ]
    },
    {
      "cell_type": "code",
      "metadata": {
        "colab": {
          "base_uri": "https://localhost:8080/"
        },
        "id": "kA446QyHQXao",
        "outputId": "5d2824c5-d579-45fb-8303-a497831e4299"
      },
      "source": [
        "import sklearn.metrics as metrics\n",
        "mae = metrics.mean_absolute_error(y_true, y_pred)\n",
        "mse = metrics.mean_squared_error(y_true, y_pred)\n",
        "rmse = np.sqrt(mse) #mse**(0.5)  \n",
        "r2 = rsquared(y_true, y_pred)\n",
        "mae_diff = metrics.mean_absolute_error(diff_true, diff_pred)\n",
        "mse_diff = metrics.mean_squared_error(diff_true, diff_pred)\n",
        "rmse_diff = np.sqrt(mse_diff) #mse**(0.5)  \n",
        "r2_diff = rsquared(diff_true, diff_pred)\n",
        "print(\"Results of sklearn.metrics:\")\n",
        "print(\"MAE:\",mae)\n",
        "print(\"MSE:\", mse)\n",
        "print(\"RMSE:\", rmse)\n",
        "print(\"R-Squared:\", r2)\n",
        "print(\"MAE_diff:\",mae_diff)\n",
        "print(\"MSE_diff:\", mse_diff)\n",
        "print(\"RMSE_diff:\", rmse_diff)\n",
        "print(\"R-Squared diff:\", r2_diff)"
      ],
      "execution_count": null,
      "outputs": [
        {
          "output_type": "stream",
          "text": [
            "Results of sklearn.metrics:\n",
            "MAE: 0.013007440468906735\n",
            "MSE: 0.0002945052862374299\n",
            "RMSE: 0.017161156319940387\n",
            "R-Squared: -0.5068513860943096\n",
            "MAE_diff: 0.013007440468906733\n",
            "MSE_diff: 0.00029450528623742984\n",
            "RMSE_diff: 0.017161156319940387\n",
            "R-Squared diff: 0.6530970394602351\n"
          ],
          "name": "stdout"
        }
      ]
    },
    {
      "cell_type": "code",
      "metadata": {
        "id": "T4TUUvi1pJTn"
      },
      "source": [
        "y_pred_len = y_pred.shape[0]"
      ],
      "execution_count": null,
      "outputs": []
    },
    {
      "cell_type": "code",
      "metadata": {
        "id": "kxIPD_6F8-Lm"
      },
      "source": [
        "dataset_prev = pd.DataFrame({\n",
        "    'open': X_test_original[:,-1,0],'close': X_test_original[:,-1,1]\n",
        "                        })\n",
        "dataset_per = pd.DataFrame({\n",
        "    'open1PerChg': y_pred[:,0], 'close1PerChg': y_pred[:,1],\n",
        "    'open2PerChg': y_pred[:,2], 'close2PerChg': y_pred[:,3],\n",
        "    'open3PerChg': y_pred[:,4], 'close3PerChg': y_pred[:,5]\n",
        "                         })\n",
        "datasetarray = pd.DataFrame({\n",
        "    'open1': y_pred[:,0], 'close1': y_pred[:,1]        ,\n",
        "    'open2': y_pred[:,2], 'close2': y_pred[:,3]  ,\n",
        "    'open3': y_pred[:,4], 'close3': y_pred[:,5]                 })\n",
        "\n",
        "datasetarray['open1'] = dataset_prev['open'] + (dataset_prev['open'] * dataset_per['open1PerChg'])\n",
        "datasetarray['open2'] = dataset_prev['open'] + (dataset_prev['open'] * dataset_per['open2PerChg'])\n",
        "datasetarray['open3'] = dataset_prev['open'] + (dataset_prev['open'] * dataset_per['open3PerChg'])\n",
        "datasetarray['close1'] = dataset_prev['close'] + (dataset_prev['close'] * dataset_per['close1PerChg'])\n",
        "datasetarray['close2'] = dataset_prev['close'] + (dataset_prev['close'] * dataset_per['close2PerChg'])\n",
        "datasetarray['close3'] = dataset_prev['close'] + (dataset_prev['close'] * dataset_per['close3PerChg'])\n",
        "\n",
        "dataset_trueper = pd.DataFrame({\n",
        "    'open1PerChg': y_true[:,0], 'close1PerChg': y_true[:,1],\n",
        "    'open2PerChg': y_true[:,2], 'close2PerChg': y_true[:,3],\n",
        "    'open3PerChg': y_true[:,4], 'close3PerChg': y_true[:,5]\n",
        "                         })\n",
        "dataset_truearray = pd.DataFrame({\n",
        "    'open1': y_true[:,0], 'close1': y_true[:,1]        ,\n",
        "    'open2': y_true[:,2], 'close2': y_true[:,3]  ,\n",
        "    'open3': y_true[:,4], 'close3': y_true[:,5]                 })\n",
        "\n",
        "dataset_truearray['open1'] = dataset_prev['open'] + (dataset_prev['open'] * dataset_trueper['open1PerChg'])\n",
        "dataset_truearray['open2'] = dataset_prev['open'] + (dataset_prev['open'] * dataset_trueper['open2PerChg'])\n",
        "dataset_truearray['open3'] = dataset_prev['open'] + (dataset_prev['open'] * dataset_trueper['open3PerChg'])\n",
        "dataset_truearray['close1'] = dataset_prev['close'] + (dataset_prev['close'] * dataset_trueper['close1PerChg'])\n",
        "dataset_truearray['close2'] = dataset_prev['close'] + (dataset_prev['close'] * dataset_trueper['close2PerChg'])\n",
        "dataset_truearray['close3'] = dataset_prev['close'] + (dataset_prev['close'] * dataset_trueper['close3PerChg'])\n"
      ],
      "execution_count": null,
      "outputs": []
    },
    {
      "cell_type": "code",
      "metadata": {
        "id": "snwJsJwx8-Lp"
      },
      "source": [
        "# dataset1 = dataset[:-3][['open','close']]\n",
        "# dataset_true1 = dataset_true[:-1][['open','close']]\n",
        "# datasetarray = dataset1.values.reshape(dataset1.shape[0],2)\n",
        "datasetarray = datasetarray[:-3]\n",
        "datasetarray = np.asarray(datasetarray).astype(np.float32)\n",
        "# dataset_truearray = dataset_true1.values.reshape(dataset_true1.shape[0],2)\n",
        "dataset_truearray = dataset_truearray[:-3]\n",
        "dataset_truearray = np.asarray(dataset_truearray).astype(np.float32)\n"
      ],
      "execution_count": null,
      "outputs": []
    },
    {
      "cell_type": "code",
      "metadata": {
        "colab": {
          "base_uri": "https://localhost:8080/"
        },
        "id": "tSwHh8CI8-Lq",
        "outputId": "f9daf812-e14d-42b3-d266-a131351d1f04"
      },
      "source": [
        "import sklearn.metrics as metrics\n",
        "mae = metrics.mean_absolute_error(datasetarray, dataset_truearray)\n",
        "mse = metrics.mean_squared_error(datasetarray, dataset_truearray)\n",
        "rmse = np.sqrt(mse) #mse**(0.5)  \n",
        "r2 = rsquared(datasetarray, dataset_truearray)\n",
        "print(\"Results of sklearn.metrics:\")\n",
        "print(\"MAE:\",mae)\n",
        "print(\"MSE:\", mse)\n",
        "print(\"RMSE:\", rmse)\n",
        "print(\"R-Squared:\", r2)"
      ],
      "execution_count": null,
      "outputs": [
        {
          "output_type": "stream",
          "text": [
            "Results of sklearn.metrics:\n",
            "MAE: 325.8125\n",
            "MSE: 184360.19\n",
            "RMSE: 429.37186\n",
            "R-Squared: 0.7513668388128281\n"
          ],
          "name": "stdout"
        }
      ]
    },
    {
      "cell_type": "code",
      "metadata": {
        "id": "1X2LTvRbYm0n"
      },
      "source": [
        "dataset_prev = pd.DataFrame({\n",
        "    'open': X_test_original[:,-1,0],'close': X_test_original[:,-1,1]\n",
        "                        })\n",
        "dataset_per = pd.DataFrame({\n",
        "    'openPerChg': y_pred[:,0], 'closePerChg': y_pred[:,1]\n",
        "                         })\n",
        "dataset = pd.DataFrame({\n",
        "    'open': y_pred[:,0], 'close': y_pred[:,1]                       })\n",
        "dataset['open'] = dataset_prev['open'] + (dataset_prev['open'] * dataset_per['openPerChg'])\n",
        "dataset['close'] = dataset_prev['close'] + (dataset_prev['close'] * dataset_per['closePerChg'])\n",
        "\n",
        "dataset_trueper = pd.DataFrame({\n",
        "    'openPerChg': y_true[:,0], 'closePerChg': y_true[:,1]\n",
        "                        })\n",
        "dataset_true = pd.DataFrame({\n",
        "    'open': y_pred[:,0], 'close': y_pred[:,1]                       })\n",
        "dataset_true['open'] = dataset_prev['open'] + (dataset_prev['open'] * dataset_trueper['openPerChg'])\n",
        "dataset_true['close'] = dataset_prev['close'] + (dataset_prev['close'] * dataset_trueper['closePerChg'])\n",
        "\n",
        "\n",
        "dataset.loc[:,'date'] = pd.to_datetime(df_A[-y_pred_len-2:-2].index)\n",
        "dataset_true.loc[:,'date'] = pd.to_datetime(df_A[-y_pred_len-2:-2].index)"
      ],
      "execution_count": null,
      "outputs": []
    },
    {
      "cell_type": "code",
      "metadata": {
        "id": "ptq0CwVhw47p"
      },
      "source": [
        "dataset=dataset.assign(low=lambda d: d[['open', 'close']].min(1))\n",
        "dataset=dataset.assign(high=lambda d: d[['open', 'close']].max(1))\n",
        "dataset_true=dataset_true.assign(low=lambda d: d[['open', 'close']].min(1))\n",
        "dataset_true=dataset_true.assign(high=lambda d: d[['open', 'close']].max(1))"
      ],
      "execution_count": null,
      "outputs": []
    },
    {
      "cell_type": "code",
      "metadata": {
        "colab": {
          "base_uri": "https://localhost:8080/"
        },
        "id": "EwRTRWyxLInC",
        "outputId": "4a9d74b1-3841-484e-ab8b-3df902062564"
      },
      "source": [
        "%pip install https://github.com/matplotlib/mpl_finance/archive/master.zip"
      ],
      "execution_count": null,
      "outputs": [
        {
          "output_type": "stream",
          "text": [
            "Collecting https://github.com/matplotlib/mpl_finance/archive/master.zip\n",
            "\u001b[?25l  Downloading https://github.com/matplotlib/mpl_finance/archive/master.zip\n",
            "\u001b[K     | 440kB 1.4MB/s\n",
            "\u001b[?25hRequirement already satisfied: matplotlib in /usr/local/lib/python3.7/dist-packages (from mpl-finance==0.10.1) (3.2.2)\n",
            "Requirement already satisfied: python-dateutil>=2.1 in /usr/local/lib/python3.7/dist-packages (from matplotlib->mpl-finance==0.10.1) (2.8.1)\n",
            "Requirement already satisfied: numpy>=1.11 in /usr/local/lib/python3.7/dist-packages (from matplotlib->mpl-finance==0.10.1) (1.19.5)\n",
            "Requirement already satisfied: cycler>=0.10 in /usr/local/lib/python3.7/dist-packages (from matplotlib->mpl-finance==0.10.1) (0.10.0)\n",
            "Requirement already satisfied: pyparsing!=2.0.4,!=2.1.2,!=2.1.6,>=2.0.1 in /usr/local/lib/python3.7/dist-packages (from matplotlib->mpl-finance==0.10.1) (2.4.7)\n",
            "Requirement already satisfied: kiwisolver>=1.0.1 in /usr/local/lib/python3.7/dist-packages (from matplotlib->mpl-finance==0.10.1) (1.3.1)\n",
            "Requirement already satisfied: six>=1.5 in /usr/local/lib/python3.7/dist-packages (from python-dateutil>=2.1->matplotlib->mpl-finance==0.10.1) (1.15.0)\n",
            "Building wheels for collected packages: mpl-finance\n",
            "  Building wheel for mpl-finance (setup.py) ... \u001b[?25l\u001b[?25hdone\n",
            "  Created wheel for mpl-finance: filename=mpl_finance-0.10.1-cp37-none-any.whl size=8424 sha256=2c90537f31bb4019421bc4bea3941e45689de5767b9e578e7e60ab07d2f0ada2\n",
            "  Stored in directory: /tmp/pip-ephem-wheel-cache-6gl9e6ps/wheels/8f/bf/8a/6c858b2a3be945c7b2d658fbf6ab797b451d686cbee8aa2679\n",
            "Successfully built mpl-finance\n",
            "Installing collected packages: mpl-finance\n",
            "Successfully installed mpl-finance-0.10.1\n"
          ],
          "name": "stdout"
        }
      ]
    },
    {
      "cell_type": "code",
      "metadata": {
        "id": "HaDr9uJ-CT0S"
      },
      "source": [
        "import matplotlib.pyplot as plt\n",
        "import matplotlib.dates as mdates\n",
        "import matplotlib.ticker as mticker\n",
        "import datetime as dt\n",
        "import mpl_finance as mpf "
      ],
      "execution_count": null,
      "outputs": []
    },
    {
      "cell_type": "code",
      "metadata": {
        "colab": {
          "base_uri": "https://localhost:8080/",
          "height": 817
        },
        "id": "tMDYwU9Mu7Pw",
        "outputId": "d3455fa5-0247-478d-dfe9-863f839b9cd4"
      },
      "source": [
        "import plotly.graph_objects as go\n",
        "\n",
        "fig = go.Figure(data=\n",
        "                [go.Ohlc(x=dataset['date'],\n",
        "                open=dataset['open'],\n",
        "                high=dataset['high'],\n",
        "                low=dataset['low'],\n",
        "                close=dataset['close'],\n",
        "                showlegend=False,\n",
        "                name=\"predicted\"),\n",
        "                 go.Ohlc(x=dataset_true['date'],\n",
        "                open=dataset_true['open'],\n",
        "                high=dataset_true['high'],\n",
        "                low=dataset_true['low'],\n",
        "                close=dataset_true['close'],\n",
        "                showlegend=False,\n",
        "                name=\"true\",\n",
        "    increasing_line_color= 'cyan', decreasing_line_color= 'gray'\n",
        ")])\n",
        "fig.update_layout(\n",
        "    autosize=False,\n",
        "    width=1000,\n",
        "    height=800,)\n",
        "fig.update(layout_xaxis_rangeslider_visible=False)\n",
        "fig.show()"
      ],
      "execution_count": null,
      "outputs": [
        {
          "output_type": "display_data",
          "data": {
            "text/html": [
              "<html>\n",
              "<head><meta charset=\"utf-8\" /></head>\n",
              "<body>\n",
              "    <div>\n",
              "            <script src=\"https://cdnjs.cloudflare.com/ajax/libs/mathjax/2.7.5/MathJax.js?config=TeX-AMS-MML_SVG\"></script><script type=\"text/javascript\">if (window.MathJax) {MathJax.Hub.Config({SVG: {font: \"STIX-Web\"}});}</script>\n",
              "                <script type=\"text/javascript\">window.PlotlyConfig = {MathJaxConfig: 'local'};</script>\n",
              "        <script src=\"https://cdn.plot.ly/plotly-latest.min.js\"></script>    \n",
              "            <div id=\"67bece37-197d-4643-a3af-40e7d8baf3d7\" class=\"plotly-graph-div\" style=\"height:800px; width:1000px;\"></div>\n",
              "            <script type=\"text/javascript\">\n",
              "                \n",
              "                    window.PLOTLYENV=window.PLOTLYENV || {};\n",
              "                    \n",
              "                if (document.getElementById(\"67bece37-197d-4643-a3af-40e7d8baf3d7\")) {\n",
              "                    Plotly.newPlot(\n",
              "                        '67bece37-197d-4643-a3af-40e7d8baf3d7',\n",
              "                        [{\"close\": [24997.665752358123, 25035.34416432116, 25285.900775922462, 25589.274338547457, 25608.63651498527, 25346.412667362787, 25176.72988230309, 25343.881524994504, 25692.796752676368, 26091.34327736706, 25781.355914901942, 25387.487025780865, 24956.056052827276, 24883.386722136755, 25220.63804207107, 25229.230712854856, 25138.45413854411, 25227.879910193846, 25668.58186026822, 25504.529478221753, 25322.70090277586, 25067.90703795581, 25193.620073965685, 25267.74961461313, 24934.9054817161, 25054.082050999146, 25013.32572327575, 24276.91896985476, 23860.20241016233, 24545.31287771276, 24203.965891670356, 24203.285791939772, 24462.6609052617, 24006.45718109834, 24399.117241189706, 24636.026620914727, 24876.32781526106, 24295.6222405407, 24341.36886795076, 24778.265644043684, 24552.700961044524, 24851.02359702252, 24720.8257809523, 24938.496973682195, 25149.900587654807, 25112.820944396135, 25024.340454123943, 24822.67266685255, 24799.877725841285, 24373.229902789208, 24426.594683006988, 24668.889807347336, 24648.920313311828, 24499.509091226293, 24431.52835567016, 24256.751578347757, 24262.096427204357, 24596.877870429307, 24684.616760869976, 24694.48329624542, 24875.456341553945, 25079.5050658579, 25173.858617346825, 25248.498300449137, 25048.326138082084, 25114.330509412037, 25054.058183854446, 25055.38468668503, 25353.74018601233, 25172.60101054227, 25221.26783863036, 25143.415086101675, 25083.07404533618, 24687.518793586998, 24998.0416150809, 24742.496870297746, 24965.522690853526, 25145.846983317373, 25130.05622625351, 25477.694671631078, 25570.349177890515, 25640.617563399486, 25645.634982100135, 25641.079566411372, 25519.208056796142, 25490.56594142493, 25404.13099763263, 25299.219917622395, 25007.217867167037, 24964.702477104427, 24766.321990832057, 24894.535609077328, 24561.805341517844, 24598.3855887158, 24429.064804508624, 24539.33487740904, 24596.652177871787, 24638.898679181177, 24496.65384273551, 24686.039958819456, 24780.473958526272, 25109.744393248264, 25247.412967639153, 25033.092875545244, 25253.076419297857, 25356.90000381238, 25391.798808411433, 25451.34024915602, 25521.99606159471, 25391.496723035816, 25375.836444782857, 25365.779850817347, 25558.63059881667, 25737.67758471865, 25841.678224285715, 25769.412388006924, 25614.936612667494, 25727.564987769325, 25638.463366542648, 25634.733051581927, 25767.388144804165, 25805.705393672706, 25928.81919148306, 25881.248069580946, 25803.79497473419, 25605.064549673843, 25481.07139964292, 25592.56677740023, 25456.830861510934, 25858.05700406273, 25971.71764073916, 26060.344747573115, 26124.290649784183, 26032.061116921337, 25957.597048558295, 26091.779876967285, 26356.951974725773, 26371.892838522792, 26435.921248504827, 26297.594973666346, 26277.596203148434, 26268.97685069358, 26292.879862105474, 26315.91247009163, 26237.826183728408, 26176.63951609192, 26292.954889313758, 26321.030974762805, 26469.626536378637, 26477.033696530063, 26382.9922155223, 26570.18253573496, 26729.527641656223, 26983.644046019763, 27070.793617017567, 26884.094266438857, 26813.309693780928, 26703.326418801214, 26760.54319160332, 26778.35556394648, 26973.50522971381, 27096.770454682657, 27151.87475738371, 26946.614747007843, 26764.876880410593, 26806.669219518193, 26750.91605429059, 25911.278082801677, 25364.362140667654, 25669.4534239918, 25585.358746270846, 26146.336905949516, 26054.306763103486, 25724.71547398297, 25793.43666348531, 25666.467552338312, 25543.334148159818, 24931.607316245456, 25350.02222445146, 25052.851707709615, 24810.92872714821, 25249.23848822146, 25497.3023964182, 25761.294441495647, 25636.554532279024, 25825.632204390567, 25992.91681670118, 26537.306151578996, 26542.384175764142, 26337.953167542637, 25722.190798792042, 25624.832930582415, 25409.905018551275, 25622.223400806204, 25743.306615196612, 25335.920117311514, 24766.696088912802, 24768.367015493335, 24584.944604463875, 24945.337812966667, 25052.89502870267, 25691.327684402313, 25659.26541242826, 25864.047440669965, 26138.4999333067, 25350.293398963764, 25245.166325125876, 24689.655304712185, 24715.730063105275, 24660.967221791954, 24819.86491022936, 24885.4748985134, 24384.551141741686, 23867.486402869225, 23960.248941173435, 23611.02837606893, 23152.76748330083, 22749.574892122502, 22103.903916335064, 23204.31657905697, 23468.6245240156, 23382.65300202105, 23638.872974470723, 23650.783904778127, 22988.514103530713, 23738.80517605838, 23842.599611731344, 24105.30351844043, 24197.147375204106, 24323.06650367681, 24314.907079421355, 24228.581454184303, 24380.528153162475, 24525.06758384853, 24686.24381754183, 25032.09482139739, 24721.87346710544, 24903.417121594357, 24883.23670042107, 25071.497276651724, 24864.526119729755, 24923.602721232623, 25366.134351889992, 25365.544448028806, 25435.634916986313, 25621.16585297008, 25792.182906657457, 25762.359461286847, 25527.384112646803, 25455.532553364515, 25396.286545702333, 25770.48032074854, 25879.194140147683, 25770.369663849877, 26211.256098477403, 26278.24500480799, 26167.8674431578, 26347.617768668228, 26407.432119395584, 26369.22186707519, 26295.868041959508, 26221.557892031968, 26333.08331115422, 26123.27621788837, 26110.8209854511, 25975.47079042485, 25769.119160701477, 25750.920299682137, 25956.516563101468, 25861.581018698747, 26013.706968391845, 26020.551070787238, 26162.09243391196, 26223.677194561307, 26198.185947212372, 26049.88773252476, 26271.44050677307, 25809.91421501878, 25826.08800695368, 25973.215931595674, 25941.89933673788, 26253.1001785552, 26583.85675855221, 26547.971743233866, 26715.61143579369, 26761.72661187593, 26677.314488941804, 26489.688778586813, 26497.080986880883, 26486.766472986837, 26760.662777429687, 26735.203137899618, 26806.484783378102, 26805.641614449676, 26920.33396783145, 26872.242298622506, 27021.77758091232, 26958.0636069756, 26826.804583499063, 26905.929626353118, 26922.04639658017, 26957.62246240377, 26793.9696166438, 26864.24964238179, 26799.845677882433, 26314.990351654305, 26324.848507648243, 26180.38404416023, 26302.48082307064, 25674.09484058153, 25888.717487096786, 26008.242404818535, 26230.56813993986, 26130.84378624335, 26047.418569330017, 26248.456448586472, 26148.136274608085, 25859.43650747463, 25956.16912008073, 25714.791478691623, 25489.400581364607, 25533.978112636396, 25173.60560710542, 25184.408846535385], \"high\": [24997.665752358123, 25035.34416432116, 25285.900775922462, 25589.274338547457, 25608.63651498527, 25346.412667362787, 25176.72988230309, 25343.881524994504, 25692.796752676368, 26091.34327736706, 25781.355914901942, 25387.487025780865, 24956.056052827276, 24883.386722136755, 25220.63804207107, 25229.230712854856, 25138.45413854411, 25227.879910193846, 25668.58186026822, 25504.529478221753, 25322.70090277586, 25067.90703795581, 25193.620073965685, 25267.74961461313, 24934.9054817161, 25054.082050999146, 25013.32572327575, 24276.91896985476, 23860.20241016233, 24545.31287771276, 24203.965891670356, 24203.285791939772, 24462.6609052617, 24006.45718109834, 24399.117241189706, 24636.026620914727, 24876.32781526106, 24295.6222405407, 24341.36886795076, 24778.265644043684, 24552.700961044524, 24851.02359702252, 24720.8257809523, 24938.496973682195, 25149.900587654807, 25112.820944396135, 25024.340454123943, 24822.67266685255, 24799.877725841285, 24373.229902789208, 24426.594683006988, 24668.889807347336, 24648.920313311828, 24499.509091226293, 24431.52835567016, 24256.751578347757, 24262.096427204357, 24596.877870429307, 24684.616760869976, 24694.48329624542, 24875.456341553945, 25079.5050658579, 25173.858617346825, 25248.498300449137, 25048.326138082084, 25114.330509412037, 25054.058183854446, 25055.38468668503, 25353.74018601233, 25172.60101054227, 25221.26783863036, 25143.415086101675, 25083.07404533618, 24687.518793586998, 24998.0416150809, 24742.496870297746, 24965.522690853526, 25145.846983317373, 25130.05622625351, 25477.694671631078, 25570.349177890515, 25640.617563399486, 25645.634982100135, 25641.079566411372, 25519.208056796142, 25490.56594142493, 25404.13099763263, 25299.219917622395, 25007.217867167037, 24964.702477104427, 24766.321990832057, 24894.535609077328, 24561.805341517844, 24598.3855887158, 24429.064804508624, 24539.33487740904, 24596.652177871787, 24638.898679181177, 24496.65384273551, 24686.039958819456, 24780.473958526272, 25109.744393248264, 25247.412967639153, 25033.092875545244, 25253.076419297857, 25356.90000381238, 25391.798808411433, 25451.34024915602, 25521.99606159471, 25391.496723035816, 25375.836444782857, 25365.779850817347, 25558.63059881667, 25737.67758471865, 25841.678224285715, 25769.412388006924, 25614.936612667494, 25727.564987769325, 25638.463366542648, 25634.733051581927, 25767.388144804165, 25805.705393672706, 25928.81919148306, 25881.248069580946, 25803.79497473419, 25605.064549673843, 25481.07139964292, 25592.56677740023, 25456.830861510934, 25858.05700406273, 25971.71764073916, 26060.344747573115, 26124.290649784183, 26032.061116921337, 25957.597048558295, 26091.779876967285, 26356.951974725773, 26371.892838522792, 26435.921248504827, 26297.594973666346, 26277.596203148434, 26268.97685069358, 26292.879862105474, 26315.91247009163, 26237.826183728408, 26176.63951609192, 26292.954889313758, 26321.030974762805, 26469.626536378637, 26477.033696530063, 26382.9922155223, 26570.18253573496, 26729.527641656223, 26983.644046019763, 27070.793617017567, 26884.094266438857, 26813.309693780928, 26703.326418801214, 26760.54319160332, 26778.35556394648, 26973.50522971381, 27096.770454682657, 27151.87475738371, 26946.614747007843, 26764.876880410593, 26806.669219518193, 26750.91605429059, 26461.79989751758, 25542.935822792515, 25669.4534239918, 25585.358746270846, 26146.336905949516, 26054.306763103486, 25724.71547398297, 25793.43666348531, 25666.467552338312, 25543.334148159818, 25237.494949285916, 25350.02222445146, 25052.851707709615, 24903.17803843436, 25249.23848822146, 25497.3023964182, 25761.294441495647, 25636.554532279024, 25825.632204390567, 25992.91681670118, 26537.306151578996, 26542.384175764142, 26337.953167542637, 26004.51140252653, 25624.832930582415, 25429.94581146938, 25622.223400806204, 25743.306615196612, 25424.630113889256, 24766.696088912802, 24768.367015493335, 24584.944604463875, 24945.337812966667, 25052.89502870267, 25691.327684402313, 25659.26541242826, 25864.047440669965, 26138.4999333067, 25774.935481272223, 25245.166325125876, 24933.82343256445, 24715.730063105275, 24730.04981870746, 24819.86491022936, 24885.4748985134, 24409.905768384284, 23989.847071947755, 23960.248941173435, 23710.511742538707, 23251.26361531144, 22913.358309851894, 22373.15988798023, 23204.31657905697, 23468.6245240156, 23382.65300202105, 23638.872974470723, 23650.783904778127, 23216.458510877233, 23738.80517605838, 23842.599611731344, 24105.30351844043, 24197.147375204106, 24323.06650367681, 24314.907079421355, 24228.581454184303, 24380.528153162475, 24525.06758384853, 24686.24381754183, 25032.09482139739, 24721.87346710544, 24903.417121594357, 24883.23670042107, 25071.497276651724, 24864.526119729755, 24923.602721232623, 25366.134351889992, 25365.544448028806, 25435.634916986313, 25621.16585297008, 25792.182906657457, 25762.359461286847, 25527.384112646803, 25455.532553364515, 25396.286545702333, 25770.48032074854, 25879.194140147683, 25770.369663849877, 26211.256098477403, 26278.24500480799, 26167.8674431578, 26347.617768668228, 26407.432119395584, 26369.22186707519, 26295.868041959508, 26221.557892031968, 26333.08331115422, 26130.308049796076, 26110.8209854511, 25975.47079042485, 25769.119160701477, 25750.920299682137, 25956.516563101468, 25861.581018698747, 26013.706968391845, 26020.551070787238, 26162.09243391196, 26223.677194561307, 26198.185947212372, 26049.88773252476, 26271.44050677307, 25809.91421501878, 25826.08800695368, 25973.215931595674, 25941.89933673788, 26253.1001785552, 26583.85675855221, 26547.971743233866, 26715.61143579369, 26761.72661187593, 26677.314488941804, 26489.688778586813, 26497.080986880883, 26486.766472986837, 26760.662777429687, 26735.203137899618, 26806.484783378102, 26805.641614449676, 26920.33396783145, 26872.242298622506, 27021.77758091232, 26958.0636069756, 26826.804583499063, 26905.929626353118, 26922.04639658017, 26957.62246240377, 26793.9696166438, 26864.24964238179, 26799.845677882433, 26314.990351654305, 26324.848507648243, 26180.38404416023, 26302.48082307064, 25674.09484058153, 25888.717487096786, 26008.242404818535, 26230.56813993986, 26130.84378624335, 26047.418569330017, 26248.456448586472, 26148.136274608085, 25859.43650747463, 25956.16912008073, 25714.791478691623, 25489.400581364607, 25533.978112636396, 25173.60560710542, 25184.408846535385], \"low\": [24708.36505987812, 24745.8835409108, 24994.717579428805, 25295.149665486613, 25314.56690136966, 25055.424168946505, 24887.82358630043, 25052.602460767957, 25397.885239254683, 25792.170024877614, 25486.149332912173, 25096.931049446062, 24670.541859380202, 24598.40211982687, 24931.668721250702, 24939.923980637115, 24850.31932242065, 24938.989642473825, 25374.587848837957, 25212.73389296132, 25032.979099674616, 24780.864221221444, 24904.739880058853, 24977.844145167328, 24648.856793495463, 24766.261919664204, 24725.83861389321, 23997.41784533258, 23584.10170256471, 24260.54779671385, 23922.65075799612, 23921.539815986183, 24178.073244783045, 23726.886591268867, 24115.31313800373, 24349.884819356837, 24587.948024208235, 24014.3494480654, 24059.480513775063, 24491.615466099232, 24268.757289048983, 24564.114512446336, 24435.569769078036, 24651.011721878545, 24859.99005786503, 24823.46850102064, 24735.96251395095, 24536.60219716123, 24514.123172321248, 24092.26674072681, 24144.87554454905, 24384.37083675103, 24364.833494868635, 24217.013177814195, 24150.617303297622, 23977.64375092811, 23983.057551491715, 24314.28360232094, 24401.370531592136, 24411.19320058039, 24589.85915430443, 24791.47847121139, 24884.187204416776, 24958.02973045759, 24760.117115987396, 24825.72675338337, 24766.07985487953, 24767.914798344784, 25062.74393312964, 24884.219727805634, 24932.293478080792, 24855.921727092875, 24795.932612639655, 24405.168801537075, 24711.7098239567, 24459.523406711676, 24679.628275607465, 24858.31670996814, 24842.752915620804, 25187.17451790049, 25279.10800652872, 25349.096299999394, 25354.178445975038, 25349.81045670727, 25229.25111896866, 25200.85324375688, 25115.35230027727, 25011.379656376084, 24722.618443330033, 24680.42013398608, 24484.116241534863, 24610.200343046596, 24281.204293887713, 24316.95841206785, 24149.431357506208, 24257.834907562472, 24314.03346111885, 24355.763838879015, 24215.57418125647, 24402.682422554815, 24496.34345519403, 24822.015981462708, 24958.324074806274, 24746.450695512973, 24964.108938660676, 25066.881946931026, 25101.87975402766, 25161.085386249957, 25231.281372312318, 25102.32352012646, 25086.984370746864, 25077.252920765684, 25267.741558299436, 25444.931999024026, 25547.94828380112, 25476.521030844455, 25323.87515491317, 25435.109007217503, 25347.13304316327, 25343.25183085605, 25474.558109555488, 25512.706523241704, 25634.752069950904, 25588.0301519017, 25511.620372003672, 25314.995223378482, 25192.213182042462, 25302.537152367928, 25168.34826348321, 25564.798816406055, 25677.29771610675, 25764.905851574924, 25828.448338547732, 25737.35718989843, 25663.65263895318, 25796.19097595145, 26058.369060063178, 26073.19621081464, 26136.530236902458, 25999.7815478278, 25979.94087363178, 25971.22446496869, 25994.9019425374, 26017.577762289384, 25940.365286657296, 26014.956232087607, 25864.991668788407, 26013.20303994676, 26107.712834862206, 26192.318132739405, 26174.232170826708, 26098.738650663083, 26309.280223298025, 26540.988290074765, 26747.579006165706, 26723.89531511757, 26620.08824588851, 26553.73746387046, 26436.807669215796, 26425.333848906354, 26615.95022469754, 26665.73482928593, 26850.34541705475, 26799.094694147487, 26648.395259022465, 26416.36665688322, 26487.09168781948, 25911.278082801677, 25364.362140667654, 25445.142974869657, 25375.769174325105, 25400.333222080604, 25756.25011012704, 25698.095243843123, 25475.8316003183, 25548.72794729292, 25098.27463009779, 24931.607316245456, 24810.297189869103, 24847.445341584276, 24810.92872714821, 24565.407035620417, 25097.262154071803, 25226.927995919563, 25517.571487830763, 25331.050667837262, 25515.268771002804, 25844.29897530831, 26190.65260194709, 26200.244283014552, 25722.190798792042, 25367.494558562517, 25409.905018551275, 25103.329858398996, 25273.302667851003, 25335.920117311514, 24639.550716463502, 24564.9124002715, 24356.132014095034, 24387.20035672148, 24575.740675739595, 24863.721950070212, 25370.526728825644, 25336.797136512498, 25793.408483525163, 25350.293398963764, 24746.989119197213, 24689.655304712185, 24371.151178232318, 24660.967221791954, 24512.58965541066, 24580.880051695207, 24384.551141741686, 23867.486402869225, 23779.802205287284, 23611.02837606893, 23152.76748330083, 22749.574892122502, 22103.903916335064, 21916.054920985254, 22685.90581008142, 23264.309171519024, 23194.07428784605, 23097.26553535529, 22988.514103530713, 22933.223302122642, 23513.537078445806, 23723.842580810626, 23886.575146993328, 23854.458402393153, 23981.800213220995, 23922.68200516171, 23950.901598156444, 24177.724330739075, 24181.326342851018, 24573.54059515871, 24643.117547072583, 24619.55546009248, 24624.016336344648, 24737.48854157458, 24646.66710446519, 24577.026182047153, 24883.933027741732, 25027.173054074403, 25101.824800762814, 25148.075163623194, 25371.248726198086, 25449.13567230805, 25330.86077836555, 25102.159021359017, 25195.026452434762, 25201.26771453023, 25520.90016174949, 25497.86309130484, 25594.04693103504, 25897.63446544475, 25943.850125634868, 25923.590318121693, 26142.653896522323, 26064.461789949604, 26008.756547051336, 25993.253064174947, 26028.630210012878, 26123.27621788837, 25838.017285172766, 25826.879934016924, 25654.94615677606, 25356.73612763468, 25219.718362570275, 25614.391653213504, 25653.523677442532, 25708.637558482013, 25738.33172627678, 25927.794155344698, 25902.64510255351, 25756.505885197108, 25975.416118701105, 25518.92683892762, 25534.7660216352, 25680.28402190256, 25649.235364257114, 25957.14326969243, 26284.431953415748, 26249.196719014137, 26414.834259442, 26460.56618282164, 26376.866617209627, 26191.38922947568, 26198.412885694604, 26188.242183626884, 26458.83010847229, 26433.870735056604, 26504.10385641758, 26503.497136227088, 26616.704626790946, 26569.282373285125, 26717.107034385856, 26654.81081243977, 26524.88463796684, 26603.411432749668, 26619.210623306863, 26654.733354626664, 26493.013042182614, 26562.727840292893, 26499.17358162522, 26019.798219574215, 26029.378550174195, 25886.378957978188, 26007.14324539187, 25385.564494045684, 25597.790264751762, 25715.53664273396, 25935.390745233177, 25836.531946954317, 25754.352274222114, 25952.68393874521, 25853.770667024044, 25567.831169130048, 25663.554592319797, 25424.75039716435, 25202.05531218843, 25245.948685540436, 24889.763825270347, 24899.712364522606], \"name\": \"predicted\", \"open\": [24708.36505987812, 24745.8835409108, 24994.717579428805, 25295.149665486613, 25314.56690136966, 25055.424168946505, 24887.82358630043, 25052.602460767957, 25397.885239254683, 25792.170024877614, 25486.149332912173, 25096.931049446062, 24670.541859380202, 24598.40211982687, 24931.668721250702, 24939.923980637115, 24850.31932242065, 24938.989642473825, 25374.587848837957, 25212.73389296132, 25032.979099674616, 24780.864221221444, 24904.739880058853, 24977.844145167328, 24648.856793495463, 24766.261919664204, 24725.83861389321, 23997.41784533258, 23584.10170256471, 24260.54779671385, 23922.65075799612, 23921.539815986183, 24178.073244783045, 23726.886591268867, 24115.31313800373, 24349.884819356837, 24587.948024208235, 24014.3494480654, 24059.480513775063, 24491.615466099232, 24268.757289048983, 24564.114512446336, 24435.569769078036, 24651.011721878545, 24859.99005786503, 24823.46850102064, 24735.96251395095, 24536.60219716123, 24514.123172321248, 24092.26674072681, 24144.87554454905, 24384.37083675103, 24364.833494868635, 24217.013177814195, 24150.617303297622, 23977.64375092811, 23983.057551491715, 24314.28360232094, 24401.370531592136, 24411.19320058039, 24589.85915430443, 24791.47847121139, 24884.187204416776, 24958.02973045759, 24760.117115987396, 24825.72675338337, 24766.07985487953, 24767.914798344784, 25062.74393312964, 24884.219727805634, 24932.293478080792, 24855.921727092875, 24795.932612639655, 24405.168801537075, 24711.7098239567, 24459.523406711676, 24679.628275607465, 24858.31670996814, 24842.752915620804, 25187.17451790049, 25279.10800652872, 25349.096299999394, 25354.178445975038, 25349.81045670727, 25229.25111896866, 25200.85324375688, 25115.35230027727, 25011.379656376084, 24722.618443330033, 24680.42013398608, 24484.116241534863, 24610.200343046596, 24281.204293887713, 24316.95841206785, 24149.431357506208, 24257.834907562472, 24314.03346111885, 24355.763838879015, 24215.57418125647, 24402.682422554815, 24496.34345519403, 24822.015981462708, 24958.324074806274, 24746.450695512973, 24964.108938660676, 25066.881946931026, 25101.87975402766, 25161.085386249957, 25231.281372312318, 25102.32352012646, 25086.984370746864, 25077.252920765684, 25267.741558299436, 25444.931999024026, 25547.94828380112, 25476.521030844455, 25323.87515491317, 25435.109007217503, 25347.13304316327, 25343.25183085605, 25474.558109555488, 25512.706523241704, 25634.752069950904, 25588.0301519017, 25511.620372003672, 25314.995223378482, 25192.213182042462, 25302.537152367928, 25168.34826348321, 25564.798816406055, 25677.29771610675, 25764.905851574924, 25828.448338547732, 25737.35718989843, 25663.65263895318, 25796.19097595145, 26058.369060063178, 26073.19621081464, 26136.530236902458, 25999.7815478278, 25979.94087363178, 25971.22446496869, 25994.9019425374, 26017.577762289384, 25940.365286657296, 26014.956232087607, 25864.991668788407, 26013.20303994676, 26107.712834862206, 26192.318132739405, 26174.232170826708, 26098.738650663083, 26309.280223298025, 26540.988290074765, 26747.579006165706, 26723.89531511757, 26620.08824588851, 26553.73746387046, 26436.807669215796, 26425.333848906354, 26615.95022469754, 26665.73482928593, 26850.34541705475, 26799.094694147487, 26648.395259022465, 26416.36665688322, 26487.09168781948, 26461.79989751758, 25542.935822792515, 25445.142974869657, 25375.769174325105, 25400.333222080604, 25756.25011012704, 25698.095243843123, 25475.8316003183, 25548.72794729292, 25098.27463009779, 25237.494949285916, 24810.297189869103, 24847.445341584276, 24903.17803843436, 24565.407035620417, 25097.262154071803, 25226.927995919563, 25517.571487830763, 25331.050667837262, 25515.268771002804, 25844.29897530831, 26190.65260194709, 26200.244283014552, 26004.51140252653, 25367.494558562517, 25429.94581146938, 25103.329858398996, 25273.302667851003, 25424.630113889256, 24639.550716463502, 24564.9124002715, 24356.132014095034, 24387.20035672148, 24575.740675739595, 24863.721950070212, 25370.526728825644, 25336.797136512498, 25793.408483525163, 25774.935481272223, 24746.989119197213, 24933.82343256445, 24371.151178232318, 24730.04981870746, 24512.58965541066, 24580.880051695207, 24409.905768384284, 23989.847071947755, 23779.802205287284, 23710.511742538707, 23251.26361531144, 22913.358309851894, 22373.15988798023, 21916.054920985254, 22685.90581008142, 23264.309171519024, 23194.07428784605, 23097.26553535529, 23216.458510877233, 22933.223302122642, 23513.537078445806, 23723.842580810626, 23886.575146993328, 23854.458402393153, 23981.800213220995, 23922.68200516171, 23950.901598156444, 24177.724330739075, 24181.326342851018, 24573.54059515871, 24643.117547072583, 24619.55546009248, 24624.016336344648, 24737.48854157458, 24646.66710446519, 24577.026182047153, 24883.933027741732, 25027.173054074403, 25101.824800762814, 25148.075163623194, 25371.248726198086, 25449.13567230805, 25330.86077836555, 25102.159021359017, 25195.026452434762, 25201.26771453023, 25520.90016174949, 25497.86309130484, 25594.04693103504, 25897.63446544475, 25943.850125634868, 25923.590318121693, 26142.653896522323, 26064.461789949604, 26008.756547051336, 25993.253064174947, 26028.630210012878, 26130.308049796076, 25838.017285172766, 25826.879934016924, 25654.94615677606, 25356.73612763468, 25219.718362570275, 25614.391653213504, 25653.523677442532, 25708.637558482013, 25738.33172627678, 25927.794155344698, 25902.64510255351, 25756.505885197108, 25975.416118701105, 25518.92683892762, 25534.7660216352, 25680.28402190256, 25649.235364257114, 25957.14326969243, 26284.431953415748, 26249.196719014137, 26414.834259442, 26460.56618282164, 26376.866617209627, 26191.38922947568, 26198.412885694604, 26188.242183626884, 26458.83010847229, 26433.870735056604, 26504.10385641758, 26503.497136227088, 26616.704626790946, 26569.282373285125, 26717.107034385856, 26654.81081243977, 26524.88463796684, 26603.411432749668, 26619.210623306863, 26654.733354626664, 26493.013042182614, 26562.727840292893, 26499.17358162522, 26019.798219574215, 26029.378550174195, 25886.378957978188, 26007.14324539187, 25385.564494045684, 25597.790264751762, 25715.53664273396, 25935.390745233177, 25836.531946954317, 25754.352274222114, 25952.68393874521, 25853.770667024044, 25567.831169130048, 25663.554592319797, 25424.75039716435, 25202.05531218843, 25245.948685540436, 24889.763825270347, 24899.712364522606], \"showlegend\": false, \"type\": \"ohlc\", \"x\": [\"2018-02-13T00:00:00\", \"2018-02-14T00:00:00\", \"2018-02-15T00:00:00\", \"2018-02-16T00:00:00\", \"2018-02-20T00:00:00\", \"2018-02-21T00:00:00\", \"2018-02-22T00:00:00\", \"2018-02-23T00:00:00\", \"2018-02-26T00:00:00\", \"2018-02-27T00:00:00\", \"2018-02-28T00:00:00\", \"2018-03-01T00:00:00\", \"2018-03-02T00:00:00\", \"2018-03-05T00:00:00\", \"2018-03-06T00:00:00\", \"2018-03-07T00:00:00\", \"2018-03-08T00:00:00\", \"2018-03-09T00:00:00\", \"2018-03-12T00:00:00\", \"2018-03-13T00:00:00\", \"2018-03-14T00:00:00\", \"2018-03-15T00:00:00\", \"2018-03-16T00:00:00\", \"2018-03-19T00:00:00\", \"2018-03-20T00:00:00\", \"2018-03-21T00:00:00\", \"2018-03-22T00:00:00\", \"2018-03-23T00:00:00\", \"2018-03-26T00:00:00\", \"2018-03-27T00:00:00\", \"2018-03-28T00:00:00\", \"2018-03-29T00:00:00\", \"2018-04-02T00:00:00\", \"2018-04-03T00:00:00\", \"2018-04-04T00:00:00\", \"2018-04-05T00:00:00\", \"2018-04-06T00:00:00\", \"2018-04-09T00:00:00\", \"2018-04-10T00:00:00\", \"2018-04-11T00:00:00\", \"2018-04-12T00:00:00\", \"2018-04-13T00:00:00\", \"2018-04-16T00:00:00\", \"2018-04-17T00:00:00\", \"2018-04-18T00:00:00\", \"2018-04-19T00:00:00\", \"2018-04-20T00:00:00\", \"2018-04-23T00:00:00\", \"2018-04-24T00:00:00\", \"2018-04-25T00:00:00\", \"2018-04-26T00:00:00\", \"2018-04-27T00:00:00\", \"2018-04-30T00:00:00\", \"2018-05-01T00:00:00\", \"2018-05-02T00:00:00\", \"2018-05-03T00:00:00\", \"2018-05-04T00:00:00\", \"2018-05-07T00:00:00\", \"2018-05-08T00:00:00\", \"2018-05-09T00:00:00\", \"2018-05-10T00:00:00\", \"2018-05-11T00:00:00\", \"2018-05-14T00:00:00\", \"2018-05-15T00:00:00\", \"2018-05-16T00:00:00\", \"2018-05-17T00:00:00\", \"2018-05-18T00:00:00\", \"2018-05-21T00:00:00\", \"2018-05-22T00:00:00\", \"2018-05-23T00:00:00\", \"2018-05-24T00:00:00\", \"2018-05-25T00:00:00\", \"2018-05-29T00:00:00\", \"2018-05-30T00:00:00\", \"2018-05-31T00:00:00\", \"2018-06-01T00:00:00\", \"2018-06-04T00:00:00\", \"2018-06-05T00:00:00\", \"2018-06-06T00:00:00\", \"2018-06-07T00:00:00\", \"2018-06-08T00:00:00\", \"2018-06-11T00:00:00\", \"2018-06-12T00:00:00\", \"2018-06-13T00:00:00\", \"2018-06-14T00:00:00\", \"2018-06-15T00:00:00\", \"2018-06-18T00:00:00\", \"2018-06-19T00:00:00\", \"2018-06-20T00:00:00\", \"2018-06-21T00:00:00\", \"2018-06-22T00:00:00\", \"2018-06-25T00:00:00\", \"2018-06-26T00:00:00\", \"2018-06-27T00:00:00\", \"2018-06-28T00:00:00\", \"2018-06-29T00:00:00\", \"2018-07-02T00:00:00\", \"2018-07-03T00:00:00\", \"2018-07-05T00:00:00\", \"2018-07-06T00:00:00\", \"2018-07-09T00:00:00\", \"2018-07-10T00:00:00\", \"2018-07-11T00:00:00\", \"2018-07-12T00:00:00\", \"2018-07-13T00:00:00\", \"2018-07-16T00:00:00\", \"2018-07-17T00:00:00\", \"2018-07-18T00:00:00\", \"2018-07-19T00:00:00\", \"2018-07-20T00:00:00\", \"2018-07-23T00:00:00\", \"2018-07-24T00:00:00\", \"2018-07-25T00:00:00\", \"2018-07-26T00:00:00\", \"2018-07-27T00:00:00\", \"2018-07-30T00:00:00\", \"2018-07-31T00:00:00\", \"2018-08-01T00:00:00\", \"2018-08-02T00:00:00\", \"2018-08-03T00:00:00\", \"2018-08-06T00:00:00\", \"2018-08-07T00:00:00\", \"2018-08-08T00:00:00\", \"2018-08-09T00:00:00\", \"2018-08-10T00:00:00\", \"2018-08-13T00:00:00\", \"2018-08-14T00:00:00\", \"2018-08-15T00:00:00\", \"2018-08-16T00:00:00\", \"2018-08-17T00:00:00\", \"2018-08-20T00:00:00\", \"2018-08-21T00:00:00\", \"2018-08-22T00:00:00\", \"2018-08-23T00:00:00\", \"2018-08-24T00:00:00\", \"2018-08-27T00:00:00\", \"2018-08-28T00:00:00\", \"2018-08-29T00:00:00\", \"2018-08-30T00:00:00\", \"2018-08-31T00:00:00\", \"2018-09-04T00:00:00\", \"2018-09-05T00:00:00\", \"2018-09-06T00:00:00\", \"2018-09-07T00:00:00\", \"2018-09-10T00:00:00\", \"2018-09-11T00:00:00\", \"2018-09-12T00:00:00\", \"2018-09-13T00:00:00\", \"2018-09-14T00:00:00\", \"2018-09-17T00:00:00\", \"2018-09-18T00:00:00\", \"2018-09-19T00:00:00\", \"2018-09-20T00:00:00\", \"2018-09-21T00:00:00\", \"2018-09-24T00:00:00\", \"2018-09-25T00:00:00\", \"2018-09-26T00:00:00\", \"2018-09-27T00:00:00\", \"2018-09-28T00:00:00\", \"2018-10-01T00:00:00\", \"2018-10-02T00:00:00\", \"2018-10-03T00:00:00\", \"2018-10-04T00:00:00\", \"2018-10-05T00:00:00\", \"2018-10-08T00:00:00\", \"2018-10-09T00:00:00\", \"2018-10-10T00:00:00\", \"2018-10-11T00:00:00\", \"2018-10-12T00:00:00\", \"2018-10-15T00:00:00\", \"2018-10-16T00:00:00\", \"2018-10-17T00:00:00\", \"2018-10-18T00:00:00\", \"2018-10-19T00:00:00\", \"2018-10-22T00:00:00\", \"2018-10-23T00:00:00\", \"2018-10-24T00:00:00\", \"2018-10-25T00:00:00\", \"2018-10-26T00:00:00\", \"2018-10-29T00:00:00\", \"2018-10-30T00:00:00\", \"2018-10-31T00:00:00\", \"2018-11-01T00:00:00\", \"2018-11-02T00:00:00\", \"2018-11-05T00:00:00\", \"2018-11-06T00:00:00\", \"2018-11-07T00:00:00\", \"2018-11-08T00:00:00\", \"2018-11-09T00:00:00\", \"2018-11-12T00:00:00\", \"2018-11-13T00:00:00\", \"2018-11-14T00:00:00\", \"2018-11-15T00:00:00\", \"2018-11-16T00:00:00\", \"2018-11-19T00:00:00\", \"2018-11-20T00:00:00\", \"2018-11-21T00:00:00\", \"2018-11-23T00:00:00\", \"2018-11-26T00:00:00\", \"2018-11-27T00:00:00\", \"2018-11-28T00:00:00\", \"2018-11-29T00:00:00\", \"2018-11-30T00:00:00\", \"2018-12-03T00:00:00\", \"2018-12-04T00:00:00\", \"2018-12-06T00:00:00\", \"2018-12-07T00:00:00\", \"2018-12-10T00:00:00\", \"2018-12-11T00:00:00\", \"2018-12-12T00:00:00\", \"2018-12-13T00:00:00\", \"2018-12-14T00:00:00\", \"2018-12-17T00:00:00\", \"2018-12-18T00:00:00\", \"2018-12-19T00:00:00\", \"2018-12-20T00:00:00\", \"2018-12-21T00:00:00\", \"2018-12-24T00:00:00\", \"2018-12-26T00:00:00\", \"2018-12-27T00:00:00\", \"2018-12-28T00:00:00\", \"2018-12-31T00:00:00\", \"2019-01-02T00:00:00\", \"2019-01-03T00:00:00\", \"2019-01-04T00:00:00\", \"2019-01-07T00:00:00\", \"2019-01-08T00:00:00\", \"2019-01-09T00:00:00\", \"2019-01-10T00:00:00\", \"2019-01-11T00:00:00\", \"2019-01-14T00:00:00\", \"2019-01-15T00:00:00\", \"2019-01-16T00:00:00\", \"2019-01-17T00:00:00\", \"2019-01-18T00:00:00\", \"2019-01-22T00:00:00\", \"2019-01-23T00:00:00\", \"2019-01-24T00:00:00\", \"2019-01-25T00:00:00\", \"2019-01-28T00:00:00\", \"2019-01-29T00:00:00\", \"2019-01-30T00:00:00\", \"2019-01-31T00:00:00\", \"2019-02-01T00:00:00\", \"2019-02-04T00:00:00\", \"2019-02-05T00:00:00\", \"2019-02-06T00:00:00\", \"2019-02-07T00:00:00\", \"2019-02-08T00:00:00\", \"2019-02-11T00:00:00\", \"2019-02-12T00:00:00\", \"2019-02-13T00:00:00\", \"2019-02-14T00:00:00\", \"2019-02-15T00:00:00\", \"2019-02-20T00:00:00\", \"2019-02-21T00:00:00\", \"2019-02-22T00:00:00\", \"2019-02-25T00:00:00\", \"2019-02-26T00:00:00\", \"2019-02-27T00:00:00\", \"2019-02-28T00:00:00\", \"2019-03-01T00:00:00\", \"2019-03-04T00:00:00\", \"2019-03-05T00:00:00\", \"2019-03-06T00:00:00\", \"2019-03-07T00:00:00\", \"2019-03-08T00:00:00\", \"2019-03-11T00:00:00\", \"2019-03-12T00:00:00\", \"2019-03-13T00:00:00\", \"2019-03-14T00:00:00\", \"2019-03-15T00:00:00\", \"2019-03-18T00:00:00\", \"2019-03-19T00:00:00\", \"2019-03-20T00:00:00\", \"2019-03-21T00:00:00\", \"2019-03-22T00:00:00\", \"2019-03-25T00:00:00\", \"2019-03-26T00:00:00\", \"2019-03-27T00:00:00\", \"2019-03-29T00:00:00\", \"2019-04-01T00:00:00\", \"2019-04-03T00:00:00\", \"2019-04-04T00:00:00\", \"2019-04-05T00:00:00\", \"2019-04-08T00:00:00\", \"2019-04-09T00:00:00\", \"2019-04-10T00:00:00\", \"2019-04-11T00:00:00\", \"2019-04-12T00:00:00\", \"2019-04-15T00:00:00\", \"2019-04-16T00:00:00\", \"2019-04-17T00:00:00\", \"2019-04-18T00:00:00\", \"2019-04-22T00:00:00\", \"2019-04-23T00:00:00\", \"2019-04-24T00:00:00\", \"2019-04-25T00:00:00\", \"2019-04-26T00:00:00\", \"2019-04-29T00:00:00\", \"2019-04-30T00:00:00\", \"2019-05-01T00:00:00\", \"2019-05-03T00:00:00\", \"2019-05-06T00:00:00\", \"2019-05-07T00:00:00\", \"2019-05-08T00:00:00\", \"2019-05-09T00:00:00\", \"2019-05-10T00:00:00\", \"2019-05-13T00:00:00\", \"2019-05-14T00:00:00\", \"2019-05-15T00:00:00\", \"2019-05-16T00:00:00\", \"2019-05-17T00:00:00\", \"2019-05-20T00:00:00\", \"2019-05-21T00:00:00\", \"2019-05-22T00:00:00\", \"2019-05-23T00:00:00\", \"2019-05-24T00:00:00\", \"2019-05-28T00:00:00\", \"2019-05-29T00:00:00\", \"2019-05-30T00:00:00\", \"2019-05-31T00:00:00\", \"2019-06-03T00:00:00\", \"2019-06-04T00:00:00\"]}, {\"close\": [24640.400390625, 24893.5, 25200.400390625, 25219.400390625, 24964.80078125, 24797.80078125, 24962.5, 25310.0, 25709.30078125, 25410.0, 25029.19921875, 24609.0, 24538.099609375, 24874.80078125, 24884.099609375, 24801.400390625, 24895.19921875, 25335.69921875, 25178.599609375, 25007.0, 24758.099609375, 24873.69921875, 24946.5, 24610.900390625, 24727.30078125, 24682.30078125, 23957.900390625, 23533.19921875, 24202.599609375, 23857.69921875, 23848.400390625, 24103.099609375, 23644.19921875, 24033.400390625, 24264.30078125, 24505.19921875, 23932.80078125, 23979.099609375, 24408.0, 24189.5, 24483.0, 24360.099609375, 24573.0, 24786.599609375, 24748.099609375, 24664.900390625, 24462.900390625, 24448.69921875, 24024.099609375, 24083.80078125, 24322.30078125, 24311.19921875, 24163.099609375, 24099.0, 23925.0, 23930.099609375, 24262.5, 24357.30078125, 24360.19921875, 24542.5, 24739.5, 24831.19921875, 24899.400390625, 24706.400390625, 24768.900390625, 24714.0, 24715.099609375, 25013.30078125, 24834.400390625, 24886.80078125, 24811.80078125, 24753.099609375, 24361.400390625, 24667.80078125, 24415.80078125, 24635.19921875, 24813.69921875, 24800.0, 25146.400390625, 25241.400390625, 25316.5, 25322.30078125, 25320.69921875, 25201.19921875, 25175.30078125, 25090.5, 24987.5, 24700.19921875, 24657.80078125, 24461.69921875, 24580.900390625, 24252.80078125, 24283.099609375, 24117.599609375, 24216.0, 24271.400390625, 24307.19921875, 24174.80078125, 24356.69921875, 24456.5, 24776.599609375, 24919.69921875, 24700.400390625, 24924.900390625, 25019.400390625, 25064.400390625, 25119.900390625, 25199.30078125, 25064.5, 25058.099609375, 25044.30078125, 25241.900390625, 25414.099609375, 25527.099609375, 25451.099609375, 25306.80078125, 25415.19921875, 25333.80078125, 25326.19921875, 25462.599609375, 25502.19921875, 25628.900390625, 25583.80078125, 25509.19921875, 25313.099609375, 25187.69921875, 25299.900390625, 25162.400390625, 25558.69921875, 25669.30078125, 25758.69921875, 25822.30078125, 25733.599609375, 25657.0, 25790.400390625, 26049.599609375, 26064.0, 26124.599609375, 25986.900390625, 25964.80078125, 25952.5, 25975.0, 25995.900390625, 25916.5, 25857.099609375, 25971.099609375, 25998.900390625, 26146.0, 26154.69921875, 26062.099609375, 26247.0, 26405.80078125, 26657.0, 26743.5, 26562.0, 26492.19921875, 26385.30078125, 26439.900390625, 26458.30078125, 26651.19921875, 26773.900390625, 26828.400390625, 26627.5, 26447.099609375, 26486.80078125, 26430.599609375, 25598.69921875, 25052.80078125, 25340.0, 25250.599609375, 25798.400390625, 25706.69921875, 25379.5, 25444.30078125, 25317.400390625, 25191.400390625, 24583.400390625, 24984.599609375, 24688.30078125, 24442.900390625, 24874.599609375, 25115.80078125, 25380.69921875, 25270.80078125, 25461.69921875, 25635.0, 26180.30078125, 26191.19921875, 25989.30078125, 25387.19921875, 25288.400390625, 25080.5, 25289.30078125, 25420.30078125, 25017.400390625, 24465.599609375, 24464.69921875, 24286.0, 24638.5, 24748.69921875, 25366.400390625, 25338.80078125, 25538.5, 25826.400390625, 25039.400390625, 24947.69921875, 24393.69921875, 24423.30078125, 24370.19921875, 24533.69921875, 24597.400390625, 24105.0, 23593.0, 23675.599609375, 23323.69921875, 22859.599609375, 22445.400390625, 21792.19921875, 22873.19921875, 23138.80078125, 23062.400390625, 23327.5, 23340.69921875, 22686.19921875, 23428.19921875, 23531.30078125, 23786.19921875, 23879.099609375, 24001.900390625, 23995.900390625, 23909.80078125, 24065.599609375, 24207.19921875, 24370.099609375, 24706.30078125, 24404.5, 24575.599609375, 24553.19921875, 24732.400390625, 24528.19921875, 24578.400390625, 25014.900390625, 24999.69921875, 25065.19921875, 25239.400390625, 25411.5, 25388.80078125, 25169.5, 25103.900390625, 25053.099609375, 25425.80078125, 25543.30078125, 25439.400390625, 25883.19921875, 25954.400390625, 25849.69921875, 26031.80078125, 26092.0, 26058.0, 25985.19921875, 25916.0, 26026.30078125, 25819.599609375, 25806.599609375, 25673.5, 25468.099609375, 25450.099609375, 25650.900390625, 25554.69921875, 25702.900390625, 25709.900390625, 25848.900390625, 25914.099609375, 25887.400390625, 25745.69921875, 25962.5, 25502.30078125, 25516.80078125, 25657.69921875, 25625.599609375, 25928.69921875, 26258.400390625, 26218.099609375, 26384.599609375, 26425.0, 26341.0, 26150.599609375, 26157.19921875, 26143.099609375, 26412.30078125, 26384.80078125, 26452.69921875, 26449.5, 26559.5, 26511.099609375, 26656.400390625, 26597.0, 26462.099609375, 26543.30078125, 26554.400390625, 26592.900390625, 26430.099609375, 26504.900390625, 26438.5, 25965.099609375, 25967.30078125, 25828.400390625, 25942.400390625, 25325.0, 25532.0, 25648.0, 25862.69921875, 25764.0, 25679.900390625, 25877.30078125, 25776.599609375, 25490.5, 25585.69921875, 25347.80078125, 25126.400390625, 25169.900390625, 24815.0, 24819.80078125, 25332.19921875], \"decreasing\": {\"line\": {\"color\": \"gray\"}}, \"high\": [24640.400390625, 24893.5, 25200.400390625, 25219.400390625, 24964.80078125, 24797.80078125, 24962.5, 25310.0, 25709.30078125, 25410.0, 25029.19921875, 24609.0, 24538.099609375, 24874.80078125, 24884.099609375, 24801.400390625, 24895.19921875, 25335.69921875, 25178.599609375, 25007.0, 24758.099609375, 24873.69921875, 24946.5, 24610.900390625, 24727.30078125, 24682.30078125, 23957.900390625, 23533.19921875, 24202.599609375, 23857.69921875, 23848.400390625, 24103.099609375, 23644.19921875, 24033.400390625, 24264.30078125, 24505.19921875, 23932.80078125, 23979.099609375, 24408.0, 24189.5, 24483.0, 24360.099609375, 24573.0, 24786.599609375, 24748.099609375, 24664.900390625, 24462.900390625, 24448.69921875, 24024.099609375, 24083.80078125, 24322.30078125, 24311.19921875, 24163.099609375, 24099.0, 23925.0, 23930.099609375, 24262.5, 24357.30078125, 24360.19921875, 24542.5, 24739.5, 24831.19921875, 24899.400390625, 24706.400390625, 24768.900390625, 24714.0, 24715.099609375, 25013.30078125, 24834.400390625, 24886.80078125, 24811.80078125, 24753.099609375, 24361.400390625, 24667.80078125, 24415.80078125, 24635.19921875, 24813.69921875, 24800.0, 25146.400390625, 25241.400390625, 25316.5, 25322.30078125, 25320.69921875, 25201.19921875, 25175.30078125, 25090.5, 24987.5, 24700.19921875, 24657.80078125, 24461.69921875, 24580.900390625, 24252.80078125, 24283.099609375, 24117.599609375, 24216.0, 24271.400390625, 24307.19921875, 24174.80078125, 24356.69921875, 24456.5, 24776.599609375, 24919.69921875, 24700.400390625, 24924.900390625, 25019.400390625, 25064.400390625, 25119.900390625, 25199.30078125, 25064.5, 25058.099609375, 25044.30078125, 25241.900390625, 25414.099609375, 25527.099609375, 25451.099609375, 25306.80078125, 25415.19921875, 25333.80078125, 25326.19921875, 25462.599609375, 25502.19921875, 25628.900390625, 25583.80078125, 25509.19921875, 25313.099609375, 25187.69921875, 25299.900390625, 25162.400390625, 25558.69921875, 25669.30078125, 25758.69921875, 25822.30078125, 25733.599609375, 25657.0, 25790.400390625, 26049.599609375, 26064.0, 26124.599609375, 25986.900390625, 25964.80078125, 25952.5, 25975.0, 25995.900390625, 25916.5, 25991.900390625, 25971.099609375, 25998.900390625, 26146.0, 26169.599609375, 26151.69921875, 26247.0, 26405.80078125, 26657.0, 26743.5, 26705.19921875, 26601.599609375, 26536.900390625, 26439.900390625, 26458.30078125, 26651.19921875, 26773.900390625, 26833.5, 26784.099609375, 26632.80078125, 26486.80078125, 26469.19921875, 26441.69921875, 25518.400390625, 25407.599609375, 25332.5, 25798.400390625, 25706.69921875, 25645.599609375, 25444.30078125, 25492.099609375, 25191.400390625, 25172.900390625, 24984.599609375, 24770.19921875, 24819.0, 24874.599609375, 25115.80078125, 25380.69921875, 25443.599609375, 25461.69921875, 25635.0, 26180.30078125, 26191.19921875, 26149.099609375, 25959.30078125, 25321.19921875, 25388.099609375, 25289.30078125, 25420.30078125, 25392.599609375, 24618.69921875, 24541.69921875, 24336.400390625, 24638.5, 24748.69921875, 25366.400390625, 25343.69921875, 25538.5, 25826.400390625, 25752.599609375, 24947.69921875, 24918.80078125, 24423.30078125, 24719.900390625, 24533.69921875, 24597.400390625, 24408.0, 23986.80078125, 23769.099609375, 23693.30078125, 23224.099609375, 22871.69921875, 22317.30078125, 22873.19921875, 23138.80078125, 23213.599609375, 23327.5, 23340.69921875, 23176.400390625, 23428.19921875, 23531.30078125, 23786.19921875, 23879.099609375, 24001.900390625, 23995.900390625, 23909.80078125, 24065.599609375, 24207.19921875, 24370.099609375, 24706.30078125, 24607.80078125, 24577.19921875, 24580.0, 24732.400390625, 24597.0, 24578.400390625, 25014.900390625, 24999.69921875, 25065.19921875, 25239.400390625, 25411.5, 25388.80078125, 25265.80078125, 25103.900390625, 25142.80078125, 25425.80078125, 25543.30078125, 25460.69921875, 25883.19921875, 25954.400390625, 25922.400390625, 26031.80078125, 26126.19921875, 26058.0, 25995.599609375, 25984.30078125, 26026.30078125, 26122.19921875, 25829.099609375, 25818.80078125, 25645.400390625, 25450.099609375, 25650.900390625, 25600.30078125, 25702.900390625, 25709.900390625, 25848.900390625, 25914.099609375, 25887.400390625, 25745.69921875, 25962.5, 25502.30078125, 25516.80078125, 25657.69921875, 25625.599609375, 25928.69921875, 26258.400390625, 26218.099609375, 26384.599609375, 26425.0, 26341.0, 26150.599609375, 26157.19921875, 26143.099609375, 26412.30078125, 26384.80078125, 26452.69921875, 26449.5, 26559.5, 26511.099609375, 26656.400390625, 26597.0, 26462.099609375, 26543.30078125, 26554.400390625, 26592.900390625, 26430.099609375, 26504.900390625, 26438.5, 25965.099609375, 25967.30078125, 25828.400390625, 25942.400390625, 25325.0, 25532.0, 25648.0, 25862.69921875, 25764.0, 25679.900390625, 25877.30078125, 25776.599609375, 25490.5, 25585.69921875, 25347.80078125, 25126.400390625, 25169.900390625, 24815.0, 24819.80078125, 25332.19921875], \"increasing\": {\"line\": {\"color\": \"cyan\"}}, \"low\": [24640.400390625, 24893.5, 25200.400390625, 25219.400390625, 24964.80078125, 24797.80078125, 24962.5, 25310.0, 25709.30078125, 25410.0, 25029.19921875, 24609.0, 24538.099609375, 24874.80078125, 24884.099609375, 24801.400390625, 24895.19921875, 25335.69921875, 25178.599609375, 25007.0, 24758.099609375, 24873.69921875, 24946.5, 24610.900390625, 24727.30078125, 24682.30078125, 23957.900390625, 23533.19921875, 24202.599609375, 23857.69921875, 23848.400390625, 24103.099609375, 23644.19921875, 24033.400390625, 24264.30078125, 24505.19921875, 23932.80078125, 23979.099609375, 24408.0, 24189.5, 24483.0, 24360.099609375, 24573.0, 24786.599609375, 24748.099609375, 24664.900390625, 24462.900390625, 24448.69921875, 24024.099609375, 24083.80078125, 24322.30078125, 24311.19921875, 24163.099609375, 24099.0, 23925.0, 23930.099609375, 24262.5, 24357.30078125, 24360.19921875, 24542.5, 24739.5, 24831.19921875, 24899.400390625, 24706.400390625, 24768.900390625, 24714.0, 24715.099609375, 25013.30078125, 24834.400390625, 24886.80078125, 24811.80078125, 24753.099609375, 24361.400390625, 24667.80078125, 24415.80078125, 24635.19921875, 24813.69921875, 24800.0, 25146.400390625, 25241.400390625, 25316.5, 25322.30078125, 25320.69921875, 25201.19921875, 25175.30078125, 25090.5, 24987.5, 24700.19921875, 24657.80078125, 24461.69921875, 24580.900390625, 24252.80078125, 24283.099609375, 24117.599609375, 24216.0, 24271.400390625, 24307.19921875, 24174.80078125, 24356.69921875, 24456.5, 24776.599609375, 24919.69921875, 24700.400390625, 24924.900390625, 25019.400390625, 25064.400390625, 25119.900390625, 25199.30078125, 25064.5, 25058.099609375, 25044.30078125, 25241.900390625, 25414.099609375, 25527.099609375, 25451.099609375, 25306.80078125, 25415.19921875, 25333.80078125, 25326.19921875, 25462.599609375, 25502.19921875, 25628.900390625, 25583.80078125, 25509.19921875, 25313.099609375, 25187.69921875, 25299.900390625, 25162.400390625, 25558.69921875, 25669.30078125, 25758.69921875, 25822.30078125, 25733.599609375, 25657.0, 25790.400390625, 26049.599609375, 26064.0, 26124.599609375, 25986.900390625, 25964.80078125, 25952.5, 25975.0, 25995.900390625, 25916.5, 25857.099609375, 25841.099609375, 25989.099609375, 26083.900390625, 26154.69921875, 26062.099609375, 26076.19921875, 26287.80078125, 26519.400390625, 26726.19921875, 26562.0, 26492.19921875, 26385.30078125, 26418.30078125, 26407.69921875, 26598.400390625, 26648.900390625, 26828.400390625, 26627.5, 26447.099609375, 26399.400390625, 26430.599609375, 25598.69921875, 25052.80078125, 25340.0, 25250.599609375, 25351.5, 25705.900390625, 25379.5, 25421.099609375, 25317.400390625, 25038.5, 24583.400390625, 24736.5, 24688.30078125, 24442.900390625, 24482.0, 25008.80078125, 25142.099609375, 25270.80078125, 25261.5, 25452.80078125, 25788.5, 26139.599609375, 25989.30078125, 25387.19921875, 25288.400390625, 25080.5, 25061.5, 25242.30078125, 25017.400390625, 24465.599609375, 24464.69921875, 24286.0, 24364.099609375, 24557.0, 24832.80078125, 25338.80078125, 25307.099609375, 25779.599609375, 25039.400390625, 24737.400390625, 24393.69921875, 24360.900390625, 24370.19921875, 24509.099609375, 24575.900390625, 24105.0, 23593.0, 23675.599609375, 23323.69921875, 22859.599609375, 22445.400390625, 21792.19921875, 21857.69921875, 22629.099609375, 23062.400390625, 23153.900390625, 23058.599609375, 22686.19921875, 22894.900390625, 23474.30078125, 23680.30078125, 23844.30078125, 23811.099609375, 23940.0, 23880.5, 23914.099609375, 24139.900390625, 24147.099609375, 24534.19921875, 24404.5, 24575.599609375, 24553.19921875, 24687.19921875, 24528.19921875, 24519.599609375, 24826.5, 24954.5, 25025.30078125, 25062.099609375, 25287.900390625, 25371.599609375, 25169.5, 25042.400390625, 25053.099609375, 25152.0, 25480.900390625, 25439.400390625, 25564.599609375, 25872.30078125, 25849.69921875, 25906.30078125, 26092.0, 26051.599609375, 25985.19921875, 25916.0, 26019.69921875, 25819.599609375, 25806.599609375, 25673.5, 25468.099609375, 25347.400390625, 25208.0, 25554.69921875, 25637.19921875, 25692.30078125, 25721.0, 25914.099609375, 25887.400390625, 25745.69921875, 25962.5, 25502.30078125, 25516.80078125, 25657.69921875, 25625.599609375, 25928.69921875, 26258.400390625, 26218.099609375, 26384.599609375, 26425.0, 26341.0, 26150.599609375, 26157.19921875, 26143.099609375, 26412.30078125, 26384.80078125, 26452.69921875, 26449.5, 26559.5, 26511.099609375, 26656.400390625, 26597.0, 26462.099609375, 26543.30078125, 26554.400390625, 26592.900390625, 26430.099609375, 26504.900390625, 26438.5, 25965.099609375, 25967.30078125, 25828.400390625, 25942.400390625, 25325.0, 25532.0, 25648.0, 25862.69921875, 25764.0, 25679.900390625, 25877.30078125, 25776.599609375, 25490.5, 25585.69921875, 25347.80078125, 25126.400390625, 25169.900390625, 24815.0, 24819.80078125, 25332.19921875], \"name\": \"true\", \"open\": [24640.400390625, 24893.5, 25200.400390625, 25219.400390625, 24964.80078125, 24797.80078125, 24962.5, 25310.0, 25709.30078125, 25410.0, 25029.19921875, 24609.0, 24538.099609375, 24874.80078125, 24884.099609375, 24801.400390625, 24895.19921875, 25335.69921875, 25178.599609375, 25007.0, 24758.099609375, 24873.69921875, 24946.5, 24610.900390625, 24727.30078125, 24682.30078125, 23957.900390625, 23533.19921875, 24202.599609375, 23857.69921875, 23848.400390625, 24103.099609375, 23644.19921875, 24033.400390625, 24264.30078125, 24505.19921875, 23932.80078125, 23979.099609375, 24408.0, 24189.5, 24483.0, 24360.099609375, 24573.0, 24786.599609375, 24748.099609375, 24664.900390625, 24462.900390625, 24448.69921875, 24024.099609375, 24083.80078125, 24322.30078125, 24311.19921875, 24163.099609375, 24099.0, 23925.0, 23930.099609375, 24262.5, 24357.30078125, 24360.19921875, 24542.5, 24739.5, 24831.19921875, 24899.400390625, 24706.400390625, 24768.900390625, 24714.0, 24715.099609375, 25013.30078125, 24834.400390625, 24886.80078125, 24811.80078125, 24753.099609375, 24361.400390625, 24667.80078125, 24415.80078125, 24635.19921875, 24813.69921875, 24800.0, 25146.400390625, 25241.400390625, 25316.5, 25322.30078125, 25320.69921875, 25201.19921875, 25175.30078125, 25090.5, 24987.5, 24700.19921875, 24657.80078125, 24461.69921875, 24580.900390625, 24252.80078125, 24283.099609375, 24117.599609375, 24216.0, 24271.400390625, 24307.19921875, 24174.80078125, 24356.69921875, 24456.5, 24776.599609375, 24919.69921875, 24700.400390625, 24924.900390625, 25019.400390625, 25064.400390625, 25119.900390625, 25199.30078125, 25064.5, 25058.099609375, 25044.30078125, 25241.900390625, 25414.099609375, 25527.099609375, 25451.099609375, 25306.80078125, 25415.19921875, 25333.80078125, 25326.19921875, 25462.599609375, 25502.19921875, 25628.900390625, 25583.80078125, 25509.19921875, 25313.099609375, 25187.69921875, 25299.900390625, 25162.400390625, 25558.69921875, 25669.30078125, 25758.69921875, 25822.30078125, 25733.599609375, 25657.0, 25790.400390625, 26049.599609375, 26064.0, 26124.599609375, 25986.900390625, 25964.80078125, 25952.5, 25975.0, 25995.900390625, 25916.5, 25991.900390625, 25841.099609375, 25989.099609375, 26083.900390625, 26169.599609375, 26151.69921875, 26076.19921875, 26287.80078125, 26519.400390625, 26726.19921875, 26705.19921875, 26601.599609375, 26536.900390625, 26418.30078125, 26407.69921875, 26598.400390625, 26648.900390625, 26833.5, 26784.099609375, 26632.80078125, 26399.400390625, 26469.19921875, 26441.69921875, 25518.400390625, 25407.599609375, 25332.5, 25351.5, 25705.900390625, 25645.599609375, 25421.099609375, 25492.099609375, 25038.5, 25172.900390625, 24736.5, 24770.19921875, 24819.0, 24482.0, 25008.80078125, 25142.099609375, 25443.599609375, 25261.5, 25452.80078125, 25788.5, 26139.599609375, 26149.099609375, 25959.30078125, 25321.19921875, 25388.099609375, 25061.5, 25242.30078125, 25392.599609375, 24618.69921875, 24541.69921875, 24336.400390625, 24364.099609375, 24557.0, 24832.80078125, 25343.69921875, 25307.099609375, 25779.599609375, 25752.599609375, 24737.400390625, 24918.80078125, 24360.900390625, 24719.900390625, 24509.099609375, 24575.900390625, 24408.0, 23986.80078125, 23769.099609375, 23693.30078125, 23224.099609375, 22871.69921875, 22317.30078125, 21857.69921875, 22629.099609375, 23213.599609375, 23153.900390625, 23058.599609375, 23176.400390625, 22894.900390625, 23474.30078125, 23680.30078125, 23844.30078125, 23811.099609375, 23940.0, 23880.5, 23914.099609375, 24139.900390625, 24147.099609375, 24534.19921875, 24607.80078125, 24577.19921875, 24580.0, 24687.19921875, 24597.0, 24519.599609375, 24826.5, 24954.5, 25025.30078125, 25062.099609375, 25287.900390625, 25371.599609375, 25265.80078125, 25042.400390625, 25142.80078125, 25152.0, 25480.900390625, 25460.69921875, 25564.599609375, 25872.30078125, 25922.400390625, 25906.30078125, 26126.19921875, 26051.599609375, 25995.599609375, 25984.30078125, 26019.69921875, 26122.19921875, 25829.099609375, 25818.80078125, 25645.400390625, 25347.400390625, 25208.0, 25600.30078125, 25637.19921875, 25692.30078125, 25721.0, 25914.099609375, 25887.400390625, 25745.69921875, 25962.5, 25502.30078125, 25516.80078125, 25657.69921875, 25625.599609375, 25928.69921875, 26258.400390625, 26218.099609375, 26384.599609375, 26425.0, 26341.0, 26150.599609375, 26157.19921875, 26143.099609375, 26412.30078125, 26384.80078125, 26452.69921875, 26449.5, 26559.5, 26511.099609375, 26656.400390625, 26597.0, 26462.099609375, 26543.30078125, 26554.400390625, 26592.900390625, 26430.099609375, 26504.900390625, 26438.5, 25965.099609375, 25967.30078125, 25828.400390625, 25942.400390625, 25325.0, 25532.0, 25648.0, 25862.69921875, 25764.0, 25679.900390625, 25877.30078125, 25776.599609375, 25490.5, 25585.69921875, 25347.80078125, 25126.400390625, 25169.900390625, 24815.0, 24819.80078125, 25332.19921875], \"showlegend\": false, \"type\": \"ohlc\", \"x\": [\"2018-02-13T00:00:00\", \"2018-02-14T00:00:00\", \"2018-02-15T00:00:00\", \"2018-02-16T00:00:00\", \"2018-02-20T00:00:00\", \"2018-02-21T00:00:00\", \"2018-02-22T00:00:00\", \"2018-02-23T00:00:00\", \"2018-02-26T00:00:00\", \"2018-02-27T00:00:00\", \"2018-02-28T00:00:00\", \"2018-03-01T00:00:00\", \"2018-03-02T00:00:00\", \"2018-03-05T00:00:00\", \"2018-03-06T00:00:00\", \"2018-03-07T00:00:00\", \"2018-03-08T00:00:00\", \"2018-03-09T00:00:00\", \"2018-03-12T00:00:00\", \"2018-03-13T00:00:00\", \"2018-03-14T00:00:00\", \"2018-03-15T00:00:00\", \"2018-03-16T00:00:00\", \"2018-03-19T00:00:00\", \"2018-03-20T00:00:00\", \"2018-03-21T00:00:00\", \"2018-03-22T00:00:00\", \"2018-03-23T00:00:00\", \"2018-03-26T00:00:00\", \"2018-03-27T00:00:00\", \"2018-03-28T00:00:00\", \"2018-03-29T00:00:00\", \"2018-04-02T00:00:00\", \"2018-04-03T00:00:00\", \"2018-04-04T00:00:00\", \"2018-04-05T00:00:00\", \"2018-04-06T00:00:00\", \"2018-04-09T00:00:00\", \"2018-04-10T00:00:00\", \"2018-04-11T00:00:00\", \"2018-04-12T00:00:00\", \"2018-04-13T00:00:00\", \"2018-04-16T00:00:00\", \"2018-04-17T00:00:00\", \"2018-04-18T00:00:00\", \"2018-04-19T00:00:00\", \"2018-04-20T00:00:00\", \"2018-04-23T00:00:00\", \"2018-04-24T00:00:00\", \"2018-04-25T00:00:00\", \"2018-04-26T00:00:00\", \"2018-04-27T00:00:00\", \"2018-04-30T00:00:00\", \"2018-05-01T00:00:00\", \"2018-05-02T00:00:00\", \"2018-05-03T00:00:00\", \"2018-05-04T00:00:00\", \"2018-05-07T00:00:00\", \"2018-05-08T00:00:00\", \"2018-05-09T00:00:00\", \"2018-05-10T00:00:00\", \"2018-05-11T00:00:00\", \"2018-05-14T00:00:00\", \"2018-05-15T00:00:00\", \"2018-05-16T00:00:00\", \"2018-05-17T00:00:00\", \"2018-05-18T00:00:00\", \"2018-05-21T00:00:00\", \"2018-05-22T00:00:00\", \"2018-05-23T00:00:00\", \"2018-05-24T00:00:00\", \"2018-05-25T00:00:00\", \"2018-05-29T00:00:00\", \"2018-05-30T00:00:00\", \"2018-05-31T00:00:00\", \"2018-06-01T00:00:00\", \"2018-06-04T00:00:00\", \"2018-06-05T00:00:00\", \"2018-06-06T00:00:00\", \"2018-06-07T00:00:00\", \"2018-06-08T00:00:00\", \"2018-06-11T00:00:00\", \"2018-06-12T00:00:00\", \"2018-06-13T00:00:00\", \"2018-06-14T00:00:00\", \"2018-06-15T00:00:00\", \"2018-06-18T00:00:00\", \"2018-06-19T00:00:00\", \"2018-06-20T00:00:00\", \"2018-06-21T00:00:00\", \"2018-06-22T00:00:00\", \"2018-06-25T00:00:00\", \"2018-06-26T00:00:00\", \"2018-06-27T00:00:00\", \"2018-06-28T00:00:00\", \"2018-06-29T00:00:00\", \"2018-07-02T00:00:00\", \"2018-07-03T00:00:00\", \"2018-07-05T00:00:00\", \"2018-07-06T00:00:00\", \"2018-07-09T00:00:00\", \"2018-07-10T00:00:00\", \"2018-07-11T00:00:00\", \"2018-07-12T00:00:00\", \"2018-07-13T00:00:00\", \"2018-07-16T00:00:00\", \"2018-07-17T00:00:00\", \"2018-07-18T00:00:00\", \"2018-07-19T00:00:00\", \"2018-07-20T00:00:00\", \"2018-07-23T00:00:00\", \"2018-07-24T00:00:00\", \"2018-07-25T00:00:00\", \"2018-07-26T00:00:00\", \"2018-07-27T00:00:00\", \"2018-07-30T00:00:00\", \"2018-07-31T00:00:00\", \"2018-08-01T00:00:00\", \"2018-08-02T00:00:00\", \"2018-08-03T00:00:00\", \"2018-08-06T00:00:00\", \"2018-08-07T00:00:00\", \"2018-08-08T00:00:00\", \"2018-08-09T00:00:00\", \"2018-08-10T00:00:00\", \"2018-08-13T00:00:00\", \"2018-08-14T00:00:00\", \"2018-08-15T00:00:00\", \"2018-08-16T00:00:00\", \"2018-08-17T00:00:00\", \"2018-08-20T00:00:00\", \"2018-08-21T00:00:00\", \"2018-08-22T00:00:00\", \"2018-08-23T00:00:00\", \"2018-08-24T00:00:00\", \"2018-08-27T00:00:00\", \"2018-08-28T00:00:00\", \"2018-08-29T00:00:00\", \"2018-08-30T00:00:00\", \"2018-08-31T00:00:00\", \"2018-09-04T00:00:00\", \"2018-09-05T00:00:00\", \"2018-09-06T00:00:00\", \"2018-09-07T00:00:00\", \"2018-09-10T00:00:00\", \"2018-09-11T00:00:00\", \"2018-09-12T00:00:00\", \"2018-09-13T00:00:00\", \"2018-09-14T00:00:00\", \"2018-09-17T00:00:00\", \"2018-09-18T00:00:00\", \"2018-09-19T00:00:00\", \"2018-09-20T00:00:00\", \"2018-09-21T00:00:00\", \"2018-09-24T00:00:00\", \"2018-09-25T00:00:00\", \"2018-09-26T00:00:00\", \"2018-09-27T00:00:00\", \"2018-09-28T00:00:00\", \"2018-10-01T00:00:00\", \"2018-10-02T00:00:00\", \"2018-10-03T00:00:00\", \"2018-10-04T00:00:00\", \"2018-10-05T00:00:00\", \"2018-10-08T00:00:00\", \"2018-10-09T00:00:00\", \"2018-10-10T00:00:00\", \"2018-10-11T00:00:00\", \"2018-10-12T00:00:00\", \"2018-10-15T00:00:00\", \"2018-10-16T00:00:00\", \"2018-10-17T00:00:00\", \"2018-10-18T00:00:00\", \"2018-10-19T00:00:00\", \"2018-10-22T00:00:00\", \"2018-10-23T00:00:00\", \"2018-10-24T00:00:00\", \"2018-10-25T00:00:00\", \"2018-10-26T00:00:00\", \"2018-10-29T00:00:00\", \"2018-10-30T00:00:00\", \"2018-10-31T00:00:00\", \"2018-11-01T00:00:00\", \"2018-11-02T00:00:00\", \"2018-11-05T00:00:00\", \"2018-11-06T00:00:00\", \"2018-11-07T00:00:00\", \"2018-11-08T00:00:00\", \"2018-11-09T00:00:00\", \"2018-11-12T00:00:00\", \"2018-11-13T00:00:00\", \"2018-11-14T00:00:00\", \"2018-11-15T00:00:00\", \"2018-11-16T00:00:00\", \"2018-11-19T00:00:00\", \"2018-11-20T00:00:00\", \"2018-11-21T00:00:00\", \"2018-11-23T00:00:00\", \"2018-11-26T00:00:00\", \"2018-11-27T00:00:00\", \"2018-11-28T00:00:00\", \"2018-11-29T00:00:00\", \"2018-11-30T00:00:00\", \"2018-12-03T00:00:00\", \"2018-12-04T00:00:00\", \"2018-12-06T00:00:00\", \"2018-12-07T00:00:00\", \"2018-12-10T00:00:00\", \"2018-12-11T00:00:00\", \"2018-12-12T00:00:00\", \"2018-12-13T00:00:00\", \"2018-12-14T00:00:00\", \"2018-12-17T00:00:00\", \"2018-12-18T00:00:00\", \"2018-12-19T00:00:00\", \"2018-12-20T00:00:00\", \"2018-12-21T00:00:00\", \"2018-12-24T00:00:00\", \"2018-12-26T00:00:00\", \"2018-12-27T00:00:00\", \"2018-12-28T00:00:00\", \"2018-12-31T00:00:00\", \"2019-01-02T00:00:00\", \"2019-01-03T00:00:00\", \"2019-01-04T00:00:00\", \"2019-01-07T00:00:00\", \"2019-01-08T00:00:00\", \"2019-01-09T00:00:00\", \"2019-01-10T00:00:00\", \"2019-01-11T00:00:00\", \"2019-01-14T00:00:00\", \"2019-01-15T00:00:00\", \"2019-01-16T00:00:00\", \"2019-01-17T00:00:00\", \"2019-01-18T00:00:00\", \"2019-01-22T00:00:00\", \"2019-01-23T00:00:00\", \"2019-01-24T00:00:00\", \"2019-01-25T00:00:00\", \"2019-01-28T00:00:00\", \"2019-01-29T00:00:00\", \"2019-01-30T00:00:00\", \"2019-01-31T00:00:00\", \"2019-02-01T00:00:00\", \"2019-02-04T00:00:00\", \"2019-02-05T00:00:00\", \"2019-02-06T00:00:00\", \"2019-02-07T00:00:00\", \"2019-02-08T00:00:00\", \"2019-02-11T00:00:00\", \"2019-02-12T00:00:00\", \"2019-02-13T00:00:00\", \"2019-02-14T00:00:00\", \"2019-02-15T00:00:00\", \"2019-02-20T00:00:00\", \"2019-02-21T00:00:00\", \"2019-02-22T00:00:00\", \"2019-02-25T00:00:00\", \"2019-02-26T00:00:00\", \"2019-02-27T00:00:00\", \"2019-02-28T00:00:00\", \"2019-03-01T00:00:00\", \"2019-03-04T00:00:00\", \"2019-03-05T00:00:00\", \"2019-03-06T00:00:00\", \"2019-03-07T00:00:00\", \"2019-03-08T00:00:00\", \"2019-03-11T00:00:00\", \"2019-03-12T00:00:00\", \"2019-03-13T00:00:00\", \"2019-03-14T00:00:00\", \"2019-03-15T00:00:00\", \"2019-03-18T00:00:00\", \"2019-03-19T00:00:00\", \"2019-03-20T00:00:00\", \"2019-03-21T00:00:00\", \"2019-03-22T00:00:00\", \"2019-03-25T00:00:00\", \"2019-03-26T00:00:00\", \"2019-03-27T00:00:00\", \"2019-03-29T00:00:00\", \"2019-04-01T00:00:00\", \"2019-04-03T00:00:00\", \"2019-04-04T00:00:00\", \"2019-04-05T00:00:00\", \"2019-04-08T00:00:00\", \"2019-04-09T00:00:00\", \"2019-04-10T00:00:00\", \"2019-04-11T00:00:00\", \"2019-04-12T00:00:00\", \"2019-04-15T00:00:00\", \"2019-04-16T00:00:00\", \"2019-04-17T00:00:00\", \"2019-04-18T00:00:00\", \"2019-04-22T00:00:00\", \"2019-04-23T00:00:00\", \"2019-04-24T00:00:00\", \"2019-04-25T00:00:00\", \"2019-04-26T00:00:00\", \"2019-04-29T00:00:00\", \"2019-04-30T00:00:00\", \"2019-05-01T00:00:00\", \"2019-05-03T00:00:00\", \"2019-05-06T00:00:00\", \"2019-05-07T00:00:00\", \"2019-05-08T00:00:00\", \"2019-05-09T00:00:00\", \"2019-05-10T00:00:00\", \"2019-05-13T00:00:00\", \"2019-05-14T00:00:00\", \"2019-05-15T00:00:00\", \"2019-05-16T00:00:00\", \"2019-05-17T00:00:00\", \"2019-05-20T00:00:00\", \"2019-05-21T00:00:00\", \"2019-05-22T00:00:00\", \"2019-05-23T00:00:00\", \"2019-05-24T00:00:00\", \"2019-05-28T00:00:00\", \"2019-05-29T00:00:00\", \"2019-05-30T00:00:00\", \"2019-05-31T00:00:00\", \"2019-06-03T00:00:00\", \"2019-06-04T00:00:00\"]}],\n",
              "                        {\"autosize\": false, \"height\": 800, \"template\": {\"data\": {\"bar\": [{\"error_x\": {\"color\": \"#2a3f5f\"}, \"error_y\": {\"color\": \"#2a3f5f\"}, \"marker\": {\"line\": {\"color\": \"#E5ECF6\", \"width\": 0.5}}, \"type\": \"bar\"}], \"barpolar\": [{\"marker\": {\"line\": {\"color\": \"#E5ECF6\", \"width\": 0.5}}, \"type\": \"barpolar\"}], \"carpet\": [{\"aaxis\": {\"endlinecolor\": \"#2a3f5f\", \"gridcolor\": \"white\", \"linecolor\": \"white\", \"minorgridcolor\": \"white\", \"startlinecolor\": \"#2a3f5f\"}, \"baxis\": {\"endlinecolor\": \"#2a3f5f\", \"gridcolor\": \"white\", \"linecolor\": \"white\", \"minorgridcolor\": \"white\", \"startlinecolor\": \"#2a3f5f\"}, \"type\": \"carpet\"}], \"choropleth\": [{\"colorbar\": {\"outlinewidth\": 0, \"ticks\": \"\"}, \"type\": \"choropleth\"}], \"contour\": [{\"colorbar\": {\"outlinewidth\": 0, \"ticks\": \"\"}, \"colorscale\": [[0.0, \"#0d0887\"], [0.1111111111111111, \"#46039f\"], [0.2222222222222222, \"#7201a8\"], [0.3333333333333333, \"#9c179e\"], [0.4444444444444444, \"#bd3786\"], [0.5555555555555556, \"#d8576b\"], [0.6666666666666666, \"#ed7953\"], [0.7777777777777778, \"#fb9f3a\"], [0.8888888888888888, \"#fdca26\"], [1.0, \"#f0f921\"]], \"type\": \"contour\"}], \"contourcarpet\": [{\"colorbar\": {\"outlinewidth\": 0, \"ticks\": \"\"}, \"type\": \"contourcarpet\"}], \"heatmap\": [{\"colorbar\": {\"outlinewidth\": 0, \"ticks\": \"\"}, \"colorscale\": [[0.0, \"#0d0887\"], [0.1111111111111111, \"#46039f\"], [0.2222222222222222, \"#7201a8\"], [0.3333333333333333, \"#9c179e\"], [0.4444444444444444, \"#bd3786\"], [0.5555555555555556, \"#d8576b\"], [0.6666666666666666, \"#ed7953\"], [0.7777777777777778, \"#fb9f3a\"], [0.8888888888888888, \"#fdca26\"], [1.0, \"#f0f921\"]], \"type\": \"heatmap\"}], \"heatmapgl\": [{\"colorbar\": {\"outlinewidth\": 0, \"ticks\": \"\"}, \"colorscale\": [[0.0, \"#0d0887\"], [0.1111111111111111, \"#46039f\"], [0.2222222222222222, \"#7201a8\"], [0.3333333333333333, \"#9c179e\"], [0.4444444444444444, \"#bd3786\"], [0.5555555555555556, \"#d8576b\"], [0.6666666666666666, \"#ed7953\"], [0.7777777777777778, \"#fb9f3a\"], [0.8888888888888888, \"#fdca26\"], [1.0, \"#f0f921\"]], \"type\": \"heatmapgl\"}], \"histogram\": [{\"marker\": {\"colorbar\": {\"outlinewidth\": 0, \"ticks\": \"\"}}, \"type\": \"histogram\"}], \"histogram2d\": [{\"colorbar\": {\"outlinewidth\": 0, \"ticks\": \"\"}, \"colorscale\": [[0.0, \"#0d0887\"], [0.1111111111111111, \"#46039f\"], [0.2222222222222222, \"#7201a8\"], [0.3333333333333333, \"#9c179e\"], [0.4444444444444444, \"#bd3786\"], [0.5555555555555556, \"#d8576b\"], [0.6666666666666666, \"#ed7953\"], [0.7777777777777778, \"#fb9f3a\"], [0.8888888888888888, \"#fdca26\"], [1.0, \"#f0f921\"]], \"type\": \"histogram2d\"}], \"histogram2dcontour\": [{\"colorbar\": {\"outlinewidth\": 0, \"ticks\": \"\"}, \"colorscale\": [[0.0, \"#0d0887\"], [0.1111111111111111, \"#46039f\"], [0.2222222222222222, \"#7201a8\"], [0.3333333333333333, \"#9c179e\"], [0.4444444444444444, \"#bd3786\"], [0.5555555555555556, \"#d8576b\"], [0.6666666666666666, \"#ed7953\"], [0.7777777777777778, \"#fb9f3a\"], [0.8888888888888888, \"#fdca26\"], [1.0, \"#f0f921\"]], \"type\": \"histogram2dcontour\"}], \"mesh3d\": [{\"colorbar\": {\"outlinewidth\": 0, \"ticks\": \"\"}, \"type\": \"mesh3d\"}], \"parcoords\": [{\"line\": {\"colorbar\": {\"outlinewidth\": 0, \"ticks\": \"\"}}, \"type\": \"parcoords\"}], \"pie\": [{\"automargin\": true, \"type\": \"pie\"}], \"scatter\": [{\"marker\": {\"colorbar\": {\"outlinewidth\": 0, \"ticks\": \"\"}}, \"type\": \"scatter\"}], \"scatter3d\": [{\"line\": {\"colorbar\": {\"outlinewidth\": 0, \"ticks\": \"\"}}, \"marker\": {\"colorbar\": {\"outlinewidth\": 0, \"ticks\": \"\"}}, \"type\": \"scatter3d\"}], \"scattercarpet\": [{\"marker\": {\"colorbar\": {\"outlinewidth\": 0, \"ticks\": \"\"}}, \"type\": \"scattercarpet\"}], \"scattergeo\": [{\"marker\": {\"colorbar\": {\"outlinewidth\": 0, \"ticks\": \"\"}}, \"type\": \"scattergeo\"}], \"scattergl\": [{\"marker\": {\"colorbar\": {\"outlinewidth\": 0, \"ticks\": \"\"}}, \"type\": \"scattergl\"}], \"scattermapbox\": [{\"marker\": {\"colorbar\": {\"outlinewidth\": 0, \"ticks\": \"\"}}, \"type\": \"scattermapbox\"}], \"scatterpolar\": [{\"marker\": {\"colorbar\": {\"outlinewidth\": 0, \"ticks\": \"\"}}, \"type\": \"scatterpolar\"}], \"scatterpolargl\": [{\"marker\": {\"colorbar\": {\"outlinewidth\": 0, \"ticks\": \"\"}}, \"type\": \"scatterpolargl\"}], \"scatterternary\": [{\"marker\": {\"colorbar\": {\"outlinewidth\": 0, \"ticks\": \"\"}}, \"type\": \"scatterternary\"}], \"surface\": [{\"colorbar\": {\"outlinewidth\": 0, \"ticks\": \"\"}, \"colorscale\": [[0.0, \"#0d0887\"], [0.1111111111111111, \"#46039f\"], [0.2222222222222222, \"#7201a8\"], [0.3333333333333333, \"#9c179e\"], [0.4444444444444444, \"#bd3786\"], [0.5555555555555556, \"#d8576b\"], [0.6666666666666666, \"#ed7953\"], [0.7777777777777778, \"#fb9f3a\"], [0.8888888888888888, \"#fdca26\"], [1.0, \"#f0f921\"]], \"type\": \"surface\"}], \"table\": [{\"cells\": {\"fill\": {\"color\": \"#EBF0F8\"}, \"line\": {\"color\": \"white\"}}, \"header\": {\"fill\": {\"color\": \"#C8D4E3\"}, \"line\": {\"color\": \"white\"}}, \"type\": \"table\"}]}, \"layout\": {\"annotationdefaults\": {\"arrowcolor\": \"#2a3f5f\", \"arrowhead\": 0, \"arrowwidth\": 1}, \"coloraxis\": {\"colorbar\": {\"outlinewidth\": 0, \"ticks\": \"\"}}, \"colorscale\": {\"diverging\": [[0, \"#8e0152\"], [0.1, \"#c51b7d\"], [0.2, \"#de77ae\"], [0.3, \"#f1b6da\"], [0.4, \"#fde0ef\"], [0.5, \"#f7f7f7\"], [0.6, \"#e6f5d0\"], [0.7, \"#b8e186\"], [0.8, \"#7fbc41\"], [0.9, \"#4d9221\"], [1, \"#276419\"]], \"sequential\": [[0.0, \"#0d0887\"], [0.1111111111111111, \"#46039f\"], [0.2222222222222222, \"#7201a8\"], [0.3333333333333333, \"#9c179e\"], [0.4444444444444444, \"#bd3786\"], [0.5555555555555556, \"#d8576b\"], [0.6666666666666666, \"#ed7953\"], [0.7777777777777778, \"#fb9f3a\"], [0.8888888888888888, \"#fdca26\"], [1.0, \"#f0f921\"]], \"sequentialminus\": [[0.0, \"#0d0887\"], [0.1111111111111111, \"#46039f\"], [0.2222222222222222, \"#7201a8\"], [0.3333333333333333, \"#9c179e\"], [0.4444444444444444, \"#bd3786\"], [0.5555555555555556, \"#d8576b\"], [0.6666666666666666, \"#ed7953\"], [0.7777777777777778, \"#fb9f3a\"], [0.8888888888888888, \"#fdca26\"], [1.0, \"#f0f921\"]]}, \"colorway\": [\"#636efa\", \"#EF553B\", \"#00cc96\", \"#ab63fa\", \"#FFA15A\", \"#19d3f3\", \"#FF6692\", \"#B6E880\", \"#FF97FF\", \"#FECB52\"], \"font\": {\"color\": \"#2a3f5f\"}, \"geo\": {\"bgcolor\": \"white\", \"lakecolor\": \"white\", \"landcolor\": \"#E5ECF6\", \"showlakes\": true, \"showland\": true, \"subunitcolor\": \"white\"}, \"hoverlabel\": {\"align\": \"left\"}, \"hovermode\": \"closest\", \"mapbox\": {\"style\": \"light\"}, \"paper_bgcolor\": \"white\", \"plot_bgcolor\": \"#E5ECF6\", \"polar\": {\"angularaxis\": {\"gridcolor\": \"white\", \"linecolor\": \"white\", \"ticks\": \"\"}, \"bgcolor\": \"#E5ECF6\", \"radialaxis\": {\"gridcolor\": \"white\", \"linecolor\": \"white\", \"ticks\": \"\"}}, \"scene\": {\"xaxis\": {\"backgroundcolor\": \"#E5ECF6\", \"gridcolor\": \"white\", \"gridwidth\": 2, \"linecolor\": \"white\", \"showbackground\": true, \"ticks\": \"\", \"zerolinecolor\": \"white\"}, \"yaxis\": {\"backgroundcolor\": \"#E5ECF6\", \"gridcolor\": \"white\", \"gridwidth\": 2, \"linecolor\": \"white\", \"showbackground\": true, \"ticks\": \"\", \"zerolinecolor\": \"white\"}, \"zaxis\": {\"backgroundcolor\": \"#E5ECF6\", \"gridcolor\": \"white\", \"gridwidth\": 2, \"linecolor\": \"white\", \"showbackground\": true, \"ticks\": \"\", \"zerolinecolor\": \"white\"}}, \"shapedefaults\": {\"line\": {\"color\": \"#2a3f5f\"}}, \"ternary\": {\"aaxis\": {\"gridcolor\": \"white\", \"linecolor\": \"white\", \"ticks\": \"\"}, \"baxis\": {\"gridcolor\": \"white\", \"linecolor\": \"white\", \"ticks\": \"\"}, \"bgcolor\": \"#E5ECF6\", \"caxis\": {\"gridcolor\": \"white\", \"linecolor\": \"white\", \"ticks\": \"\"}}, \"title\": {\"x\": 0.05}, \"xaxis\": {\"automargin\": true, \"gridcolor\": \"white\", \"linecolor\": \"white\", \"ticks\": \"\", \"title\": {\"standoff\": 15}, \"zerolinecolor\": \"white\", \"zerolinewidth\": 2}, \"yaxis\": {\"automargin\": true, \"gridcolor\": \"white\", \"linecolor\": \"white\", \"ticks\": \"\", \"title\": {\"standoff\": 15}, \"zerolinecolor\": \"white\", \"zerolinewidth\": 2}}}, \"width\": 1000, \"xaxis\": {\"rangeslider\": {\"visible\": false}}},\n",
              "                        {\"responsive\": true}\n",
              "                    ).then(function(){\n",
              "                            \n",
              "var gd = document.getElementById('67bece37-197d-4643-a3af-40e7d8baf3d7');\n",
              "var x = new MutationObserver(function (mutations, observer) {{\n",
              "        var display = window.getComputedStyle(gd).display;\n",
              "        if (!display || display === 'none') {{\n",
              "            console.log([gd, 'removed!']);\n",
              "            Plotly.purge(gd);\n",
              "            observer.disconnect();\n",
              "        }}\n",
              "}});\n",
              "\n",
              "// Listen for the removal of the full notebook cells\n",
              "var notebookContainer = gd.closest('#notebook-container');\n",
              "if (notebookContainer) {{\n",
              "    x.observe(notebookContainer, {childList: true});\n",
              "}}\n",
              "\n",
              "// Listen for the clearing of the current output cell\n",
              "var outputEl = gd.closest('.output');\n",
              "if (outputEl) {{\n",
              "    x.observe(outputEl, {childList: true});\n",
              "}}\n",
              "\n",
              "                        })\n",
              "                };\n",
              "                \n",
              "            </script>\n",
              "        </div>\n",
              "</body>\n",
              "</html>"
            ]
          },
          "metadata": {
            "tags": []
          }
        }
      ]
    },
    {
      "cell_type": "markdown",
      "metadata": {
        "id": "TfFmeoUOjtFm"
      },
      "source": [
        "# Evaluation"
      ]
    },
    {
      "cell_type": "code",
      "metadata": {
        "colab": {
          "base_uri": "https://localhost:8080/"
        },
        "id": "u0t16p9h1RXq",
        "outputId": "fd8b270d-e6a8-414e-ef29-a4dfe4ace1c8"
      },
      "source": [
        "%pip install yfinance"
      ],
      "execution_count": null,
      "outputs": [
        {
          "output_type": "stream",
          "text": [
            "Requirement already satisfied: yfinance in /usr/local/lib/python3.7/dist-packages (0.1.55)\n",
            "Requirement already satisfied: requests>=2.20 in /usr/local/lib/python3.7/dist-packages (from yfinance) (2.23.0)\n",
            "Requirement already satisfied: pandas>=0.24 in /usr/local/lib/python3.7/dist-packages (from yfinance) (1.1.5)\n",
            "Requirement already satisfied: numpy>=1.15 in /usr/local/lib/python3.7/dist-packages (from yfinance) (1.19.5)\n",
            "Requirement already satisfied: lxml>=4.5.1 in /usr/local/lib/python3.7/dist-packages (from yfinance) (4.6.2)\n",
            "Requirement already satisfied: multitasking>=0.0.7 in /usr/local/lib/python3.7/dist-packages (from yfinance) (0.0.9)\n",
            "Requirement already satisfied: urllib3!=1.25.0,!=1.25.1,<1.26,>=1.21.1 in /usr/local/lib/python3.7/dist-packages (from requests>=2.20->yfinance) (1.24.3)\n",
            "Requirement already satisfied: certifi>=2017.4.17 in /usr/local/lib/python3.7/dist-packages (from requests>=2.20->yfinance) (2020.12.5)\n",
            "Requirement already satisfied: idna<3,>=2.5 in /usr/local/lib/python3.7/dist-packages (from requests>=2.20->yfinance) (2.10)\n",
            "Requirement already satisfied: chardet<4,>=3.0.2 in /usr/local/lib/python3.7/dist-packages (from requests>=2.20->yfinance) (3.0.4)\n",
            "Requirement already satisfied: python-dateutil>=2.7.3 in /usr/local/lib/python3.7/dist-packages (from pandas>=0.24->yfinance) (2.8.1)\n",
            "Requirement already satisfied: pytz>=2017.2 in /usr/local/lib/python3.7/dist-packages (from pandas>=0.24->yfinance) (2018.9)\n",
            "Requirement already satisfied: six>=1.5 in /usr/local/lib/python3.7/dist-packages (from python-dateutil>=2.7.3->pandas>=0.24->yfinance) (1.15.0)\n"
          ],
          "name": "stdout"
        }
      ]
    },
    {
      "cell_type": "code",
      "metadata": {
        "id": "mDH1aRtz1RXr"
      },
      "source": [
        "import yfinance as yf\n",
        "ticker = 'GOOG'\n",
        "index = yf.Ticker(ticker)\n",
        "\n",
        "# get historical market data\n",
        "hist = index.history(start='2020-06-01', end= '2020-12-30', actions=False)"
      ],
      "execution_count": null,
      "outputs": []
    },
    {
      "cell_type": "code",
      "metadata": {
        "colab": {
          "base_uri": "https://localhost:8080/"
        },
        "id": "jwQM9mq_-gNW",
        "outputId": "4e3608ad-c69c-4eee-efe1-2962cbf6ce94"
      },
      "source": [
        "# Sentiment Analysis\n",
        "analyzer = SentimentIntensityAnalyzer()\n",
        "tweets_df2 = pd.read_csv('(GOOG OR goog)-2020-12-31-2021-01-01 (1).csv',lineterminator='\\n')\n",
        "columns = ['Datetime', 'Tweet Id', 'Text']\n",
        "news = pd.DataFrame(tweets_df2, columns=columns)\n",
        "#news.Datetime = news.Datetime.apply(lambda x: x.date())\n",
        "news['Date'] = pd.to_datetime(news['Datetime'].astype(str).str[:10], errors='coerce')\n",
        "news['Text'] = news['Text'].astype(str)\n",
        "scores = news['Text'].apply(analyzer.polarity_scores).tolist()\n",
        "\n",
        "df_scores = pd.DataFrame(scores)\n",
        "news = news.join(df_scores, rsuffix='_right')\n",
        "\n",
        "news.set_index = pd.to_datetime(news['Date'])\n",
        "news = news.groupby(\n",
        "    [news['Date']]\n",
        ")['compound','neg','neu','pos'].mean()"
      ],
      "execution_count": null,
      "outputs": [
        {
          "output_type": "stream",
          "text": [
            "/usr/local/lib/python3.7/dist-packages/ipykernel_launcher.py:17: FutureWarning:\n",
            "\n",
            "Indexing with multiple keys (implicitly converted to a tuple of keys) will be deprecated, use a list instead.\n",
            "\n"
          ],
          "name": "stderr"
        }
      ]
    },
    {
      "cell_type": "code",
      "metadata": {
        "colab": {
          "base_uri": "https://localhost:8080/",
          "height": 450
        },
        "id": "aFXMVHyDM--u",
        "outputId": "aed1fbcf-0350-4dba-a334-1e2742e16f63"
      },
      "source": [
        "news = pd.read_csv('GOOG.csv')"
      ],
      "execution_count": null,
      "outputs": [
        {
          "output_type": "execute_result",
          "data": {
            "text/html": [
              "<div>\n",
              "<style scoped>\n",
              "    .dataframe tbody tr th:only-of-type {\n",
              "        vertical-align: middle;\n",
              "    }\n",
              "\n",
              "    .dataframe tbody tr th {\n",
              "        vertical-align: top;\n",
              "    }\n",
              "\n",
              "    .dataframe thead th {\n",
              "        text-align: right;\n",
              "    }\n",
              "</style>\n",
              "<table border=\"1\" class=\"dataframe\">\n",
              "  <thead>\n",
              "    <tr style=\"text-align: right;\">\n",
              "      <th></th>\n",
              "      <th>compound</th>\n",
              "      <th>neg</th>\n",
              "      <th>neu</th>\n",
              "      <th>pos</th>\n",
              "    </tr>\n",
              "    <tr>\n",
              "      <th>Date</th>\n",
              "      <th></th>\n",
              "      <th></th>\n",
              "      <th></th>\n",
              "      <th></th>\n",
              "    </tr>\n",
              "  </thead>\n",
              "  <tbody>\n",
              "    <tr>\n",
              "      <th>2013-01-01</th>\n",
              "      <td>0.010123</td>\n",
              "      <td>0.066990</td>\n",
              "      <td>0.838663</td>\n",
              "      <td>0.094386</td>\n",
              "    </tr>\n",
              "    <tr>\n",
              "      <th>2013-01-02</th>\n",
              "      <td>0.051516</td>\n",
              "      <td>0.044317</td>\n",
              "      <td>0.874347</td>\n",
              "      <td>0.081376</td>\n",
              "    </tr>\n",
              "    <tr>\n",
              "      <th>2013-01-03</th>\n",
              "      <td>0.233437</td>\n",
              "      <td>0.034802</td>\n",
              "      <td>0.799911</td>\n",
              "      <td>0.165297</td>\n",
              "    </tr>\n",
              "    <tr>\n",
              "      <th>2013-01-04</th>\n",
              "      <td>0.134362</td>\n",
              "      <td>0.046881</td>\n",
              "      <td>0.846594</td>\n",
              "      <td>0.106554</td>\n",
              "    </tr>\n",
              "    <tr>\n",
              "      <th>2013-01-05</th>\n",
              "      <td>0.109322</td>\n",
              "      <td>0.065614</td>\n",
              "      <td>0.797376</td>\n",
              "      <td>0.137040</td>\n",
              "    </tr>\n",
              "    <tr>\n",
              "      <th>...</th>\n",
              "      <td>...</td>\n",
              "      <td>...</td>\n",
              "      <td>...</td>\n",
              "      <td>...</td>\n",
              "    </tr>\n",
              "    <tr>\n",
              "      <th>2020-12-27</th>\n",
              "      <td>0.206040</td>\n",
              "      <td>0.028772</td>\n",
              "      <td>0.880871</td>\n",
              "      <td>0.090376</td>\n",
              "    </tr>\n",
              "    <tr>\n",
              "      <th>2020-12-28</th>\n",
              "      <td>0.177627</td>\n",
              "      <td>0.028505</td>\n",
              "      <td>0.875901</td>\n",
              "      <td>0.095604</td>\n",
              "    </tr>\n",
              "    <tr>\n",
              "      <th>2020-12-29</th>\n",
              "      <td>0.238297</td>\n",
              "      <td>0.028079</td>\n",
              "      <td>0.845861</td>\n",
              "      <td>0.126069</td>\n",
              "    </tr>\n",
              "    <tr>\n",
              "      <th>2020-12-30</th>\n",
              "      <td>0.193398</td>\n",
              "      <td>0.020416</td>\n",
              "      <td>0.890802</td>\n",
              "      <td>0.088822</td>\n",
              "    </tr>\n",
              "    <tr>\n",
              "      <th>2020-12-31</th>\n",
              "      <td>0.122831</td>\n",
              "      <td>0.032178</td>\n",
              "      <td>0.870891</td>\n",
              "      <td>0.096911</td>\n",
              "    </tr>\n",
              "  </tbody>\n",
              "</table>\n",
              "<p>2922 rows × 4 columns</p>\n",
              "</div>"
            ],
            "text/plain": [
              "            compound       neg       neu       pos\n",
              "Date                                              \n",
              "2013-01-01  0.010123  0.066990  0.838663  0.094386\n",
              "2013-01-02  0.051516  0.044317  0.874347  0.081376\n",
              "2013-01-03  0.233437  0.034802  0.799911  0.165297\n",
              "2013-01-04  0.134362  0.046881  0.846594  0.106554\n",
              "2013-01-05  0.109322  0.065614  0.797376  0.137040\n",
              "...              ...       ...       ...       ...\n",
              "2020-12-27  0.206040  0.028772  0.880871  0.090376\n",
              "2020-12-28  0.177627  0.028505  0.875901  0.095604\n",
              "2020-12-29  0.238297  0.028079  0.845861  0.126069\n",
              "2020-12-30  0.193398  0.020416  0.890802  0.088822\n",
              "2020-12-31  0.122831  0.032178  0.870891  0.096911\n",
              "\n",
              "[2922 rows x 4 columns]"
            ]
          },
          "metadata": {
            "tags": []
          },
          "execution_count": 82
        }
      ]
    },
    {
      "cell_type": "code",
      "metadata": {
        "id": "joYe7gnKTwdz"
      },
      "source": [
        "def test_data_prediction(df_test):\n",
        "  #df_test['Date'] = pd.to_datetime(df_test['Date'])\n",
        "  #df_test.set_index('Date', inplace=True)\n",
        "\n",
        "\n",
        "\n",
        "  df_test_ti = get_technical_indicators(df_test)\n",
        "  #df_test_ti = df_test_ti.dropna()\n",
        "  df_test = df_test.fillna(method='backfill')\n",
        "  #df_test_ti = df_test_ti.dropna()\n",
        "\n",
        "  df_test_ti = df_test_ti.merge(news, how ='left' , on = 'Date')\n",
        "  df_test_ti.neg = df_test_ti.neg.fillna(0.5)\n",
        "  df_test_ti.neu = df_test_ti.neu.fillna(0.5)\n",
        "  df_test_ti.pos = df_test_ti.pos.fillna(0.5)\n",
        "\n",
        "  df_test_y = df_test.copy()\n",
        "  df_test_y = df_test_y[['OpenPerChg1','ClosePerChg1','OpenPerChg2','ClosePerChg2','OpenPerChg3','ClosePerChg3']]\n",
        "  df_test_ti = df_test_ti[['Open','Close','High', 'Low','Volume','20sd','MACD','neg','neu','pos']]\n",
        "\n",
        "  args_test = df_test_ti.values.reshape(df_test_ti.shape[0],10)\n",
        "  args_test_y = df_test_y.values.reshape(df_test_y.shape[0],6)\n",
        "\n",
        "  in_seq_test = args_test\n",
        "  in_seq_test_y = args_test_y\n",
        "\n",
        "  division =  lookback_days\n",
        "\n",
        "  data_train = in_seq_test[:division]\n",
        "  data_test = in_seq_test[(division-lookback_days):]\n",
        "\n",
        "  data_train_y = in_seq_test_y[:division]\n",
        "  data_test_y = in_seq_test_y[(division-lookback_days):]\n",
        "\n",
        "  X_test, y_test = split_sequences(data_test, data_test_y, lookback_days,forward_days)\n",
        "\n",
        "  X_features = X_test.shape[2]\n",
        "  y_features = y_test.shape[2]\n",
        "  X_test_original = X_test\n",
        "  X_test=X_test.reshape(X_test.shape[0],lookback_days*X_features)\n",
        "  y_test=y_test.reshape(y_test.shape[0],y_features)\n",
        "\n",
        "  xtest_scaler = MinMaxScaler().fit(X_test)\n",
        "  X_test = xtest_scaler.transform(X_test)\n",
        "  ytest_scaler = MinMaxScaler().fit(y_test)\n",
        "  #y_scaler.fit(y_test)\n",
        "  y_test = ytest_scaler.transform(y_test)\n",
        "\n",
        "  X_test = X_test.reshape(X_test.shape[0],lookback_days, X_features)\n",
        "\n",
        "  y_pred = model.predict(X_test,batch_size = 16)\n",
        "  y_pred = y_pred.reshape(y_pred.shape[0],y_features)\n",
        "  y_hat = ytest_scaler.inverse_transform(y_pred)\n",
        "\n",
        "  y_test = y_test.reshape(y_test.shape[0],y_features)\n",
        "  #y_true = y_test\n",
        "  y_true = ytest_scaler.inverse_transform(y_test)\n",
        "\n",
        "  return y_test,y_true,y_pred,y_hat,X_test_original"
      ],
      "execution_count": null,
      "outputs": []
    },
    {
      "cell_type": "code",
      "metadata": {
        "id": "USuP-hahNmaJ"
      },
      "source": [
        "y_test1,y_true1,y_pred1,y_hat1,X_test_original1 = test_data_prediction(hist)"
      ],
      "execution_count": null,
      "outputs": []
    },
    {
      "cell_type": "code",
      "metadata": {
        "id": "fKOPkkEcQcO_"
      },
      "source": [
        "y_test=y_test1\n",
        "y_true=y_true1\n",
        "y_pred=y_pred1\n",
        "y_hat=y_hat1\n",
        "X_test_original = X_test_original1"
      ],
      "execution_count": null,
      "outputs": []
    },
    {
      "cell_type": "code",
      "metadata": {
        "id": "y-814V-WLapv"
      },
      "source": [
        "diff_true = array([y_true[:,x] - X_test_original[:,0,-1] for x in [0,1,2,3,4,5]])\n",
        "diff_pred = array([y_hat[:,x] - X_test_original[:,0,-1] for x in [0,1,2,3,4,5]])"
      ],
      "execution_count": null,
      "outputs": []
    },
    {
      "cell_type": "code",
      "metadata": {
        "id": "YkD1XGSIa1cV"
      },
      "source": [
        "#diff_pred[diff_pred<0] = - diff_pred[diff_pred<0]\n",
        "#diff_true[diff_true<0] = - diff_true[diff_true<0]"
      ],
      "execution_count": null,
      "outputs": []
    },
    {
      "cell_type": "code",
      "metadata": {
        "colab": {
          "base_uri": "https://localhost:8080/"
        },
        "id": "TOooO6pgRA0r",
        "outputId": "c06b4c0d-dc26-4163-8c8b-8e09873fb182"
      },
      "source": [
        "import sklearn.metrics as metrics\n",
        "mae = metrics.mean_absolute_error(y_true[:-3], y_hat[:-3])\n",
        "mse = metrics.mean_squared_error(y_true[:-3], y_hat[:-3])\n",
        "rmse = np.sqrt(mse) #mse**(0.5)  \n",
        "r2 = rsquared(y_true[:-3], y_hat[:-3])\n",
        "# mae_diff = metrics.mean_absolute_error(diff_true[:-3], diff_pred[:-3])\n",
        "# mse_diff = metrics.mean_squared_error(diff_true[:-3], diff_pred[:-3])\n",
        "# rmse_diff = np.sqrt(mse_diff) #mse**(0.5)  \n",
        "# r2_diff = rsquared(diff_true, diff_pred)\n",
        "print(\"Results of sklearn.metrics:\")\n",
        "print(\"MAE:\",mae)\n",
        "print(\"MSE:\", mse)\n",
        "print(\"RMSE:\", rmse)\n",
        "print(\"R-Squared:\", r2)\n",
        "# print(\"MAE_diff:\",mae_diff)\n",
        "# print(\"MSE_diff:\", mse_diff)\n",
        "# print(\"RMSE_diff:\", rmse_diff)\n",
        "# print(\"R-Squared diff:\", r2_diff)"
      ],
      "execution_count": null,
      "outputs": [
        {
          "output_type": "stream",
          "text": [
            "Results of sklearn.metrics:\n",
            "MAE: 0.022303020793004447\n",
            "MSE: 0.0008940822573771257\n",
            "RMSE: 0.029901208292928996\n",
            "R-Squared: -0.3416991491600676\n"
          ],
          "name": "stdout"
        }
      ]
    },
    {
      "cell_type": "code",
      "metadata": {
        "colab": {
          "base_uri": "https://localhost:8080/"
        },
        "id": "DEyL1cKolK4c",
        "outputId": "d890be7b-11b4-4e63-8d92-ed7cb901e23a"
      },
      "source": [
        "y_bar = y_true.mean()\n",
        "ss_tot = ((y_true-y_bar)**2).sum()\n",
        "ss_res = ((y_true-y_hat)**2).sum()\n",
        "print(ss_res)\n",
        "print(ss_tot)\n",
        "\n",
        "y_bar = diff_true.mean()\n",
        "ss_tot = ((diff_true-y_bar)**2).sum()\n",
        "ss_res = ((diff_true-diff_pred)**2).sum()\n",
        "print(ss_res)\n",
        "print(ss_tot)\n",
        "print(ss_res/ss_tot)"
      ],
      "execution_count": null,
      "outputs": [
        {
          "output_type": "stream",
          "text": [
            "nan\n",
            "nan\n",
            "nan\n",
            "nan\n",
            "nan\n"
          ],
          "name": "stdout"
        }
      ]
    },
    {
      "cell_type": "code",
      "metadata": {
        "id": "c8AIyDdR8_A-"
      },
      "source": [
        "y_pred=y_hat\n",
        "y_pred_len = y_pred.shape[0]"
      ],
      "execution_count": null,
      "outputs": []
    },
    {
      "cell_type": "code",
      "metadata": {
        "id": "NLTgf1ayUGNl"
      },
      "source": [
        "new_row1 = {'open':y_pred[-2,2] , 'close':y_pred[-2,3]}\n",
        "new_row2 = {'open':y_pred[-1,4] , 'close':y_pred[-1,4]}"
      ],
      "execution_count": null,
      "outputs": []
    },
    {
      "cell_type": "code",
      "metadata": {
        "id": "qn0EoLtd06u-"
      },
      "source": [
        "from datetime import timedelta\n",
        "dataset_prev = pd.DataFrame({\n",
        "    'open': X_test_original[:,-1,0],'close': X_test_original[:,-1,1]\n",
        "                        })\n",
        "dataset_per = pd.DataFrame({\n",
        "    'openPerChg': y_pred[:,0], 'closePerChg': y_pred[:,1]\n",
        "                         })\n",
        "dataset = pd.DataFrame({\n",
        "    'open': y_pred[:,0], 'close': y_pred[:,1]                       })\n",
        "dataset['open'] = dataset_prev['open'] + (dataset_prev['open'] * dataset_per['openPerChg'])\n",
        "dataset['close'] = dataset_prev['close'] + (dataset_prev['close'] * dataset_per['closePerChg'])\n",
        "\n",
        "dataset_trueper = pd.DataFrame({\n",
        "    'openPerChg': y_true[:,0], 'closePerChg': y_true[:,1]\n",
        "                        })\n",
        "dataset_true = pd.DataFrame({\n",
        "    'open': y_pred[:,0], 'close': y_pred[:,1]                       })\n",
        "dataset_true['open'] = dataset_prev['open'] + (dataset_prev['open'] * dataset_trueper['openPerChg'])\n",
        "dataset_true['close'] = dataset_prev['close'] + (dataset_prev['close'] * dataset_trueper['closePerChg'])\n",
        "\n",
        "\n",
        "new_row1 = {'open':X_test_original[-1,-1,0] + (X_test_original[-1,-1,0] * y_pred[-1,2]),\n",
        "            'close':X_test_original[-1,-1,1] + (X_test_original[-1,-1,1] * y_pred[-1,3])}\n",
        "new_row2 = {'open':X_test_original[-1,-1,0] + (X_test_original[-1,-1,0] * y_pred[-1,4]) , \n",
        "            'close':X_test_original[-1,-1,1] + (X_test_original[-1,-1,1] * y_pred[-1,5])}\n",
        "\n",
        "tempDf = pd.to_datetime(hist[-y_pred_len:].index)\n",
        "dataset.loc[:,'date'] = pd.to_datetime(hist[-y_pred_len:].index)\n",
        "dataset_true.loc[:,'date'] = pd.to_datetime(hist[-y_pred_len:].index)\n",
        "\n",
        "dataset = dataset.append(new_row1, ignore_index=True)\n",
        "dataset = dataset.append(new_row2, ignore_index=True)\n",
        "dataset.loc[y_pred_len,'date'] = pd.to_datetime(tempDf[-1] + timedelta(days=1))\n",
        "dataset.loc[y_pred_len+1,'date'] = pd.to_datetime(tempDf[-1] + timedelta(days=2))"
      ],
      "execution_count": null,
      "outputs": []
    },
    {
      "cell_type": "code",
      "metadata": {
        "id": "WyW05CWqivdd"
      },
      "source": [
        "dataset_prev = pd.DataFrame({\n",
        "    'open': X_test_original[:,-1,0],'close': X_test_original[:,-1,1]\n",
        "                        })\n",
        "                        \n",
        "dataset_per = pd.DataFrame({\n",
        "    'open1PerChg': y_pred[:,0], 'close1PerChg': y_pred[:,1],\n",
        "    'open2PerChg': y_pred[:,2], 'close2PerChg': y_pred[:,3],\n",
        "    'open3PerChg': y_pred[:,4], 'close3PerChg': y_pred[:,5]\n",
        "                         })\n",
        "datasetarray = pd.DataFrame({\n",
        "    'open1': y_pred[:,0], 'close1': y_pred[:,1]        ,\n",
        "    'open2': y_pred[:,2], 'close2': y_pred[:,3]  ,\n",
        "    'open3': y_pred[:,4], 'close3': y_pred[:,5]                 })\n",
        "\n",
        "datasetarray['open1'] = dataset_prev['open'] + (dataset_prev['open'] * dataset_per['open1PerChg'])\n",
        "datasetarray['open2'] = dataset_prev['open'] + (dataset_prev['open'] * dataset_per['open2PerChg'])\n",
        "datasetarray['open3'] = dataset_prev['open'] + (dataset_prev['open'] * dataset_per['open3PerChg'])\n",
        "datasetarray['close1'] = dataset_prev['close'] + (dataset_prev['close'] * dataset_per['close1PerChg'])\n",
        "datasetarray['close2'] = dataset_prev['close'] + (dataset_prev['close'] * dataset_per['close2PerChg'])\n",
        "datasetarray['close3'] = dataset_prev['close'] + (dataset_prev['close'] * dataset_per['close3PerChg'])\n",
        "\n",
        "dataset_trueper = pd.DataFrame({\n",
        "    'open1PerChg': y_true[:,0], 'close1PerChg': y_true[:,1],\n",
        "    'open2PerChg': y_true[:,2], 'close2PerChg': y_true[:,3],\n",
        "    'open3PerChg': y_true[:,4], 'close3PerChg': y_true[:,5]\n",
        "                         })\n",
        "dataset_truearray = pd.DataFrame({\n",
        "    'open1': y_true[:,0], 'close1': y_true[:,1]        ,\n",
        "    'open2': y_true[:,2], 'close2': y_true[:,3]  ,\n",
        "    'open3': y_true[:,4], 'close3': y_true[:,5]                 })\n",
        "\n",
        "dataset_truearray['open1'] = dataset_prev['open'] + (dataset_prev['open'] * dataset_trueper['open1PerChg'])\n",
        "dataset_truearray['open2'] = dataset_prev['open'] + (dataset_prev['open'] * dataset_trueper['open2PerChg'])\n",
        "dataset_truearray['open3'] = dataset_prev['open'] + (dataset_prev['open'] * dataset_trueper['open3PerChg'])\n",
        "dataset_truearray['close1'] = dataset_prev['close'] + (dataset_prev['close'] * dataset_trueper['close1PerChg'])\n",
        "dataset_truearray['close2'] = dataset_prev['close'] + (dataset_prev['close'] * dataset_trueper['close2PerChg'])\n",
        "dataset_truearray['close3'] = dataset_prev['close'] + (dataset_prev['close'] * dataset_trueper['close3PerChg'])\n"
      ],
      "execution_count": null,
      "outputs": []
    },
    {
      "cell_type": "code",
      "metadata": {
        "id": "zyHhvoc2WaQW"
      },
      "source": [
        "# dataset1 = dataset[:-3][['open','close']]\n",
        "# dataset_true1 = dataset_true[:-1][['open','close']]\n",
        "# datasetarray = dataset1.values.reshape(dataset1.shape[0],2)\n",
        "datasetarray = datasetarray[:-3]\n",
        "datasetarray = np.asarray(datasetarray).astype(np.float32)\n",
        "# dataset_truearray = dataset_true1.values.reshape(dataset_true1.shape[0],2)\n",
        "dataset_truearray = dataset_truearray[:-3]\n",
        "dataset_truearray = np.asarray(dataset_truearray).astype(np.float32)\n"
      ],
      "execution_count": null,
      "outputs": []
    },
    {
      "cell_type": "code",
      "metadata": {
        "colab": {
          "base_uri": "https://localhost:8080/"
        },
        "id": "rNtgdk61V7AP",
        "outputId": "ac6d9dd5-c90e-4377-be98-bf933bcfb6b5"
      },
      "source": [
        "import sklearn.metrics as metrics\n",
        "mae = metrics.mean_absolute_error(datasetarray, dataset_truearray)\n",
        "mse = metrics.mean_squared_error(datasetarray, dataset_truearray)\n",
        "rmse = np.sqrt(mse) #mse**(0.5)  \n",
        "r2 = rsquared(datasetarray, dataset_truearray)\n",
        "print(\"Results of sklearn.metrics:\")\n",
        "print(\"MAE:\",mae)\n",
        "print(\"MSE:\", mse)\n",
        "print(\"RMSE:\", rmse)\n",
        "print(\"R-Squared:\", r2)"
      ],
      "execution_count": null,
      "outputs": [
        {
          "output_type": "stream",
          "text": [
            "Results of sklearn.metrics:\n",
            "MAE: 35.573486\n",
            "MSE: 2264.6638\n",
            "RMSE: 47.588486\n",
            "R-Squared: 0.8417164385318756\n"
          ],
          "name": "stdout"
        }
      ]
    },
    {
      "cell_type": "code",
      "metadata": {
        "id": "14cK_0jowuXn"
      },
      "source": [
        "dataset=dataset.assign(low=lambda d: d[['open', 'close']].min(1))\n",
        "dataset=dataset.assign(high=lambda d: d[['open', 'close']].max(1))\n",
        "dataset_true=dataset_true.assign(low=lambda d: d[['open', 'close']].min(1))\n",
        "dataset_true=dataset_true.assign(high=lambda d: d[['open', 'close']].max(1))"
      ],
      "execution_count": null,
      "outputs": []
    },
    {
      "cell_type": "code",
      "metadata": {
        "colab": {
          "base_uri": "https://localhost:8080/",
          "height": 817
        },
        "id": "lRzUq7Tip9k9",
        "outputId": "8af297ce-a3b2-4a63-f94a-ced788cd4301"
      },
      "source": [
        "import plotly.graph_objects as go\n",
        "\n",
        "import pandas as pd\n",
        "from datetime import datetime\n",
        "\n",
        "fig = go.Figure(data=\n",
        "                [go.Ohlc(x=dataset['date'],\n",
        "                open=dataset['open'],\n",
        "                high=dataset['high'],\n",
        "                low=dataset['low'],\n",
        "                close=dataset['close'],\n",
        "                showlegend=False,\n",
        "                name=\"predicted\"),\n",
        "                 go.Ohlc(x=dataset_true['date'],\n",
        "                open=dataset_true['open'],\n",
        "                high=dataset_true['high'],\n",
        "                low=dataset_true['low'],\n",
        "                close=dataset_true['close'],\n",
        "                showlegend=False,\n",
        "                name=\"true\",\n",
        "    increasing_line_color= 'blue', decreasing_line_color= 'yellow'\n",
        ")])\n",
        "fig.update_layout(\n",
        "    autosize=False,\n",
        "    width=1000,\n",
        "    height=800,)\n",
        "fig.update(layout_xaxis_rangeslider_visible=False)\n",
        "fig.show()\n"
      ],
      "execution_count": null,
      "outputs": [
        {
          "output_type": "display_data",
          "data": {
            "text/html": [
              "<html>\n",
              "<head><meta charset=\"utf-8\" /></head>\n",
              "<body>\n",
              "    <div>\n",
              "            <script src=\"https://cdnjs.cloudflare.com/ajax/libs/mathjax/2.7.5/MathJax.js?config=TeX-AMS-MML_SVG\"></script><script type=\"text/javascript\">if (window.MathJax) {MathJax.Hub.Config({SVG: {font: \"STIX-Web\"}});}</script>\n",
              "                <script type=\"text/javascript\">window.PlotlyConfig = {MathJaxConfig: 'local'};</script>\n",
              "        <script src=\"https://cdn.plot.ly/plotly-latest.min.js\"></script>    \n",
              "            <div id=\"76fcec3c-e6d5-480b-bf9a-5765dc5307ed\" class=\"plotly-graph-div\" style=\"height:800px; width:1000px;\"></div>\n",
              "            <script type=\"text/javascript\">\n",
              "                \n",
              "                    window.PLOTLYENV=window.PLOTLYENV || {};\n",
              "                    \n",
              "                if (document.getElementById(\"76fcec3c-e6d5-480b-bf9a-5765dc5307ed\")) {\n",
              "                    Plotly.newPlot(\n",
              "                        '76fcec3c-e6d5-480b-bf9a-5765dc5307ed',\n",
              "                        [{\"close\": [1515.265648314908, 1523.6001694760548, 1516.555655707677, 1520.032730577048, 1517.4035510106546, 1567.010560668074, 1560.348144250516, 1569.6710418793134, 1516.8832531934527, 1512.7082831635732, 1531.0181554049987, 1501.4296601185677, 1523.3330810729121, 1532.6891067711867, 1483.864827613097, 1475.433269932494, 1466.1543843227837, 1475.3321958190359, 1502.0956287887188, 1496.4166836544864, 1496.8830219009294, 1481.562100141502, 1507.694496002779, 1519.596449804962, 1508.7142162789642, 1519.3201635975272, 1560.299828326688, 1550.0281244374262, 1584.261428414873, 1583.2906732493357, 1591.2541641005323, 1611.7526727518293, 1655.8562337705816, 1637.606544299912, 1647.2441110743443, 1635.845580279725, 1662.2771268615365, 1729.5523367737494, 1642.7215197023186, 1591.373880978749, 1532.9717851942007, 1557.347725946525, 1531.8835568074203, 1520.4041293876708, 1518.774089320937, 1540.5064080327772, 1519.611729864777, 1493.803873304142, 1457.432561703342, 1428.7624919836394, 1463.2806675361364, 1413.170215151351, 1426.126200754742, 1442.8602700978033, 1461.9225764890157, 1466.5472042168187, 1466.540811084368, 1486.9980395976875, 1454.978652045598, 1483.256840795639, 1450.5133353986992, 1457.8672369205335, 1483.3118840078594, 1513.624057085854, 1567.4776879409205, 1571.4677542549744, 1568.0896715521524, 1560.231728293239, 1574.4242687864055, 1537.0953410562215, 1558.5892080510534, 1596.718571328396, 1618.9677399117923, 1645.719386880286, 1595.2400796283569, 1609.3448183780492, 1521.2655441755667, 1571.6243375349754, 1625.666781632363, 1629.4201259349006, 1653.7283982729377, 1752.3270043415066, 1766.469715453922, 1763.719676929526, 1765.0388158374699, 1741.5185999141443, 1753.9109070532888, 1750.2269171016076, 1777.408497218469, 1781.1763254177351, 1770.100246924354, 1746.4695634723869, 1763.745536610239, 1742.3045958196042, 1735.1473212000024, 1769.114707985685, 1771.4634272613193, 1793.47869052786, 1760.8450736407908, 1797.7004738731187, 1827.629153035537, 1826.1734579852327, 1827.4203255881248, 1819.244993978482, 1818.5413773528896, 1784.3640204982912, 1775.3795400228857, 1782.0458143764538, 1760.0971603794694, 1767.8073924921039, 1763.0617067333624, 1747.7279733392556, 1730.6633603311352, 1739.194252081878, 1722.8122953403654, 1731.874444347734, 1737.8190739291438, 1774.9932361820547, 1757.2918361146228, 1750.9263094436014, 1707.8290524710887], \"high\": [1573.0048514902592, 1523.6001694760548, 1544.4135763708705, 1520.032730577048, 1541.5545195352788, 1567.010560668074, 1607.8553614281916, 1580.1037076185457, 1586.749869062448, 1517.4027863919946, 1534.245139260875, 1544.282281413277, 1525.4011440055149, 1532.6891067711867, 1523.519871803599, 1504.9682622588357, 1495.0811560505085, 1488.2612999487587, 1502.0956287887188, 1519.5256154984236, 1505.3788869700547, 1511.1272901059178, 1507.694496002779, 1529.1698308738023, 1534.3857016129073, 1533.8592094680876, 1560.299828326688, 1574.3838518526063, 1584.261428414873, 1598.8096150588626, 1616.1807122597206, 1611.7526727518293, 1655.8562337705816, 1677.010833150125, 1655.9682311206188, 1669.2189153530433, 1662.2771268615365, 1729.5523367737494, 1730.95016488479, 1643.7560796394023, 1552.1884938588355, 1576.1807053117136, 1578.6718920552462, 1553.4540524482727, 1556.2518289946665, 1552.658456325531, 1571.9696831677884, 1511.1883087679744, 1512.151817441424, 1453.776852112851, 1464.2611834242402, 1473.1496769839418, 1426.126200754742, 1446.8415999414856, 1488.2584479018615, 1484.2319642493653, 1480.2747046582713, 1497.895207834265, 1474.9458963139261, 1483.256840795639, 1489.28627909951, 1478.5298066101159, 1483.3118840078594, 1513.624057085854, 1567.4776879409205, 1602.205769820806, 1597.275622085233, 1566.7229317442393, 1586.0476559837946, 1602.1494298212547, 1558.5892080510534, 1596.718571328396, 1618.9677399117923, 1650.7587978137776, 1649.9334566751722, 1620.294295029863, 1583.6179123507202, 1571.6243375349754, 1697.1681415390235, 1650.91288983426, 1654.7190708332103, 1752.3270043415066, 1805.3126173708588, 1776.53317576218, 1814.1283488960992, 1752.5473210405753, 1771.8265540897846, 1768.4913484418148, 1778.6506782824295, 1792.2106045428116, 1797.7295556304048, 1785.5392823554098, 1763.745536610239, 1786.0059333063646, 1770.4515385377958, 1769.114707985685, 1793.6717213341221, 1794.0890378333465, 1802.0598420975211, 1797.7004738731187, 1827.629153035537, 1844.4003461200919, 1844.866307542944, 1839.668366366066, 1830.8765160949974, 1833.0720345275588, 1790.080391046207, 1783.4208406750595, 1795.1710436493158, 1784.4443599968877, 1792.9641994343274, 1788.3031779220948, 1773.6124487721113, 1739.194252081878, 1753.2663126650136, 1747.1887078852974, 1753.5999863455072, 1774.9932361820547, 1806.6924525280356, 1751.9921443173025, 1771.3984461837445], \"low\": [1515.265648314908, 1511.222834289324, 1516.555655707677, 1519.9010632932186, 1517.4035510106546, 1534.3685330113703, 1560.348144250516, 1569.6710418793134, 1516.8832531934527, 1512.7082831635732, 1531.0181554049987, 1501.4296601185677, 1523.3330810729121, 1515.7837587185204, 1483.864827613097, 1475.433269932494, 1466.1543843227837, 1475.3321958190359, 1491.1078616683371, 1496.4166836544864, 1496.8830219009294, 1481.562100141502, 1504.0479204704138, 1519.596449804962, 1508.7142162789642, 1519.3201635975272, 1545.8501606629966, 1550.0281244374262, 1564.3045372989488, 1583.2906732493357, 1591.2541641005323, 1604.7449156245798, 1630.801991008222, 1637.606544299912, 1647.2441110743443, 1635.845580279725, 1657.7114475065969, 1694.9688844587745, 1642.7215197023186, 1591.373880978749, 1532.9717851942007, 1557.347725946525, 1531.8835568074203, 1520.4041293876708, 1518.774089320937, 1540.5064080327772, 1519.611729864777, 1493.803873304142, 1457.432561703342, 1428.7624919836394, 1463.2806675361364, 1413.170215151351, 1424.8246582631537, 1442.8602700978033, 1461.9225764890157, 1466.5472042168187, 1466.540811084368, 1486.9980395976875, 1454.978652045598, 1480.1229021308109, 1450.5133353986992, 1457.8672369205335, 1479.2369181216623, 1510.4194909447003, 1559.2736775241792, 1571.4677542549744, 1568.0896715521524, 1560.231728293239, 1574.4242687864055, 1537.0953410562215, 1548.189595602492, 1595.8989911550466, 1616.1638892433127, 1645.719386880286, 1595.2400796283569, 1609.3448183780492, 1521.2655441755667, 1545.0325294979225, 1625.666781632363, 1629.4201259349006, 1653.7283982729377, 1733.6689235166398, 1766.469715453922, 1763.719676929526, 1765.0388158374699, 1741.5185999141443, 1753.9109070532888, 1750.2269171016076, 1777.408497218469, 1781.1763254177351, 1770.100246924354, 1746.4695634723869, 1758.5876400015554, 1742.3045958196042, 1735.1473212000024, 1751.0023545841686, 1771.4634272613193, 1793.47869052786, 1760.8450736407908, 1794.5373463787416, 1818.6052853846495, 1826.1734579852327, 1827.4203255881248, 1819.244993978482, 1818.5413773528896, 1784.3640204982912, 1775.3795400228857, 1782.0458143764538, 1760.0971603794694, 1767.8073924921039, 1763.0617067333624, 1747.7279733392556, 1730.6633603311352, 1732.7247080874756, 1722.8122953403654, 1731.874444347734, 1737.8190739291438, 1770.4600214579996, 1757.2918361146228, 1750.9263094436014, 1707.8290524710887], \"name\": \"predicted\", \"open\": [1573.0048514902592, 1511.222834289324, 1544.4135763708705, 1519.9010632932186, 1541.5545195352788, 1534.3685330113703, 1607.8553614281916, 1580.1037076185457, 1586.749869062448, 1517.4027863919946, 1534.245139260875, 1544.282281413277, 1525.4011440055149, 1515.7837587185204, 1523.519871803599, 1504.9682622588357, 1495.0811560505085, 1488.2612999487587, 1491.1078616683371, 1519.5256154984236, 1505.3788869700547, 1511.1272901059178, 1504.0479204704138, 1529.1698308738023, 1534.3857016129073, 1533.8592094680876, 1545.8501606629966, 1574.3838518526063, 1564.3045372989488, 1598.8096150588626, 1616.1807122597206, 1604.7449156245798, 1630.801991008222, 1677.010833150125, 1655.9682311206188, 1669.2189153530433, 1657.7114475065969, 1694.9688844587745, 1730.95016488479, 1643.7560796394023, 1552.1884938588355, 1576.1807053117136, 1578.6718920552462, 1553.4540524482727, 1556.2518289946665, 1552.658456325531, 1571.9696831677884, 1511.1883087679744, 1512.151817441424, 1453.776852112851, 1464.2611834242402, 1473.1496769839418, 1424.8246582631537, 1446.8415999414856, 1488.2584479018615, 1484.2319642493653, 1480.2747046582713, 1497.895207834265, 1474.9458963139261, 1480.1229021308109, 1489.28627909951, 1478.5298066101159, 1479.2369181216623, 1510.4194909447003, 1559.2736775241792, 1602.205769820806, 1597.275622085233, 1566.7229317442393, 1586.0476559837946, 1602.1494298212547, 1548.189595602492, 1595.8989911550466, 1616.1638892433127, 1650.7587978137776, 1649.9334566751722, 1620.294295029863, 1583.6179123507202, 1545.0325294979225, 1697.1681415390235, 1650.91288983426, 1654.7190708332103, 1733.6689235166398, 1805.3126173708588, 1776.53317576218, 1814.1283488960992, 1752.5473210405753, 1771.8265540897846, 1768.4913484418148, 1778.6506782824295, 1792.2106045428116, 1797.7295556304048, 1785.5392823554098, 1758.5876400015554, 1786.0059333063646, 1770.4515385377958, 1751.0023545841686, 1793.6717213341221, 1794.0890378333465, 1802.0598420975211, 1794.5373463787416, 1818.6052853846495, 1844.4003461200919, 1844.866307542944, 1839.668366366066, 1830.8765160949974, 1833.0720345275588, 1790.080391046207, 1783.4208406750595, 1795.1710436493158, 1784.4443599968877, 1792.9641994343274, 1788.3031779220948, 1773.6124487721113, 1732.7247080874756, 1753.2663126650136, 1747.1887078852974, 1753.5999863455072, 1770.4600214579996, 1806.6924525280356, 1751.9921443173025, 1771.3984461837445], \"showlegend\": false, \"type\": \"ohlc\", \"x\": [\"2020-07-13T00:00:00\", \"2020-07-14T00:00:00\", \"2020-07-15T00:00:00\", \"2020-07-16T00:00:00\", \"2020-07-17T00:00:00\", \"2020-07-20T00:00:00\", \"2020-07-21T00:00:00\", \"2020-07-22T00:00:00\", \"2020-07-23T00:00:00\", \"2020-07-24T00:00:00\", \"2020-07-27T00:00:00\", \"2020-07-28T00:00:00\", \"2020-07-29T00:00:00\", \"2020-07-30T00:00:00\", \"2020-07-31T00:00:00\", \"2020-08-03T00:00:00\", \"2020-08-04T00:00:00\", \"2020-08-05T00:00:00\", \"2020-08-06T00:00:00\", \"2020-08-07T00:00:00\", \"2020-08-10T00:00:00\", \"2020-08-11T00:00:00\", \"2020-08-12T00:00:00\", \"2020-08-13T00:00:00\", \"2020-08-14T00:00:00\", \"2020-08-17T00:00:00\", \"2020-08-18T00:00:00\", \"2020-08-19T00:00:00\", \"2020-08-20T00:00:00\", \"2020-08-21T00:00:00\", \"2020-08-24T00:00:00\", \"2020-08-25T00:00:00\", \"2020-08-26T00:00:00\", \"2020-08-27T00:00:00\", \"2020-08-28T00:00:00\", \"2020-08-31T00:00:00\", \"2020-09-01T00:00:00\", \"2020-09-02T00:00:00\", \"2020-09-03T00:00:00\", \"2020-09-04T00:00:00\", \"2020-09-08T00:00:00\", \"2020-09-09T00:00:00\", \"2020-09-10T00:00:00\", \"2020-09-11T00:00:00\", \"2020-09-14T00:00:00\", \"2020-09-15T00:00:00\", \"2020-09-16T00:00:00\", \"2020-09-17T00:00:00\", \"2020-09-18T00:00:00\", \"2020-09-21T00:00:00\", \"2020-09-22T00:00:00\", \"2020-09-23T00:00:00\", \"2020-09-24T00:00:00\", \"2020-09-25T00:00:00\", \"2020-09-28T00:00:00\", \"2020-09-29T00:00:00\", \"2020-09-30T00:00:00\", \"2020-10-01T00:00:00\", \"2020-10-02T00:00:00\", \"2020-10-05T00:00:00\", \"2020-10-06T00:00:00\", \"2020-10-07T00:00:00\", \"2020-10-08T00:00:00\", \"2020-10-09T00:00:00\", \"2020-10-12T00:00:00\", \"2020-10-13T00:00:00\", \"2020-10-14T00:00:00\", \"2020-10-15T00:00:00\", \"2020-10-16T00:00:00\", \"2020-10-19T00:00:00\", \"2020-10-20T00:00:00\", \"2020-10-21T00:00:00\", \"2020-10-22T00:00:00\", \"2020-10-23T00:00:00\", \"2020-10-26T00:00:00\", \"2020-10-27T00:00:00\", \"2020-10-28T00:00:00\", \"2020-10-29T00:00:00\", \"2020-10-30T00:00:00\", \"2020-11-02T00:00:00\", \"2020-11-03T00:00:00\", \"2020-11-04T00:00:00\", \"2020-11-05T00:00:00\", \"2020-11-06T00:00:00\", \"2020-11-09T00:00:00\", \"2020-11-10T00:00:00\", \"2020-11-11T00:00:00\", \"2020-11-12T00:00:00\", \"2020-11-13T00:00:00\", \"2020-11-16T00:00:00\", \"2020-11-17T00:00:00\", \"2020-11-18T00:00:00\", \"2020-11-19T00:00:00\", \"2020-11-20T00:00:00\", \"2020-11-23T00:00:00\", \"2020-11-24T00:00:00\", \"2020-11-25T00:00:00\", \"2020-11-27T00:00:00\", \"2020-11-30T00:00:00\", \"2020-12-01T00:00:00\", \"2020-12-02T00:00:00\", \"2020-12-03T00:00:00\", \"2020-12-04T00:00:00\", \"2020-12-07T00:00:00\", \"2020-12-08T00:00:00\", \"2020-12-09T00:00:00\", \"2020-12-10T00:00:00\", \"2020-12-11T00:00:00\", \"2020-12-14T00:00:00\", \"2020-12-15T00:00:00\", \"2020-12-16T00:00:00\", \"2020-12-17T00:00:00\", \"2020-12-18T00:00:00\", \"2020-12-21T00:00:00\", \"2020-12-22T00:00:00\", \"2020-12-23T00:00:00\", \"2020-12-24T00:00:00\", \"2020-12-28T00:00:00\", \"2020-12-29T00:00:00\", \"2020-12-30T00:00:00\", \"2020-12-31T00:00:00\"]}, {\"close\": [1520.5799560546875, 1513.6400146484375, 1518.0, 1515.550048828125, 1565.719970703125, 1558.4200439453125, 1568.489990234375, 1515.6800537109375, 1511.8699951171875, 1530.199951171875, 1500.3399658203125, 1522.02001953125, 1531.449951171875, 1482.9599609375, 1474.449951171875, 1464.969970703125, 1473.6099853515625, 1500.0999755859375, 1494.489990234375, 1496.0999755859375, 1480.3199462890625, 1506.6199951171875, 1518.449951171875, 1507.72998046875, 1517.97998046875, 1558.5999755859375, 1547.530029296875, 1581.75, 1580.4200439453125, 1588.199951171875, 1608.219970703125, 1652.3800048828125, 1634.3299560546875, 1644.4100341796875, 1634.1800537109375, 1660.7099609375, 1728.280029296875, 1641.8399658203125, 1591.0400390625, 1532.3900146484375, 1556.9599609375, 1532.02001953125, 1520.719970703125, 1519.280029296875, 1541.43994140625, 1520.9000244140625, 1495.530029296875, 1459.989990234375, 1431.1600341796875, 1465.4599609375, 1415.2099609375, 1428.2900390625, 1444.9599609375, 1464.52001953125, 1469.3299560546875, 1469.5999755859375, 1490.0899658203125, 1458.4200439453125, 1486.02001953125, 1453.43994140625, 1460.2900390625, 1485.9300537109375, 1515.219970703125, 1569.1500244140625, 1571.6800537109375, 1568.0799560546875, 1559.1300048828125, 1573.010009765625, 1534.6099853515625, 1555.9300537109375, 1593.31005859375, 1615.3299560546875, 1641.0, 1590.449951171875, 1604.260009765625, 1516.6199951171875, 1567.239990234375, 1621.010009765625, 1626.030029296875, 1650.2099609375, 1749.1300048828125, 1763.3699951171875, 1761.75, 1763.0, 1740.3900146484375, 1752.7099609375, 1749.8399658203125, 1777.02001953125, 1781.3800048828125, 1770.1500244140625, 1746.780029296875, 1763.9200439453125, 1742.18994140625, 1734.8599853515625, 1768.8800048828125, 1771.4300537109375, 1793.18994140625, 1760.739990234375, 1798.0999755859375, 1827.949951171875, 1826.77001953125, 1827.989990234375, 1819.47998046875, 1818.550048828125, 1784.1300048828125, 1775.3299560546875, 1781.77001953125, 1760.06005859375, 1767.77001953125, 1763.0, 1747.9000244140625, 1731.010009765625, 1739.3699951171875, 1723.5, 1732.3800048828125, 1738.8499755859375, 1776.0899658203125, 1758.719970703125, null], \"decreasing\": {\"line\": {\"color\": \"yellow\"}}, \"high\": [1520.5799560546875, 1523.1300048828125, 1518.0, 1521.6199951171875, 1565.719970703125, 1586.989990234375, 1568.489990234375, 1566.969970703125, 1511.8699951171875, 1530.199951171875, 1525.1800537109375, 1522.02001953125, 1531.449951171875, 1505.010009765625, 1486.6400146484375, 1476.5699462890625, 1473.6099853515625, 1500.0999755859375, 1500.0, 1496.0999755859375, 1492.43994140625, 1506.6199951171875, 1518.449951171875, 1515.6600341796875, 1517.97998046875, 1558.5999755859375, 1553.31005859375, 1581.75, 1580.4200439453125, 1593.97998046875, 1608.219970703125, 1652.3800048828125, 1653.6800537109375, 1644.4100341796875, 1647.8900146484375, 1660.7099609375, 1728.280029296875, 1709.7139892578125, 1624.260009765625, 1533.510009765625, 1557.530029296875, 1560.6400146484375, 1536.0, 1539.0050048828125, 1541.43994140625, 1555.5400390625, 1496.0, 1498.010009765625, 1440.06005859375, 1465.4599609375, 1458.780029296875, 1428.2900390625, 1444.9599609375, 1474.2099609375, 1470.3900146484375, 1469.5999755859375, 1490.0899658203125, 1462.030029296875, 1486.02001953125, 1475.5799560546875, 1464.2900390625, 1485.9300537109375, 1515.219970703125, 1569.1500244140625, 1583.72998046875, 1578.5899658203125, 1559.1300048828125, 1573.010009765625, 1580.4599609375, 1555.9300537109375, 1593.31005859375, 1615.3299560546875, 1641.0, 1625.010009765625, 1604.260009765625, 1559.739990234375, 1567.239990234375, 1672.1099853515625, 1628.1600341796875, 1650.2099609375, 1749.1300048828125, 1781.0, 1761.75, 1790.9000244140625, 1740.3900146484375, 1752.7099609375, 1749.8399658203125, 1777.02001953125, 1781.3800048828125, 1776.93994140625, 1765.22998046875, 1763.9200439453125, 1765.2099609375, 1749.5999755859375, 1768.8800048828125, 1772.8900146484375, 1793.18994140625, 1781.1839599609375, 1798.0999755859375, 1827.949951171875, 1826.77001953125, 1827.989990234375, 1819.47998046875, 1818.550048828125, 1812.010009765625, 1775.3299560546875, 1781.77001953125, 1775.0, 1767.77001953125, 1772.8800048828125, 1768.510009765625, 1754.1800537109375, 1739.3699951171875, 1734.4300537109375, 1732.3800048828125, 1738.8499755859375, 1776.0899658203125, 1787.7900390625, null], \"increasing\": {\"line\": {\"color\": \"blue\"}}, \"low\": [1490.31005859375, 1513.6400146484375, 1500.0, 1515.550048828125, 1515.260009765625, 1558.4200439453125, 1560.5, 1515.6800537109375, 1498.9300537109375, 1515.5999755859375, 1500.3399658203125, 1506.3199462890625, 1497.0, 1482.9599609375, 1474.449951171875, 1464.969970703125, 1469.300048828125, 1471.75, 1494.489990234375, 1487.1800537109375, 1480.3199462890625, 1485.5799560546875, 1510.3399658203125, 1507.72998046875, 1514.6700439453125, 1526.1800537109375, 1547.530029296875, 1543.449951171875, 1577.030029296875, 1588.199951171875, 1582.0699462890625, 1608.0, 1634.3299560546875, 1633.489990234375, 1634.1800537109375, 1636.6300048828125, 1673.7750244140625, 1641.8399658203125, 1591.0400390625, 1532.3900146484375, 1556.9599609375, 1532.02001953125, 1520.719970703125, 1519.280029296875, 1536.0, 1520.9000244140625, 1495.530029296875, 1459.989990234375, 1431.1600341796875, 1450.0899658203125, 1415.2099609375, 1411.030029296875, 1432.6300048828125, 1464.52001953125, 1469.3299560546875, 1466.800048828125, 1484.27001953125, 1458.4200439453125, 1466.2099609375, 1453.43994140625, 1460.2900390625, 1465.0899658203125, 1494.699951171875, 1543.0, 1571.6800537109375, 1568.0799560546875, 1547.1500244140625, 1565.8499755859375, 1534.6099853515625, 1527.050048828125, 1573.3299560546875, 1593.050048828125, 1626.0699462890625, 1590.449951171875, 1595.6700439453125, 1516.6199951171875, 1522.3599853515625, 1621.010009765625, 1626.030029296875, 1631.780029296875, 1710.280029296875, 1763.3699951171875, 1753.949951171875, 1763.0, 1731.0899658203125, 1750.0, 1747.6300048828125, 1757.6300048828125, 1771.699951171875, 1770.1500244140625, 1746.780029296875, 1738.3800048828125, 1742.18994140625, 1734.8599853515625, 1730.5, 1771.4300537109375, 1773.0899658203125, 1760.739990234375, 1774.3699951171875, 1798.0999755859375, 1824.010009765625, 1824.52001953125, 1819.0, 1810.0999755859375, 1784.1300048828125, 1769.800048828125, 1763.06005859375, 1760.06005859375, 1764.4200439453125, 1763.0, 1747.9000244140625, 1731.010009765625, 1713.510009765625, 1723.5, 1728.1099853515625, 1735.0, 1751.635009765625, 1758.719970703125, null], \"name\": \"true\", \"open\": [1490.31005859375, 1523.1300048828125, 1500.0, 1521.6199951171875, 1515.260009765625, 1586.989990234375, 1560.5, 1566.969970703125, 1498.9300537109375, 1515.5999755859375, 1525.1800537109375, 1506.3199462890625, 1497.0, 1505.010009765625, 1486.6400146484375, 1476.5699462890625, 1469.300048828125, 1471.75, 1500.0, 1487.1800537109375, 1492.43994140625, 1485.5799560546875, 1510.3399658203125, 1515.6600341796875, 1514.6700439453125, 1526.1800537109375, 1553.31005859375, 1543.449951171875, 1577.030029296875, 1593.97998046875, 1582.0699462890625, 1608.0, 1653.6800537109375, 1633.489990234375, 1647.8900146484375, 1636.6300048828125, 1673.7750244140625, 1709.7139892578125, 1624.260009765625, 1533.510009765625, 1557.530029296875, 1560.6400146484375, 1536.0, 1539.0050048828125, 1536.0, 1555.5400390625, 1496.0, 1498.010009765625, 1440.06005859375, 1450.0899658203125, 1458.780029296875, 1411.030029296875, 1432.6300048828125, 1474.2099609375, 1470.3900146484375, 1466.800048828125, 1484.27001953125, 1462.030029296875, 1466.2099609375, 1475.5799560546875, 1464.2900390625, 1465.0899658203125, 1494.699951171875, 1543.0, 1583.72998046875, 1578.5899658203125, 1547.1500244140625, 1565.8499755859375, 1580.4599609375, 1527.050048828125, 1573.3299560546875, 1593.050048828125, 1626.0699462890625, 1625.010009765625, 1595.6700439453125, 1559.739990234375, 1522.3599853515625, 1672.1099853515625, 1628.1600341796875, 1631.780029296875, 1710.280029296875, 1781.0, 1753.949951171875, 1790.9000244140625, 1731.0899658203125, 1750.0, 1747.6300048828125, 1757.6300048828125, 1771.699951171875, 1776.93994140625, 1765.22998046875, 1738.3800048828125, 1765.2099609375, 1749.5999755859375, 1730.5, 1772.8900146484375, 1773.0899658203125, 1781.1839599609375, 1774.3699951171875, 1798.0999755859375, 1824.010009765625, 1824.52001953125, 1819.0, 1810.0999755859375, 1812.010009765625, 1769.800048828125, 1763.06005859375, 1775.0, 1764.4200439453125, 1772.8800048828125, 1768.510009765625, 1754.1800537109375, 1713.510009765625, 1734.4300537109375, 1728.1099853515625, 1735.0, 1751.635009765625, 1787.7900390625, null], \"showlegend\": false, \"type\": \"ohlc\", \"x\": [\"2020-07-13T00:00:00\", \"2020-07-14T00:00:00\", \"2020-07-15T00:00:00\", \"2020-07-16T00:00:00\", \"2020-07-17T00:00:00\", \"2020-07-20T00:00:00\", \"2020-07-21T00:00:00\", \"2020-07-22T00:00:00\", \"2020-07-23T00:00:00\", \"2020-07-24T00:00:00\", \"2020-07-27T00:00:00\", \"2020-07-28T00:00:00\", \"2020-07-29T00:00:00\", \"2020-07-30T00:00:00\", \"2020-07-31T00:00:00\", \"2020-08-03T00:00:00\", \"2020-08-04T00:00:00\", \"2020-08-05T00:00:00\", \"2020-08-06T00:00:00\", \"2020-08-07T00:00:00\", \"2020-08-10T00:00:00\", \"2020-08-11T00:00:00\", \"2020-08-12T00:00:00\", \"2020-08-13T00:00:00\", \"2020-08-14T00:00:00\", \"2020-08-17T00:00:00\", \"2020-08-18T00:00:00\", \"2020-08-19T00:00:00\", \"2020-08-20T00:00:00\", \"2020-08-21T00:00:00\", \"2020-08-24T00:00:00\", \"2020-08-25T00:00:00\", \"2020-08-26T00:00:00\", \"2020-08-27T00:00:00\", \"2020-08-28T00:00:00\", \"2020-08-31T00:00:00\", \"2020-09-01T00:00:00\", \"2020-09-02T00:00:00\", \"2020-09-03T00:00:00\", \"2020-09-04T00:00:00\", \"2020-09-08T00:00:00\", \"2020-09-09T00:00:00\", \"2020-09-10T00:00:00\", \"2020-09-11T00:00:00\", \"2020-09-14T00:00:00\", \"2020-09-15T00:00:00\", \"2020-09-16T00:00:00\", \"2020-09-17T00:00:00\", \"2020-09-18T00:00:00\", \"2020-09-21T00:00:00\", \"2020-09-22T00:00:00\", \"2020-09-23T00:00:00\", \"2020-09-24T00:00:00\", \"2020-09-25T00:00:00\", \"2020-09-28T00:00:00\", \"2020-09-29T00:00:00\", \"2020-09-30T00:00:00\", \"2020-10-01T00:00:00\", \"2020-10-02T00:00:00\", \"2020-10-05T00:00:00\", \"2020-10-06T00:00:00\", \"2020-10-07T00:00:00\", \"2020-10-08T00:00:00\", \"2020-10-09T00:00:00\", \"2020-10-12T00:00:00\", \"2020-10-13T00:00:00\", \"2020-10-14T00:00:00\", \"2020-10-15T00:00:00\", \"2020-10-16T00:00:00\", \"2020-10-19T00:00:00\", \"2020-10-20T00:00:00\", \"2020-10-21T00:00:00\", \"2020-10-22T00:00:00\", \"2020-10-23T00:00:00\", \"2020-10-26T00:00:00\", \"2020-10-27T00:00:00\", \"2020-10-28T00:00:00\", \"2020-10-29T00:00:00\", \"2020-10-30T00:00:00\", \"2020-11-02T00:00:00\", \"2020-11-03T00:00:00\", \"2020-11-04T00:00:00\", \"2020-11-05T00:00:00\", \"2020-11-06T00:00:00\", \"2020-11-09T00:00:00\", \"2020-11-10T00:00:00\", \"2020-11-11T00:00:00\", \"2020-11-12T00:00:00\", \"2020-11-13T00:00:00\", \"2020-11-16T00:00:00\", \"2020-11-17T00:00:00\", \"2020-11-18T00:00:00\", \"2020-11-19T00:00:00\", \"2020-11-20T00:00:00\", \"2020-11-23T00:00:00\", \"2020-11-24T00:00:00\", \"2020-11-25T00:00:00\", \"2020-11-27T00:00:00\", \"2020-11-30T00:00:00\", \"2020-12-01T00:00:00\", \"2020-12-02T00:00:00\", \"2020-12-03T00:00:00\", \"2020-12-04T00:00:00\", \"2020-12-07T00:00:00\", \"2020-12-08T00:00:00\", \"2020-12-09T00:00:00\", \"2020-12-10T00:00:00\", \"2020-12-11T00:00:00\", \"2020-12-14T00:00:00\", \"2020-12-15T00:00:00\", \"2020-12-16T00:00:00\", \"2020-12-17T00:00:00\", \"2020-12-18T00:00:00\", \"2020-12-21T00:00:00\", \"2020-12-22T00:00:00\", \"2020-12-23T00:00:00\", \"2020-12-24T00:00:00\", \"2020-12-28T00:00:00\", \"2020-12-29T00:00:00\"]}],\n",
              "                        {\"autosize\": false, \"height\": 800, \"template\": {\"data\": {\"bar\": [{\"error_x\": {\"color\": \"#2a3f5f\"}, \"error_y\": {\"color\": \"#2a3f5f\"}, \"marker\": {\"line\": {\"color\": \"#E5ECF6\", \"width\": 0.5}}, \"type\": \"bar\"}], \"barpolar\": [{\"marker\": {\"line\": {\"color\": \"#E5ECF6\", \"width\": 0.5}}, \"type\": \"barpolar\"}], \"carpet\": [{\"aaxis\": {\"endlinecolor\": \"#2a3f5f\", \"gridcolor\": \"white\", \"linecolor\": \"white\", \"minorgridcolor\": \"white\", \"startlinecolor\": \"#2a3f5f\"}, \"baxis\": {\"endlinecolor\": \"#2a3f5f\", \"gridcolor\": \"white\", \"linecolor\": \"white\", \"minorgridcolor\": \"white\", \"startlinecolor\": \"#2a3f5f\"}, \"type\": \"carpet\"}], \"choropleth\": [{\"colorbar\": {\"outlinewidth\": 0, \"ticks\": \"\"}, \"type\": \"choropleth\"}], \"contour\": [{\"colorbar\": {\"outlinewidth\": 0, \"ticks\": \"\"}, \"colorscale\": [[0.0, \"#0d0887\"], [0.1111111111111111, \"#46039f\"], [0.2222222222222222, \"#7201a8\"], [0.3333333333333333, \"#9c179e\"], [0.4444444444444444, \"#bd3786\"], [0.5555555555555556, \"#d8576b\"], [0.6666666666666666, \"#ed7953\"], [0.7777777777777778, \"#fb9f3a\"], [0.8888888888888888, \"#fdca26\"], [1.0, \"#f0f921\"]], \"type\": \"contour\"}], \"contourcarpet\": [{\"colorbar\": {\"outlinewidth\": 0, \"ticks\": \"\"}, \"type\": \"contourcarpet\"}], \"heatmap\": [{\"colorbar\": {\"outlinewidth\": 0, \"ticks\": \"\"}, \"colorscale\": [[0.0, \"#0d0887\"], [0.1111111111111111, \"#46039f\"], [0.2222222222222222, \"#7201a8\"], [0.3333333333333333, \"#9c179e\"], [0.4444444444444444, \"#bd3786\"], [0.5555555555555556, \"#d8576b\"], [0.6666666666666666, \"#ed7953\"], [0.7777777777777778, \"#fb9f3a\"], [0.8888888888888888, \"#fdca26\"], [1.0, \"#f0f921\"]], \"type\": \"heatmap\"}], \"heatmapgl\": [{\"colorbar\": {\"outlinewidth\": 0, \"ticks\": \"\"}, \"colorscale\": [[0.0, \"#0d0887\"], [0.1111111111111111, \"#46039f\"], [0.2222222222222222, \"#7201a8\"], [0.3333333333333333, \"#9c179e\"], [0.4444444444444444, \"#bd3786\"], [0.5555555555555556, \"#d8576b\"], [0.6666666666666666, \"#ed7953\"], [0.7777777777777778, \"#fb9f3a\"], [0.8888888888888888, \"#fdca26\"], [1.0, \"#f0f921\"]], \"type\": \"heatmapgl\"}], \"histogram\": [{\"marker\": {\"colorbar\": {\"outlinewidth\": 0, \"ticks\": \"\"}}, \"type\": \"histogram\"}], \"histogram2d\": [{\"colorbar\": {\"outlinewidth\": 0, \"ticks\": \"\"}, \"colorscale\": [[0.0, \"#0d0887\"], [0.1111111111111111, \"#46039f\"], [0.2222222222222222, \"#7201a8\"], [0.3333333333333333, \"#9c179e\"], [0.4444444444444444, \"#bd3786\"], [0.5555555555555556, \"#d8576b\"], [0.6666666666666666, \"#ed7953\"], [0.7777777777777778, \"#fb9f3a\"], [0.8888888888888888, \"#fdca26\"], [1.0, \"#f0f921\"]], \"type\": \"histogram2d\"}], \"histogram2dcontour\": [{\"colorbar\": {\"outlinewidth\": 0, \"ticks\": \"\"}, \"colorscale\": [[0.0, \"#0d0887\"], [0.1111111111111111, \"#46039f\"], [0.2222222222222222, \"#7201a8\"], [0.3333333333333333, \"#9c179e\"], [0.4444444444444444, \"#bd3786\"], [0.5555555555555556, \"#d8576b\"], [0.6666666666666666, \"#ed7953\"], [0.7777777777777778, \"#fb9f3a\"], [0.8888888888888888, \"#fdca26\"], [1.0, \"#f0f921\"]], \"type\": \"histogram2dcontour\"}], \"mesh3d\": [{\"colorbar\": {\"outlinewidth\": 0, \"ticks\": \"\"}, \"type\": \"mesh3d\"}], \"parcoords\": [{\"line\": {\"colorbar\": {\"outlinewidth\": 0, \"ticks\": \"\"}}, \"type\": \"parcoords\"}], \"pie\": [{\"automargin\": true, \"type\": \"pie\"}], \"scatter\": [{\"marker\": {\"colorbar\": {\"outlinewidth\": 0, \"ticks\": \"\"}}, \"type\": \"scatter\"}], \"scatter3d\": [{\"line\": {\"colorbar\": {\"outlinewidth\": 0, \"ticks\": \"\"}}, \"marker\": {\"colorbar\": {\"outlinewidth\": 0, \"ticks\": \"\"}}, \"type\": \"scatter3d\"}], \"scattercarpet\": [{\"marker\": {\"colorbar\": {\"outlinewidth\": 0, \"ticks\": \"\"}}, \"type\": \"scattercarpet\"}], \"scattergeo\": [{\"marker\": {\"colorbar\": {\"outlinewidth\": 0, \"ticks\": \"\"}}, \"type\": \"scattergeo\"}], \"scattergl\": [{\"marker\": {\"colorbar\": {\"outlinewidth\": 0, \"ticks\": \"\"}}, \"type\": \"scattergl\"}], \"scattermapbox\": [{\"marker\": {\"colorbar\": {\"outlinewidth\": 0, \"ticks\": \"\"}}, \"type\": \"scattermapbox\"}], \"scatterpolar\": [{\"marker\": {\"colorbar\": {\"outlinewidth\": 0, \"ticks\": \"\"}}, \"type\": \"scatterpolar\"}], \"scatterpolargl\": [{\"marker\": {\"colorbar\": {\"outlinewidth\": 0, \"ticks\": \"\"}}, \"type\": \"scatterpolargl\"}], \"scatterternary\": [{\"marker\": {\"colorbar\": {\"outlinewidth\": 0, \"ticks\": \"\"}}, \"type\": \"scatterternary\"}], \"surface\": [{\"colorbar\": {\"outlinewidth\": 0, \"ticks\": \"\"}, \"colorscale\": [[0.0, \"#0d0887\"], [0.1111111111111111, \"#46039f\"], [0.2222222222222222, \"#7201a8\"], [0.3333333333333333, \"#9c179e\"], [0.4444444444444444, \"#bd3786\"], [0.5555555555555556, \"#d8576b\"], [0.6666666666666666, \"#ed7953\"], [0.7777777777777778, \"#fb9f3a\"], [0.8888888888888888, \"#fdca26\"], [1.0, \"#f0f921\"]], \"type\": \"surface\"}], \"table\": [{\"cells\": {\"fill\": {\"color\": \"#EBF0F8\"}, \"line\": {\"color\": \"white\"}}, \"header\": {\"fill\": {\"color\": \"#C8D4E3\"}, \"line\": {\"color\": \"white\"}}, \"type\": \"table\"}]}, \"layout\": {\"annotationdefaults\": {\"arrowcolor\": \"#2a3f5f\", \"arrowhead\": 0, \"arrowwidth\": 1}, \"coloraxis\": {\"colorbar\": {\"outlinewidth\": 0, \"ticks\": \"\"}}, \"colorscale\": {\"diverging\": [[0, \"#8e0152\"], [0.1, \"#c51b7d\"], [0.2, \"#de77ae\"], [0.3, \"#f1b6da\"], [0.4, \"#fde0ef\"], [0.5, \"#f7f7f7\"], [0.6, \"#e6f5d0\"], [0.7, \"#b8e186\"], [0.8, \"#7fbc41\"], [0.9, \"#4d9221\"], [1, \"#276419\"]], \"sequential\": [[0.0, \"#0d0887\"], [0.1111111111111111, \"#46039f\"], [0.2222222222222222, \"#7201a8\"], [0.3333333333333333, \"#9c179e\"], [0.4444444444444444, \"#bd3786\"], [0.5555555555555556, \"#d8576b\"], [0.6666666666666666, \"#ed7953\"], [0.7777777777777778, \"#fb9f3a\"], [0.8888888888888888, \"#fdca26\"], [1.0, \"#f0f921\"]], \"sequentialminus\": [[0.0, \"#0d0887\"], [0.1111111111111111, \"#46039f\"], [0.2222222222222222, \"#7201a8\"], [0.3333333333333333, \"#9c179e\"], [0.4444444444444444, \"#bd3786\"], [0.5555555555555556, \"#d8576b\"], [0.6666666666666666, \"#ed7953\"], [0.7777777777777778, \"#fb9f3a\"], [0.8888888888888888, \"#fdca26\"], [1.0, \"#f0f921\"]]}, \"colorway\": [\"#636efa\", \"#EF553B\", \"#00cc96\", \"#ab63fa\", \"#FFA15A\", \"#19d3f3\", \"#FF6692\", \"#B6E880\", \"#FF97FF\", \"#FECB52\"], \"font\": {\"color\": \"#2a3f5f\"}, \"geo\": {\"bgcolor\": \"white\", \"lakecolor\": \"white\", \"landcolor\": \"#E5ECF6\", \"showlakes\": true, \"showland\": true, \"subunitcolor\": \"white\"}, \"hoverlabel\": {\"align\": \"left\"}, \"hovermode\": \"closest\", \"mapbox\": {\"style\": \"light\"}, \"paper_bgcolor\": \"white\", \"plot_bgcolor\": \"#E5ECF6\", \"polar\": {\"angularaxis\": {\"gridcolor\": \"white\", \"linecolor\": \"white\", \"ticks\": \"\"}, \"bgcolor\": \"#E5ECF6\", \"radialaxis\": {\"gridcolor\": \"white\", \"linecolor\": \"white\", \"ticks\": \"\"}}, \"scene\": {\"xaxis\": {\"backgroundcolor\": \"#E5ECF6\", \"gridcolor\": \"white\", \"gridwidth\": 2, \"linecolor\": \"white\", \"showbackground\": true, \"ticks\": \"\", \"zerolinecolor\": \"white\"}, \"yaxis\": {\"backgroundcolor\": \"#E5ECF6\", \"gridcolor\": \"white\", \"gridwidth\": 2, \"linecolor\": \"white\", \"showbackground\": true, \"ticks\": \"\", \"zerolinecolor\": \"white\"}, \"zaxis\": {\"backgroundcolor\": \"#E5ECF6\", \"gridcolor\": \"white\", \"gridwidth\": 2, \"linecolor\": \"white\", \"showbackground\": true, \"ticks\": \"\", \"zerolinecolor\": \"white\"}}, \"shapedefaults\": {\"line\": {\"color\": \"#2a3f5f\"}}, \"ternary\": {\"aaxis\": {\"gridcolor\": \"white\", \"linecolor\": \"white\", \"ticks\": \"\"}, \"baxis\": {\"gridcolor\": \"white\", \"linecolor\": \"white\", \"ticks\": \"\"}, \"bgcolor\": \"#E5ECF6\", \"caxis\": {\"gridcolor\": \"white\", \"linecolor\": \"white\", \"ticks\": \"\"}}, \"title\": {\"x\": 0.05}, \"xaxis\": {\"automargin\": true, \"gridcolor\": \"white\", \"linecolor\": \"white\", \"ticks\": \"\", \"title\": {\"standoff\": 15}, \"zerolinecolor\": \"white\", \"zerolinewidth\": 2}, \"yaxis\": {\"automargin\": true, \"gridcolor\": \"white\", \"linecolor\": \"white\", \"ticks\": \"\", \"title\": {\"standoff\": 15}, \"zerolinecolor\": \"white\", \"zerolinewidth\": 2}}}, \"width\": 1000, \"xaxis\": {\"rangeslider\": {\"visible\": false}}},\n",
              "                        {\"responsive\": true}\n",
              "                    ).then(function(){\n",
              "                            \n",
              "var gd = document.getElementById('76fcec3c-e6d5-480b-bf9a-5765dc5307ed');\n",
              "var x = new MutationObserver(function (mutations, observer) {{\n",
              "        var display = window.getComputedStyle(gd).display;\n",
              "        if (!display || display === 'none') {{\n",
              "            console.log([gd, 'removed!']);\n",
              "            Plotly.purge(gd);\n",
              "            observer.disconnect();\n",
              "        }}\n",
              "}});\n",
              "\n",
              "// Listen for the removal of the full notebook cells\n",
              "var notebookContainer = gd.closest('#notebook-container');\n",
              "if (notebookContainer) {{\n",
              "    x.observe(notebookContainer, {childList: true});\n",
              "}}\n",
              "\n",
              "// Listen for the clearing of the current output cell\n",
              "var outputEl = gd.closest('.output');\n",
              "if (outputEl) {{\n",
              "    x.observe(outputEl, {childList: true});\n",
              "}}\n",
              "\n",
              "                        })\n",
              "                };\n",
              "                \n",
              "            </script>\n",
              "        </div>\n",
              "</body>\n",
              "</html>"
            ]
          },
          "metadata": {
            "tags": []
          }
        }
      ]
    },
    {
      "cell_type": "code",
      "metadata": {
        "id": "chVcichqi7Oa"
      },
      "source": [
        "!zip -r /content/my_model.zip /content/my_model\n",
        "\n",
        "from google.colab import files\n",
        "files.download(\"/content/my_model.zip\")"
      ],
      "execution_count": null,
      "outputs": []
    },
    {
      "cell_type": "code",
      "metadata": {
        "id": "4vlJ9JRhHFxr"
      },
      "source": [
        "#files.download(\"/content/my_model.zip\")"
      ],
      "execution_count": null,
      "outputs": []
    }
  ]
}