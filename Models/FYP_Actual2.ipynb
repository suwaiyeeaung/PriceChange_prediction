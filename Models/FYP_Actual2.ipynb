{
  "nbformat": 4,
  "nbformat_minor": 0,
  "metadata": {
    "colab": {
      "name": "FYP_Actual.ipynb",
      "provenance": [],
      "collapsed_sections": [
        "uAqqm_lstOdE"
      ]
    },
    "kernelspec": {
      "name": "python3",
      "display_name": "Python 3"
    }
  },
  "cells": [
    {
      "cell_type": "code",
      "metadata": {
        "id": "6EOgDeEwMtX1"
      },
      "source": [
        "# multivariate output stacked lstm example\n",
        "from numpy import array\n",
        "from numpy import hstack\n",
        "import tensorflow as tf\n",
        "from keras.models import Sequential\n",
        "from keras.layers import LSTM,Embedding\n",
        "from keras.layers import Dense\n",
        "from keras.optimizers import Adam,SGD\n",
        "from keras.optimizers import RMSprop\n",
        "import pandas as pd\n",
        "import numpy as np\n",
        "import matplotlib.pyplot as plt\n",
        "from sklearn.preprocessing import MinMaxScaler,RobustScaler\n",
        "from sklearn.preprocessing import StandardScaler\n",
        "from keras.models import load_model\n",
        "from keras.layers import Dropout\n",
        "from keras.layers import AlphaDropout\n",
        "from keras.layers import Activation\n",
        "from keras.layers import Bidirectional\n",
        "from keras.layers import RepeatVector\n",
        "from keras.layers import BatchNormalization\n",
        "from keras.layers import TimeDistributed,Conv1D,MaxPooling1D,Flatten\n",
        "from keras.callbacks import EarlyStopping\n",
        "from keras.callbacks import ModelCheckpoint\n",
        "from keras.layers import LeakyReLU\n",
        "from keras.constraints import maxnorm"
      ],
      "execution_count": 77,
      "outputs": []
    },
    {
      "cell_type": "code",
      "metadata": {
        "id": "EpN4cD1j2_Sd"
      },
      "source": [
        "# !unzip 'my_model32_3.zip' -d my_model32_3\n",
        "# model = tf.keras.models.load_model('my_model32_3/content/my_model')"
      ],
      "execution_count": 78,
      "outputs": []
    },
    {
      "cell_type": "code",
      "metadata": {
        "colab": {
          "base_uri": "https://localhost:8080/"
        },
        "id": "1pgrfJ3CzRZf",
        "outputId": "7e965c6a-43b2-4306-e443-0515ab0d555e"
      },
      "source": [
        "%pip install yfinance"
      ],
      "execution_count": 79,
      "outputs": [
        {
          "output_type": "stream",
          "text": [
            "Requirement already satisfied: yfinance in /usr/local/lib/python3.7/dist-packages (0.1.55)\n",
            "Requirement already satisfied: numpy>=1.15 in /usr/local/lib/python3.7/dist-packages (from yfinance) (1.19.5)\n",
            "Requirement already satisfied: lxml>=4.5.1 in /usr/local/lib/python3.7/dist-packages (from yfinance) (4.6.2)\n",
            "Requirement already satisfied: requests>=2.20 in /usr/local/lib/python3.7/dist-packages (from yfinance) (2.23.0)\n",
            "Requirement already satisfied: pandas>=0.24 in /usr/local/lib/python3.7/dist-packages (from yfinance) (1.1.5)\n",
            "Requirement already satisfied: multitasking>=0.0.7 in /usr/local/lib/python3.7/dist-packages (from yfinance) (0.0.9)\n",
            "Requirement already satisfied: certifi>=2017.4.17 in /usr/local/lib/python3.7/dist-packages (from requests>=2.20->yfinance) (2020.12.5)\n",
            "Requirement already satisfied: urllib3!=1.25.0,!=1.25.1,<1.26,>=1.21.1 in /usr/local/lib/python3.7/dist-packages (from requests>=2.20->yfinance) (1.24.3)\n",
            "Requirement already satisfied: chardet<4,>=3.0.2 in /usr/local/lib/python3.7/dist-packages (from requests>=2.20->yfinance) (3.0.4)\n",
            "Requirement already satisfied: idna<3,>=2.5 in /usr/local/lib/python3.7/dist-packages (from requests>=2.20->yfinance) (2.10)\n",
            "Requirement already satisfied: pytz>=2017.2 in /usr/local/lib/python3.7/dist-packages (from pandas>=0.24->yfinance) (2018.9)\n",
            "Requirement already satisfied: python-dateutil>=2.7.3 in /usr/local/lib/python3.7/dist-packages (from pandas>=0.24->yfinance) (2.8.1)\n",
            "Requirement already satisfied: six>=1.5 in /usr/local/lib/python3.7/dist-packages (from python-dateutil>=2.7.3->pandas>=0.24->yfinance) (1.15.0)\n"
          ],
          "name": "stdout"
        }
      ]
    },
    {
      "cell_type": "code",
      "metadata": {
        "id": "E4_K4UWI0oTF"
      },
      "source": [
        "import yfinance as yf\n",
        "ticker = 'AMZN'\n",
        "index = yf.Ticker(ticker)\n",
        "\n",
        "# get 6 year 2013-2019 historical market data to train \n",
        "df_A = index.history(start='2013-01-01', end= '2019-12-30', actions=False)"
      ],
      "execution_count": 80,
      "outputs": []
    },
    {
      "cell_type": "code",
      "metadata": {
        "colab": {
          "base_uri": "https://localhost:8080/",
          "height": 450
        },
        "id": "5Larw8oKc_hx",
        "outputId": "7c1bb6c6-b924-43cc-c2e4-b88dd1406d51"
      },
      "source": [
        "df_A"
      ],
      "execution_count": 81,
      "outputs": [
        {
          "output_type": "execute_result",
          "data": {
            "text/html": [
              "<div>\n",
              "<style scoped>\n",
              "    .dataframe tbody tr th:only-of-type {\n",
              "        vertical-align: middle;\n",
              "    }\n",
              "\n",
              "    .dataframe tbody tr th {\n",
              "        vertical-align: top;\n",
              "    }\n",
              "\n",
              "    .dataframe thead th {\n",
              "        text-align: right;\n",
              "    }\n",
              "</style>\n",
              "<table border=\"1\" class=\"dataframe\">\n",
              "  <thead>\n",
              "    <tr style=\"text-align: right;\">\n",
              "      <th></th>\n",
              "      <th>Open</th>\n",
              "      <th>High</th>\n",
              "      <th>Low</th>\n",
              "      <th>Close</th>\n",
              "      <th>Volume</th>\n",
              "    </tr>\n",
              "    <tr>\n",
              "      <th>Date</th>\n",
              "      <th></th>\n",
              "      <th></th>\n",
              "      <th></th>\n",
              "      <th></th>\n",
              "      <th></th>\n",
              "    </tr>\n",
              "  </thead>\n",
              "  <tbody>\n",
              "    <tr>\n",
              "      <th>2013-01-02</th>\n",
              "      <td>256.079987</td>\n",
              "      <td>258.100006</td>\n",
              "      <td>253.259995</td>\n",
              "      <td>257.309998</td>\n",
              "      <td>3271000</td>\n",
              "    </tr>\n",
              "    <tr>\n",
              "      <th>2013-01-03</th>\n",
              "      <td>257.269989</td>\n",
              "      <td>260.880005</td>\n",
              "      <td>256.369995</td>\n",
              "      <td>258.480011</td>\n",
              "      <td>2750900</td>\n",
              "    </tr>\n",
              "    <tr>\n",
              "      <th>2013-01-04</th>\n",
              "      <td>257.579987</td>\n",
              "      <td>259.799988</td>\n",
              "      <td>256.649994</td>\n",
              "      <td>259.149994</td>\n",
              "      <td>1874200</td>\n",
              "    </tr>\n",
              "    <tr>\n",
              "      <th>2013-01-07</th>\n",
              "      <td>262.970001</td>\n",
              "      <td>269.730011</td>\n",
              "      <td>262.670013</td>\n",
              "      <td>268.459991</td>\n",
              "      <td>4910000</td>\n",
              "    </tr>\n",
              "    <tr>\n",
              "      <th>2013-01-08</th>\n",
              "      <td>267.070007</td>\n",
              "      <td>268.980011</td>\n",
              "      <td>263.570007</td>\n",
              "      <td>266.380005</td>\n",
              "      <td>3010700</td>\n",
              "    </tr>\n",
              "    <tr>\n",
              "      <th>...</th>\n",
              "      <td>...</td>\n",
              "      <td>...</td>\n",
              "      <td>...</td>\n",
              "      <td>...</td>\n",
              "      <td>...</td>\n",
              "    </tr>\n",
              "    <tr>\n",
              "      <th>2019-12-20</th>\n",
              "      <td>1799.619995</td>\n",
              "      <td>1802.969971</td>\n",
              "      <td>1782.449951</td>\n",
              "      <td>1786.500000</td>\n",
              "      <td>5150800</td>\n",
              "    </tr>\n",
              "    <tr>\n",
              "      <th>2019-12-23</th>\n",
              "      <td>1788.260010</td>\n",
              "      <td>1793.000000</td>\n",
              "      <td>1784.510010</td>\n",
              "      <td>1793.000000</td>\n",
              "      <td>2136400</td>\n",
              "    </tr>\n",
              "    <tr>\n",
              "      <th>2019-12-24</th>\n",
              "      <td>1793.810059</td>\n",
              "      <td>1795.569946</td>\n",
              "      <td>1787.579956</td>\n",
              "      <td>1789.209961</td>\n",
              "      <td>881300</td>\n",
              "    </tr>\n",
              "    <tr>\n",
              "      <th>2019-12-26</th>\n",
              "      <td>1801.010010</td>\n",
              "      <td>1870.459961</td>\n",
              "      <td>1799.500000</td>\n",
              "      <td>1868.770020</td>\n",
              "      <td>6005400</td>\n",
              "    </tr>\n",
              "    <tr>\n",
              "      <th>2019-12-27</th>\n",
              "      <td>1882.920044</td>\n",
              "      <td>1901.400024</td>\n",
              "      <td>1866.010010</td>\n",
              "      <td>1869.800049</td>\n",
              "      <td>6186600</td>\n",
              "    </tr>\n",
              "  </tbody>\n",
              "</table>\n",
              "<p>1760 rows × 5 columns</p>\n",
              "</div>"
            ],
            "text/plain": [
              "                   Open         High          Low        Close   Volume\n",
              "Date                                                                   \n",
              "2013-01-02   256.079987   258.100006   253.259995   257.309998  3271000\n",
              "2013-01-03   257.269989   260.880005   256.369995   258.480011  2750900\n",
              "2013-01-04   257.579987   259.799988   256.649994   259.149994  1874200\n",
              "2013-01-07   262.970001   269.730011   262.670013   268.459991  4910000\n",
              "2013-01-08   267.070007   268.980011   263.570007   266.380005  3010700\n",
              "...                 ...          ...          ...          ...      ...\n",
              "2019-12-20  1799.619995  1802.969971  1782.449951  1786.500000  5150800\n",
              "2019-12-23  1788.260010  1793.000000  1784.510010  1793.000000  2136400\n",
              "2019-12-24  1793.810059  1795.569946  1787.579956  1789.209961   881300\n",
              "2019-12-26  1801.010010  1870.459961  1799.500000  1868.770020  6005400\n",
              "2019-12-27  1882.920044  1901.400024  1866.010010  1869.800049  6186600\n",
              "\n",
              "[1760 rows x 5 columns]"
            ]
          },
          "metadata": {
            "tags": []
          },
          "execution_count": 81
        }
      ]
    },
    {
      "cell_type": "code",
      "metadata": {
        "id": "i9Mymf8Eziba"
      },
      "source": [
        "lookback_days=30\n",
        "forward_days =3"
      ],
      "execution_count": 82,
      "outputs": []
    },
    {
      "cell_type": "code",
      "metadata": {
        "id": "zv7MI8e1MtaG"
      },
      "source": [
        "# df_A = pd.read_csv('/content/sample_data/S_P500.csv')\n",
        "# #df_B = pd.read_csv('/content/sample_data/GOOG.csv')\n",
        "# #df_B.columns=['Date','VIX_Open','VIX_High','VIX_Low','VIX_Close','VIX_Adj Close','VIX_Volume']\n",
        "# #df_A = df_A.merge(df_B, how ='inner' , on = 'Date')\n",
        "# df_A['Date'] = pd.to_datetime(df_A['Date'])\n",
        "# df_A.set_index('Date', inplace=True)"
      ],
      "execution_count": 83,
      "outputs": []
    },
    {
      "cell_type": "code",
      "metadata": {
        "id": "RXCgu3viMtjM"
      },
      "source": [
        "#df_A = df_A.fillna(method='backfill')\n",
        "#df_A_y.drop(['Open','High','Low','Adj Close','Volume'], axis=1, inplace=True)\n",
        "#,'VIX_Open','VIX_High','VIX_Low','VIX_Close','VIX_Adj Close','VIX_Volume'"
      ],
      "execution_count": 84,
      "outputs": []
    },
    {
      "cell_type": "code",
      "metadata": {
        "id": "YjMtO3bX8MPp"
      },
      "source": [
        "def get_technical_indicators(dataset):\n",
        "    # Create 7 and 30 days Moving Average\n",
        "    dataset['ma7'] = dataset['Close'].rolling(window=7, min_periods = 1).mean()\n",
        "    dataset['ma26'] = dataset['Close'].rolling(window=26, min_periods = 1).mean()\n",
        "\n",
        "    dataset['ma7_open'] = dataset['Open'].rolling(window=7, min_periods = 1).mean()\n",
        "    dataset['ma26_open'] = dataset['Open'].rolling(window=26, min_periods = 1).mean()\n",
        "    \n",
        "    \n",
        "    # Create MACD\n",
        "    dataset['26ema'] = dataset['Close'].ewm(span=26).mean()\n",
        "    dataset['12ema'] = dataset['Close'].ewm(span=12).mean()\n",
        "    dataset['MACD'] = (dataset['12ema']-dataset['26ema'])\n",
        "# Create Bollinger Bands\n",
        "    dataset['20sd'] = dataset['Close'].rolling(window=20, min_periods = 1).std()\n",
        "    dataset['20sd'] = dataset['20sd'].fillna(method='backfill').dropna()\n",
        "    dataset['upper_band'] = dataset['ma26'] + (dataset['20sd']*2)\n",
        "    dataset['lower_band'] = dataset['ma26'] - (dataset['20sd']*2)\n",
        "\n",
        "    dataset['Close_lag1'] = dataset['Close'] .shift(1)\n",
        "    #dataset['Close_lag1'] = dataset['Close_lag1'].fillna(method='backfill').dropna()\n",
        "    dataset['Close_lag2'] = dataset['Close'] .shift(2)\n",
        "    #dataset['Close_lag2'] = dataset['Close_lag2'].fillna(method='backfill').dropna()\n",
        "    dataset['Close_lag3'] = dataset['Close'] .shift(3)\n",
        "    #dataset['Close_lag3'] = dataset['Close_lag3'].fillna(method='backfill').dropna()\n",
        "    dataset['Close_lag4'] = dataset['Close'] .shift(4)\n",
        "    #dataset['Close_lag4'] = dataset['Close_lag4'].fillna(method='backfill').dropna()\n",
        "    dataset['Close_lag5'] = dataset['Close'] .shift(5)\n",
        "    #dataset['Close_lag5'] = dataset['Close_lag5'].fillna(method='backfill').dropna()\n",
        "    \n",
        "    # Create Exponential moving average\n",
        "    dataset['ema'] = dataset['Close'].ewm(com=0.5).mean()\n",
        "    \n",
        "    # Create Momentum\n",
        "    #dataset['momentum'] = dataset['Close']-1\n",
        "    \n",
        "    return dataset"
      ],
      "execution_count": 85,
      "outputs": []
    },
    {
      "cell_type": "code",
      "metadata": {
        "id": "PjtPn6eodyep",
        "colab": {
          "base_uri": "https://localhost:8080/",
          "height": 553
        },
        "outputId": "7bfb5076-a446-4a01-8bb7-37709ea14e16"
      },
      "source": [
        "import seaborn as sns \n",
        "from scipy.stats import norm \n",
        "\n",
        "df_A_ti = get_technical_indicators(df_A)\n",
        "#df_A_ti = df_A_ti.dropna()\n",
        "\n",
        "corrmat = df_A_ti.corr() \n",
        "  \n",
        "f, ax = plt.subplots(figsize =(9, 8)) \n",
        "sns.heatmap(corrmat, ax = ax, cmap =\"YlGnBu\", linewidths = 0.1) "
      ],
      "execution_count": 86,
      "outputs": [
        {
          "output_type": "execute_result",
          "data": {
            "text/plain": [
              "<matplotlib.axes._subplots.AxesSubplot at 0x7fceeb8eec10>"
            ]
          },
          "metadata": {
            "tags": []
          },
          "execution_count": 86
        },
        {
          "output_type": "display_data",
          "data": {
            "image/png": "[encoded data removed]",
            "text/plain": [
              "<Figure size 648x576 with 2 Axes>"
            ]
          },
          "metadata": {
            "tags": [],
            "needs_background": "light"
          }
        }
      ]
    },
    {
      "cell_type": "code",
      "metadata": {
        "id": "MofhCvetrHsy"
      },
      "source": [
        "#df_A_ti = get_technical_indicators(df_A)\n",
        "#df_A_ti = df_A_ti.dropna()\n",
        "#df_A_ti = df_A_ti[5:]\n",
        "#df_A_ti = df_A_ti.fillna(method='backfill')\n",
        "df_A_ti = df_A_ti.fillna(method='backfill')\n",
        "df_A_y = df_A_ti.copy()\n",
        "df_A_y = df_A_y[['Open','Close']]\n",
        "#df_A_ti = df_A_ti[5:]\n",
        "df_A_ti = df_A_ti[['Open','Close','High', 'Low','Volume','20sd','MACD']]\n",
        "#,'Close_lag1','Close_lag2','Close_lag3','Close_lag4','Close_lag5'\n",
        "#,'Adj Close','VIX_Open','VIX_High','VIX_Low','VIX_Close','VIX_Adj Close'\n",
        " #,'VIX_20sd','upper_band','lower_band']]#,'VIX_Open','VIX_High','VIX_Low','VIX_Close']]\n"
      ],
      "execution_count": 87,
      "outputs": []
    },
    {
      "cell_type": "code",
      "metadata": {
        "colab": {
          "base_uri": "https://localhost:8080/"
        },
        "id": "lBF2zRUJ51e1",
        "outputId": "767ae42e-610c-4339-efcd-f598a7269f23"
      },
      "source": [
        "df_A_ti.isna().any()\n",
        "df_A_y.isna().any()"
      ],
      "execution_count": 88,
      "outputs": [
        {
          "output_type": "execute_result",
          "data": {
            "text/plain": [
              "Open     False\n",
              "Close    False\n",
              "dtype: bool"
            ]
          },
          "metadata": {
            "tags": []
          },
          "execution_count": 88
        }
      ]
    },
    {
      "cell_type": "code",
      "metadata": {
        "id": "x3Jj9Ah4N0g_"
      },
      "source": [
        "#from statsmodels.graphics.tsaplots import plot_acf,plot_pacf\n",
        "#plot_acf(df_A_ti['Close'], lags=50)\n",
        "#plot_pacf(df_A_ti['Close'], lags=50)"
      ],
      "execution_count": 89,
      "outputs": []
    },
    {
      "cell_type": "code",
      "metadata": {
        "id": "p8E7WpOAkDIX"
      },
      "source": [
        "args = df_A_ti.values.reshape(df_A_ti.shape[0],7)\n",
        "args_y = df_A_y.values.reshape(df_A_y.shape[0],2)"
      ],
      "execution_count": 90,
      "outputs": []
    },
    {
      "cell_type": "code",
      "metadata": {
        "id": "J-Dtw7eEMtef"
      },
      "source": [
        "in_seq1 = args\n",
        "in_seq1_y= args_y"
      ],
      "execution_count": 91,
      "outputs": []
    },
    {
      "cell_type": "code",
      "metadata": {
        "id": "LSXfesVVQKT1",
        "colab": {
          "base_uri": "https://localhost:8080/"
        },
        "outputId": "06f3da26-8258-4ea8-96c4-355393be84a7"
      },
      "source": [
        "#x_scaler = MinMaxScaler().fit(args)\n",
        "#X= x_scaler.transform(args)\n",
        "print(in_seq1.shape)\n",
        "print(in_seq1_y.shape)"
      ],
      "execution_count": 92,
      "outputs": [
        {
          "output_type": "stream",
          "text": [
            "(1760, 7)\n",
            "(1760, 2)\n"
          ],
          "name": "stdout"
        }
      ]
    },
    {
      "cell_type": "code",
      "metadata": {
        "id": "JCkBwx1cMtd0"
      },
      "source": [
        "division = len(in_seq1) - 40*3\n",
        "\n",
        "data_train = in_seq1[:division]\n",
        "data_test = in_seq1[(division-lookback_days):]\n",
        "\n",
        "data_train_y= in_seq1_y[:division]\n",
        "data_test_y = in_seq1_y[(division-lookback_days):]"
      ],
      "execution_count": 93,
      "outputs": []
    },
    {
      "cell_type": "code",
      "metadata": {
        "id": "1SUWD04Jc_gy"
      },
      "source": [
        "def split_sequences(sequences, sequences_y,  n_steps_in, n_steps_out):\n",
        "\tX, y = list(), list()\n",
        "\tfor i in range(len(sequences)):\n",
        "\t\t# find the end of this pattern\n",
        "\t\tend_ix = i + n_steps_in\n",
        "\t\tout_end_ix = end_ix + n_steps_out\n",
        "\t\t# check if we are beyond the dataset\n",
        "\t\tif out_end_ix > len(sequences):\n",
        "\t\t\tbreak\n",
        "\t\t# gather input and output parts of the pattern\n",
        "\t\tseq_x, seq_y = sequences[i:end_ix, :], sequences_y[end_ix:out_end_ix, :]\n",
        "\t\tX.append(seq_x)\n",
        "\t\ty.append(seq_y)\n",
        "\treturn array(X), array(y)"
      ],
      "execution_count": 94,
      "outputs": []
    },
    {
      "cell_type": "code",
      "metadata": {
        "id": "6RaTaqRGdDcM"
      },
      "source": [
        "X_train,y_train = split_sequences(data_train, data_train_y, lookback_days, forward_days)"
      ],
      "execution_count": 95,
      "outputs": []
    },
    {
      "cell_type": "code",
      "metadata": {
        "id": "0W48lnW5xh-V"
      },
      "source": [
        "X_features = X_train.shape[2]\n",
        "y_features = y_train.shape[2]"
      ],
      "execution_count": 96,
      "outputs": []
    },
    {
      "cell_type": "code",
      "metadata": {
        "id": "64aznSEIOAoI"
      },
      "source": [
        "X_train=X_train.reshape(X_train.shape[0],lookback_days*X_features)\n",
        "y_train=y_train.reshape(y_train.shape[0],forward_days*y_features)"
      ],
      "execution_count": 97,
      "outputs": []
    },
    {
      "cell_type": "code",
      "metadata": {
        "id": "VBdhVISxalzh",
        "colab": {
          "base_uri": "https://localhost:8080/"
        },
        "outputId": "e03388ae-1a33-4194-d103-a39a475f7868"
      },
      "source": [
        "X_train.shape"
      ],
      "execution_count": 98,
      "outputs": [
        {
          "output_type": "execute_result",
          "data": {
            "text/plain": [
              "(1608, 210)"
            ]
          },
          "metadata": {
            "tags": []
          },
          "execution_count": 98
        }
      ]
    },
    {
      "cell_type": "code",
      "metadata": {
        "id": "ZgA2KZB-NaXV"
      },
      "source": [
        "x_scaler = MinMaxScaler()#.fit(X_train)\n",
        "#x_scaler = RobustScaler(quantile_range = (0.05,0.95))\n",
        "#x_scaler.fit(X_train)\n",
        "#X_train = x_scaler.transform(X_train)"
      ],
      "execution_count": 99,
      "outputs": []
    },
    {
      "cell_type": "code",
      "metadata": {
        "id": "FvFXJPSraUYz"
      },
      "source": [
        "smoothing_window_size = 500\n",
        "for di in range(0,1000,smoothing_window_size):\n",
        "    x_scaler.fit(X_train[di:di+smoothing_window_size,:])\n",
        "    X_train[di:di+smoothing_window_size,:] = x_scaler.transform(X_train[di:di+smoothing_window_size,:])\n",
        "\n",
        "# You normalize the last bit of remaining data\n",
        "x_scaler.fit(X_train[di+smoothing_window_size:,:])\n",
        "X_train[di+smoothing_window_size:,:] = x_scaler.transform(X_train[di+smoothing_window_size:,:])"
      ],
      "execution_count": 100,
      "outputs": []
    },
    {
      "cell_type": "code",
      "metadata": {
        "id": "2tj9cHArOa6r",
        "colab": {
          "base_uri": "https://localhost:8080/"
        },
        "outputId": "dbdd5a17-1e26-472d-f16c-9dbdffd97d20"
      },
      "source": [
        "y_train.max()"
      ],
      "execution_count": 101,
      "outputs": [
        {
          "output_type": "execute_result",
          "data": {
            "text/plain": [
              "2039.510009765625"
            ]
          },
          "metadata": {
            "tags": []
          },
          "execution_count": 101
        }
      ]
    },
    {
      "cell_type": "code",
      "metadata": {
        "id": "se6FZOGMNaZn"
      },
      "source": [
        "y_scaler = MinMaxScaler()#.fit(y_train)\n",
        "#y_scaler = RobustScaler(quantile_range = (0.05,0.95))\n",
        "#y_scaler.fit(y_train)\n",
        "#y_train = y_scaler.transform(y_train)"
      ],
      "execution_count": 102,
      "outputs": []
    },
    {
      "cell_type": "code",
      "metadata": {
        "id": "TxHUe2BUbL1d"
      },
      "source": [
        "smoothing_window_size = 500\n",
        "for di in range(0,1000,smoothing_window_size):\n",
        "    y_scaler.fit(y_train[di:di+smoothing_window_size,:])\n",
        "    y_train[di:di+smoothing_window_size,:] = y_scaler.transform(y_train[di:di+smoothing_window_size,:])\n",
        "\n",
        "# You normalize the last bit of remaining data\n",
        "y_scaler.fit(y_train[di+smoothing_window_size:,:])\n",
        "y_train[di+smoothing_window_size:,:] = y_scaler.transform(y_train[di+smoothing_window_size:,:])"
      ],
      "execution_count": 103,
      "outputs": []
    },
    {
      "cell_type": "code",
      "metadata": {
        "id": "r-sXRKJbfXho"
      },
      "source": [
        "#y_scaler = StandardScaler()\n",
        "#y_scaler.fit(df_A_ti[:df_A_ti.shape[0]-3][['Close']])\n",
        "#y = y_scaler.transform(y_train)"
      ],
      "execution_count": 104,
      "outputs": []
    },
    {
      "cell_type": "code",
      "metadata": {
        "id": "q9LTm70-cAn-",
        "colab": {
          "base_uri": "https://localhost:8080/",
          "height": 282
        },
        "outputId": "59ebddae-aee2-40f5-9920-85722e6f75e6"
      },
      "source": [
        "plt.plot(X_train)\n",
        "plt.plot(y_train)\n",
        "plt.show"
      ],
      "execution_count": 105,
      "outputs": [
        {
          "output_type": "execute_result",
          "data": {
            "text/plain": [
              "<function matplotlib.pyplot.show>"
            ]
          },
          "metadata": {
            "tags": []
          },
          "execution_count": 105
        },
        {
          "output_type": "display_data",
          "data": {
            "image/png": "[encoded data removed]",
            "text/plain": [
              "<Figure size 432x288 with 1 Axes>"
            ]
          },
          "metadata": {
            "tags": [],
            "needs_background": "light"
          }
        }
      ]
    },
    {
      "cell_type": "code",
      "metadata": {
        "id": "bgwJMvKFNacE"
      },
      "source": [
        "X_train = X_train.reshape(X_train.shape[0], lookback_days, X_features)\n",
        "#y_train = y_train.reshape(y_train.shape[0], forward_days,y_features )"
      ],
      "execution_count": 106,
      "outputs": []
    },
    {
      "cell_type": "code",
      "metadata": {
        "id": "4em4iqCvZz8H",
        "colab": {
          "base_uri": "https://localhost:8080/"
        },
        "outputId": "4dbf22d6-a4c0-4bcd-bb2f-e31153dda2f3"
      },
      "source": [
        "X_train.shape"
      ],
      "execution_count": 107,
      "outputs": [
        {
          "output_type": "execute_result",
          "data": {
            "text/plain": [
              "(1608, 30, 7)"
            ]
          },
          "metadata": {
            "tags": []
          },
          "execution_count": 107
        }
      ]
    },
    {
      "cell_type": "code",
      "metadata": {
        "id": "Wqk0gz92TF4N"
      },
      "source": [
        "from tensorflow.keras import backend as K\n",
        "class attention(tf.keras.layers.Layer):\n",
        "    \n",
        "    def __init__(self, return_sequences=True):\n",
        "        self.return_sequences = return_sequences\n",
        "        super(attention,self).__init__()\n",
        "        \n",
        "    def build(self, input_shape):\n",
        "        \n",
        "        self.W=self.add_weight(name=\"att_weight\", shape=(input_shape[-1],1),\n",
        "                               initializer=\"normal\")\n",
        "        self.b=self.add_weight(name=\"att_bias\", shape=(input_shape[1],1),\n",
        "                               initializer=\"zeros\")\n",
        "        \n",
        "        super(attention,self).build(input_shape)\n",
        "        \n",
        "    def call(self, x):\n",
        "        \n",
        "        e = K.tanh(K.dot(x,self.W)+self.b)\n",
        "        a = K.softmax(e, axis=1)\n",
        "        output = x*a\n",
        "        \n",
        "        if self.return_sequences:\n",
        "            return output\n",
        "        \n",
        "        return K.sum(output, axis=1)"
      ],
      "execution_count": 108,
      "outputs": []
    },
    {
      "cell_type": "code",
      "metadata": {
        "id": "KkKflWvunmQH"
      },
      "source": [
        "model = Sequential()\n",
        "model.add((Conv1D(filters=32, kernel_size=5, activation='relu',\n",
        "                                 input_shape=(30,7))))\n",
        "model.add((MaxPooling1D(pool_size=2)))\n",
        "model.add(Bidirectional(LSTM(100, return_sequences=True,\n",
        "              activation='tanh', recurrent_activation='hard_sigmoid',kernel_initializer='random_uniform')))\n",
        "model.add(Dropout(0.5))\n",
        "model.add(Bidirectional(LSTM(100, return_sequences=True,\n",
        "              activation='relu', recurrent_activation='hard_sigmoid',kernel_initializer='random_uniform')))\n",
        "model.add(Dropout(0.5))\n",
        "model.add(attention(return_sequences=False))\n",
        "model.add((Dense(6)))\n",
        "opt = Adam(lr=0.001)\n",
        "es = tf.keras.callbacks.EarlyStopping(monitor='val_loss', mode='min',  patience=30)\n",
        "model.compile(optimizer=opt, loss='mse', metrics=['mse','mae','mape'])"
      ],
      "execution_count": 109,
      "outputs": []
    },
    {
      "cell_type": "code",
      "metadata": {
        "id": "ufNW_KMhoZch",
        "colab": {
          "base_uri": "https://localhost:8080/"
        },
        "outputId": "51c969b5-58e8-44d4-b6c5-015979d95ce8"
      },
      "source": [
        "batch_size = 32\n",
        "model.fit(X_train, y_train, epochs=150, verbose=1 , shuffle=True,\n",
        "      callbacks=[es], batch_size=batch_size, validation_split=0.2)"
      ],
      "execution_count": 110,
      "outputs": [
        {
          "output_type": "stream",
          "text": [
            "Epoch 1/150\n",
            "41/41 [==============================] - 12s 99ms/step - loss: 0.0992 - mse: 0.0992 - mae: 0.2334 - mape: 320028.7618 - val_loss: 0.0126 - val_mse: 0.0126 - val_mae: 0.0992 - val_mape: 13.3037\n",
            "Epoch 2/150\n",
            "41/41 [==============================] - 3s 75ms/step - loss: 0.0119 - mse: 0.0119 - mae: 0.0809 - mape: 174043.7109 - val_loss: 0.0055 - val_mse: 0.0055 - val_mae: 0.0606 - val_mape: 8.5582\n",
            "Epoch 3/150\n",
            "41/41 [==============================] - 3s 73ms/step - loss: 0.0088 - mse: 0.0088 - mae: 0.0699 - mape: 182699.4476 - val_loss: 0.0050 - val_mse: 0.0050 - val_mae: 0.0555 - val_mape: 7.9450\n",
            "Epoch 4/150\n",
            "41/41 [==============================] - 3s 73ms/step - loss: 0.0124 - mse: 0.0124 - mae: 0.0842 - mape: 171788.7186 - val_loss: 0.0135 - val_mse: 0.0135 - val_mae: 0.1038 - val_mape: 13.6605\n",
            "Epoch 5/150\n",
            "41/41 [==============================] - 3s 73ms/step - loss: 0.0080 - mse: 0.0080 - mae: 0.0675 - mape: 166936.9479 - val_loss: 0.0045 - val_mse: 0.0045 - val_mae: 0.0502 - val_mape: 7.2662\n",
            "Epoch 6/150\n",
            "41/41 [==============================] - 3s 74ms/step - loss: 0.0065 - mse: 0.0065 - mae: 0.0596 - mape: 121070.2253 - val_loss: 0.0067 - val_mse: 0.0067 - val_mae: 0.0686 - val_mape: 9.2033\n",
            "Epoch 7/150\n",
            "41/41 [==============================] - 3s 73ms/step - loss: 0.0064 - mse: 0.0064 - mae: 0.0589 - mape: 133573.6322 - val_loss: 0.0049 - val_mse: 0.0049 - val_mae: 0.0571 - val_mape: 7.6257\n",
            "Epoch 8/150\n",
            "41/41 [==============================] - 3s 74ms/step - loss: 0.0048 - mse: 0.0048 - mae: 0.0519 - mape: 240950.1992 - val_loss: 0.0039 - val_mse: 0.0039 - val_mae: 0.0523 - val_mape: 7.0462\n",
            "Epoch 9/150\n",
            "41/41 [==============================] - 3s 72ms/step - loss: 0.0043 - mse: 0.0043 - mae: 0.0476 - mape: 115365.5435 - val_loss: 0.0060 - val_mse: 0.0060 - val_mae: 0.0674 - val_mape: 8.9189\n",
            "Epoch 10/150\n",
            "41/41 [==============================] - 3s 72ms/step - loss: 0.0041 - mse: 0.0041 - mae: 0.0460 - mape: 165618.3876 - val_loss: 0.0045 - val_mse: 0.0045 - val_mae: 0.0557 - val_mape: 7.5104\n",
            "Epoch 11/150\n",
            "41/41 [==============================] - 3s 74ms/step - loss: 0.0039 - mse: 0.0039 - mae: 0.0461 - mape: 123153.9812 - val_loss: 0.0025 - val_mse: 0.0025 - val_mae: 0.0375 - val_mape: 5.3861\n",
            "Epoch 12/150\n",
            "41/41 [==============================] - 3s 73ms/step - loss: 0.0041 - mse: 0.0041 - mae: 0.0464 - mape: 93070.6957 - val_loss: 0.0026 - val_mse: 0.0026 - val_mae: 0.0384 - val_mape: 5.6234\n",
            "Epoch 13/150\n",
            "41/41 [==============================] - 3s 73ms/step - loss: 0.0048 - mse: 0.0048 - mae: 0.0519 - mape: 126469.9257 - val_loss: 0.0033 - val_mse: 0.0033 - val_mae: 0.0459 - val_mape: 6.6063\n",
            "Epoch 14/150\n",
            "41/41 [==============================] - 3s 73ms/step - loss: 0.0038 - mse: 0.0038 - mae: 0.0450 - mape: 125962.4890 - val_loss: 0.0033 - val_mse: 0.0033 - val_mae: 0.0458 - val_mape: 6.2620\n",
            "Epoch 15/150\n",
            "41/41 [==============================] - 3s 72ms/step - loss: 0.0035 - mse: 0.0035 - mae: 0.0428 - mape: 89079.2245 - val_loss: 0.0026 - val_mse: 0.0026 - val_mae: 0.0388 - val_mape: 5.4075\n",
            "Epoch 16/150\n",
            "41/41 [==============================] - 3s 73ms/step - loss: 0.0036 - mse: 0.0036 - mae: 0.0441 - mape: 131944.0435 - val_loss: 0.0024 - val_mse: 0.0024 - val_mae: 0.0380 - val_mape: 5.3029\n",
            "Epoch 17/150\n",
            "41/41 [==============================] - 3s 74ms/step - loss: 0.0030 - mse: 0.0030 - mae: 0.0403 - mape: 75799.5952 - val_loss: 0.0036 - val_mse: 0.0036 - val_mae: 0.0468 - val_mape: 6.4696\n",
            "Epoch 18/150\n",
            "41/41 [==============================] - 3s 72ms/step - loss: 0.0034 - mse: 0.0034 - mae: 0.0435 - mape: 157290.5647 - val_loss: 0.0073 - val_mse: 0.0073 - val_mae: 0.0747 - val_mape: 9.8334\n",
            "Epoch 19/150\n",
            "41/41 [==============================] - 3s 72ms/step - loss: 0.0041 - mse: 0.0041 - mae: 0.0480 - mape: 82762.5761 - val_loss: 0.0025 - val_mse: 0.0025 - val_mae: 0.0386 - val_mape: 5.3874\n",
            "Epoch 20/150\n",
            "41/41 [==============================] - 3s 73ms/step - loss: 0.0029 - mse: 0.0029 - mae: 0.0392 - mape: 122108.9695 - val_loss: 0.0085 - val_mse: 0.0085 - val_mae: 0.0815 - val_mape: 10.8345\n",
            "Epoch 21/150\n",
            "41/41 [==============================] - 3s 74ms/step - loss: 0.0037 - mse: 0.0037 - mae: 0.0446 - mape: 113243.8372 - val_loss: 0.0024 - val_mse: 0.0024 - val_mae: 0.0371 - val_mape: 5.2176\n",
            "Epoch 22/150\n",
            "41/41 [==============================] - 3s 73ms/step - loss: 0.0028 - mse: 0.0028 - mae: 0.0381 - mape: 72541.2900 - val_loss: 0.0054 - val_mse: 0.0054 - val_mae: 0.0630 - val_mape: 8.4115\n",
            "Epoch 23/150\n",
            "41/41 [==============================] - 3s 73ms/step - loss: 0.0030 - mse: 0.0030 - mae: 0.0391 - mape: 106251.9742 - val_loss: 0.0021 - val_mse: 0.0021 - val_mae: 0.0342 - val_mape: 4.9028\n",
            "Epoch 24/150\n",
            "41/41 [==============================] - 3s 73ms/step - loss: 0.0040 - mse: 0.0040 - mae: 0.0465 - mape: 86721.2413 - val_loss: 0.0025 - val_mse: 0.0025 - val_mae: 0.0377 - val_mape: 5.2515\n",
            "Epoch 25/150\n",
            "41/41 [==============================] - 3s 73ms/step - loss: 0.0027 - mse: 0.0027 - mae: 0.0376 - mape: 119300.6164 - val_loss: 0.0035 - val_mse: 0.0035 - val_mae: 0.0455 - val_mape: 6.2784\n",
            "Epoch 26/150\n",
            "41/41 [==============================] - 3s 74ms/step - loss: 0.0028 - mse: 0.0028 - mae: 0.0380 - mape: 93574.6281 - val_loss: 0.0033 - val_mse: 0.0033 - val_mae: 0.0456 - val_mape: 6.2412\n",
            "Epoch 27/150\n",
            "41/41 [==============================] - 3s 73ms/step - loss: 0.0029 - mse: 0.0029 - mae: 0.0390 - mape: 104820.2084 - val_loss: 0.0030 - val_mse: 0.0030 - val_mae: 0.0438 - val_mape: 5.9679\n",
            "Epoch 28/150\n",
            "41/41 [==============================] - 3s 72ms/step - loss: 0.0032 - mse: 0.0032 - mae: 0.0403 - mape: 182094.3449 - val_loss: 0.0025 - val_mse: 0.0025 - val_mae: 0.0377 - val_mape: 5.2516\n",
            "Epoch 29/150\n",
            "41/41 [==============================] - 3s 73ms/step - loss: 0.0028 - mse: 0.0028 - mae: 0.0386 - mape: 75011.1562 - val_loss: 0.0037 - val_mse: 0.0037 - val_mae: 0.0509 - val_mape: 6.7447\n",
            "Epoch 30/150\n",
            "41/41 [==============================] - 3s 74ms/step - loss: 0.0030 - mse: 0.0030 - mae: 0.0395 - mape: 89641.9631 - val_loss: 0.0034 - val_mse: 0.0034 - val_mae: 0.0464 - val_mape: 6.6869\n",
            "Epoch 31/150\n",
            "41/41 [==============================] - 3s 73ms/step - loss: 0.0035 - mse: 0.0035 - mae: 0.0439 - mape: 89966.7626 - val_loss: 0.0023 - val_mse: 0.0023 - val_mae: 0.0355 - val_mape: 5.1458\n",
            "Epoch 32/150\n",
            "41/41 [==============================] - 3s 73ms/step - loss: 0.0033 - mse: 0.0033 - mae: 0.0412 - mape: 80732.1961 - val_loss: 0.0076 - val_mse: 0.0076 - val_mae: 0.0757 - val_mape: 10.0516\n",
            "Epoch 33/150\n",
            "41/41 [==============================] - 3s 73ms/step - loss: 0.0029 - mse: 0.0029 - mae: 0.0392 - mape: 78169.2693 - val_loss: 0.0053 - val_mse: 0.0053 - val_mae: 0.0604 - val_mape: 8.0934\n",
            "Epoch 34/150\n",
            "41/41 [==============================] - 3s 74ms/step - loss: 0.0039 - mse: 0.0039 - mae: 0.0472 - mape: 108200.1769 - val_loss: 0.0054 - val_mse: 0.0054 - val_mae: 0.0606 - val_mape: 8.2990\n",
            "Epoch 35/150\n",
            "41/41 [==============================] - 3s 74ms/step - loss: 0.0032 - mse: 0.0032 - mae: 0.0419 - mape: 123859.5235 - val_loss: 0.0039 - val_mse: 0.0039 - val_mae: 0.0517 - val_mape: 6.9535\n",
            "Epoch 36/150\n",
            "41/41 [==============================] - 3s 73ms/step - loss: 0.0028 - mse: 0.0028 - mae: 0.0381 - mape: 67991.9567 - val_loss: 0.0034 - val_mse: 0.0034 - val_mae: 0.0468 - val_mape: 6.3690\n",
            "Epoch 37/150\n",
            "41/41 [==============================] - 3s 75ms/step - loss: 0.0030 - mse: 0.0030 - mae: 0.0378 - mape: 93965.9192 - val_loss: 0.0023 - val_mse: 0.0023 - val_mae: 0.0351 - val_mape: 4.9236\n",
            "Epoch 38/150\n",
            "41/41 [==============================] - 3s 73ms/step - loss: 0.0029 - mse: 0.0029 - mae: 0.0383 - mape: 71147.3911 - val_loss: 0.0035 - val_mse: 0.0035 - val_mae: 0.0475 - val_mape: 6.4532\n",
            "Epoch 39/150\n",
            "41/41 [==============================] - 3s 73ms/step - loss: 0.0031 - mse: 0.0031 - mae: 0.0400 - mape: 129406.2286 - val_loss: 0.0030 - val_mse: 0.0030 - val_mae: 0.0412 - val_mape: 5.7115\n",
            "Epoch 40/150\n",
            "41/41 [==============================] - 3s 74ms/step - loss: 0.0024 - mse: 0.0024 - mae: 0.0358 - mape: 98134.0952 - val_loss: 0.0023 - val_mse: 0.0023 - val_mae: 0.0362 - val_mape: 5.2122\n",
            "Epoch 41/150\n",
            "41/41 [==============================] - 3s 73ms/step - loss: 0.0027 - mse: 0.0027 - mae: 0.0383 - mape: 139138.7664 - val_loss: 0.0022 - val_mse: 0.0022 - val_mae: 0.0361 - val_mape: 4.9937\n",
            "Epoch 42/150\n",
            "41/41 [==============================] - 3s 74ms/step - loss: 0.0025 - mse: 0.0025 - mae: 0.0351 - mape: 109151.9285 - val_loss: 0.0035 - val_mse: 0.0035 - val_mae: 0.0480 - val_mape: 6.5061\n",
            "Epoch 43/150\n",
            "41/41 [==============================] - 3s 74ms/step - loss: 0.0024 - mse: 0.0024 - mae: 0.0342 - mape: 117574.2579 - val_loss: 0.0040 - val_mse: 0.0040 - val_mae: 0.0517 - val_mape: 7.0323\n",
            "Epoch 44/150\n",
            "41/41 [==============================] - 3s 74ms/step - loss: 0.0025 - mse: 0.0025 - mae: 0.0357 - mape: 91068.5092 - val_loss: 0.0033 - val_mse: 0.0033 - val_mae: 0.0459 - val_mape: 6.2706\n",
            "Epoch 45/150\n",
            "41/41 [==============================] - 3s 74ms/step - loss: 0.0025 - mse: 0.0025 - mae: 0.0348 - mape: 107804.2761 - val_loss: 0.0038 - val_mse: 0.0038 - val_mae: 0.0499 - val_mape: 6.7407\n",
            "Epoch 46/150\n",
            "41/41 [==============================] - 3s 74ms/step - loss: 0.0023 - mse: 0.0023 - mae: 0.0358 - mape: 101170.8780 - val_loss: 0.0059 - val_mse: 0.0059 - val_mae: 0.0664 - val_mape: 8.9152\n",
            "Epoch 47/150\n",
            "41/41 [==============================] - 3s 75ms/step - loss: 0.0024 - mse: 0.0024 - mae: 0.0342 - mape: 112487.2379 - val_loss: 0.0031 - val_mse: 0.0031 - val_mae: 0.0427 - val_mape: 5.8581\n",
            "Epoch 48/150\n",
            "41/41 [==============================] - 3s 75ms/step - loss: 0.0022 - mse: 0.0022 - mae: 0.0332 - mape: 91643.6192 - val_loss: 0.0054 - val_mse: 0.0054 - val_mae: 0.0629 - val_mape: 8.9965\n",
            "Epoch 49/150\n",
            "41/41 [==============================] - 3s 73ms/step - loss: 0.0040 - mse: 0.0040 - mae: 0.0478 - mape: 97410.0339 - val_loss: 0.0084 - val_mse: 0.0084 - val_mae: 0.0799 - val_mape: 10.7329\n",
            "Epoch 50/150\n",
            "41/41 [==============================] - 3s 73ms/step - loss: 0.0026 - mse: 0.0026 - mae: 0.0370 - mape: 66900.9532 - val_loss: 0.0033 - val_mse: 0.0033 - val_mae: 0.0448 - val_mape: 6.1217\n",
            "Epoch 51/150\n",
            "41/41 [==============================] - 3s 73ms/step - loss: 0.0025 - mse: 0.0025 - mae: 0.0354 - mape: 101067.4606 - val_loss: 0.0056 - val_mse: 0.0056 - val_mae: 0.0623 - val_mape: 8.4452\n",
            "Epoch 52/150\n",
            "41/41 [==============================] - 3s 73ms/step - loss: 0.0025 - mse: 0.0025 - mae: 0.0360 - mape: 142961.8845 - val_loss: 0.0024 - val_mse: 0.0024 - val_mae: 0.0352 - val_mape: 4.9761\n",
            "Epoch 53/150\n",
            "41/41 [==============================] - 3s 73ms/step - loss: 0.0022 - mse: 0.0022 - mae: 0.0343 - mape: 84910.1751 - val_loss: 0.0062 - val_mse: 0.0062 - val_mae: 0.0665 - val_mape: 8.9340\n"
          ],
          "name": "stdout"
        },
        {
          "output_type": "execute_result",
          "data": {
            "text/plain": [
              "<tensorflow.python.keras.callbacks.History at 0x7fceec17e2d0>"
            ]
          },
          "metadata": {
            "tags": []
          },
          "execution_count": 110
        }
      ]
    },
    {
      "cell_type": "code",
      "metadata": {
        "id": "-bDKkF5BYM8f",
        "colab": {
          "base_uri": "https://localhost:8080/"
        },
        "outputId": "6682753d-9d99-4fc0-ca67-359441f4be8d"
      },
      "source": [
        "model.save('my_model') "
      ],
      "execution_count": 111,
      "outputs": [
        {
          "output_type": "stream",
          "text": [
            "INFO:tensorflow:Assets written to: my_model/assets\n"
          ],
          "name": "stdout"
        }
      ]
    },
    {
      "cell_type": "code",
      "metadata": {
        "id": "vSEUfUTZ8YG4",
        "colab": {
          "base_uri": "https://localhost:8080/"
        },
        "outputId": "714b5542-caa1-4b49-b7c2-7be80914044c"
      },
      "source": [
        "y_train.max(),y_train.min()"
      ],
      "execution_count": 112,
      "outputs": [
        {
          "output_type": "execute_result",
          "data": {
            "text/plain": [
              "(1.0000000000000002, 0.0)"
            ]
          },
          "metadata": {
            "tags": []
          },
          "execution_count": 112
        }
      ]
    },
    {
      "cell_type": "markdown",
      "metadata": {
        "id": "uAqqm_lstOdE"
      },
      "source": [
        "# Testing"
      ]
    },
    {
      "cell_type": "code",
      "metadata": {
        "id": "G45Vza6LOqBk"
      },
      "source": [
        "X_test, y_test = split_sequences(data_test, data_test_y, lookback_days,forward_days)\n",
        "X_test_original = X_test"
      ],
      "execution_count": 113,
      "outputs": []
    },
    {
      "cell_type": "code",
      "metadata": {
        "id": "Sr27oDqdSstj"
      },
      "source": [
        "X_test=X_test.reshape(X_test.shape[0],lookback_days*X_features)\n",
        "y_test=y_test.reshape(y_test.shape[0],forward_days*y_features)"
      ],
      "execution_count": 114,
      "outputs": []
    },
    {
      "cell_type": "code",
      "metadata": {
        "id": "oDy-8aTnNaep"
      },
      "source": [
        "xtest_scaler = MinMaxScaler().fit(X_test)\n",
        "X_test = xtest_scaler.transform(X_test)\n",
        "ytest_scaler = MinMaxScaler().fit(y_test)\n",
        "#y_scaler.fit(y_test)\n",
        "y_test = ytest_scaler.transform(y_test)"
      ],
      "execution_count": 115,
      "outputs": []
    },
    {
      "cell_type": "code",
      "metadata": {
        "id": "-srbMGEBOkSK"
      },
      "source": [
        "X_test = X_test.reshape(X_test.shape[0],lookback_days, X_features)\n",
        "#y_test = y_test.reshape(y_test.shape[0],forward_days, y_features)"
      ],
      "execution_count": 116,
      "outputs": []
    },
    {
      "cell_type": "code",
      "metadata": {
        "id": "lHJKpGpOOkWL"
      },
      "source": [
        "y_pred = model.predict(X_test,batch_size = 16)"
      ],
      "execution_count": 117,
      "outputs": []
    },
    {
      "cell_type": "code",
      "metadata": {
        "id": "ls3bB4CDCPg3",
        "colab": {
          "base_uri": "https://localhost:8080/"
        },
        "outputId": "c3f92e12-97e9-4752-8ada-09d1ca095c38"
      },
      "source": [
        "evaluation = model.evaluate(X_test, y_test)\n",
        "print(evaluation) #'mse','mae', 'mape'"
      ],
      "execution_count": 118,
      "outputs": [
        {
          "output_type": "stream",
          "text": [
            "4/4 [==============================] - 0s 14ms/step - loss: 0.0114 - mse: 0.0114 - mae: 0.0845 - mape: 1233962.5000\n",
            "[0.011414502747356892, 0.011414502747356892, 0.08450473099946976, 1233962.5]\n"
          ],
          "name": "stdout"
        }
      ]
    },
    {
      "cell_type": "code",
      "metadata": {
        "id": "EPvPKhxbOkYu"
      },
      "source": [
        "y_pred = y_pred.reshape(y_pred.shape[0],forward_days*y_features)\n",
        "y_pred = ytest_scaler.inverse_transform(y_pred)"
      ],
      "execution_count": 119,
      "outputs": []
    },
    {
      "cell_type": "code",
      "metadata": {
        "id": "GDp9CDMCK4fw"
      },
      "source": [
        "#y_pred = y_pred.reshape(y_pred.shape[0],forward_days,y_features)"
      ],
      "execution_count": 120,
      "outputs": []
    },
    {
      "cell_type": "code",
      "metadata": {
        "id": "pWGIsqM_O4H0"
      },
      "source": [
        "y_test = y_test.reshape(y_test.shape[0],forward_days*y_features)\n",
        "#y_true = y_test\n",
        "y_true = ytest_scaler.inverse_transform(y_test)"
      ],
      "execution_count": 121,
      "outputs": []
    },
    {
      "cell_type": "code",
      "metadata": {
        "id": "Iz3PvwjqLSqU"
      },
      "source": [
        "X_test = X_test.reshape(X_test.shape[0],lookback_days*X_features)\n",
        "X_test = xtest_scaler.inverse_transform(X_test)\n",
        "#y_true = y_true.reshape(y_true.shape[0],forward_days,y_features)"
      ],
      "execution_count": 122,
      "outputs": []
    },
    {
      "cell_type": "code",
      "metadata": {
        "id": "glInJEhla-0M"
      },
      "source": [
        "diff_true = array([y_true[:,x] - X_test_original[:,0,-1] for x in [0,1,2,3,4,5]])\n",
        "diff_pred = array([y_pred[:,x] - X_test_original[:,0,-1] for x in [0,1,2,3,4,5]])"
      ],
      "execution_count": 123,
      "outputs": []
    },
    {
      "cell_type": "code",
      "metadata": {
        "id": "PZGVOgZNYuWy"
      },
      "source": [
        "diff_true1 = array([y_true[:,x] - X_test_original[:,1,-1] for x in [1,3,5]])\n",
        "diff_true2 = array([y_true[:,x] - X_test_original[:,0,-1] for x in [0,2,4]])\n",
        "diff_true=np.concatenate((diff_true1,diff_true2),axis=1)"
      ],
      "execution_count": 124,
      "outputs": []
    },
    {
      "cell_type": "code",
      "metadata": {
        "id": "X1tI7Ba3YuWz"
      },
      "source": [
        "diff_pred1 = array([y_pred[:,x] - X_test_original[:,1,-1] for x in [1,3,5]])\n",
        "diff_pred2 = array([y_pred[:,x] - X_test_original[:,0,-1] for x in [0,2,4]])\n",
        "diff_pred=np.concatenate((diff_pred1,diff_pred2),axis=1)"
      ],
      "execution_count": 125,
      "outputs": []
    },
    {
      "cell_type": "code",
      "metadata": {
        "id": "WaMrZi2BRdy6"
      },
      "source": [
        "def rsquared(y, y_hat):\n",
        "    y_bar = y.mean()\n",
        "    ss_tot = ((y-y_bar)**2).sum()\n",
        "    ss_res = ((y-y_hat)**2).sum()\n",
        "    return 1 - (ss_res/ss_tot)"
      ],
      "execution_count": 126,
      "outputs": []
    },
    {
      "cell_type": "code",
      "metadata": {
        "colab": {
          "base_uri": "https://localhost:8080/"
        },
        "id": "OGs5oaw9j7To",
        "outputId": "837ee6dc-d811-4866-c845-d0d1becacd71"
      },
      "source": [
        "y_bar = y_true.mean()\n",
        "ss_tot = ((y_true-y_bar)**2).sum()\n",
        "ss_res = ((y_true-y_pred)**2).sum()\n",
        "print(ss_res)\n",
        "print(ss_tot)\n",
        "\n",
        "y_bar = diff_true.mean()\n",
        "ss_tot = ((diff_true-y_bar)**2).sum()\n",
        "ss_res = ((diff_true-diff_pred)**2).sum()\n",
        "print(ss_res)\n",
        "print(ss_tot)"
      ],
      "execution_count": 127,
      "outputs": [
        {
          "output_type": "stream",
          "text": [
            "829201.5130502882\n",
            "3826309.3373111063\n",
            "829201.5130502882\n",
            "4129745.0716387155\n"
          ],
          "name": "stdout"
        }
      ]
    },
    {
      "cell_type": "markdown",
      "metadata": {
        "id": "VSRExl3WuPr7"
      },
      "source": [
        "# MSE MAE RMSE"
      ]
    },
    {
      "cell_type": "code",
      "metadata": {
        "id": "kA446QyHQXao",
        "colab": {
          "base_uri": "https://localhost:8080/"
        },
        "outputId": "2e6963b6-0c9b-4b5e-bd21-004530f28832"
      },
      "source": [
        "import sklearn.metrics as metrics\n",
        "mae = metrics.mean_absolute_error(y_true, y_pred)\n",
        "mse = metrics.mean_squared_error(y_true, y_pred)\n",
        "rmse = np.sqrt(mse) #mse**(0.5)  \n",
        "r2 = rsquared(y_true, y_pred)\n",
        "mae_diff = metrics.mean_absolute_error(diff_true, diff_pred)\n",
        "mse_diff = metrics.mean_squared_error(diff_true, diff_pred)\n",
        "rmse_diff = np.sqrt(mse_diff) #mse**(0.5)  \n",
        "r2_diff = rsquared(diff_true, diff_pred)\n",
        "print(\"Results of sklearn.metrics:\")\n",
        "print(\"MAE:\",mae)\n",
        "print(\"MSE:\", mse)\n",
        "print(\"RMSE:\", rmse)\n",
        "print(\"R-Squared:\", r2)\n",
        "print(\"MAE_diff:\",mae_diff)\n",
        "print(\"MSE_diff:\", mse_diff)\n",
        "print(\"RMSE_diff:\", rmse_diff)\n",
        "print(\"R-Squared diff:\", r2_diff)"
      ],
      "execution_count": 128,
      "outputs": [
        {
          "output_type": "stream",
          "text": [
            "Results of sklearn.metrics:\n",
            "MAE: 27.0945375948976\n",
            "MSE: 1171.1885777546443\n",
            "RMSE: 34.222632536884774\n",
            "R-Squared: 0.7832894729747596\n",
            "MAE_diff: 27.09453759489761\n",
            "MSE_diff: 1171.1885777546443\n",
            "RMSE_diff: 34.222632536884774\n",
            "R-Squared diff: 0.799212421428896\n"
          ],
          "name": "stdout"
        }
      ]
    },
    {
      "cell_type": "code",
      "metadata": {
        "id": "T4TUUvi1pJTn"
      },
      "source": [
        "y_pred_len = y_pred.shape[0]"
      ],
      "execution_count": 129,
      "outputs": []
    },
    {
      "cell_type": "code",
      "metadata": {
        "id": "1X2LTvRbYm0n"
      },
      "source": [
        "dataset = pd.DataFrame({\n",
        "    'open': y_pred[:,0], 'close': y_pred[:,1]\n",
        "                        })\n",
        "dataset_true = pd.DataFrame({\n",
        "    'open': y_true[:,0], 'close': y_true[:,1]\n",
        "                        })\n",
        "dataset.loc[:,'date'] = pd.to_datetime(df_A[-y_pred_len-2:-2].index)\n",
        "dataset_true.loc[:,'date'] = pd.to_datetime(df_A[-y_pred_len-2:-2].index)"
      ],
      "execution_count": 130,
      "outputs": []
    },
    {
      "cell_type": "code",
      "metadata": {
        "id": "ptq0CwVhw47p"
      },
      "source": [
        "dataset=dataset.assign(low=lambda d: d[['open', 'close']].min(1))\n",
        "dataset=dataset.assign(high=lambda d: d[['open', 'close']].max(1))\n",
        "dataset_true=dataset_true.assign(low=lambda d: d[['open', 'close']].min(1))\n",
        "dataset_true=dataset_true.assign(high=lambda d: d[['open', 'close']].max(1))"
      ],
      "execution_count": 131,
      "outputs": []
    },
    {
      "cell_type": "code",
      "metadata": {
        "id": "EwRTRWyxLInC",
        "colab": {
          "base_uri": "https://localhost:8080/"
        },
        "outputId": "2bf46bea-2af0-4142-95f5-604fa9d76776"
      },
      "source": [
        "%pip install https://github.com/matplotlib/mpl_finance/archive/master.zip"
      ],
      "execution_count": 132,
      "outputs": [
        {
          "output_type": "stream",
          "text": [
            "Collecting https://github.com/matplotlib/mpl_finance/archive/master.zip\n",
            "  Using cached https://github.com/matplotlib/mpl_finance/archive/master.zip\n",
            "Requirement already satisfied (use --upgrade to upgrade): mpl-finance==0.10.1 from https://github.com/matplotlib/mpl_finance/archive/master.zip in /usr/local/lib/python3.7/dist-packages\n",
            "Requirement already satisfied: matplotlib in /usr/local/lib/python3.7/dist-packages (from mpl-finance==0.10.1) (3.2.2)\n",
            "Requirement already satisfied: cycler>=0.10 in /usr/local/lib/python3.7/dist-packages (from matplotlib->mpl-finance==0.10.1) (0.10.0)\n",
            "Requirement already satisfied: python-dateutil>=2.1 in /usr/local/lib/python3.7/dist-packages (from matplotlib->mpl-finance==0.10.1) (2.8.1)\n",
            "Requirement already satisfied: kiwisolver>=1.0.1 in /usr/local/lib/python3.7/dist-packages (from matplotlib->mpl-finance==0.10.1) (1.3.1)\n",
            "Requirement already satisfied: numpy>=1.11 in /usr/local/lib/python3.7/dist-packages (from matplotlib->mpl-finance==0.10.1) (1.19.5)\n",
            "Requirement already satisfied: pyparsing!=2.0.4,!=2.1.2,!=2.1.6,>=2.0.1 in /usr/local/lib/python3.7/dist-packages (from matplotlib->mpl-finance==0.10.1) (2.4.7)\n",
            "Requirement already satisfied: six in /usr/local/lib/python3.7/dist-packages (from cycler>=0.10->matplotlib->mpl-finance==0.10.1) (1.15.0)\n",
            "Building wheels for collected packages: mpl-finance\n",
            "  Building wheel for mpl-finance (setup.py) ... \u001b[?25l\u001b[?25hdone\n",
            "  Created wheel for mpl-finance: filename=mpl_finance-0.10.1-cp37-none-any.whl size=8424 sha256=649b00890bff3ec77721750d276f3aa1e9d74ca4372532acefa7f625859474d4\n",
            "  Stored in directory: /tmp/pip-ephem-wheel-cache-d4vx9rl7/wheels/8f/bf/8a/6c858b2a3be945c7b2d658fbf6ab797b451d686cbee8aa2679\n",
            "Successfully built mpl-finance\n"
          ],
          "name": "stdout"
        }
      ]
    },
    {
      "cell_type": "code",
      "metadata": {
        "id": "HaDr9uJ-CT0S"
      },
      "source": [
        "import matplotlib.pyplot as plt\n",
        "import matplotlib.dates as mdates\n",
        "import matplotlib.ticker as mticker\n",
        "import datetime as dt\n",
        "import mpl_finance as mpf "
      ],
      "execution_count": 133,
      "outputs": []
    },
    {
      "cell_type": "code",
      "metadata": {
        "id": "tMDYwU9Mu7Pw",
        "colab": {
          "base_uri": "https://localhost:8080/",
          "height": 817
        },
        "outputId": "5ef30593-2aaa-495e-b74d-efb6f9e0b449"
      },
      "source": [
        "import plotly.graph_objects as go\n",
        "\n",
        "fig = go.Figure(data=\n",
        "                [go.Ohlc(x=dataset['date'],\n",
        "                open=dataset['open'],\n",
        "                high=dataset['high'],\n",
        "                low=dataset['low'],\n",
        "                close=dataset['close'],\n",
        "                showlegend=False,\n",
        "                name=\"predicted\"),\n",
        "                 go.Ohlc(x=dataset_true['date'],\n",
        "                open=dataset_true['open'],\n",
        "                high=dataset_true['high'],\n",
        "                low=dataset_true['low'],\n",
        "                close=dataset_true['close'],\n",
        "                showlegend=False,\n",
        "                name=\"true\",\n",
        "    increasing_line_color= 'cyan', decreasing_line_color= 'gray'\n",
        ")])\n",
        "fig.update_layout(\n",
        "    autosize=False,\n",
        "    width=1000,\n",
        "    height=800,)\n",
        "fig.update(layout_xaxis_rangeslider_visible=False)\n",
        "fig.show()"
      ],
      "execution_count": 134,
      "outputs": [
        {
          "output_type": "display_data",
          "data": {
            "text/html": [
              "<html>\n",
              "<head><meta charset=\"utf-8\" /></head>\n",
              "<body>\n",
              "    <div>\n",
              "            <script src=\"https://cdnjs.cloudflare.com/ajax/libs/mathjax/2.7.5/MathJax.js?config=TeX-AMS-MML_SVG\"></script><script type=\"text/javascript\">if (window.MathJax) {MathJax.Hub.Config({SVG: {font: \"STIX-Web\"}});}</script>\n",
              "                <script type=\"text/javascript\">window.PlotlyConfig = {MathJaxConfig: 'local'};</script>\n",
              "        <script src=\"https://cdn.plot.ly/plotly-latest.min.js\"></script>    \n",
              "            <div id=\"3fa4fc8c-c0b4-4a60-be6c-4d207dda10c8\" class=\"plotly-graph-div\" style=\"height:800px; width:1000px;\"></div>\n",
              "            <script type=\"text/javascript\">\n",
              "                \n",
              "                    window.PLOTLYENV=window.PLOTLYENV || {};\n",
              "                    \n",
              "                if (document.getElementById(\"3fa4fc8c-c0b4-4a60-be6c-4d207dda10c8\")) {\n",
              "                    Plotly.newPlot(\n",
              "                        '3fa4fc8c-c0b4-4a60-be6c-4d207dda10c8',\n",
              "                        [{\"close\": [1935.4998779296875, 1955.1527099609375, 1972.89501953125, 1981.817626953125, 1984.935302734375, 1985.3612060546875, 1975.0003662109375, 1964.5152587890625, 1951.403564453125, 1946.6212158203125, 1951.2149658203125, 1958.490478515625, 1958.1201171875, 1945.504150390625, 1918.875244140625, 1896.3121337890625, 1877.5946044921875, 1867.6341552734375, 1855.61279296875, 1836.405029296875, 1814.7769775390625, 1803.817626953125, 1816.8743896484375, 1828.3702392578125, 1832.40087890625, 1827.8485107421875, 1819.891845703125, 1804.37890625, 1798.197265625, 1811.556884765625, 1816.079345703125, 1819.98291015625, 1821.719970703125, 1800.21240234375, 1788.6468505859375, 1763.32568359375, 1765.6796875, 1763.702880859375, 1773.5821533203125, 1772.6905517578125, 1781.7200927734375, 1802.7025146484375, 1817.1708984375, 1827.50732421875, 1834.6131591796875, 1823.5166015625, 1829.4783935546875, 1833.0177001953125, 1825.244384765625, 1825.115234375, 1814.76953125, 1817.871337890625, 1809.7354736328125, 1807.1036376953125, 1782.651611328125, 1773.2503662109375, 1757.355224609375, 1753.487548828125, 1747.1329345703125, 1744.4659423828125, 1743.15625, 1735.3114013671875, 1734.13818359375, 1735.2808837890625, 1734.6199951171875, 1732.4803466796875, 1730.1798095703125, 1732.212890625, 1731.670654296875, 1736.5897216796875, 1742.5546875, 1756.287109375, 1759.5743408203125, 1768.0306396484375, 1765.63916015625, 1763.489013671875, 1760.4447021484375, 1746.1605224609375, 1740.186767578125, 1737.897216796875, 1745.3656005859375, 1754.635009765625, 1765.3656005859375, 1774.0338134765625, 1794.73876953125, 1796.459716796875, 1800.3583984375, 1791.2685546875, 1784.426513671875, 1774.2115478515625, 1769.7508544921875, 1758.8121337890625, 1753.3177490234375, 1747.9202880859375, 1745.1468505859375, 1745.4656982421875, 1746.16162109375, 1741.5152587890625, 1746.82861328125, 1757.151611328125, 1781.7825927734375, 1803.6063232421875, 1806.7789306640625, 1798.514892578125, 1772.98095703125, 1763.645751953125, 1754.23193359375, 1750.6748046875, 1746.8900146484375, 1744.878173828125, 1745.10595703125, 1750.0115966796875, 1751.611328125, 1759.5614013671875, 1771.4144287109375, 1779.476318359375, 1785.7607421875, 1794.9725341796875], \"high\": [1935.4998779296875, 1955.1527099609375, 1972.89501953125, 1981.817626953125, 1984.935302734375, 1985.3612060546875, 1975.0003662109375, 1964.5152587890625, 1951.403564453125, 1946.6212158203125, 1951.2149658203125, 1958.490478515625, 1958.1201171875, 1945.546142578125, 1918.875244140625, 1896.3121337890625, 1877.5946044921875, 1867.6341552734375, 1855.61279296875, 1836.405029296875, 1814.7769775390625, 1803.817626953125, 1816.8743896484375, 1828.3702392578125, 1832.40087890625, 1827.8485107421875, 1819.891845703125, 1804.37890625, 1798.197265625, 1811.556884765625, 1816.079345703125, 1819.98291015625, 1821.719970703125, 1800.21240234375, 1788.6468505859375, 1763.32568359375, 1765.6796875, 1763.702880859375, 1773.5821533203125, 1772.6905517578125, 1781.7200927734375, 1802.7025146484375, 1817.1708984375, 1827.50732421875, 1834.6131591796875, 1823.5166015625, 1829.4783935546875, 1833.0177001953125, 1825.244384765625, 1825.115234375, 1814.76953125, 1817.871337890625, 1809.7354736328125, 1807.1036376953125, 1782.651611328125, 1773.2503662109375, 1757.355224609375, 1753.487548828125, 1747.1329345703125, 1744.4659423828125, 1743.15625, 1735.3114013671875, 1734.13818359375, 1735.2808837890625, 1734.6199951171875, 1732.4803466796875, 1730.1798095703125, 1732.212890625, 1731.670654296875, 1736.5897216796875, 1742.5546875, 1756.287109375, 1759.5743408203125, 1768.0306396484375, 1765.63916015625, 1763.489013671875, 1760.4447021484375, 1746.1605224609375, 1740.186767578125, 1737.897216796875, 1745.3656005859375, 1754.635009765625, 1765.3656005859375, 1774.0338134765625, 1794.73876953125, 1796.459716796875, 1800.3583984375, 1791.2685546875, 1784.426513671875, 1774.2115478515625, 1769.7508544921875, 1758.8121337890625, 1753.3177490234375, 1747.9202880859375, 1745.1468505859375, 1745.4656982421875, 1746.16162109375, 1741.5152587890625, 1746.82861328125, 1757.151611328125, 1781.7825927734375, 1803.6063232421875, 1806.7789306640625, 1798.514892578125, 1772.98095703125, 1763.645751953125, 1754.23193359375, 1750.6748046875, 1746.8900146484375, 1744.878173828125, 1745.10595703125, 1750.0115966796875, 1751.611328125, 1759.5614013671875, 1771.4144287109375, 1779.476318359375, 1785.7607421875, 1794.9725341796875], \"low\": [1933.316650390625, 1952.5179443359375, 1969.675048828125, 1978.328369140625, 1981.7386474609375, 1982.4410400390625, 1972.9490966796875, 1963.057861328125, 1950.6002197265625, 1946.079345703125, 1950.9166259765625, 1958.2342529296875, 1958.0130615234375, 1945.504150390625, 1918.644775390625, 1895.214599609375, 1875.7884521484375, 1864.7252197265625, 1851.326416015625, 1829.5677490234375, 1804.72607421875, 1791.8468017578125, 1806.84423828125, 1819.9256591796875, 1825.1539306640625, 1820.103515625, 1811.6116943359375, 1793.8333740234375, 1787.51904296875, 1803.1451416015625, 1808.6282958984375, 1813.241943359375, 1815.2274169921875, 1791.2655029296875, 1778.9383544921875, 1753.9669189453125, 1756.8411865234375, 1755.2281494140625, 1765.3482666015625, 1764.6976318359375, 1773.3839111328125, 1793.92138671875, 1810.2274169921875, 1820.972412109375, 1828.2003173828125, 1816.6710205078125, 1822.8466796875, 1826.5552978515625, 1818.52099609375, 1818.3575439453125, 1807.2801513671875, 1810.572265625, 1800.9515380859375, 1797.8057861328125, 1774.70458984375, 1765.5838623046875, 1748.426513671875, 1744.4720458984375, 1737.24609375, 1734.669677734375, 1733.1168212890625, 1724.24658203125, 1722.8115234375, 1724.299072265625, 1723.4747314453125, 1720.9573974609375, 1718.199462890625, 1720.8497314453125, 1720.30419921875, 1726.5145263671875, 1733.760498046875, 1749.45703125, 1752.9443359375, 1761.819580078125, 1759.35791015625, 1757.1815185546875, 1754.09326171875, 1738.5050048828125, 1731.8798828125, 1729.18505859375, 1737.945068359375, 1748.313232421875, 1759.371337890625, 1767.873046875, 1787.904052734375, 1789.531005859375, 1793.2490234375, 1784.2528076171875, 1777.4783935546875, 1768.0526123046875, 1763.7637939453125, 1752.738525390625, 1746.8564453125, 1740.785400390625, 1737.3743896484375, 1737.98974609375, 1738.701904296875, 1733.3990478515625, 1739.7677001953125, 1751.79638671875, 1775.60888671875, 1796.893798828125, 1800.169677734375, 1791.7427978515625, 1767.0614013671875, 1758.271728515625, 1748.654052734375, 1744.94921875, 1740.4559326171875, 1738.0455322265625, 1738.2054443359375, 1744.022216796875, 1745.861572265625, 1754.5313720703125, 1765.9464111328125, 1773.5010986328125, 1779.4527587890625, 1788.4427490234375], \"name\": \"predicted\", \"open\": [1933.316650390625, 1952.5179443359375, 1969.675048828125, 1978.328369140625, 1981.7386474609375, 1982.4410400390625, 1972.9490966796875, 1963.057861328125, 1950.6002197265625, 1946.079345703125, 1950.9166259765625, 1958.2342529296875, 1958.0130615234375, 1945.546142578125, 1918.644775390625, 1895.214599609375, 1875.7884521484375, 1864.7252197265625, 1851.326416015625, 1829.5677490234375, 1804.72607421875, 1791.8468017578125, 1806.84423828125, 1819.9256591796875, 1825.1539306640625, 1820.103515625, 1811.6116943359375, 1793.8333740234375, 1787.51904296875, 1803.1451416015625, 1808.6282958984375, 1813.241943359375, 1815.2274169921875, 1791.2655029296875, 1778.9383544921875, 1753.9669189453125, 1756.8411865234375, 1755.2281494140625, 1765.3482666015625, 1764.6976318359375, 1773.3839111328125, 1793.92138671875, 1810.2274169921875, 1820.972412109375, 1828.2003173828125, 1816.6710205078125, 1822.8466796875, 1826.5552978515625, 1818.52099609375, 1818.3575439453125, 1807.2801513671875, 1810.572265625, 1800.9515380859375, 1797.8057861328125, 1774.70458984375, 1765.5838623046875, 1748.426513671875, 1744.4720458984375, 1737.24609375, 1734.669677734375, 1733.1168212890625, 1724.24658203125, 1722.8115234375, 1724.299072265625, 1723.4747314453125, 1720.9573974609375, 1718.199462890625, 1720.8497314453125, 1720.30419921875, 1726.5145263671875, 1733.760498046875, 1749.45703125, 1752.9443359375, 1761.819580078125, 1759.35791015625, 1757.1815185546875, 1754.09326171875, 1738.5050048828125, 1731.8798828125, 1729.18505859375, 1737.945068359375, 1748.313232421875, 1759.371337890625, 1767.873046875, 1787.904052734375, 1789.531005859375, 1793.2490234375, 1784.2528076171875, 1777.4783935546875, 1768.0526123046875, 1763.7637939453125, 1752.738525390625, 1746.8564453125, 1740.785400390625, 1737.3743896484375, 1737.98974609375, 1738.701904296875, 1733.3990478515625, 1739.7677001953125, 1751.79638671875, 1775.60888671875, 1796.893798828125, 1800.169677734375, 1791.7427978515625, 1767.0614013671875, 1758.271728515625, 1748.654052734375, 1744.94921875, 1740.4559326171875, 1738.0455322265625, 1738.2054443359375, 1744.022216796875, 1745.861572265625, 1754.5313720703125, 1765.9464111328125, 1773.5010986328125, 1779.4527587890625, 1788.4427490234375], \"showlegend\": false, \"type\": \"ohlc\", \"x\": [\"2019-07-10T00:00:00\", \"2019-07-11T00:00:00\", \"2019-07-12T00:00:00\", \"2019-07-15T00:00:00\", \"2019-07-16T00:00:00\", \"2019-07-17T00:00:00\", \"2019-07-18T00:00:00\", \"2019-07-19T00:00:00\", \"2019-07-22T00:00:00\", \"2019-07-23T00:00:00\", \"2019-07-24T00:00:00\", \"2019-07-25T00:00:00\", \"2019-07-26T00:00:00\", \"2019-07-29T00:00:00\", \"2019-07-30T00:00:00\", \"2019-07-31T00:00:00\", \"2019-08-01T00:00:00\", \"2019-08-02T00:00:00\", \"2019-08-05T00:00:00\", \"2019-08-06T00:00:00\", \"2019-08-07T00:00:00\", \"2019-08-08T00:00:00\", \"2019-08-09T00:00:00\", \"2019-08-12T00:00:00\", \"2019-08-13T00:00:00\", \"2019-08-14T00:00:00\", \"2019-08-15T00:00:00\", \"2019-08-16T00:00:00\", \"2019-08-19T00:00:00\", \"2019-08-20T00:00:00\", \"2019-08-21T00:00:00\", \"2019-08-22T00:00:00\", \"2019-08-23T00:00:00\", \"2019-08-26T00:00:00\", \"2019-08-27T00:00:00\", \"2019-08-28T00:00:00\", \"2019-08-29T00:00:00\", \"2019-08-30T00:00:00\", \"2019-09-03T00:00:00\", \"2019-09-04T00:00:00\", \"2019-09-05T00:00:00\", \"2019-09-06T00:00:00\", \"2019-09-09T00:00:00\", \"2019-09-10T00:00:00\", \"2019-09-11T00:00:00\", \"2019-09-12T00:00:00\", \"2019-09-13T00:00:00\", \"2019-09-16T00:00:00\", \"2019-09-17T00:00:00\", \"2019-09-18T00:00:00\", \"2019-09-19T00:00:00\", \"2019-09-20T00:00:00\", \"2019-09-23T00:00:00\", \"2019-09-24T00:00:00\", \"2019-09-25T00:00:00\", \"2019-09-26T00:00:00\", \"2019-09-27T00:00:00\", \"2019-09-30T00:00:00\", \"2019-10-01T00:00:00\", \"2019-10-02T00:00:00\", \"2019-10-03T00:00:00\", \"2019-10-04T00:00:00\", \"2019-10-07T00:00:00\", \"2019-10-08T00:00:00\", \"2019-10-09T00:00:00\", \"2019-10-10T00:00:00\", \"2019-10-11T00:00:00\", \"2019-10-14T00:00:00\", \"2019-10-15T00:00:00\", \"2019-10-16T00:00:00\", \"2019-10-17T00:00:00\", \"2019-10-18T00:00:00\", \"2019-10-21T00:00:00\", \"2019-10-22T00:00:00\", \"2019-10-23T00:00:00\", \"2019-10-24T00:00:00\", \"2019-10-25T00:00:00\", \"2019-10-28T00:00:00\", \"2019-10-29T00:00:00\", \"2019-10-30T00:00:00\", \"2019-10-31T00:00:00\", \"2019-11-01T00:00:00\", \"2019-11-04T00:00:00\", \"2019-11-05T00:00:00\", \"2019-11-06T00:00:00\", \"2019-11-07T00:00:00\", \"2019-11-08T00:00:00\", \"2019-11-11T00:00:00\", \"2019-11-12T00:00:00\", \"2019-11-13T00:00:00\", \"2019-11-14T00:00:00\", \"2019-11-15T00:00:00\", \"2019-11-18T00:00:00\", \"2019-11-19T00:00:00\", \"2019-11-20T00:00:00\", \"2019-11-21T00:00:00\", \"2019-11-22T00:00:00\", \"2019-11-25T00:00:00\", \"2019-11-26T00:00:00\", \"2019-11-27T00:00:00\", \"2019-11-29T00:00:00\", \"2019-12-02T00:00:00\", \"2019-12-03T00:00:00\", \"2019-12-04T00:00:00\", \"2019-12-05T00:00:00\", \"2019-12-06T00:00:00\", \"2019-12-09T00:00:00\", \"2019-12-10T00:00:00\", \"2019-12-11T00:00:00\", \"2019-12-12T00:00:00\", \"2019-12-13T00:00:00\", \"2019-12-16T00:00:00\", \"2019-12-17T00:00:00\", \"2019-12-18T00:00:00\", \"2019-12-19T00:00:00\", \"2019-12-20T00:00:00\", \"2019-12-23T00:00:00\", \"2019-12-24T00:00:00\"]}, {\"close\": [2017.4100341796875, 2001.0699462890625, 2010.9999999999998, 2020.989990234375, 2009.9000244140627, 1992.0300292968748, 1977.9000244140625, 1964.52001953125, 1985.6300048828125, 1994.489990234375, 2000.8100585937502, 1973.8199462890625, 1943.0500488281252, 1912.4499511718752, 1898.530029296875, 1866.7800292968752, 1855.3199462890625, 1823.239990234375, 1765.1300048828125, 1787.8299560546875, 1793.4000244140625, 1832.8900146484375, 1807.5799560546875, 1784.9200439453123, 1824.3399658203125, 1762.9599609375002, 1776.1199951171875, 1792.5699462890625, 1816.1199951171875, 1801.3800048828125, 1823.5400390625, 1804.6600341796875, 1749.6199951171875, 1768.8699951171873, 1761.8299560546875, 1764.25, 1786.4000244140625, 1776.2900390625, 1789.8399658203125, 1800.6199951171875, 1840.7199707031248, 1833.5100097656248, 1831.3499755859375, 1820.550048828125, 1822.9899902343752, 1843.550048828125, 1839.3399658203125, 1807.8399658203125, 1822.550048828125, 1817.4599609374998, 1821.5000000000002, 1794.1600341796875, 1785.300048828125, 1741.6099853515625, 1768.3299560546875, 1739.8399658203125, 1725.449951171875, 1735.9100341796875, 1735.6500244140625, 1713.22998046875, 1724.4200439453125, 1739.6500244140625, 1732.6600341796875, 1705.510009765625, 1721.989990234375, 1720.260009765625, 1731.9200439453125, 1736.4300537109375, 1767.3800048828127, 1777.4300537109375, 1787.47998046875, 1757.510009765625, 1785.6600341796875, 1765.72998046875, 1762.1700439453125, 1780.780029296875, 1761.3299560546873, 1777.0799560546875, 1762.7099609375, 1779.989990234375, 1776.6600341796875, 1791.43994140625, 1804.6600341796875, 1801.7099609375, 1795.7700195312502, 1788.199951171875, 1785.8800048828125, 1771.6500244140625, 1778.0, 1753.1099853515625, 1754.5999755859375, 1739.489990234375, 1752.530029296875, 1752.7900390625, 1745.530029296875, 1734.7099609375, 1745.719970703125, 1773.8399658203125, 1796.9399414062502, 1818.5100097656252, 1800.800048828125, 1781.5999755859373, 1769.9599609375, 1760.68994140625, 1740.4799804687498, 1751.5999755859375, 1749.5100097656248, 1739.2099609375, 1748.719970703125, 1760.3299560546875, 1760.9399414062498, 1769.2099609375, 1790.6600341796875, 1784.030029296875, 1792.280029296875, 1786.5, 1793.0, 1789.2099609375002], \"decreasing\": {\"line\": {\"color\": \"gray\"}}, \"high\": [2017.4100341796875, 2025.6199951171877, 2010.9999999999998, 2021.4000244140625, 2010.5799560546877, 2007.050048828125, 1980.0100097656248, 1991.2099609375, 1985.6300048828125, 1995.989990234375, 2000.8100585937502, 2001.0, 1943.0500488281252, 1930.0, 1898.530029296875, 1898.1099853515625, 1871.719970703125, 1845.0699462890625, 1770.219970703125, 1792.22998046875, 1793.4000244140625, 1832.8900146484375, 1828.9499511718748, 1795.9899902343752, 1824.3399658203125, 1793.010009765625, 1781.989990234375, 1792.8900146484375, 1818.0799560546875, 1814.5, 1823.5400390625, 1828.0, 1793.030029296875, 1768.8699951171873, 1775.72998046875, 1764.25, 1786.4000244140625, 1797.489990234375, 1789.8399658203125, 1805.0, 1840.7199707031248, 1838.219970703125, 1840.9999999999998, 1822.75, 1822.9899902343752, 1843.550048828125, 1842.010009765625, 1824.02001953125, 1822.550048828125, 1817.4599609374998, 1821.5000000000002, 1821.7099609375, 1785.300048828125, 1790.6099853515625, 1768.3299560546875, 1762.7900390625, 1748.0, 1735.9100341796875, 1746.0, 1727.739990234375, 1724.4200439453125, 1739.6500244140625, 1732.6600341796875, 1722.489990234375, 1721.989990234375, 1725.2399902343752, 1742.9200439453125, 1736.4300537109375, 1767.3800048828127, 1777.4300537109375, 1796.4899902343748, 1787.800048828125, 1785.6600341796875, 1788.1500244140625, 1762.1700439453125, 1780.780029296875, 1761.3299560546873, 1777.0799560546875, 1774.81005859375, 1779.989990234375, 1776.6600341796875, 1791.43994140625, 1804.6600341796875, 1809.1600341796875, 1801.0000000000002, 1803.760009765625, 1787.8900146484375, 1778.0000000000002, 1778.0, 1773.3900146484375, 1754.5999755859375, 1760.0500488281248, 1752.530029296875, 1756.9899902343752, 1749.1400146484375, 1743.0, 1745.719970703125, 1773.8399658203125, 1796.9399414062502, 1818.5100097656252, 1817.780029296875, 1804.4000244140625, 1769.9599609375, 1774.010009765625, 1763.4999999999998, 1751.5999755859375, 1750.6600341796877, 1747.4000244140625, 1748.719970703125, 1760.3299560546875, 1765.0, 1769.2099609375, 1790.6600341796875, 1795.02001953125, 1792.280029296875, 1799.6199951171873, 1793.0, 1793.81005859375], \"increasing\": {\"line\": {\"color\": \"cyan\"}}, \"low\": [1996.510009765625, 2001.0699462890625, 2008.2700195312502, 2020.989990234375, 2009.9000244140627, 1992.0300292968748, 1977.9000244140625, 1964.52001953125, 1971.1400146484375, 1994.489990234375, 1969.300048828125, 1973.8199462890625, 1942.0000000000002, 1912.4499511718752, 1891.1199951171875, 1866.7800292968752, 1855.3199462890625, 1823.239990234375, 1765.1300048828125, 1787.8299560546875, 1773.989990234375, 1806.0, 1807.5799560546875, 1784.9200439453123, 1783.0, 1762.9599609375002, 1776.1199951171875, 1792.5699462890625, 1816.1199951171875, 1801.3800048828125, 1819.3900146484375, 1804.6600341796875, 1749.6199951171875, 1766.9100341796873, 1761.8299560546875, 1754.9999999999998, 1783.0, 1776.2900390625, 1770.0000000000002, 1800.6199951171875, 1821.949951171875, 1833.5100097656248, 1831.3499755859375, 1820.550048828125, 1812.1400146484375, 1837.6300048828125, 1839.3399658203125, 1807.8399658203125, 1807.0799560546877, 1817.0400390624998, 1821.0200195312498, 1794.1600341796875, 1777.0, 1741.6099853515625, 1747.3599853515625, 1739.8399658203125, 1725.449951171875, 1726.989990234375, 1735.6500244140625, 1713.22998046875, 1713.0, 1726.02001953125, 1731.6300048828125, 1705.510009765625, 1719.6099853515625, 1720.260009765625, 1731.9200439453125, 1728.9100341796875, 1742.1400146484375, 1773.3299560546875, 1787.47998046875, 1757.510009765625, 1769.6600341796875, 1765.72998046875, 1761.300048828125, 1771.0899658203125, 1697.5500488281248, 1748.06005859375, 1762.7099609375, 1760.239990234375, 1775.989990234375, 1788.010009765625, 1801.010009765625, 1801.7099609375, 1795.7700195312502, 1788.199951171875, 1785.8800048828125, 1771.6500244140625, 1774.6600341796873, 1753.1099853515625, 1751.4300537109375, 1739.489990234375, 1738.300048828125, 1752.7900390625, 1745.530029296875, 1734.7099609375, 1739.02001953125, 1753.25, 1779.9200439453127, 1801.0000000000002, 1800.800048828125, 1781.5999755859373, 1760.0, 1760.68994140625, 1740.4799804687498, 1751.199951171875, 1749.5100097656248, 1739.2099609375, 1741.6700439453123, 1750.0, 1760.9399414062498, 1767.0, 1778.010009765625, 1784.030029296875, 1780.5, 1786.5, 1788.260009765625, 1789.2099609375002], \"name\": \"true\", \"open\": [1996.510009765625, 2025.6199951171877, 2008.2700195312502, 2021.4000244140625, 2010.5799560546877, 2007.050048828125, 1980.0100097656248, 1991.2099609375, 1971.1400146484375, 1995.989990234375, 1969.300048828125, 2001.0, 1942.0000000000002, 1930.0, 1891.1199951171875, 1898.1099853515625, 1871.719970703125, 1845.0699462890625, 1770.219970703125, 1792.22998046875, 1773.989990234375, 1806.0, 1828.9499511718748, 1795.9899902343752, 1783.0, 1793.010009765625, 1781.989990234375, 1792.8900146484375, 1818.0799560546875, 1814.5, 1819.3900146484375, 1828.0, 1793.030029296875, 1766.9100341796873, 1775.72998046875, 1754.9999999999998, 1783.0, 1797.489990234375, 1770.0000000000002, 1805.0, 1821.949951171875, 1838.219970703125, 1840.9999999999998, 1822.75, 1812.1400146484375, 1837.6300048828125, 1842.010009765625, 1824.02001953125, 1807.0799560546877, 1817.0400390624998, 1821.0200195312498, 1821.7099609375, 1777.0, 1790.6099853515625, 1747.3599853515625, 1762.7900390625, 1748.0, 1726.989990234375, 1746.0, 1727.739990234375, 1713.0, 1726.02001953125, 1731.6300048828125, 1722.489990234375, 1719.6099853515625, 1725.2399902343752, 1742.9200439453125, 1728.9100341796875, 1742.1400146484375, 1773.3299560546875, 1796.4899902343748, 1787.800048828125, 1769.6600341796875, 1788.1500244140625, 1761.300048828125, 1771.0899658203125, 1697.5500488281248, 1748.06005859375, 1774.81005859375, 1760.239990234375, 1775.989990234375, 1788.010009765625, 1801.010009765625, 1809.1600341796875, 1801.0000000000002, 1803.760009765625, 1787.8900146484375, 1778.0000000000002, 1774.6600341796873, 1773.3900146484375, 1751.4300537109375, 1760.0500488281248, 1738.300048828125, 1756.9899902343752, 1749.1400146484375, 1743.0, 1739.02001953125, 1753.25, 1779.9200439453127, 1801.0000000000002, 1817.780029296875, 1804.4000244140625, 1760.0, 1774.010009765625, 1763.4999999999998, 1751.199951171875, 1750.6600341796877, 1747.4000244140625, 1741.6700439453123, 1750.0, 1765.0, 1767.0, 1778.010009765625, 1795.02001953125, 1780.5, 1799.6199951171873, 1788.260009765625, 1793.81005859375], \"showlegend\": false, \"type\": \"ohlc\", \"x\": [\"2019-07-10T00:00:00\", \"2019-07-11T00:00:00\", \"2019-07-12T00:00:00\", \"2019-07-15T00:00:00\", \"2019-07-16T00:00:00\", \"2019-07-17T00:00:00\", \"2019-07-18T00:00:00\", \"2019-07-19T00:00:00\", \"2019-07-22T00:00:00\", \"2019-07-23T00:00:00\", \"2019-07-24T00:00:00\", \"2019-07-25T00:00:00\", \"2019-07-26T00:00:00\", \"2019-07-29T00:00:00\", \"2019-07-30T00:00:00\", \"2019-07-31T00:00:00\", \"2019-08-01T00:00:00\", \"2019-08-02T00:00:00\", \"2019-08-05T00:00:00\", \"2019-08-06T00:00:00\", \"2019-08-07T00:00:00\", \"2019-08-08T00:00:00\", \"2019-08-09T00:00:00\", \"2019-08-12T00:00:00\", \"2019-08-13T00:00:00\", \"2019-08-14T00:00:00\", \"2019-08-15T00:00:00\", \"2019-08-16T00:00:00\", \"2019-08-19T00:00:00\", \"2019-08-20T00:00:00\", \"2019-08-21T00:00:00\", \"2019-08-22T00:00:00\", \"2019-08-23T00:00:00\", \"2019-08-26T00:00:00\", \"2019-08-27T00:00:00\", \"2019-08-28T00:00:00\", \"2019-08-29T00:00:00\", \"2019-08-30T00:00:00\", \"2019-09-03T00:00:00\", \"2019-09-04T00:00:00\", \"2019-09-05T00:00:00\", \"2019-09-06T00:00:00\", \"2019-09-09T00:00:00\", \"2019-09-10T00:00:00\", \"2019-09-11T00:00:00\", \"2019-09-12T00:00:00\", \"2019-09-13T00:00:00\", \"2019-09-16T00:00:00\", \"2019-09-17T00:00:00\", \"2019-09-18T00:00:00\", \"2019-09-19T00:00:00\", \"2019-09-20T00:00:00\", \"2019-09-23T00:00:00\", \"2019-09-24T00:00:00\", \"2019-09-25T00:00:00\", \"2019-09-26T00:00:00\", \"2019-09-27T00:00:00\", \"2019-09-30T00:00:00\", \"2019-10-01T00:00:00\", \"2019-10-02T00:00:00\", \"2019-10-03T00:00:00\", \"2019-10-04T00:00:00\", \"2019-10-07T00:00:00\", \"2019-10-08T00:00:00\", \"2019-10-09T00:00:00\", \"2019-10-10T00:00:00\", \"2019-10-11T00:00:00\", \"2019-10-14T00:00:00\", \"2019-10-15T00:00:00\", \"2019-10-16T00:00:00\", \"2019-10-17T00:00:00\", \"2019-10-18T00:00:00\", \"2019-10-21T00:00:00\", \"2019-10-22T00:00:00\", \"2019-10-23T00:00:00\", \"2019-10-24T00:00:00\", \"2019-10-25T00:00:00\", \"2019-10-28T00:00:00\", \"2019-10-29T00:00:00\", \"2019-10-30T00:00:00\", \"2019-10-31T00:00:00\", \"2019-11-01T00:00:00\", \"2019-11-04T00:00:00\", \"2019-11-05T00:00:00\", \"2019-11-06T00:00:00\", \"2019-11-07T00:00:00\", \"2019-11-08T00:00:00\", \"2019-11-11T00:00:00\", \"2019-11-12T00:00:00\", \"2019-11-13T00:00:00\", \"2019-11-14T00:00:00\", \"2019-11-15T00:00:00\", \"2019-11-18T00:00:00\", \"2019-11-19T00:00:00\", \"2019-11-20T00:00:00\", \"2019-11-21T00:00:00\", \"2019-11-22T00:00:00\", \"2019-11-25T00:00:00\", \"2019-11-26T00:00:00\", \"2019-11-27T00:00:00\", \"2019-11-29T00:00:00\", \"2019-12-02T00:00:00\", \"2019-12-03T00:00:00\", \"2019-12-04T00:00:00\", \"2019-12-05T00:00:00\", \"2019-12-06T00:00:00\", \"2019-12-09T00:00:00\", \"2019-12-10T00:00:00\", \"2019-12-11T00:00:00\", \"2019-12-12T00:00:00\", \"2019-12-13T00:00:00\", \"2019-12-16T00:00:00\", \"2019-12-17T00:00:00\", \"2019-12-18T00:00:00\", \"2019-12-19T00:00:00\", \"2019-12-20T00:00:00\", \"2019-12-23T00:00:00\", \"2019-12-24T00:00:00\"]}],\n",
              "                        {\"autosize\": false, \"height\": 800, \"template\": {\"data\": {\"bar\": [{\"error_x\": {\"color\": \"#2a3f5f\"}, \"error_y\": {\"color\": \"#2a3f5f\"}, \"marker\": {\"line\": {\"color\": \"#E5ECF6\", \"width\": 0.5}}, \"type\": \"bar\"}], \"barpolar\": [{\"marker\": {\"line\": {\"color\": \"#E5ECF6\", \"width\": 0.5}}, \"type\": \"barpolar\"}], \"carpet\": [{\"aaxis\": {\"endlinecolor\": \"#2a3f5f\", \"gridcolor\": \"white\", \"linecolor\": \"white\", \"minorgridcolor\": \"white\", \"startlinecolor\": \"#2a3f5f\"}, \"baxis\": {\"endlinecolor\": \"#2a3f5f\", \"gridcolor\": \"white\", \"linecolor\": \"white\", \"minorgridcolor\": \"white\", \"startlinecolor\": \"#2a3f5f\"}, \"type\": \"carpet\"}], \"choropleth\": [{\"colorbar\": {\"outlinewidth\": 0, \"ticks\": \"\"}, \"type\": \"choropleth\"}], \"contour\": [{\"colorbar\": {\"outlinewidth\": 0, \"ticks\": \"\"}, \"colorscale\": [[0.0, \"#0d0887\"], [0.1111111111111111, \"#46039f\"], [0.2222222222222222, \"#7201a8\"], [0.3333333333333333, \"#9c179e\"], [0.4444444444444444, \"#bd3786\"], [0.5555555555555556, \"#d8576b\"], [0.6666666666666666, \"#ed7953\"], [0.7777777777777778, \"#fb9f3a\"], [0.8888888888888888, \"#fdca26\"], [1.0, \"#f0f921\"]], \"type\": \"contour\"}], \"contourcarpet\": [{\"colorbar\": {\"outlinewidth\": 0, \"ticks\": \"\"}, \"type\": \"contourcarpet\"}], \"heatmap\": [{\"colorbar\": {\"outlinewidth\": 0, \"ticks\": \"\"}, \"colorscale\": [[0.0, \"#0d0887\"], [0.1111111111111111, \"#46039f\"], [0.2222222222222222, \"#7201a8\"], [0.3333333333333333, \"#9c179e\"], [0.4444444444444444, \"#bd3786\"], [0.5555555555555556, \"#d8576b\"], [0.6666666666666666, \"#ed7953\"], [0.7777777777777778, \"#fb9f3a\"], [0.8888888888888888, \"#fdca26\"], [1.0, \"#f0f921\"]], \"type\": \"heatmap\"}], \"heatmapgl\": [{\"colorbar\": {\"outlinewidth\": 0, \"ticks\": \"\"}, \"colorscale\": [[0.0, \"#0d0887\"], [0.1111111111111111, \"#46039f\"], [0.2222222222222222, \"#7201a8\"], [0.3333333333333333, \"#9c179e\"], [0.4444444444444444, \"#bd3786\"], [0.5555555555555556, \"#d8576b\"], [0.6666666666666666, \"#ed7953\"], [0.7777777777777778, \"#fb9f3a\"], [0.8888888888888888, \"#fdca26\"], [1.0, \"#f0f921\"]], \"type\": \"heatmapgl\"}], \"histogram\": [{\"marker\": {\"colorbar\": {\"outlinewidth\": 0, \"ticks\": \"\"}}, \"type\": \"histogram\"}], \"histogram2d\": [{\"colorbar\": {\"outlinewidth\": 0, \"ticks\": \"\"}, \"colorscale\": [[0.0, \"#0d0887\"], [0.1111111111111111, \"#46039f\"], [0.2222222222222222, \"#7201a8\"], [0.3333333333333333, \"#9c179e\"], [0.4444444444444444, \"#bd3786\"], [0.5555555555555556, \"#d8576b\"], [0.6666666666666666, \"#ed7953\"], [0.7777777777777778, \"#fb9f3a\"], [0.8888888888888888, \"#fdca26\"], [1.0, \"#f0f921\"]], \"type\": \"histogram2d\"}], \"histogram2dcontour\": [{\"colorbar\": {\"outlinewidth\": 0, \"ticks\": \"\"}, \"colorscale\": [[0.0, \"#0d0887\"], [0.1111111111111111, \"#46039f\"], [0.2222222222222222, \"#7201a8\"], [0.3333333333333333, \"#9c179e\"], [0.4444444444444444, \"#bd3786\"], [0.5555555555555556, \"#d8576b\"], [0.6666666666666666, \"#ed7953\"], [0.7777777777777778, \"#fb9f3a\"], [0.8888888888888888, \"#fdca26\"], [1.0, \"#f0f921\"]], \"type\": \"histogram2dcontour\"}], \"mesh3d\": [{\"colorbar\": {\"outlinewidth\": 0, \"ticks\": \"\"}, \"type\": \"mesh3d\"}], \"parcoords\": [{\"line\": {\"colorbar\": {\"outlinewidth\": 0, \"ticks\": \"\"}}, \"type\": \"parcoords\"}], \"pie\": [{\"automargin\": true, \"type\": \"pie\"}], \"scatter\": [{\"marker\": {\"colorbar\": {\"outlinewidth\": 0, \"ticks\": \"\"}}, \"type\": \"scatter\"}], \"scatter3d\": [{\"line\": {\"colorbar\": {\"outlinewidth\": 0, \"ticks\": \"\"}}, \"marker\": {\"colorbar\": {\"outlinewidth\": 0, \"ticks\": \"\"}}, \"type\": \"scatter3d\"}], \"scattercarpet\": [{\"marker\": {\"colorbar\": {\"outlinewidth\": 0, \"ticks\": \"\"}}, \"type\": \"scattercarpet\"}], \"scattergeo\": [{\"marker\": {\"colorbar\": {\"outlinewidth\": 0, \"ticks\": \"\"}}, \"type\": \"scattergeo\"}], \"scattergl\": [{\"marker\": {\"colorbar\": {\"outlinewidth\": 0, \"ticks\": \"\"}}, \"type\": \"scattergl\"}], \"scattermapbox\": [{\"marker\": {\"colorbar\": {\"outlinewidth\": 0, \"ticks\": \"\"}}, \"type\": \"scattermapbox\"}], \"scatterpolar\": [{\"marker\": {\"colorbar\": {\"outlinewidth\": 0, \"ticks\": \"\"}}, \"type\": \"scatterpolar\"}], \"scatterpolargl\": [{\"marker\": {\"colorbar\": {\"outlinewidth\": 0, \"ticks\": \"\"}}, \"type\": \"scatterpolargl\"}], \"scatterternary\": [{\"marker\": {\"colorbar\": {\"outlinewidth\": 0, \"ticks\": \"\"}}, \"type\": \"scatterternary\"}], \"surface\": [{\"colorbar\": {\"outlinewidth\": 0, \"ticks\": \"\"}, \"colorscale\": [[0.0, \"#0d0887\"], [0.1111111111111111, \"#46039f\"], [0.2222222222222222, \"#7201a8\"], [0.3333333333333333, \"#9c179e\"], [0.4444444444444444, \"#bd3786\"], [0.5555555555555556, \"#d8576b\"], [0.6666666666666666, \"#ed7953\"], [0.7777777777777778, \"#fb9f3a\"], [0.8888888888888888, \"#fdca26\"], [1.0, \"#f0f921\"]], \"type\": \"surface\"}], \"table\": [{\"cells\": {\"fill\": {\"color\": \"#EBF0F8\"}, \"line\": {\"color\": \"white\"}}, \"header\": {\"fill\": {\"color\": \"#C8D4E3\"}, \"line\": {\"color\": \"white\"}}, \"type\": \"table\"}]}, \"layout\": {\"annotationdefaults\": {\"arrowcolor\": \"#2a3f5f\", \"arrowhead\": 0, \"arrowwidth\": 1}, \"coloraxis\": {\"colorbar\": {\"outlinewidth\": 0, \"ticks\": \"\"}}, \"colorscale\": {\"diverging\": [[0, \"#8e0152\"], [0.1, \"#c51b7d\"], [0.2, \"#de77ae\"], [0.3, \"#f1b6da\"], [0.4, \"#fde0ef\"], [0.5, \"#f7f7f7\"], [0.6, \"#e6f5d0\"], [0.7, \"#b8e186\"], [0.8, \"#7fbc41\"], [0.9, \"#4d9221\"], [1, \"#276419\"]], \"sequential\": [[0.0, \"#0d0887\"], [0.1111111111111111, \"#46039f\"], [0.2222222222222222, \"#7201a8\"], [0.3333333333333333, \"#9c179e\"], [0.4444444444444444, \"#bd3786\"], [0.5555555555555556, \"#d8576b\"], [0.6666666666666666, \"#ed7953\"], [0.7777777777777778, \"#fb9f3a\"], [0.8888888888888888, \"#fdca26\"], [1.0, \"#f0f921\"]], \"sequentialminus\": [[0.0, \"#0d0887\"], [0.1111111111111111, \"#46039f\"], [0.2222222222222222, \"#7201a8\"], [0.3333333333333333, \"#9c179e\"], [0.4444444444444444, \"#bd3786\"], [0.5555555555555556, \"#d8576b\"], [0.6666666666666666, \"#ed7953\"], [0.7777777777777778, \"#fb9f3a\"], [0.8888888888888888, \"#fdca26\"], [1.0, \"#f0f921\"]]}, \"colorway\": [\"#636efa\", \"#EF553B\", \"#00cc96\", \"#ab63fa\", \"#FFA15A\", \"#19d3f3\", \"#FF6692\", \"#B6E880\", \"#FF97FF\", \"#FECB52\"], \"font\": {\"color\": \"#2a3f5f\"}, \"geo\": {\"bgcolor\": \"white\", \"lakecolor\": \"white\", \"landcolor\": \"#E5ECF6\", \"showlakes\": true, \"showland\": true, \"subunitcolor\": \"white\"}, \"hoverlabel\": {\"align\": \"left\"}, \"hovermode\": \"closest\", \"mapbox\": {\"style\": \"light\"}, \"paper_bgcolor\": \"white\", \"plot_bgcolor\": \"#E5ECF6\", \"polar\": {\"angularaxis\": {\"gridcolor\": \"white\", \"linecolor\": \"white\", \"ticks\": \"\"}, \"bgcolor\": \"#E5ECF6\", \"radialaxis\": {\"gridcolor\": \"white\", \"linecolor\": \"white\", \"ticks\": \"\"}}, \"scene\": {\"xaxis\": {\"backgroundcolor\": \"#E5ECF6\", \"gridcolor\": \"white\", \"gridwidth\": 2, \"linecolor\": \"white\", \"showbackground\": true, \"ticks\": \"\", \"zerolinecolor\": \"white\"}, \"yaxis\": {\"backgroundcolor\": \"#E5ECF6\", \"gridcolor\": \"white\", \"gridwidth\": 2, \"linecolor\": \"white\", \"showbackground\": true, \"ticks\": \"\", \"zerolinecolor\": \"white\"}, \"zaxis\": {\"backgroundcolor\": \"#E5ECF6\", \"gridcolor\": \"white\", \"gridwidth\": 2, \"linecolor\": \"white\", \"showbackground\": true, \"ticks\": \"\", \"zerolinecolor\": \"white\"}}, \"shapedefaults\": {\"line\": {\"color\": \"#2a3f5f\"}}, \"ternary\": {\"aaxis\": {\"gridcolor\": \"white\", \"linecolor\": \"white\", \"ticks\": \"\"}, \"baxis\": {\"gridcolor\": \"white\", \"linecolor\": \"white\", \"ticks\": \"\"}, \"bgcolor\": \"#E5ECF6\", \"caxis\": {\"gridcolor\": \"white\", \"linecolor\": \"white\", \"ticks\": \"\"}}, \"title\": {\"x\": 0.05}, \"xaxis\": {\"automargin\": true, \"gridcolor\": \"white\", \"linecolor\": \"white\", \"ticks\": \"\", \"title\": {\"standoff\": 15}, \"zerolinecolor\": \"white\", \"zerolinewidth\": 2}, \"yaxis\": {\"automargin\": true, \"gridcolor\": \"white\", \"linecolor\": \"white\", \"ticks\": \"\", \"title\": {\"standoff\": 15}, \"zerolinecolor\": \"white\", \"zerolinewidth\": 2}}}, \"width\": 1000, \"xaxis\": {\"rangeslider\": {\"visible\": false}}},\n",
              "                        {\"responsive\": true}\n",
              "                    ).then(function(){\n",
              "                            \n",
              "var gd = document.getElementById('3fa4fc8c-c0b4-4a60-be6c-4d207dda10c8');\n",
              "var x = new MutationObserver(function (mutations, observer) {{\n",
              "        var display = window.getComputedStyle(gd).display;\n",
              "        if (!display || display === 'none') {{\n",
              "            console.log([gd, 'removed!']);\n",
              "            Plotly.purge(gd);\n",
              "            observer.disconnect();\n",
              "        }}\n",
              "}});\n",
              "\n",
              "// Listen for the removal of the full notebook cells\n",
              "var notebookContainer = gd.closest('#notebook-container');\n",
              "if (notebookContainer) {{\n",
              "    x.observe(notebookContainer, {childList: true});\n",
              "}}\n",
              "\n",
              "// Listen for the clearing of the current output cell\n",
              "var outputEl = gd.closest('.output');\n",
              "if (outputEl) {{\n",
              "    x.observe(outputEl, {childList: true});\n",
              "}}\n",
              "\n",
              "                        })\n",
              "                };\n",
              "                \n",
              "            </script>\n",
              "        </div>\n",
              "</body>\n",
              "</html>"
            ]
          },
          "metadata": {
            "tags": []
          }
        }
      ]
    },
    {
      "cell_type": "code",
      "metadata": {
        "id": "u0t16p9h1RXq",
        "colab": {
          "base_uri": "https://localhost:8080/"
        },
        "outputId": "70309a62-deee-4113-ddfa-71e6d676ed9c"
      },
      "source": [
        "%pip install yfinance"
      ],
      "execution_count": 135,
      "outputs": [
        {
          "output_type": "stream",
          "text": [
            "Requirement already satisfied: yfinance in /usr/local/lib/python3.7/dist-packages (0.1.55)\n",
            "Requirement already satisfied: pandas>=0.24 in /usr/local/lib/python3.7/dist-packages (from yfinance) (1.1.5)\n",
            "Requirement already satisfied: lxml>=4.5.1 in /usr/local/lib/python3.7/dist-packages (from yfinance) (4.6.2)\n",
            "Requirement already satisfied: numpy>=1.15 in /usr/local/lib/python3.7/dist-packages (from yfinance) (1.19.5)\n",
            "Requirement already satisfied: requests>=2.20 in /usr/local/lib/python3.7/dist-packages (from yfinance) (2.23.0)\n",
            "Requirement already satisfied: multitasking>=0.0.7 in /usr/local/lib/python3.7/dist-packages (from yfinance) (0.0.9)\n",
            "Requirement already satisfied: python-dateutil>=2.7.3 in /usr/local/lib/python3.7/dist-packages (from pandas>=0.24->yfinance) (2.8.1)\n",
            "Requirement already satisfied: pytz>=2017.2 in /usr/local/lib/python3.7/dist-packages (from pandas>=0.24->yfinance) (2018.9)\n",
            "Requirement already satisfied: chardet<4,>=3.0.2 in /usr/local/lib/python3.7/dist-packages (from requests>=2.20->yfinance) (3.0.4)\n",
            "Requirement already satisfied: certifi>=2017.4.17 in /usr/local/lib/python3.7/dist-packages (from requests>=2.20->yfinance) (2020.12.5)\n",
            "Requirement already satisfied: idna<3,>=2.5 in /usr/local/lib/python3.7/dist-packages (from requests>=2.20->yfinance) (2.10)\n",
            "Requirement already satisfied: urllib3!=1.25.0,!=1.25.1,<1.26,>=1.21.1 in /usr/local/lib/python3.7/dist-packages (from requests>=2.20->yfinance) (1.24.3)\n",
            "Requirement already satisfied: six>=1.5 in /usr/local/lib/python3.7/dist-packages (from python-dateutil>=2.7.3->pandas>=0.24->yfinance) (1.15.0)\n"
          ],
          "name": "stdout"
        }
      ]
    },
    {
      "cell_type": "markdown",
      "metadata": {
        "id": "4ZyyIffZtFcW"
      },
      "source": [
        "# Evaluation"
      ]
    },
    {
      "cell_type": "code",
      "metadata": {
        "id": "mDH1aRtz1RXr"
      },
      "source": [
        "import yfinance as yf\n",
        "ticker = 'GOOG'\n",
        "index = yf.Ticker(ticker)\n",
        "\n",
        "# get historical market data\n",
        "hist = index.history(start='2020-06-01', end= '2020-12-30', actions=False)"
      ],
      "execution_count": 136,
      "outputs": []
    },
    {
      "cell_type": "code",
      "metadata": {
        "id": "joYe7gnKTwdz"
      },
      "source": [
        "def test_data_prediction(df_test):\n",
        "  #df_test['Date'] = pd.to_datetime(df_test['Date'])\n",
        "  #df_test.set_index('Date', inplace=True)\n",
        "\n",
        "\n",
        "\n",
        "  df_test_ti = get_technical_indicators(df_test)\n",
        "  #df_test_ti = df_test_ti.dropna()\n",
        "  df_test = df_test.fillna(method='backfill')\n",
        "  df_test_y = df_test.copy()\n",
        "  df_test_y = df_test_y[['Open','Close']]\n",
        "  df_test_ti = df_test_ti[['Open','Close','High', 'Low','Volume','20sd','MACD']]\n",
        "\n",
        "  args_test = df_test_ti.values.reshape(df_test_ti.shape[0],7)\n",
        "  args_test_y = df_test_y.values.reshape(df_test_y.shape[0],2)\n",
        "\n",
        "  in_seq_test = args_test\n",
        "  in_seq_test_y = args_test_y\n",
        "\n",
        "  division =  lookback_days\n",
        "\n",
        "  data_train = in_seq_test[:division]\n",
        "  data_test = in_seq_test[(division-lookback_days):]\n",
        "\n",
        "  data_train_y = in_seq_test_y[:division]\n",
        "  data_test_y = in_seq_test_y[(division-lookback_days):]\n",
        "\n",
        "  X_test, y_test = split_sequences(data_test, data_test_y, lookback_days,forward_days)\n",
        "\n",
        "  X_features = X_test.shape[2]\n",
        "  y_features = y_test.shape[2]\n",
        "  X_test_original = X_test\n",
        "  X_test=X_test.reshape(X_test.shape[0],lookback_days*X_features)\n",
        "  y_test=y_test.reshape(y_test.shape[0],forward_days*y_features)\n",
        "\n",
        "  xtest_scaler = MinMaxScaler().fit(X_test)\n",
        "  X_test = xtest_scaler.transform(X_test)\n",
        "  ytest_scaler = MinMaxScaler().fit(y_test)\n",
        "  #y_scaler.fit(y_test)\n",
        "  y_test = ytest_scaler.transform(y_test)\n",
        "\n",
        "  X_test = X_test.reshape(X_test.shape[0],lookback_days, X_features)\n",
        "\n",
        "  y_pred = model.predict(X_test,batch_size = 16)\n",
        "  y_pred = y_pred.reshape(y_pred.shape[0],forward_days*y_features)\n",
        "  y_hat = ytest_scaler.inverse_transform(y_pred)\n",
        "\n",
        "  y_test = y_test.reshape(y_test.shape[0],forward_days*y_features)\n",
        "  #y_true = y_test\n",
        "  y_true = ytest_scaler.inverse_transform(y_test)\n",
        "\n",
        "  return y_test,y_true,y_pred,y_hat,X_test_original"
      ],
      "execution_count": 137,
      "outputs": []
    },
    {
      "cell_type": "code",
      "metadata": {
        "id": "Nv__cokLQND8"
      },
      "source": [
        "y_test1,y_true1,y_pred1,y_hat1, X_test_original1 = test_data_prediction(hist)"
      ],
      "execution_count": 138,
      "outputs": []
    },
    {
      "cell_type": "code",
      "metadata": {
        "id": "fKOPkkEcQcO_"
      },
      "source": [
        "y_test=y_test1\n",
        "y_true=y_true1\n",
        "y_pred=y_pred1\n",
        "y_hat=y_hat1\n",
        "X_test_original = X_test_original1"
      ],
      "execution_count": 139,
      "outputs": []
    },
    {
      "cell_type": "code",
      "metadata": {
        "id": "y-814V-WLapv"
      },
      "source": [
        "diff_true = array([y_true[:,x] - X_test_original[:,1,-1] for x in [0,1,2,3,4,5]])\n",
        "diff_pred = array([y_hat[:,x] - X_test_original[:,0,-1] for x in [0,1,2,3,4,5]])"
      ],
      "execution_count": 140,
      "outputs": []
    },
    {
      "cell_type": "code",
      "metadata": {
        "id": "8HVSxZ9OWe4E"
      },
      "source": [
        "diff_true1 = array([y_true[:,x] - X_test_original[:,1,-1] for x in [1,3,5]])\n",
        "diff_true2 = array([y_true[:,x] - X_test_original[:,0,-1] for x in [0,2,4]])\n",
        "diff_true=np.concatenate((diff_true1,diff_true2),axis=1)"
      ],
      "execution_count": 141,
      "outputs": []
    },
    {
      "cell_type": "code",
      "metadata": {
        "id": "QC0Eyg6VYPFl"
      },
      "source": [
        "diff_pred1 = array([y_hat[:,x] - X_test_original[:,1,-1] for x in [1,3,5]])\n",
        "diff_pred2 = array([y_hat[:,x] - X_test_original[:,0,-1] for x in [0,2,4]])\n",
        "diff_pred=np.concatenate((diff_pred1,diff_pred2),axis=1)"
      ],
      "execution_count": 142,
      "outputs": []
    },
    {
      "cell_type": "code",
      "metadata": {
        "id": "YkD1XGSIa1cV"
      },
      "source": [
        "#diff_pred[diff_pred<0] = - diff_pred[diff_pred<0]\n",
        "#diff_true[diff_true<0] = - diff_true[diff_true<0]"
      ],
      "execution_count": 143,
      "outputs": []
    },
    {
      "cell_type": "code",
      "metadata": {
        "id": "TOooO6pgRA0r",
        "colab": {
          "base_uri": "https://localhost:8080/"
        },
        "outputId": "9a1de073-7c36-4577-8a7e-68554c6c9d66"
      },
      "source": [
        "import sklearn.metrics as metrics\n",
        "mae = metrics.mean_absolute_error(y_true, y_hat)\n",
        "mse = metrics.mean_squared_error(y_true, y_hat)\n",
        "rmse = np.sqrt(mse) #mse**(0.5)  \n",
        "r2 = rsquared(y_true, y_hat)\n",
        "mae_diff = metrics.mean_absolute_error(diff_true, diff_pred)\n",
        "mse_diff = metrics.mean_squared_error(diff_true, diff_pred)\n",
        "rmse_diff = np.sqrt(mse_diff) #mse**(0.5)  \n",
        "r2_diff = rsquared(diff_true, diff_pred)\n",
        "print(\"Results of sklearn.metrics:\")\n",
        "print(\"MAE:\",mae)\n",
        "print(\"MSE:\", mse)\n",
        "print(\"RMSE:\", rmse)\n",
        "print(\"R-Squared:\", r2)\n",
        "print(\"MAE_diff:\",mae_diff)\n",
        "print(\"MSE_diff:\", mse_diff)\n",
        "print(\"RMSE_diff:\", rmse_diff)\n",
        "print(\"R-Squared diff:\", r2_diff)"
      ],
      "execution_count": 144,
      "outputs": [
        {
          "output_type": "stream",
          "text": [
            "Results of sklearn.metrics:\n",
            "MAE: 36.542091983488234\n",
            "MSE: 2254.6608881108327\n",
            "RMSE: 47.483269560033804\n",
            "R-Squared: 0.8437297124373707\n",
            "MAE_diff: 36.542091983488234\n",
            "MSE_diff: 2254.660888110833\n",
            "RMSE_diff: 47.483269560033804\n",
            "R-Squared diff: 0.8472377581663748\n"
          ],
          "name": "stdout"
        }
      ]
    },
    {
      "cell_type": "code",
      "metadata": {
        "colab": {
          "base_uri": "https://localhost:8080/"
        },
        "id": "DEyL1cKolK4c",
        "outputId": "ca634901-8145-4070-8c91-34050d2f3602"
      },
      "source": [
        "y_bar = y_true.mean()\n",
        "ss_tot = ((y_true-y_bar)**2).sum()\n",
        "ss_res = ((y_true-y_hat)**2).sum()\n",
        "print(ss_res)\n",
        "print(ss_tot)\n",
        "\n",
        "y_bar = diff_true.mean()\n",
        "ss_tot = ((diff_true-y_bar)**2).sum()\n",
        "ss_res = ((diff_true-diff_pred)**2).sum()\n",
        "print(ss_res)\n",
        "print(ss_tot)\n",
        "print(ss_res/ss_tot)"
      ],
      "execution_count": 145,
      "outputs": [
        {
          "output_type": "stream",
          "text": [
            "1569243.9781251396\n",
            "10041857.621182308\n",
            "1569243.9781251396\n",
            "10272459.734089388\n",
            "0.15276224183362513\n"
          ],
          "name": "stdout"
        }
      ]
    },
    {
      "cell_type": "code",
      "metadata": {
        "id": "c8AIyDdR8_A-"
      },
      "source": [
        "y_pred=y_hat\n",
        "y_pred_len = y_pred.shape[0]"
      ],
      "execution_count": 146,
      "outputs": []
    },
    {
      "cell_type": "code",
      "metadata": {
        "id": "NLTgf1ayUGNl"
      },
      "source": [
        "new_row1 = {'open':y_pred[-2,2] , 'close':y_pred[-2,3]}\n",
        "new_row2 = {'open':y_pred[-1,4] , 'close':y_pred[-1,4]}"
      ],
      "execution_count": 147,
      "outputs": []
    },
    {
      "cell_type": "code",
      "metadata": {
        "id": "3SJGK_c4UMuG"
      },
      "source": [
        "from datetime import timedelta\n",
        "\n",
        "dataset = pd.DataFrame({\n",
        "    'open': y_pred[:,0], 'close': y_pred[:,1]\n",
        "                        })\n",
        "\n",
        "dataset_true = pd.DataFrame({\n",
        "    'open': y_true[:,0], 'close': y_true[:,1]\n",
        "                        })\n",
        "\n",
        "tempDf = pd.to_datetime(hist[-y_pred_len-2:-2].index)\n",
        "dataset.loc[:,'date'] = pd.to_datetime(hist[-y_pred_len-2:-2].index)\n",
        "dataset_true.loc[:,'date'] = pd.to_datetime(hist[-y_pred_len-2:-2].index)\n",
        "\n",
        "dataset = dataset.append(new_row1, ignore_index=True)\n",
        "dataset = dataset.append(new_row2, ignore_index=True)\n",
        "dataset.loc[y_pred_len,'date'] = pd.to_datetime(tempDf[-1] + timedelta(days=1))\n",
        "dataset.loc[y_pred_len+1,'date'] = pd.to_datetime(tempDf[-1] + timedelta(days=2))"
      ],
      "execution_count": 148,
      "outputs": []
    },
    {
      "cell_type": "code",
      "metadata": {
        "id": "14cK_0jowuXn"
      },
      "source": [
        "dataset=dataset.assign(low=lambda d: d[['open', 'close']].min(1))\n",
        "dataset=dataset.assign(high=lambda d: d[['open', 'close']].max(1))\n",
        "dataset_true=dataset_true.assign(low=lambda d: d[['open', 'close']].min(1))\n",
        "dataset_true=dataset_true.assign(high=lambda d: d[['open', 'close']].max(1))"
      ],
      "execution_count": 149,
      "outputs": []
    },
    {
      "cell_type": "code",
      "metadata": {
        "colab": {
          "base_uri": "https://localhost:8080/",
          "height": 817
        },
        "id": "lRzUq7Tip9k9",
        "outputId": "6ac2c059-20ca-4d83-fa3e-6c8cf02a1b11"
      },
      "source": [
        "import plotly.graph_objects as go\n",
        "\n",
        "import pandas as pd\n",
        "from datetime import datetime\n",
        "\n",
        "fig = go.Figure(data=\n",
        "                [go.Ohlc(x=dataset['date'],\n",
        "                open=dataset['open'],\n",
        "                high=dataset['high'],\n",
        "                low=dataset['low'],\n",
        "                close=dataset['close'],\n",
        "                showlegend=False,\n",
        "                name=\"predicted\"),\n",
        "                 go.Ohlc(x=dataset_true['date'],\n",
        "                open=dataset_true['open'],\n",
        "                high=dataset_true['high'],\n",
        "                low=dataset_true['low'],\n",
        "                close=dataset_true['close'],\n",
        "                showlegend=False,\n",
        "                name=\"true\",\n",
        "    increasing_line_color= 'blue', decreasing_line_color= 'yellow'\n",
        ")])\n",
        "fig.update_layout(\n",
        "    autosize=False,\n",
        "    width=1000,\n",
        "    height=800,)\n",
        "fig.update(layout_xaxis_rangeslider_visible=False)\n",
        "fig.show()\n"
      ],
      "execution_count": 150,
      "outputs": [
        {
          "output_type": "display_data",
          "data": {
            "text/html": [
              "<html>\n",
              "<head><meta charset=\"utf-8\" /></head>\n",
              "<body>\n",
              "    <div>\n",
              "            <script src=\"https://cdnjs.cloudflare.com/ajax/libs/mathjax/2.7.5/MathJax.js?config=TeX-AMS-MML_SVG\"></script><script type=\"text/javascript\">if (window.MathJax) {MathJax.Hub.Config({SVG: {font: \"STIX-Web\"}});}</script>\n",
              "                <script type=\"text/javascript\">window.PlotlyConfig = {MathJaxConfig: 'local'};</script>\n",
              "        <script src=\"https://cdn.plot.ly/plotly-latest.min.js\"></script>    \n",
              "            <div id=\"add9ef73-e3d3-478e-94af-7565e994621f\" class=\"plotly-graph-div\" style=\"height:800px; width:1000px;\"></div>\n",
              "            <script type=\"text/javascript\">\n",
              "                \n",
              "                    window.PLOTLYENV=window.PLOTLYENV || {};\n",
              "                    \n",
              "                if (document.getElementById(\"add9ef73-e3d3-478e-94af-7565e994621f\")) {\n",
              "                    Plotly.newPlot(\n",
              "                        'add9ef73-e3d3-478e-94af-7565e994621f',\n",
              "                        [{\"close\": [1518.5059814453125, 1513.7750244140625, 1526.147216796875, 1520.4967041015625, 1517.0770263671875, 1521.5084228515625, 1551.0975341796875, 1558.5792236328125, 1565.0328369140625, 1543.787109375, 1533.892333984375, 1524.149169921875, 1518.4288330078125, 1519.3807373046875, 1503.6971435546875, 1493.1136474609375, 1473.1422119140625, 1474.8338623046875, 1479.239990234375, 1482.52685546875, 1491.015625, 1495.0189208984375, 1494.51220703125, 1505.152099609375, 1516.3382568359375, 1515.468994140625, 1532.5721435546875, 1550.1905517578125, 1567.5062255859375, 1581.678466796875, 1598.5850830078125, 1604.0911865234375, 1622.3682861328125, 1632.3624267578125, 1637.77490234375, 1643.1353759765625, 1645.04296875, 1650.1131591796875, 1647.9661865234375, 1625.29052734375, 1603.8564453125, 1571.981689453125, 1562.9007568359375, 1545.9161376953125, 1543.8990478515625, 1533.3082275390625, 1543.911865234375, 1528.5028076171875, 1504.533447265625, 1475.9130859375, 1469.0096435546875, 1458.9388427734375, 1462.5289306640625, 1453.8309326171875, 1460.6993408203125, 1462.0548095703125, 1468.886962890625, 1466.7864990234375, 1470.6016845703125, 1461.7176513671875, 1468.8394775390625, 1452.4930419921875, 1455.75634765625, 1465.2088623046875, 1502.93212890625, 1539.4503173828125, 1565.67138671875, 1583.6727294921875, 1580.28759765625, 1578.5377197265625, 1562.81591796875, 1569.6600341796875, 1582.681884765625, 1600.4288330078125, 1614.9058837890625, 1611.06884765625, 1590.0941162109375, 1569.3616943359375, 1588.729248046875, 1606.533203125, 1632.249267578125, 1658.55712890625, 1710.00146484375, 1714.859375, 1740.2021484375, 1722.22509765625, 1721.35986328125, 1708.8466796875, 1721.3916015625, 1717.5679931640625, 1731.2391357421875, 1730.34033203125, 1734.26806640625, 1720.3551025390625, 1713.6383056640625, 1710.9293212890625, 1723.646240234375, 1737.68701171875, 1746.76318359375, 1758.2481689453125, 1766.13623046875, 1785.740234375, 1797.4541015625, 1793.7860107421875, 1793.8956298828125, 1780.359130859375, 1769.470703125, 1752.2271728515625, 1752.39013671875, 1745.2064208984375, 1743.7535400390625, 1740.190673828125, 1713.473388671875, 1704.9537353515625, 1695.1517333984375, 1699.8411865234375, 1694.497802734375, 1694.76611328125], \"high\": [1518.5059814453125, 1513.7750244140625, 1526.147216796875, 1520.4967041015625, 1517.0770263671875, 1521.5084228515625, 1551.0975341796875, 1558.5792236328125, 1565.0328369140625, 1543.787109375, 1533.892333984375, 1524.149169921875, 1518.4288330078125, 1519.3807373046875, 1503.6971435546875, 1493.1136474609375, 1473.1422119140625, 1474.8338623046875, 1479.239990234375, 1482.52685546875, 1491.015625, 1495.0189208984375, 1494.51220703125, 1505.152099609375, 1516.3382568359375, 1515.468994140625, 1532.5721435546875, 1550.1905517578125, 1567.5062255859375, 1581.678466796875, 1598.5850830078125, 1604.0911865234375, 1622.3682861328125, 1632.3624267578125, 1637.77490234375, 1643.1353759765625, 1645.04296875, 1650.1131591796875, 1647.9661865234375, 1625.29052734375, 1603.8564453125, 1571.981689453125, 1562.9007568359375, 1545.9161376953125, 1543.8990478515625, 1533.3082275390625, 1543.911865234375, 1528.5028076171875, 1504.533447265625, 1475.9130859375, 1469.0096435546875, 1458.9388427734375, 1462.5289306640625, 1453.8309326171875, 1460.6993408203125, 1462.0548095703125, 1468.886962890625, 1466.7864990234375, 1470.6016845703125, 1461.7176513671875, 1468.8394775390625, 1452.4930419921875, 1455.75634765625, 1465.2088623046875, 1502.93212890625, 1539.4503173828125, 1565.67138671875, 1583.6727294921875, 1580.28759765625, 1578.5377197265625, 1562.81591796875, 1569.6600341796875, 1582.681884765625, 1600.4288330078125, 1614.9058837890625, 1611.06884765625, 1590.0941162109375, 1569.3616943359375, 1588.729248046875, 1606.533203125, 1632.249267578125, 1658.55712890625, 1710.00146484375, 1714.859375, 1740.2021484375, 1722.22509765625, 1721.35986328125, 1708.8466796875, 1721.3916015625, 1717.5679931640625, 1731.2391357421875, 1730.34033203125, 1734.26806640625, 1720.3551025390625, 1713.6383056640625, 1710.9293212890625, 1723.646240234375, 1737.68701171875, 1746.76318359375, 1758.2481689453125, 1766.13623046875, 1785.740234375, 1797.4541015625, 1793.7860107421875, 1793.8956298828125, 1780.359130859375, 1769.470703125, 1752.2271728515625, 1752.39013671875, 1745.2064208984375, 1743.7535400390625, 1740.190673828125, 1713.473388671875, 1704.9537353515625, 1695.1517333984375, 1699.8411865234375, 1694.497802734375, 1694.76611328125], \"low\": [1514.8492431640625, 1510.09375, 1521.34765625, 1515.8565673828125, 1512.1651611328125, 1516.18359375, 1543.587158203125, 1550.460693359375, 1556.0909423828125, 1535.6119384765625, 1525.896728515625, 1517.039306640625, 1511.6202392578125, 1512.388916015625, 1497.7757568359375, 1487.7703857421875, 1466.6702880859375, 1468.9794921875, 1473.8192138671875, 1477.5606689453125, 1486.2384033203125, 1490.1871337890625, 1489.7430419921875, 1499.4573974609375, 1509.347900390625, 1508.6304931640625, 1525.4178466796875, 1543.208740234375, 1560.0738525390625, 1573.5440673828125, 1589.6326904296875, 1594.708984375, 1611.987060546875, 1621.5574951171875, 1626.9578857421875, 1632.6138916015625, 1634.700439453125, 1639.93115234375, 1638.348876953125, 1616.906005859375, 1596.0244140625, 1562.540771484375, 1552.830810546875, 1537.032470703125, 1535.175537109375, 1525.145751953125, 1535.17822265625, 1520.1053466796875, 1494.9464111328125, 1465.3961181640625, 1458.033447265625, 1447.3729248046875, 1451.2960205078125, 1441.8736572265625, 1449.604736328125, 1451.3603515625, 1459.013427734375, 1456.8935546875, 1461.7918701171875, 1452.189208984375, 1460.7733154296875, 1442.0814208984375, 1446.5797119140625, 1457.5732421875, 1496.5452880859375, 1531.3074951171875, 1558.1573486328125, 1575.540283203125, 1571.908935546875, 1570.196533203125, 1554.273193359375, 1561.31640625, 1574.223876953125, 1591.9420166015625, 1606.2381591796875, 1602.8775634765625, 1582.3177490234375, 1561.706298828125, 1581.0968017578125, 1599.044921875, 1624.0802001953125, 1649.536376953125, 1698.1636962890625, 1703.0679931640625, 1727.3052978515625, 1711.390869140625, 1711.3719482421875, 1700.475341796875, 1713.1273193359375, 1710.18603515625, 1723.6341552734375, 1723.33642578125, 1727.5428466796875, 1714.6473388671875, 1708.4715576171875, 1706.1068115234375, 1718.644287109375, 1732.4473876953125, 1741.1805419921875, 1751.9931640625, 1759.3145751953125, 1777.49755859375, 1788.370361328125, 1784.8917236328125, 1785.165771484375, 1772.67919921875, 1762.523681640625, 1746.3553466796875, 1746.4417724609375, 1739.6224365234375, 1738.07666015625, 1734.577392578125, 1708.584228515625, 1700.0250244140625, 1690.281494140625, 1694.82763671875, 1687.9818115234375, 1694.76611328125], \"name\": \"predicted\", \"open\": [1514.8492431640625, 1510.09375, 1521.34765625, 1515.8565673828125, 1512.1651611328125, 1516.18359375, 1543.587158203125, 1550.460693359375, 1556.0909423828125, 1535.6119384765625, 1525.896728515625, 1517.039306640625, 1511.6202392578125, 1512.388916015625, 1497.7757568359375, 1487.7703857421875, 1466.6702880859375, 1468.9794921875, 1473.8192138671875, 1477.5606689453125, 1486.2384033203125, 1490.1871337890625, 1489.7430419921875, 1499.4573974609375, 1509.347900390625, 1508.6304931640625, 1525.4178466796875, 1543.208740234375, 1560.0738525390625, 1573.5440673828125, 1589.6326904296875, 1594.708984375, 1611.987060546875, 1621.5574951171875, 1626.9578857421875, 1632.6138916015625, 1634.700439453125, 1639.93115234375, 1638.348876953125, 1616.906005859375, 1596.0244140625, 1562.540771484375, 1552.830810546875, 1537.032470703125, 1535.175537109375, 1525.145751953125, 1535.17822265625, 1520.1053466796875, 1494.9464111328125, 1465.3961181640625, 1458.033447265625, 1447.3729248046875, 1451.2960205078125, 1441.8736572265625, 1449.604736328125, 1451.3603515625, 1459.013427734375, 1456.8935546875, 1461.7918701171875, 1452.189208984375, 1460.7733154296875, 1442.0814208984375, 1446.5797119140625, 1457.5732421875, 1496.5452880859375, 1531.3074951171875, 1558.1573486328125, 1575.540283203125, 1571.908935546875, 1570.196533203125, 1554.273193359375, 1561.31640625, 1574.223876953125, 1591.9420166015625, 1606.2381591796875, 1602.8775634765625, 1582.3177490234375, 1561.706298828125, 1581.0968017578125, 1599.044921875, 1624.0802001953125, 1649.536376953125, 1698.1636962890625, 1703.0679931640625, 1727.3052978515625, 1711.390869140625, 1711.3719482421875, 1700.475341796875, 1713.1273193359375, 1710.18603515625, 1723.6341552734375, 1723.33642578125, 1727.5428466796875, 1714.6473388671875, 1708.4715576171875, 1706.1068115234375, 1718.644287109375, 1732.4473876953125, 1741.1805419921875, 1751.9931640625, 1759.3145751953125, 1777.49755859375, 1788.370361328125, 1784.8917236328125, 1785.165771484375, 1772.67919921875, 1762.523681640625, 1746.3553466796875, 1746.4417724609375, 1739.6224365234375, 1738.07666015625, 1734.577392578125, 1708.584228515625, 1700.0250244140625, 1690.281494140625, 1694.82763671875, 1687.9818115234375, 1694.76611328125], \"showlegend\": false, \"type\": \"ohlc\", \"x\": [\"2020-07-14T00:00:00\", \"2020-07-15T00:00:00\", \"2020-07-16T00:00:00\", \"2020-07-17T00:00:00\", \"2020-07-20T00:00:00\", \"2020-07-21T00:00:00\", \"2020-07-22T00:00:00\", \"2020-07-23T00:00:00\", \"2020-07-24T00:00:00\", \"2020-07-27T00:00:00\", \"2020-07-28T00:00:00\", \"2020-07-29T00:00:00\", \"2020-07-30T00:00:00\", \"2020-07-31T00:00:00\", \"2020-08-03T00:00:00\", \"2020-08-04T00:00:00\", \"2020-08-05T00:00:00\", \"2020-08-06T00:00:00\", \"2020-08-07T00:00:00\", \"2020-08-10T00:00:00\", \"2020-08-11T00:00:00\", \"2020-08-12T00:00:00\", \"2020-08-13T00:00:00\", \"2020-08-14T00:00:00\", \"2020-08-17T00:00:00\", \"2020-08-18T00:00:00\", \"2020-08-19T00:00:00\", \"2020-08-20T00:00:00\", \"2020-08-21T00:00:00\", \"2020-08-24T00:00:00\", \"2020-08-25T00:00:00\", \"2020-08-26T00:00:00\", \"2020-08-27T00:00:00\", \"2020-08-28T00:00:00\", \"2020-08-31T00:00:00\", \"2020-09-01T00:00:00\", \"2020-09-02T00:00:00\", \"2020-09-03T00:00:00\", \"2020-09-04T00:00:00\", \"2020-09-08T00:00:00\", \"2020-09-09T00:00:00\", \"2020-09-10T00:00:00\", \"2020-09-11T00:00:00\", \"2020-09-14T00:00:00\", \"2020-09-15T00:00:00\", \"2020-09-16T00:00:00\", \"2020-09-17T00:00:00\", \"2020-09-18T00:00:00\", \"2020-09-21T00:00:00\", \"2020-09-22T00:00:00\", \"2020-09-23T00:00:00\", \"2020-09-24T00:00:00\", \"2020-09-25T00:00:00\", \"2020-09-28T00:00:00\", \"2020-09-29T00:00:00\", \"2020-09-30T00:00:00\", \"2020-10-01T00:00:00\", \"2020-10-02T00:00:00\", \"2020-10-05T00:00:00\", \"2020-10-06T00:00:00\", \"2020-10-07T00:00:00\", \"2020-10-08T00:00:00\", \"2020-10-09T00:00:00\", \"2020-10-12T00:00:00\", \"2020-10-13T00:00:00\", \"2020-10-14T00:00:00\", \"2020-10-15T00:00:00\", \"2020-10-16T00:00:00\", \"2020-10-19T00:00:00\", \"2020-10-20T00:00:00\", \"2020-10-21T00:00:00\", \"2020-10-22T00:00:00\", \"2020-10-23T00:00:00\", \"2020-10-26T00:00:00\", \"2020-10-27T00:00:00\", \"2020-10-28T00:00:00\", \"2020-10-29T00:00:00\", \"2020-10-30T00:00:00\", \"2020-11-02T00:00:00\", \"2020-11-03T00:00:00\", \"2020-11-04T00:00:00\", \"2020-11-05T00:00:00\", \"2020-11-06T00:00:00\", \"2020-11-09T00:00:00\", \"2020-11-10T00:00:00\", \"2020-11-11T00:00:00\", \"2020-11-12T00:00:00\", \"2020-11-13T00:00:00\", \"2020-11-16T00:00:00\", \"2020-11-17T00:00:00\", \"2020-11-18T00:00:00\", \"2020-11-19T00:00:00\", \"2020-11-20T00:00:00\", \"2020-11-23T00:00:00\", \"2020-11-24T00:00:00\", \"2020-11-25T00:00:00\", \"2020-11-27T00:00:00\", \"2020-11-30T00:00:00\", \"2020-12-01T00:00:00\", \"2020-12-02T00:00:00\", \"2020-12-03T00:00:00\", \"2020-12-04T00:00:00\", \"2020-12-07T00:00:00\", \"2020-12-08T00:00:00\", \"2020-12-09T00:00:00\", \"2020-12-10T00:00:00\", \"2020-12-11T00:00:00\", \"2020-12-14T00:00:00\", \"2020-12-15T00:00:00\", \"2020-12-16T00:00:00\", \"2020-12-17T00:00:00\", \"2020-12-18T00:00:00\", \"2020-12-21T00:00:00\", \"2020-12-22T00:00:00\", \"2020-12-23T00:00:00\", \"2020-12-24T00:00:00\", \"2020-12-25T00:00:00\", \"2020-12-26T00:00:00\"]}, {\"close\": [1520.5799560546875, 1513.6400146484375, 1518.0, 1515.550048828125, 1565.719970703125, 1558.4200439453125, 1568.489990234375, 1515.6800537109375, 1511.8699951171875, 1530.199951171875, 1500.3399658203125, 1522.02001953125, 1531.449951171875, 1482.9599609375, 1474.449951171875, 1464.969970703125, 1473.6099853515625, 1500.0999755859375, 1494.489990234375, 1496.0999755859375, 1480.3199462890625, 1506.6199951171875, 1518.449951171875, 1507.72998046875, 1517.97998046875, 1558.5999755859375, 1547.530029296875, 1581.75, 1580.4200439453125, 1588.199951171875, 1608.219970703125, 1652.3800048828125, 1634.3299560546875, 1644.4100341796875, 1634.1800537109375, 1660.7099609374998, 1728.2800292968748, 1641.8399658203125, 1591.0400390625, 1532.3900146484375, 1556.9599609375, 1532.02001953125, 1520.719970703125, 1519.280029296875, 1541.43994140625, 1520.9000244140625, 1495.530029296875, 1459.989990234375, 1431.1600341796875, 1465.4599609375, 1415.2099609375, 1428.2900390625, 1444.9599609375, 1464.52001953125, 1469.3299560546875, 1469.5999755859375, 1490.0899658203125, 1458.4200439453125, 1486.02001953125, 1453.43994140625, 1460.2900390625, 1485.9300537109375, 1515.219970703125, 1569.1500244140625, 1571.6800537109375, 1568.0799560546875, 1559.1300048828125, 1573.010009765625, 1534.6099853515625, 1555.9300537109375, 1593.31005859375, 1615.3299560546875, 1641.0, 1590.449951171875, 1604.260009765625, 1516.6199951171875, 1567.239990234375, 1621.010009765625, 1626.030029296875, 1650.2099609375, 1749.1300048828125, 1763.3699951171875, 1761.75, 1763.0, 1740.3900146484375, 1752.7099609374998, 1749.8399658203125, 1777.02001953125, 1781.3800048828125, 1770.1500244140627, 1746.780029296875, 1763.9200439453125, 1742.18994140625, 1734.8599853515625, 1768.8800048828123, 1771.4300537109375, 1793.1899414062498, 1760.739990234375, 1798.0999755859377, 1827.949951171875, 1826.77001953125, 1827.989990234375, 1819.4799804687502, 1818.5500488281248, 1784.1300048828125, 1775.3299560546875, 1781.77001953125, 1760.06005859375, 1767.77001953125, 1763.0, 1747.9000244140625, 1731.010009765625, 1739.3699951171877, 1723.5, 1732.3800048828125, 1738.8499755859375], \"decreasing\": {\"line\": {\"color\": \"yellow\"}}, \"high\": [1520.5799560546875, 1523.1300048828125, 1518.0, 1521.6199951171875, 1565.719970703125, 1586.989990234375, 1568.489990234375, 1566.969970703125, 1511.8699951171875, 1530.199951171875, 1525.1800537109375, 1522.02001953125, 1531.449951171875, 1505.010009765625, 1486.6400146484375, 1476.5699462890625, 1473.6099853515625, 1500.0999755859375, 1500.0, 1496.0999755859375, 1492.43994140625, 1506.6199951171875, 1518.449951171875, 1515.6600341796875, 1517.97998046875, 1558.5999755859375, 1553.31005859375, 1581.75, 1580.4200439453125, 1593.97998046875, 1608.219970703125, 1652.3800048828125, 1653.6800537109375, 1644.4100341796875, 1647.8900146484375, 1660.7099609374998, 1728.2800292968748, 1709.7139892578125, 1624.260009765625, 1533.510009765625, 1557.530029296875, 1560.6400146484375, 1536.0, 1539.0050048828125, 1541.43994140625, 1555.5400390625, 1496.0, 1498.010009765625, 1440.06005859375, 1465.4599609375, 1458.780029296875, 1428.2900390625, 1444.9599609375, 1474.2099609375, 1470.3900146484375, 1469.5999755859375, 1490.0899658203125, 1462.030029296875, 1486.02001953125, 1475.5799560546875, 1464.2900390625, 1485.9300537109375, 1515.219970703125, 1569.1500244140625, 1583.72998046875, 1578.5899658203125, 1559.1300048828125, 1573.010009765625, 1580.4599609375, 1555.9300537109375, 1593.31005859375, 1615.3299560546875, 1641.0, 1625.010009765625, 1604.260009765625, 1559.739990234375, 1567.239990234375, 1672.1099853515623, 1628.1600341796875, 1650.2099609375, 1749.1300048828125, 1781.0, 1761.75, 1790.9000244140625, 1740.3900146484375, 1752.7099609374998, 1749.8399658203125, 1777.02001953125, 1781.3800048828125, 1776.93994140625, 1765.22998046875, 1763.9200439453125, 1765.2099609375, 1749.5999755859375, 1768.8800048828123, 1772.8900146484373, 1793.1899414062498, 1781.1839599609375, 1798.0999755859377, 1827.949951171875, 1826.77001953125, 1827.989990234375, 1819.4799804687502, 1818.5500488281248, 1812.0100097656252, 1775.3299560546875, 1781.77001953125, 1775.0, 1767.77001953125, 1772.8800048828125, 1768.5100097656252, 1754.1800537109375, 1739.3699951171877, 1734.4300537109373, 1732.3800048828125, 1738.8499755859375], \"increasing\": {\"line\": {\"color\": \"blue\"}}, \"low\": [1490.31005859375, 1513.6400146484375, 1500.0, 1515.550048828125, 1515.260009765625, 1558.4200439453125, 1560.5, 1515.6800537109375, 1498.9300537109375, 1515.5999755859375, 1500.3399658203125, 1506.3199462890625, 1497.0, 1482.9599609375, 1474.449951171875, 1464.969970703125, 1469.300048828125, 1471.75, 1494.489990234375, 1487.1800537109375, 1480.3199462890625, 1485.5799560546875, 1510.3399658203125, 1507.72998046875, 1514.6700439453125, 1526.1800537109375, 1547.530029296875, 1543.449951171875, 1577.030029296875, 1588.199951171875, 1582.0699462890625, 1608.0, 1634.3299560546875, 1633.489990234375, 1634.1800537109375, 1636.6300048828125, 1673.7750244140627, 1641.8399658203125, 1591.0400390625, 1532.3900146484375, 1556.9599609375, 1532.02001953125, 1520.719970703125, 1519.280029296875, 1536.0, 1520.9000244140625, 1495.530029296875, 1459.989990234375, 1431.1600341796875, 1450.0899658203125, 1415.2099609375, 1411.030029296875, 1432.6300048828125, 1464.52001953125, 1469.3299560546875, 1466.800048828125, 1484.27001953125, 1458.4200439453125, 1466.2099609375, 1453.43994140625, 1460.2900390625, 1465.0899658203125, 1494.699951171875, 1543.0, 1571.6800537109375, 1568.0799560546875, 1547.1500244140625, 1565.8499755859375, 1534.6099853515625, 1527.050048828125, 1573.3299560546875, 1593.050048828125, 1626.0699462890625, 1590.449951171875, 1595.6700439453125, 1516.6199951171875, 1522.3599853515625, 1621.010009765625, 1626.030029296875, 1631.780029296875, 1710.280029296875, 1763.3699951171875, 1753.949951171875, 1763.0, 1731.0899658203125, 1750.0, 1747.6300048828123, 1757.6300048828125, 1771.6999511718752, 1770.1500244140627, 1746.780029296875, 1738.3800048828123, 1742.18994140625, 1734.8599853515625, 1730.5, 1771.4300537109375, 1773.0899658203125, 1760.739990234375, 1774.3699951171875, 1798.0999755859375, 1824.010009765625, 1824.52001953125, 1819.0, 1810.0999755859375, 1784.1300048828125, 1769.800048828125, 1763.0600585937502, 1760.06005859375, 1764.4200439453125, 1763.0, 1747.9000244140625, 1731.010009765625, 1713.510009765625, 1723.5, 1728.1099853515623, 1735.0], \"name\": \"true\", \"open\": [1490.31005859375, 1523.1300048828125, 1500.0, 1521.6199951171875, 1515.260009765625, 1586.989990234375, 1560.5, 1566.969970703125, 1498.9300537109375, 1515.5999755859375, 1525.1800537109375, 1506.3199462890625, 1497.0, 1505.010009765625, 1486.6400146484375, 1476.5699462890625, 1469.300048828125, 1471.75, 1500.0, 1487.1800537109375, 1492.43994140625, 1485.5799560546875, 1510.3399658203125, 1515.6600341796875, 1514.6700439453125, 1526.1800537109375, 1553.31005859375, 1543.449951171875, 1577.030029296875, 1593.97998046875, 1582.0699462890625, 1608.0, 1653.6800537109375, 1633.489990234375, 1647.8900146484375, 1636.6300048828125, 1673.7750244140627, 1709.7139892578125, 1624.260009765625, 1533.510009765625, 1557.530029296875, 1560.6400146484375, 1536.0, 1539.0050048828125, 1536.0, 1555.5400390625, 1496.0, 1498.010009765625, 1440.06005859375, 1450.0899658203125, 1458.780029296875, 1411.030029296875, 1432.6300048828125, 1474.2099609375, 1470.3900146484375, 1466.800048828125, 1484.27001953125, 1462.030029296875, 1466.2099609375, 1475.5799560546875, 1464.2900390625, 1465.0899658203125, 1494.699951171875, 1543.0, 1583.72998046875, 1578.5899658203125, 1547.1500244140625, 1565.8499755859375, 1580.4599609375, 1527.050048828125, 1573.3299560546875, 1593.050048828125, 1626.0699462890625, 1625.010009765625, 1595.6700439453125, 1559.739990234375, 1522.3599853515625, 1672.1099853515623, 1628.1600341796875, 1631.780029296875, 1710.280029296875, 1781.0, 1753.949951171875, 1790.9000244140625, 1731.0899658203125, 1750.0, 1747.6300048828123, 1757.6300048828125, 1771.6999511718752, 1776.93994140625, 1765.22998046875, 1738.3800048828123, 1765.2099609375, 1749.5999755859375, 1730.5, 1772.8900146484373, 1773.0899658203125, 1781.1839599609375, 1774.3699951171875, 1798.0999755859375, 1824.010009765625, 1824.52001953125, 1819.0, 1810.0999755859375, 1812.0100097656252, 1769.800048828125, 1763.0600585937502, 1775.0, 1764.4200439453125, 1772.8800048828125, 1768.5100097656252, 1754.1800537109375, 1713.510009765625, 1734.4300537109373, 1728.1099853515623, 1735.0], \"showlegend\": false, \"type\": \"ohlc\", \"x\": [\"2020-07-14T00:00:00\", \"2020-07-15T00:00:00\", \"2020-07-16T00:00:00\", \"2020-07-17T00:00:00\", \"2020-07-20T00:00:00\", \"2020-07-21T00:00:00\", \"2020-07-22T00:00:00\", \"2020-07-23T00:00:00\", \"2020-07-24T00:00:00\", \"2020-07-27T00:00:00\", \"2020-07-28T00:00:00\", \"2020-07-29T00:00:00\", \"2020-07-30T00:00:00\", \"2020-07-31T00:00:00\", \"2020-08-03T00:00:00\", \"2020-08-04T00:00:00\", \"2020-08-05T00:00:00\", \"2020-08-06T00:00:00\", \"2020-08-07T00:00:00\", \"2020-08-10T00:00:00\", \"2020-08-11T00:00:00\", \"2020-08-12T00:00:00\", \"2020-08-13T00:00:00\", \"2020-08-14T00:00:00\", \"2020-08-17T00:00:00\", \"2020-08-18T00:00:00\", \"2020-08-19T00:00:00\", \"2020-08-20T00:00:00\", \"2020-08-21T00:00:00\", \"2020-08-24T00:00:00\", \"2020-08-25T00:00:00\", \"2020-08-26T00:00:00\", \"2020-08-27T00:00:00\", \"2020-08-28T00:00:00\", \"2020-08-31T00:00:00\", \"2020-09-01T00:00:00\", \"2020-09-02T00:00:00\", \"2020-09-03T00:00:00\", \"2020-09-04T00:00:00\", \"2020-09-08T00:00:00\", \"2020-09-09T00:00:00\", \"2020-09-10T00:00:00\", \"2020-09-11T00:00:00\", \"2020-09-14T00:00:00\", \"2020-09-15T00:00:00\", \"2020-09-16T00:00:00\", \"2020-09-17T00:00:00\", \"2020-09-18T00:00:00\", \"2020-09-21T00:00:00\", \"2020-09-22T00:00:00\", \"2020-09-23T00:00:00\", \"2020-09-24T00:00:00\", \"2020-09-25T00:00:00\", \"2020-09-28T00:00:00\", \"2020-09-29T00:00:00\", \"2020-09-30T00:00:00\", \"2020-10-01T00:00:00\", \"2020-10-02T00:00:00\", \"2020-10-05T00:00:00\", \"2020-10-06T00:00:00\", \"2020-10-07T00:00:00\", \"2020-10-08T00:00:00\", \"2020-10-09T00:00:00\", \"2020-10-12T00:00:00\", \"2020-10-13T00:00:00\", \"2020-10-14T00:00:00\", \"2020-10-15T00:00:00\", \"2020-10-16T00:00:00\", \"2020-10-19T00:00:00\", \"2020-10-20T00:00:00\", \"2020-10-21T00:00:00\", \"2020-10-22T00:00:00\", \"2020-10-23T00:00:00\", \"2020-10-26T00:00:00\", \"2020-10-27T00:00:00\", \"2020-10-28T00:00:00\", \"2020-10-29T00:00:00\", \"2020-10-30T00:00:00\", \"2020-11-02T00:00:00\", \"2020-11-03T00:00:00\", \"2020-11-04T00:00:00\", \"2020-11-05T00:00:00\", \"2020-11-06T00:00:00\", \"2020-11-09T00:00:00\", \"2020-11-10T00:00:00\", \"2020-11-11T00:00:00\", \"2020-11-12T00:00:00\", \"2020-11-13T00:00:00\", \"2020-11-16T00:00:00\", \"2020-11-17T00:00:00\", \"2020-11-18T00:00:00\", \"2020-11-19T00:00:00\", \"2020-11-20T00:00:00\", \"2020-11-23T00:00:00\", \"2020-11-24T00:00:00\", \"2020-11-25T00:00:00\", \"2020-11-27T00:00:00\", \"2020-11-30T00:00:00\", \"2020-12-01T00:00:00\", \"2020-12-02T00:00:00\", \"2020-12-03T00:00:00\", \"2020-12-04T00:00:00\", \"2020-12-07T00:00:00\", \"2020-12-08T00:00:00\", \"2020-12-09T00:00:00\", \"2020-12-10T00:00:00\", \"2020-12-11T00:00:00\", \"2020-12-14T00:00:00\", \"2020-12-15T00:00:00\", \"2020-12-16T00:00:00\", \"2020-12-17T00:00:00\", \"2020-12-18T00:00:00\", \"2020-12-21T00:00:00\", \"2020-12-22T00:00:00\", \"2020-12-23T00:00:00\", \"2020-12-24T00:00:00\"]}],\n",
              "                        {\"autosize\": false, \"height\": 800, \"template\": {\"data\": {\"bar\": [{\"error_x\": {\"color\": \"#2a3f5f\"}, \"error_y\": {\"color\": \"#2a3f5f\"}, \"marker\": {\"line\": {\"color\": \"#E5ECF6\", \"width\": 0.5}}, \"type\": \"bar\"}], \"barpolar\": [{\"marker\": {\"line\": {\"color\": \"#E5ECF6\", \"width\": 0.5}}, \"type\": \"barpolar\"}], \"carpet\": [{\"aaxis\": {\"endlinecolor\": \"#2a3f5f\", \"gridcolor\": \"white\", \"linecolor\": \"white\", \"minorgridcolor\": \"white\", \"startlinecolor\": \"#2a3f5f\"}, \"baxis\": {\"endlinecolor\": \"#2a3f5f\", \"gridcolor\": \"white\", \"linecolor\": \"white\", \"minorgridcolor\": \"white\", \"startlinecolor\": \"#2a3f5f\"}, \"type\": \"carpet\"}], \"choropleth\": [{\"colorbar\": {\"outlinewidth\": 0, \"ticks\": \"\"}, \"type\": \"choropleth\"}], \"contour\": [{\"colorbar\": {\"outlinewidth\": 0, \"ticks\": \"\"}, \"colorscale\": [[0.0, \"#0d0887\"], [0.1111111111111111, \"#46039f\"], [0.2222222222222222, \"#7201a8\"], [0.3333333333333333, \"#9c179e\"], [0.4444444444444444, \"#bd3786\"], [0.5555555555555556, \"#d8576b\"], [0.6666666666666666, \"#ed7953\"], [0.7777777777777778, \"#fb9f3a\"], [0.8888888888888888, \"#fdca26\"], [1.0, \"#f0f921\"]], \"type\": \"contour\"}], \"contourcarpet\": [{\"colorbar\": {\"outlinewidth\": 0, \"ticks\": \"\"}, \"type\": \"contourcarpet\"}], \"heatmap\": [{\"colorbar\": {\"outlinewidth\": 0, \"ticks\": \"\"}, \"colorscale\": [[0.0, \"#0d0887\"], [0.1111111111111111, \"#46039f\"], [0.2222222222222222, \"#7201a8\"], [0.3333333333333333, \"#9c179e\"], [0.4444444444444444, \"#bd3786\"], [0.5555555555555556, \"#d8576b\"], [0.6666666666666666, \"#ed7953\"], [0.7777777777777778, \"#fb9f3a\"], [0.8888888888888888, \"#fdca26\"], [1.0, \"#f0f921\"]], \"type\": \"heatmap\"}], \"heatmapgl\": [{\"colorbar\": {\"outlinewidth\": 0, \"ticks\": \"\"}, \"colorscale\": [[0.0, \"#0d0887\"], [0.1111111111111111, \"#46039f\"], [0.2222222222222222, \"#7201a8\"], [0.3333333333333333, \"#9c179e\"], [0.4444444444444444, \"#bd3786\"], [0.5555555555555556, \"#d8576b\"], [0.6666666666666666, \"#ed7953\"], [0.7777777777777778, \"#fb9f3a\"], [0.8888888888888888, \"#fdca26\"], [1.0, \"#f0f921\"]], \"type\": \"heatmapgl\"}], \"histogram\": [{\"marker\": {\"colorbar\": {\"outlinewidth\": 0, \"ticks\": \"\"}}, \"type\": \"histogram\"}], \"histogram2d\": [{\"colorbar\": {\"outlinewidth\": 0, \"ticks\": \"\"}, \"colorscale\": [[0.0, \"#0d0887\"], [0.1111111111111111, \"#46039f\"], [0.2222222222222222, \"#7201a8\"], [0.3333333333333333, \"#9c179e\"], [0.4444444444444444, \"#bd3786\"], [0.5555555555555556, \"#d8576b\"], [0.6666666666666666, \"#ed7953\"], [0.7777777777777778, \"#fb9f3a\"], [0.8888888888888888, \"#fdca26\"], [1.0, \"#f0f921\"]], \"type\": \"histogram2d\"}], \"histogram2dcontour\": [{\"colorbar\": {\"outlinewidth\": 0, \"ticks\": \"\"}, \"colorscale\": [[0.0, \"#0d0887\"], [0.1111111111111111, \"#46039f\"], [0.2222222222222222, \"#7201a8\"], [0.3333333333333333, \"#9c179e\"], [0.4444444444444444, \"#bd3786\"], [0.5555555555555556, \"#d8576b\"], [0.6666666666666666, \"#ed7953\"], [0.7777777777777778, \"#fb9f3a\"], [0.8888888888888888, \"#fdca26\"], [1.0, \"#f0f921\"]], \"type\": \"histogram2dcontour\"}], \"mesh3d\": [{\"colorbar\": {\"outlinewidth\": 0, \"ticks\": \"\"}, \"type\": \"mesh3d\"}], \"parcoords\": [{\"line\": {\"colorbar\": {\"outlinewidth\": 0, \"ticks\": \"\"}}, \"type\": \"parcoords\"}], \"pie\": [{\"automargin\": true, \"type\": \"pie\"}], \"scatter\": [{\"marker\": {\"colorbar\": {\"outlinewidth\": 0, \"ticks\": \"\"}}, \"type\": \"scatter\"}], \"scatter3d\": [{\"line\": {\"colorbar\": {\"outlinewidth\": 0, \"ticks\": \"\"}}, \"marker\": {\"colorbar\": {\"outlinewidth\": 0, \"ticks\": \"\"}}, \"type\": \"scatter3d\"}], \"scattercarpet\": [{\"marker\": {\"colorbar\": {\"outlinewidth\": 0, \"ticks\": \"\"}}, \"type\": \"scattercarpet\"}], \"scattergeo\": [{\"marker\": {\"colorbar\": {\"outlinewidth\": 0, \"ticks\": \"\"}}, \"type\": \"scattergeo\"}], \"scattergl\": [{\"marker\": {\"colorbar\": {\"outlinewidth\": 0, \"ticks\": \"\"}}, \"type\": \"scattergl\"}], \"scattermapbox\": [{\"marker\": {\"colorbar\": {\"outlinewidth\": 0, \"ticks\": \"\"}}, \"type\": \"scattermapbox\"}], \"scatterpolar\": [{\"marker\": {\"colorbar\": {\"outlinewidth\": 0, \"ticks\": \"\"}}, \"type\": \"scatterpolar\"}], \"scatterpolargl\": [{\"marker\": {\"colorbar\": {\"outlinewidth\": 0, \"ticks\": \"\"}}, \"type\": \"scatterpolargl\"}], \"scatterternary\": [{\"marker\": {\"colorbar\": {\"outlinewidth\": 0, \"ticks\": \"\"}}, \"type\": \"scatterternary\"}], \"surface\": [{\"colorbar\": {\"outlinewidth\": 0, \"ticks\": \"\"}, \"colorscale\": [[0.0, \"#0d0887\"], [0.1111111111111111, \"#46039f\"], [0.2222222222222222, \"#7201a8\"], [0.3333333333333333, \"#9c179e\"], [0.4444444444444444, \"#bd3786\"], [0.5555555555555556, \"#d8576b\"], [0.6666666666666666, \"#ed7953\"], [0.7777777777777778, \"#fb9f3a\"], [0.8888888888888888, \"#fdca26\"], [1.0, \"#f0f921\"]], \"type\": \"surface\"}], \"table\": [{\"cells\": {\"fill\": {\"color\": \"#EBF0F8\"}, \"line\": {\"color\": \"white\"}}, \"header\": {\"fill\": {\"color\": \"#C8D4E3\"}, \"line\": {\"color\": \"white\"}}, \"type\": \"table\"}]}, \"layout\": {\"annotationdefaults\": {\"arrowcolor\": \"#2a3f5f\", \"arrowhead\": 0, \"arrowwidth\": 1}, \"coloraxis\": {\"colorbar\": {\"outlinewidth\": 0, \"ticks\": \"\"}}, \"colorscale\": {\"diverging\": [[0, \"#8e0152\"], [0.1, \"#c51b7d\"], [0.2, \"#de77ae\"], [0.3, \"#f1b6da\"], [0.4, \"#fde0ef\"], [0.5, \"#f7f7f7\"], [0.6, \"#e6f5d0\"], [0.7, \"#b8e186\"], [0.8, \"#7fbc41\"], [0.9, \"#4d9221\"], [1, \"#276419\"]], \"sequential\": [[0.0, \"#0d0887\"], [0.1111111111111111, \"#46039f\"], [0.2222222222222222, \"#7201a8\"], [0.3333333333333333, \"#9c179e\"], [0.4444444444444444, \"#bd3786\"], [0.5555555555555556, \"#d8576b\"], [0.6666666666666666, \"#ed7953\"], [0.7777777777777778, \"#fb9f3a\"], [0.8888888888888888, \"#fdca26\"], [1.0, \"#f0f921\"]], \"sequentialminus\": [[0.0, \"#0d0887\"], [0.1111111111111111, \"#46039f\"], [0.2222222222222222, \"#7201a8\"], [0.3333333333333333, \"#9c179e\"], [0.4444444444444444, \"#bd3786\"], [0.5555555555555556, \"#d8576b\"], [0.6666666666666666, \"#ed7953\"], [0.7777777777777778, \"#fb9f3a\"], [0.8888888888888888, \"#fdca26\"], [1.0, \"#f0f921\"]]}, \"colorway\": [\"#636efa\", \"#EF553B\", \"#00cc96\", \"#ab63fa\", \"#FFA15A\", \"#19d3f3\", \"#FF6692\", \"#B6E880\", \"#FF97FF\", \"#FECB52\"], \"font\": {\"color\": \"#2a3f5f\"}, \"geo\": {\"bgcolor\": \"white\", \"lakecolor\": \"white\", \"landcolor\": \"#E5ECF6\", \"showlakes\": true, \"showland\": true, \"subunitcolor\": \"white\"}, \"hoverlabel\": {\"align\": \"left\"}, \"hovermode\": \"closest\", \"mapbox\": {\"style\": \"light\"}, \"paper_bgcolor\": \"white\", \"plot_bgcolor\": \"#E5ECF6\", \"polar\": {\"angularaxis\": {\"gridcolor\": \"white\", \"linecolor\": \"white\", \"ticks\": \"\"}, \"bgcolor\": \"#E5ECF6\", \"radialaxis\": {\"gridcolor\": \"white\", \"linecolor\": \"white\", \"ticks\": \"\"}}, \"scene\": {\"xaxis\": {\"backgroundcolor\": \"#E5ECF6\", \"gridcolor\": \"white\", \"gridwidth\": 2, \"linecolor\": \"white\", \"showbackground\": true, \"ticks\": \"\", \"zerolinecolor\": \"white\"}, \"yaxis\": {\"backgroundcolor\": \"#E5ECF6\", \"gridcolor\": \"white\", \"gridwidth\": 2, \"linecolor\": \"white\", \"showbackground\": true, \"ticks\": \"\", \"zerolinecolor\": \"white\"}, \"zaxis\": {\"backgroundcolor\": \"#E5ECF6\", \"gridcolor\": \"white\", \"gridwidth\": 2, \"linecolor\": \"white\", \"showbackground\": true, \"ticks\": \"\", \"zerolinecolor\": \"white\"}}, \"shapedefaults\": {\"line\": {\"color\": \"#2a3f5f\"}}, \"ternary\": {\"aaxis\": {\"gridcolor\": \"white\", \"linecolor\": \"white\", \"ticks\": \"\"}, \"baxis\": {\"gridcolor\": \"white\", \"linecolor\": \"white\", \"ticks\": \"\"}, \"bgcolor\": \"#E5ECF6\", \"caxis\": {\"gridcolor\": \"white\", \"linecolor\": \"white\", \"ticks\": \"\"}}, \"title\": {\"x\": 0.05}, \"xaxis\": {\"automargin\": true, \"gridcolor\": \"white\", \"linecolor\": \"white\", \"ticks\": \"\", \"title\": {\"standoff\": 15}, \"zerolinecolor\": \"white\", \"zerolinewidth\": 2}, \"yaxis\": {\"automargin\": true, \"gridcolor\": \"white\", \"linecolor\": \"white\", \"ticks\": \"\", \"title\": {\"standoff\": 15}, \"zerolinecolor\": \"white\", \"zerolinewidth\": 2}}}, \"width\": 1000, \"xaxis\": {\"rangeslider\": {\"visible\": false}}},\n",
              "                        {\"responsive\": true}\n",
              "                    ).then(function(){\n",
              "                            \n",
              "var gd = document.getElementById('add9ef73-e3d3-478e-94af-7565e994621f');\n",
              "var x = new MutationObserver(function (mutations, observer) {{\n",
              "        var display = window.getComputedStyle(gd).display;\n",
              "        if (!display || display === 'none') {{\n",
              "            console.log([gd, 'removed!']);\n",
              "            Plotly.purge(gd);\n",
              "            observer.disconnect();\n",
              "        }}\n",
              "}});\n",
              "\n",
              "// Listen for the removal of the full notebook cells\n",
              "var notebookContainer = gd.closest('#notebook-container');\n",
              "if (notebookContainer) {{\n",
              "    x.observe(notebookContainer, {childList: true});\n",
              "}}\n",
              "\n",
              "// Listen for the clearing of the current output cell\n",
              "var outputEl = gd.closest('.output');\n",
              "if (outputEl) {{\n",
              "    x.observe(outputEl, {childList: true});\n",
              "}}\n",
              "\n",
              "                        })\n",
              "                };\n",
              "                \n",
              "            </script>\n",
              "        </div>\n",
              "</body>\n",
              "</html>"
            ]
          },
          "metadata": {
            "tags": []
          }
        }
      ]
    },
    {
      "cell_type": "code",
      "metadata": {
        "id": "chVcichqi7Oa",
        "colab": {
          "base_uri": "https://localhost:8080/"
        },
        "outputId": "c7131f2f-bd7b-44a7-f100-63f01d1c8971"
      },
      "source": [
        "!zip -r /content/my_model.zip /content/my_model\n",
        "\n",
        "from google.colab import files\n",
        "#files.download(\"/content/my_model.zip\")"
      ],
      "execution_count": 151,
      "outputs": [
        {
          "output_type": "stream",
          "text": [
            "updating: content/my_model/ (stored 0%)\n",
            "updating: content/my_model/saved_model.pb (deflated 90%)\n",
            "updating: content/my_model/variables/ (stored 0%)\n",
            "updating: content/my_model/variables/variables.index (deflated 70%)\n",
            "updating: content/my_model/variables/variables.data-00000-of-00001 (deflated 6%)\n",
            "updating: content/my_model/assets/ (stored 0%)\n"
          ],
          "name": "stdout"
        }
      ]
    },
    {
      "cell_type": "code",
      "metadata": {
        "id": "4vlJ9JRhHFxr"
      },
      "source": [
        "#files.download(\"/content/my_model.zip\")"
      ],
      "execution_count": 152,
      "outputs": []
    },
    {
      "cell_type": "code",
      "metadata": {
        "id": "uBn3UiPQp8Kx"
      },
      "source": [
        ""
      ],
      "execution_count": 152,
      "outputs": []
    }
  ]
}