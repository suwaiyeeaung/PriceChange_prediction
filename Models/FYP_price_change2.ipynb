{
  "nbformat": 4,
  "nbformat_minor": 0,
  "metadata": {
    "accelerator": "GPU",
    "colab": {
      "name": "FYP_price_change.ipynb",
      "provenance": [],
      "collapsed_sections": [
        "j1Uvovq2idTQ",
        "WFm-oB2bibIr",
        "6l4w9JM0ihCX",
        "Dm9io2bxiJ9i"
      ]
    },
    "kernelspec": {
      "display_name": "Python 3",
      "name": "python3"
    }
  },
  "cells": [
    {
      "cell_type": "code",
      "metadata": {
        "id": "6EOgDeEwMtX1"
      },
      "source": [
        "# multivariate output stacked lstm example\n",
        "from numpy import array\n",
        "from numpy import hstack\n",
        "import tensorflow as tf\n",
        "from keras.models import Sequential\n",
        "from keras.layers import LSTM,Embedding\n",
        "from keras.layers import Dense\n",
        "from keras.optimizers import Adam,SGD\n",
        "from keras.optimizers import RMSprop\n",
        "import pandas as pd\n",
        "import numpy as np\n",
        "import matplotlib.pyplot as plt\n",
        "from sklearn.preprocessing import MinMaxScaler,RobustScaler\n",
        "from sklearn.preprocessing import StandardScaler\n",
        "from keras.models import load_model\n",
        "from keras.layers import Input\n",
        "from keras.layers import Dropout\n",
        "from keras.layers import AlphaDropout\n",
        "from keras.layers import Activation\n",
        "from keras.layers import Bidirectional\n",
        "from keras.layers import RepeatVector\n",
        "from keras.layers import BatchNormalization\n",
        "from keras.layers import TimeDistributed,Conv1D,MaxPooling1D,Flatten\n",
        "from keras.callbacks import EarlyStopping\n",
        "from keras.callbacks import ModelCheckpoint\n",
        "from keras.layers import LeakyReLU\n",
        "from keras.constraints import maxnorm\n",
        "from tqdm import tqdm_notebook, tqdm\n",
        "from collections import deque"
      ],
      "execution_count": 1,
      "outputs": []
    },
    {
      "cell_type": "code",
      "metadata": {
        "colab": {
          "base_uri": "https://localhost:8080/"
        },
        "id": "SDUNko4N0o3h",
        "outputId": "e3c53a70-0795-47d9-a9f2-8752c89e7a31"
      },
      "source": [
        "%pip install yfinance"
      ],
      "execution_count": 2,
      "outputs": [
        {
          "output_type": "stream",
          "text": [
            "Collecting yfinance\n",
            "  Downloading https://files.pythonhosted.org/packages/7a/e8/b9d7104d3a4bf39924799067592d9e59119fcfc900a425a12e80a3123ec8/yfinance-0.1.55.tar.gz\n",
            "Requirement already satisfied: pandas>=0.24 in /usr/local/lib/python3.7/dist-packages (from yfinance) (1.1.5)\n",
            "Requirement already satisfied: numpy>=1.15 in /usr/local/lib/python3.7/dist-packages (from yfinance) (1.19.5)\n",
            "Requirement already satisfied: requests>=2.20 in /usr/local/lib/python3.7/dist-packages (from yfinance) (2.23.0)\n",
            "Requirement already satisfied: multitasking>=0.0.7 in /usr/local/lib/python3.7/dist-packages (from yfinance) (0.0.9)\n",
            "Collecting lxml>=4.5.1\n",
            "\u001b[?25l  Downloading https://files.pythonhosted.org/packages/d2/88/b25778f17e5320c1c58f8c5060fb5b037288e162bd7554c30799e9ea90db/lxml-4.6.2-cp37-cp37m-manylinux1_x86_64.whl (5.5MB)\n",
            "\u001b[K     |████████████████████████████████| 5.5MB 19.5MB/s \n",
            "\u001b[?25hRequirement already satisfied: python-dateutil>=2.7.3 in /usr/local/lib/python3.7/dist-packages (from pandas>=0.24->yfinance) (2.8.1)\n",
            "Requirement already satisfied: pytz>=2017.2 in /usr/local/lib/python3.7/dist-packages (from pandas>=0.24->yfinance) (2018.9)\n",
            "Requirement already satisfied: idna<3,>=2.5 in /usr/local/lib/python3.7/dist-packages (from requests>=2.20->yfinance) (2.10)\n",
            "Requirement already satisfied: certifi>=2017.4.17 in /usr/local/lib/python3.7/dist-packages (from requests>=2.20->yfinance) (2020.12.5)\n",
            "Requirement already satisfied: urllib3!=1.25.0,!=1.25.1,<1.26,>=1.21.1 in /usr/local/lib/python3.7/dist-packages (from requests>=2.20->yfinance) (1.24.3)\n",
            "Requirement already satisfied: chardet<4,>=3.0.2 in /usr/local/lib/python3.7/dist-packages (from requests>=2.20->yfinance) (3.0.4)\n",
            "Requirement already satisfied: six>=1.5 in /usr/local/lib/python3.7/dist-packages (from python-dateutil>=2.7.3->pandas>=0.24->yfinance) (1.15.0)\n",
            "Building wheels for collected packages: yfinance\n",
            "  Building wheel for yfinance (setup.py) ... \u001b[?25l\u001b[?25hdone\n",
            "  Created wheel for yfinance: filename=yfinance-0.1.55-py2.py3-none-any.whl size=22616 sha256=1d963254a6492271b25c290862fffbb72d8bb25c5bbc963266c143ae9b77a34b\n",
            "  Stored in directory: /root/.cache/pip/wheels/04/98/cc/2702a4242d60bdc14f48b4557c427ded1fe92aedf257d4565c\n",
            "Successfully built yfinance\n",
            "Installing collected packages: lxml, yfinance\n",
            "  Found existing installation: lxml 4.2.6\n",
            "    Uninstalling lxml-4.2.6:\n",
            "      Successfully uninstalled lxml-4.2.6\n",
            "Successfully installed lxml-4.6.2 yfinance-0.1.55\n"
          ],
          "name": "stdout"
        }
      ]
    },
    {
      "cell_type": "code",
      "metadata": {
        "id": "DWlNWC0f0o3i"
      },
      "source": [
        "import yfinance as yf\n",
        "ticker = 'AMZN'\n",
        "index = yf.Ticker(ticker)\n",
        "\n",
        "# get 6 year 2013-2019 historical market data to train \n",
        "df_A = index.history(start='2013-01-01', end= '2019-12-30', actions=False)"
      ],
      "execution_count": 3,
      "outputs": []
    },
    {
      "cell_type": "code",
      "metadata": {
        "id": "dmQ1aH2P38HD"
      },
      "source": [
        "#!unzip my_model_newww.zip -d my_model"
      ],
      "execution_count": 4,
      "outputs": []
    },
    {
      "cell_type": "code",
      "metadata": {
        "id": "EpN4cD1j2_Sd"
      },
      "source": [
        "#model = tf.keras.models.load_model('my_model')\n",
        "#NVDA SP500 NFLX DJI AMZN-> GOOG"
      ],
      "execution_count": 5,
      "outputs": []
    },
    {
      "cell_type": "code",
      "metadata": {
        "id": "i9Mymf8Eziba"
      },
      "source": [
        "lookback_days=30\n",
        "forward_days =3"
      ],
      "execution_count": 6,
      "outputs": []
    },
    {
      "cell_type": "code",
      "metadata": {
        "id": "zv7MI8e1MtaG"
      },
      "source": [
        "#df_A = pd.read_csv('/content/sample_data/NFLX.csv')\n",
        "#df_B = pd.read_csv('/content/sample_data/GOOG.csv')\n",
        "#df_B.columns=['Date','VIX_Open','VIX_High','VIX_Low','VIX_Close','VIX_Adj Close','VIX_Volume']\n",
        "#df_A = df_A.merge(df_B, how ='inner' , on = 'Date')\n",
        "#df_A['Date'] = pd.to_datetime(df_A['Date'])\n",
        "#df_A.set_index('Date', inplace=True)"
      ],
      "execution_count": 7,
      "outputs": []
    },
    {
      "cell_type": "code",
      "metadata": {
        "id": "RXCgu3viMtjM"
      },
      "source": [
        "#df_A = df_A.fillna(method='backfill')\n",
        "#df_A_y.drop(['Open','High','Low','Adj Close','Volume'], axis=1, inplace=True)\n",
        "#,'VIX_Open','VIX_High','VIX_Low','VIX_Close','VIX_Adj Close','VIX_Volume'\n",
        "#𝑃𝑒𝑟𝑐𝑒𝑛𝑡𝑎𝑔𝑒 𝐶h𝑎𝑛𝑔𝑒 = 𝑝𝑟𝑖𝑐𝑒 𝑜𝑓 𝑑𝑎𝑦 𝑡 − (𝑝𝑟𝑖𝑐𝑒 𝑜𝑓 𝑑𝑎𝑦 𝑡 − 1) ∗ 100 𝑝𝑟𝑖𝑐𝑒 𝑜𝑓 𝑑𝑎𝑦 𝑡 − 1"
      ],
      "execution_count": 8,
      "outputs": []
    },
    {
      "cell_type": "code",
      "metadata": {
        "id": "YjMtO3bX8MPp"
      },
      "source": [
        "def get_technical_indicators(dataset):\n",
        "    # Create 7 and 30 days Moving Average\n",
        "    dataset['ma7'] = dataset['Close'].rolling(window=7, min_periods = 1).mean()\n",
        "    dataset['ma26'] = dataset['Close'].rolling(window=26, min_periods = 1).mean()\n",
        "\n",
        "    dataset['ma7_open'] = dataset['Open'].rolling(window=7, min_periods = 1).mean()\n",
        "    dataset['ma26_open'] = dataset['Open'].rolling(window=26, min_periods = 1).mean()\n",
        "    \n",
        "    \n",
        "    # Create MACD\n",
        "    dataset['26ema'] = dataset['Close'].ewm(span=26).mean()\n",
        "    dataset['12ema'] = dataset['Close'].ewm(span=12).mean()\n",
        "    dataset['MACD'] = (dataset['12ema']-dataset['26ema'])\n",
        "# Create Bollinger Bands\n",
        "    dataset['20sd'] = dataset['Close'].rolling(window=20, min_periods = 1).std()\n",
        "    dataset['20sd'] = dataset['20sd'].fillna(method='backfill').dropna()\n",
        "    dataset['upper_band'] = dataset['ma26'] + (dataset['20sd']*2)\n",
        "    dataset['lower_band'] = dataset['ma26'] - (dataset['20sd']*2)\n",
        "\n",
        "    dataset['Close_lag1'] = dataset['Close'] .shift(1)\n",
        "    #dataset['Close_lag1'] = dataset['Close_lag1'].fillna(method='backfill').dropna()\n",
        "    dataset['Close_lag2'] = dataset['Close'] .shift(2)\n",
        "    #dataset['Close_lag2'] = dataset['Close_lag2'].fillna(method='backfill').dropna()\n",
        "    dataset['Close_lag3'] = dataset['Close'] .shift(3)\n",
        "    #dataset['Close_lag3'] = dataset['Close_lag3'].fillna(method='backfill').dropna()\n",
        "    dataset['Close_lag4'] = dataset['Close'] .shift(4)\n",
        "    #dataset['Close_lag4'] = dataset['Close_lag4'].fillna(method='backfill').dropna()\n",
        "    dataset['Close_lag5'] = dataset['Close'] .shift(5)\n",
        "    #dataset['Close_lag5'] = dataset['Close_lag5'].fillna(method='backfill').dropna()\n",
        "    \n",
        "    # Create Exponential moving average\n",
        "    dataset['ema'] = dataset['Close'].ewm(com=0.5).mean()\n",
        "\n",
        "    dataset['Close_ahead1'] = dataset['Close'] .shift(-1)\n",
        "    dataset['Close_ahead2'] = dataset['Close'] .shift(-2)\n",
        "    dataset['Close_ahead3'] = dataset['Close'] .shift(-3)\n",
        "\n",
        "    dataset['ClosePerChg1'] = ((dataset['Close_ahead1'] - dataset['Close'])/dataset['Close'])   \n",
        "    dataset['ClosePerChg2'] = ((dataset['Close_ahead2'] - dataset['Close'])/dataset['Close']) \n",
        "    dataset['ClosePerChg3'] = ((dataset['Close_ahead3'] - dataset['Close'])/dataset['Close']) \n",
        "\n",
        "    dataset['Open_ahead1'] = dataset['Open'] .shift(-1)\n",
        "    dataset['Open_ahead2'] = dataset['Open'] .shift(-2)\n",
        "    dataset['Open_ahead3'] = dataset['Open'] .shift(-3)\n",
        "\n",
        "    dataset['OpenPerChg1'] = ((dataset['Open_ahead1'] - dataset['Open'])/dataset['Open'])  \n",
        "    dataset['OpenPerChg2'] = ((dataset['Open_ahead2'] - dataset['Open'])/dataset['Open']) \n",
        "    dataset['OpenPerChg3'] = ((dataset['Open_ahead3'] - dataset['Open'])/dataset['Open']) \n",
        "    # Create Momentum\n",
        "    #dataset['momentum'] = dataset['Close']-1\n",
        "    \n",
        "    return dataset"
      ],
      "execution_count": 9,
      "outputs": []
    },
    {
      "cell_type": "code",
      "metadata": {
        "id": "hDqpzAPGfm_Y"
      },
      "source": [
        "df_A_ti = get_technical_indicators(df_A)"
      ],
      "execution_count": 10,
      "outputs": []
    },
    {
      "cell_type": "code",
      "metadata": {
        "colab": {
          "base_uri": "https://localhost:8080/",
          "height": 563
        },
        "id": "PjtPn6eodyep",
        "outputId": "6fe1d5dd-b395-430b-c345-5dc8c2a18adb"
      },
      "source": [
        "import seaborn as sns \n",
        "from scipy.stats import norm \n",
        "\n",
        "df_A_ti = get_technical_indicators(df_A)\n",
        "#df_A_ti = df_A_ti.dropna()\n",
        "\n",
        "corrmat = df_A_ti.corr() \n",
        "  \n",
        "f, ax = plt.subplots(figsize =(9, 8)) \n",
        "sns.heatmap(corrmat, ax = ax, cmap =\"YlGnBu\", linewidths = 0.1) "
      ],
      "execution_count": 11,
      "outputs": [
        {
          "output_type": "execute_result",
          "data": {
            "text/plain": [
              "<matplotlib.axes._subplots.AxesSubplot at 0x7f663b610210>"
            ]
          },
          "metadata": {
            "tags": []
          },
          "execution_count": 11
        },
        {
          "output_type": "display_data",
          "data": {
            "image/png": "[encoded data removed]",
            "text/plain": [
              "<Figure size 648x576 with 2 Axes>"
            ]
          },
          "metadata": {
            "tags": [],
            "needs_background": "light"
          }
        }
      ]
    },
    {
      "cell_type": "code",
      "metadata": {
        "id": "MofhCvetrHsy"
      },
      "source": [
        "#df_A_ti = get_technical_indicators(df_A)\n",
        "#df_A_ti = df_A_ti.dropna()\n",
        "#df_A_ti = df_A_ti[5:]\n",
        "#df_A_ti = df_A_ti.fillna(method='backfill')\n",
        "df_A_ti = df_A_ti.fillna(method='backfill')\n",
        "df_A_ti = df_A_ti.dropna()\n",
        "df_A_y = df_A_ti.copy()\n",
        "\n",
        "#df_A_y['Per'] = (df_A_y['Close_lag1'] - df_A_y['Close'])/ df_A_y['Close_lag1'] )*100\n",
        "df_A_y = df_A_y[['OpenPerChg1','ClosePerChg1','OpenPerChg2','ClosePerChg2','OpenPerChg3','ClosePerChg3']]\n",
        "#df_A_ti = df_A_ti[5:]\n",
        "df_A_ti = df_A_ti[['Open','Close','High', 'Low','Volume','20sd','MACD']]\n",
        "#,'Close_lag1','Close_lag2','Close_lag3','Close_lag4','Close_lag5'\n",
        "#,'Adj Close','VIX_Open','VIX_High','VIX_Low','VIX_Close','VIX_Adj Close'\n",
        " #,'VIX_20sd','upper_band','lower_band']]#,'VIX_Open','VIX_High','VIX_Low','VIX_Close']]\n"
      ],
      "execution_count": 12,
      "outputs": []
    },
    {
      "cell_type": "code",
      "metadata": {
        "colab": {
          "base_uri": "https://localhost:8080/"
        },
        "id": "lBF2zRUJ51e1",
        "outputId": "d97854aa-3cad-4d01-814c-8530984891b2"
      },
      "source": [
        "df_A_ti.isna().any()\n",
        "df_A_y.isna().any()"
      ],
      "execution_count": 13,
      "outputs": [
        {
          "output_type": "execute_result",
          "data": {
            "text/plain": [
              "OpenPerChg1     False\n",
              "ClosePerChg1    False\n",
              "OpenPerChg2     False\n",
              "ClosePerChg2    False\n",
              "OpenPerChg3     False\n",
              "ClosePerChg3    False\n",
              "dtype: bool"
            ]
          },
          "metadata": {
            "tags": []
          },
          "execution_count": 13
        }
      ]
    },
    {
      "cell_type": "code",
      "metadata": {
        "id": "x3Jj9Ah4N0g_"
      },
      "source": [
        "#from statsmodels.graphics.tsaplots import plot_acf,plot_pacf\n",
        "#plot_acf(df_A_ti['Close'], lags=50)\n",
        "#plot_pacf(df_A_ti['Close'], lags=50)"
      ],
      "execution_count": 14,
      "outputs": []
    },
    {
      "cell_type": "code",
      "metadata": {
        "colab": {
          "base_uri": "https://localhost:8080/",
          "height": 450
        },
        "id": "vjwgBu9ZPuc6",
        "outputId": "491e0c81-8b30-429f-b6ad-a38f3a7ff54f"
      },
      "source": [
        "df_A_y"
      ],
      "execution_count": 15,
      "outputs": [
        {
          "output_type": "execute_result",
          "data": {
            "text/html": [
              "<div>\n",
              "<style scoped>\n",
              "    .dataframe tbody tr th:only-of-type {\n",
              "        vertical-align: middle;\n",
              "    }\n",
              "\n",
              "    .dataframe tbody tr th {\n",
              "        vertical-align: top;\n",
              "    }\n",
              "\n",
              "    .dataframe thead th {\n",
              "        text-align: right;\n",
              "    }\n",
              "</style>\n",
              "<table border=\"1\" class=\"dataframe\">\n",
              "  <thead>\n",
              "    <tr style=\"text-align: right;\">\n",
              "      <th></th>\n",
              "      <th>OpenPerChg1</th>\n",
              "      <th>ClosePerChg1</th>\n",
              "      <th>OpenPerChg2</th>\n",
              "      <th>ClosePerChg2</th>\n",
              "      <th>OpenPerChg3</th>\n",
              "      <th>ClosePerChg3</th>\n",
              "    </tr>\n",
              "    <tr>\n",
              "      <th>Date</th>\n",
              "      <th></th>\n",
              "      <th></th>\n",
              "      <th></th>\n",
              "      <th></th>\n",
              "      <th></th>\n",
              "      <th></th>\n",
              "    </tr>\n",
              "  </thead>\n",
              "  <tbody>\n",
              "    <tr>\n",
              "      <th>2013-01-02</th>\n",
              "      <td>0.004647</td>\n",
              "      <td>0.004547</td>\n",
              "      <td>0.005858</td>\n",
              "      <td>0.007151</td>\n",
              "      <td>0.026906</td>\n",
              "      <td>0.043333</td>\n",
              "    </tr>\n",
              "    <tr>\n",
              "      <th>2013-01-03</th>\n",
              "      <td>0.001205</td>\n",
              "      <td>0.002592</td>\n",
              "      <td>0.022156</td>\n",
              "      <td>0.038610</td>\n",
              "      <td>0.038092</td>\n",
              "      <td>0.030563</td>\n",
              "    </tr>\n",
              "    <tr>\n",
              "      <th>2013-01-04</th>\n",
              "      <td>0.020926</td>\n",
              "      <td>0.035925</td>\n",
              "      <td>0.036843</td>\n",
              "      <td>0.027899</td>\n",
              "      <td>0.041114</td>\n",
              "      <td>0.027783</td>\n",
              "    </tr>\n",
              "    <tr>\n",
              "      <th>2013-01-07</th>\n",
              "      <td>0.015591</td>\n",
              "      <td>-0.007748</td>\n",
              "      <td>0.019774</td>\n",
              "      <td>-0.007860</td>\n",
              "      <td>0.021181</td>\n",
              "      <td>-0.011622</td>\n",
              "    </tr>\n",
              "    <tr>\n",
              "      <th>2013-01-08</th>\n",
              "      <td>0.004119</td>\n",
              "      <td>-0.000113</td>\n",
              "      <td>0.005504</td>\n",
              "      <td>-0.003904</td>\n",
              "      <td>-0.007376</td>\n",
              "      <td>0.005856</td>\n",
              "    </tr>\n",
              "    <tr>\n",
              "      <th>...</th>\n",
              "      <td>...</td>\n",
              "      <td>...</td>\n",
              "      <td>...</td>\n",
              "      <td>...</td>\n",
              "      <td>...</td>\n",
              "      <td>...</td>\n",
              "    </tr>\n",
              "    <tr>\n",
              "      <th>2019-12-17</th>\n",
              "      <td>0.009567</td>\n",
              "      <td>-0.003703</td>\n",
              "      <td>0.001400</td>\n",
              "      <td>0.000905</td>\n",
              "      <td>0.012154</td>\n",
              "      <td>-0.002323</td>\n",
              "    </tr>\n",
              "    <tr>\n",
              "      <th>2019-12-18</th>\n",
              "      <td>-0.008089</td>\n",
              "      <td>0.004624</td>\n",
              "      <td>0.002563</td>\n",
              "      <td>0.001384</td>\n",
              "      <td>-0.003766</td>\n",
              "      <td>0.005028</td>\n",
              "    </tr>\n",
              "    <tr>\n",
              "      <th>2019-12-19</th>\n",
              "      <td>0.010739</td>\n",
              "      <td>-0.003225</td>\n",
              "      <td>0.004358</td>\n",
              "      <td>0.000402</td>\n",
              "      <td>0.007475</td>\n",
              "      <td>-0.001713</td>\n",
              "    </tr>\n",
              "    <tr>\n",
              "      <th>2019-12-20</th>\n",
              "      <td>-0.006312</td>\n",
              "      <td>0.003638</td>\n",
              "      <td>-0.003228</td>\n",
              "      <td>0.001517</td>\n",
              "      <td>0.000772</td>\n",
              "      <td>0.046051</td>\n",
              "    </tr>\n",
              "    <tr>\n",
              "      <th>2019-12-23</th>\n",
              "      <td>0.003104</td>\n",
              "      <td>-0.002114</td>\n",
              "      <td>0.007130</td>\n",
              "      <td>0.042259</td>\n",
              "      <td>0.052934</td>\n",
              "      <td>0.042833</td>\n",
              "    </tr>\n",
              "  </tbody>\n",
              "</table>\n",
              "<p>1757 rows × 6 columns</p>\n",
              "</div>"
            ],
            "text/plain": [
              "            OpenPerChg1  ClosePerChg1  ...  OpenPerChg3  ClosePerChg3\n",
              "Date                                   ...                           \n",
              "2013-01-02     0.004647      0.004547  ...     0.026906      0.043333\n",
              "2013-01-03     0.001205      0.002592  ...     0.038092      0.030563\n",
              "2013-01-04     0.020926      0.035925  ...     0.041114      0.027783\n",
              "2013-01-07     0.015591     -0.007748  ...     0.021181     -0.011622\n",
              "2013-01-08     0.004119     -0.000113  ...    -0.007376      0.005856\n",
              "...                 ...           ...  ...          ...           ...\n",
              "2019-12-17     0.009567     -0.003703  ...     0.012154     -0.002323\n",
              "2019-12-18    -0.008089      0.004624  ...    -0.003766      0.005028\n",
              "2019-12-19     0.010739     -0.003225  ...     0.007475     -0.001713\n",
              "2019-12-20    -0.006312      0.003638  ...     0.000772      0.046051\n",
              "2019-12-23     0.003104     -0.002114  ...     0.052934      0.042833\n",
              "\n",
              "[1757 rows x 6 columns]"
            ]
          },
          "metadata": {
            "tags": []
          },
          "execution_count": 15
        }
      ]
    },
    {
      "cell_type": "code",
      "metadata": {
        "id": "p8E7WpOAkDIX"
      },
      "source": [
        "args = df_A_ti.values.reshape(df_A_ti.shape[0],7)\n",
        "args_y = df_A_y.values.reshape(df_A_y.shape[0],6)"
      ],
      "execution_count": 16,
      "outputs": []
    },
    {
      "cell_type": "code",
      "metadata": {
        "id": "J-Dtw7eEMtef"
      },
      "source": [
        "in_seq1 = args\n",
        "in_seq1_y= args_y"
      ],
      "execution_count": 17,
      "outputs": []
    },
    {
      "cell_type": "code",
      "metadata": {
        "colab": {
          "base_uri": "https://localhost:8080/"
        },
        "id": "LSXfesVVQKT1",
        "outputId": "28f367b4-d3b3-44ce-aee6-160aca2ecf6a"
      },
      "source": [
        "#x_scaler = MinMaxScaler().fit(args)\n",
        "#X= x_scaler.transform(args)\n",
        "print(in_seq1.shape)\n",
        "print(in_seq1_y.shape)"
      ],
      "execution_count": 18,
      "outputs": [
        {
          "output_type": "stream",
          "text": [
            "(1757, 7)\n",
            "(1757, 6)\n"
          ],
          "name": "stdout"
        }
      ]
    },
    {
      "cell_type": "code",
      "metadata": {
        "id": "JCkBwx1cMtd0"
      },
      "source": [
        "division = int(len(in_seq1) *8/10)\n",
        "\n",
        "data_train = in_seq1[:division]\n",
        "data_test = in_seq1[(division-lookback_days):]\n",
        "\n",
        "data_train_y= in_seq1_y[:division]\n",
        "data_test_y = in_seq1_y[(division-lookback_days):]"
      ],
      "execution_count": 19,
      "outputs": []
    },
    {
      "cell_type": "code",
      "metadata": {
        "id": "gZwqB7ZFpRwW"
      },
      "source": [
        "def split_sequences(sequences, sequences_y,  n_steps_in, n_steps_out):\n",
        "\tX, y = list(), list()\n",
        "\tfor i in range(len(sequences)):\n",
        "\t\t# find the end of this pattern\n",
        "\t\tend_ix = i + n_steps_in\n",
        "\t\tout_end_ix = end_ix + n_steps_out\n",
        "\t\t# check if we are beyond the dataset\n",
        "\t\tif end_ix > len(sequences):\n",
        "\t\t\tbreak\n",
        "\t\t# gather input and output parts of the pattern\n",
        "\t\tseq_x, seq_y = sequences[i:end_ix, :], sequences_y[end_ix-1:end_ix, :]\n",
        "\t\tX.append(seq_x)\n",
        "\t\ty.append(seq_y)\n",
        "\treturn array(X), array(y)"
      ],
      "execution_count": 20,
      "outputs": []
    },
    {
      "cell_type": "code",
      "metadata": {
        "id": "6RaTaqRGdDcM"
      },
      "source": [
        "X_train,y_train = split_sequences(data_train, data_train_y, lookback_days, forward_days)"
      ],
      "execution_count": 21,
      "outputs": []
    },
    {
      "cell_type": "code",
      "metadata": {
        "colab": {
          "base_uri": "https://localhost:8080/"
        },
        "id": "F-u3OosRs63y",
        "outputId": "a09788e2-e60d-479f-93fd-71ec567ad5e6"
      },
      "source": [
        "y_train.shape"
      ],
      "execution_count": 22,
      "outputs": [
        {
          "output_type": "execute_result",
          "data": {
            "text/plain": [
              "(1376, 1, 6)"
            ]
          },
          "metadata": {
            "tags": []
          },
          "execution_count": 22
        }
      ]
    },
    {
      "cell_type": "code",
      "metadata": {
        "id": "0W48lnW5xh-V"
      },
      "source": [
        "X_features = X_train.shape[2]\n",
        "y_features = y_train.shape[2]"
      ],
      "execution_count": 23,
      "outputs": []
    },
    {
      "cell_type": "code",
      "metadata": {
        "id": "64aznSEIOAoI"
      },
      "source": [
        "X_train=X_train.reshape(X_train.shape[0],lookback_days*X_features)\n",
        "y_train=y_train.reshape(y_train.shape[0],y_features)"
      ],
      "execution_count": 24,
      "outputs": []
    },
    {
      "cell_type": "code",
      "metadata": {
        "colab": {
          "base_uri": "https://localhost:8080/"
        },
        "id": "VBdhVISxalzh",
        "outputId": "020de402-e5ac-40dd-ae2c-919996e78e5d"
      },
      "source": [
        "X_train.shape"
      ],
      "execution_count": 25,
      "outputs": [
        {
          "output_type": "execute_result",
          "data": {
            "text/plain": [
              "(1376, 210)"
            ]
          },
          "metadata": {
            "tags": []
          },
          "execution_count": 25
        }
      ]
    },
    {
      "cell_type": "code",
      "metadata": {
        "id": "ZgA2KZB-NaXV"
      },
      "source": [
        "x_scaler = MinMaxScaler()#.fit(X_train)\n",
        "#x_scaler = RobustScaler(quantile_range = (0.05,0.95))\n",
        "#x_scaler.fit(X_train)\n",
        "#X_train = x_scaler.transform(X_train)"
      ],
      "execution_count": 26,
      "outputs": []
    },
    {
      "cell_type": "code",
      "metadata": {
        "id": "FvFXJPSraUYz"
      },
      "source": [
        "smoothing_window_size = 500\n",
        "for di in range(0,1000,smoothing_window_size):\n",
        "    x_scaler.fit(X_train[di:di+smoothing_window_size,:])\n",
        "    X_train[di:di+smoothing_window_size,:] = x_scaler.transform(X_train[di:di+smoothing_window_size,:])\n",
        "\n",
        "# You normalize the last bit of remaining data\n",
        "x_scaler.fit(X_train[di+smoothing_window_size:,:])\n",
        "X_train[di+smoothing_window_size:,:] = x_scaler.transform(X_train[di+smoothing_window_size:,:])"
      ],
      "execution_count": 27,
      "outputs": []
    },
    {
      "cell_type": "code",
      "metadata": {
        "id": "se6FZOGMNaZn"
      },
      "source": [
        "y_scaler = MinMaxScaler(feature_range=(0, 1))#.fit(y_train)\n",
        "#y_scaler = RobustScaler(quantile_range = (0.05,0.95))\n",
        "#y_scaler.fit(y_train)\n",
        "#y_train = y_scaler.transform(y_train)"
      ],
      "execution_count": 28,
      "outputs": []
    },
    {
      "cell_type": "code",
      "metadata": {
        "id": "TxHUe2BUbL1d"
      },
      "source": [
        "# smoothing_window_size = 500\n",
        "# for di in range(0,1000,smoothing_window_size):\n",
        "#     y_scaler.fit(y_train[di:di+smoothing_window_size,:])\n",
        "#     y_train[di:di+smoothing_window_size,:] = y_scaler.transform(y_train[di:di+smoothing_window_size,:])\n",
        "\n",
        "# # You normalize the last bit of remaining data\n",
        "# y_scaler.fit(y_train[di+smoothing_window_size:,:])\n",
        "# y_train[di+smoothing_window_size:,:] = y_scaler.transform(y_train[di+smoothing_window_size:,:])"
      ],
      "execution_count": 29,
      "outputs": []
    },
    {
      "cell_type": "code",
      "metadata": {
        "id": "r-sXRKJbfXho"
      },
      "source": [
        "#y_scaler = StandardScaler()\n",
        "y_scaler.fit(y_train)\n",
        "y_train = y_scaler.transform(y_train)"
      ],
      "execution_count": 30,
      "outputs": []
    },
    {
      "cell_type": "code",
      "metadata": {
        "colab": {
          "base_uri": "https://localhost:8080/",
          "height": 282
        },
        "id": "q9LTm70-cAn-",
        "outputId": "01e5cb21-6baa-4344-b2e0-cee88a874896"
      },
      "source": [
        "#plt.plot(X_train)\n",
        "plt.plot(y_train)\n",
        "plt.show"
      ],
      "execution_count": 31,
      "outputs": [
        {
          "output_type": "execute_result",
          "data": {
            "text/plain": [
              "<function matplotlib.pyplot.show>"
            ]
          },
          "metadata": {
            "tags": []
          },
          "execution_count": 31
        },
        {
          "output_type": "display_data",
          "data": {
            "image/png": "[encoded data removed]",
            "text/plain": [
              "<Figure size 432x288 with 1 Axes>"
            ]
          },
          "metadata": {
            "tags": [],
            "needs_background": "light"
          }
        }
      ]
    },
    {
      "cell_type": "code",
      "metadata": {
        "id": "bgwJMvKFNacE"
      },
      "source": [
        "X_train = X_train.reshape(X_train.shape[0], lookback_days, X_features)\n",
        "#y_train = y_train.reshape(y_train.shape[0], forward_days,y_features )"
      ],
      "execution_count": 32,
      "outputs": []
    },
    {
      "cell_type": "markdown",
      "metadata": {
        "id": "j1Uvovq2idTQ"
      },
      "source": [
        "# Loss and Attention layer"
      ]
    },
    {
      "cell_type": "code",
      "metadata": {
        "id": "Wqk0gz92TF4N"
      },
      "source": [
        "from tensorflow.keras import backend as K\n",
        "class attention(tf.keras.layers.Layer):\n",
        "    \n",
        "    def __init__(self, return_sequences=True):\n",
        "        self.return_sequences = return_sequences\n",
        "        super(attention,self).__init__()\n",
        "        \n",
        "    def build(self, input_shape):\n",
        "        \n",
        "        self.W=self.add_weight(name=\"att_weight\", shape=(input_shape[-1],1),\n",
        "                               initializer=\"normal\")\n",
        "        self.b=self.add_weight(name=\"att_bias\", shape=(input_shape[1],1),\n",
        "                               initializer=\"zeros\")\n",
        "        \n",
        "        super(attention,self).build(input_shape)\n",
        "        \n",
        "    def call(self, x):\n",
        "        \n",
        "        e = K.tanh(K.dot(x,self.W)+self.b)\n",
        "        a = K.softmax(e, axis=1)\n",
        "        output = x*a\n",
        "        \n",
        "        if self.return_sequences:\n",
        "            return output\n",
        "        \n",
        "        return K.sum(output, axis=1)\n",
        "\n",
        "    # def get_config(self):\n",
        "    #     config = super().get_config().copy()\n",
        "    #     config.update({\n",
        "    #         'return_sequences': self.return_sequences \n",
        "    #     })\n",
        "    #     return config"
      ],
      "execution_count": 33,
      "outputs": []
    },
    {
      "cell_type": "code",
      "metadata": {
        "id": "0SsIQg3p4_4k"
      },
      "source": [
        "def customLoss(ytrue,ypred):  \n",
        "    diff = ypred - ytrue\n",
        "    upperband = K.less(tf.cast(ytrue, dtype=tf.float32, name=None),tf.constant(0.6))\n",
        "    \n",
        "    upperband = K.cast(upperband, K.floatx()) #1 for lower, 0 for greater\n",
        "    # print(upper\n",
        "    p_upperband = K.less(tf.cast(ypred, dtype=tf.float32, name=None),tf.constant(0.6))\n",
        "    \n",
        "    p_upperband = K.cast(p_upperband, K.floatx()) #1 for lower, 0 for greater\n",
        "    lowerband = K.greater(tf.cast(ytrue, dtype=tf.float32, name=None),tf.constant(0.2))\n",
        "    lowerband = K.cast(lowerband, K.floatx()) #0 for lower, 1 for greater\n",
        "    \n",
        "    p_lowerband = K.greater(tf.cast(ypred, dtype=tf.float32, name=None),tf.constant(0.2))\n",
        "    p_lowerband = K.cast(p_lowerband, K.floatx()) #0 for lower, 1 for greater\n",
        "\n",
        "    ub_check = K.not_equal(upperband,p_upperband)\n",
        "    ub_check = K.cast(ub_check, K.floatx())\n",
        "    ub_check = ub_check + 1\n",
        "    lb_check = K.not_equal(lowerband,p_lowerband)\n",
        "    lb_check = K.cast(lb_check, K.floatx())\n",
        "    lb_check = lb_check + 1\n",
        "    band = K.equal(upperband,lowerband)\n",
        "    band = K.cast(band, K.floatx())\n",
        "    band = band + 1                 #1 for lower, 2 for greater\n",
        "    greater = K.greater(tf.abs(diff),tf.constant(0.3))\n",
        "    greater = K.cast(greater, K.floatx()) #0 for lower, 1 for greater\n",
        "    greater = greater + 1                 #1 for lower, 2 for greater\n",
        "\n",
        "    #use some kind of loss here, such as mse or mae, or pick one from keras\n",
        "    #using mse:\n",
        "    return (ub_check * lb_check * band * greater * K.square(diff))"
      ],
      "execution_count": 34,
      "outputs": []
    },
    {
      "cell_type": "markdown",
      "metadata": {
        "id": "WFm-oB2bibIr"
      },
      "source": [
        "# Model"
      ]
    },
    {
      "cell_type": "code",
      "metadata": {
        "colab": {
          "base_uri": "https://localhost:8080/"
        },
        "id": "KkKflWvunmQH",
        "outputId": "7b5f7dd8-f28b-40d9-b6f5-f818519543eb"
      },
      "source": [
        "model = Sequential()\n",
        "model.add((Conv1D(filters=32, kernel_size=5, activation='relu',\n",
        "                                 input_shape=(30,7))))\n",
        "model.add((MaxPooling1D(pool_size=2)))\n",
        "model.add(Bidirectional(LSTM(100, return_sequences=True,#input_shape=(30,7),\n",
        "              activation='tanh', recurrent_activation='hard_sigmoid',kernel_initializer='random_uniform')))\n",
        "model.add(Dropout(0.5))\n",
        "model.add(Bidirectional(LSTM(100, return_sequences=True,\n",
        "              activation='relu', recurrent_activation='hard_sigmoid',kernel_initializer='random_uniform')))\n",
        "model.add(Dropout(0.5))\n",
        "\n",
        "model.add(attention(return_sequences=False))\n",
        "model.add((Dense(6)))\n",
        "opt = Adam(lr=0.001)\n",
        "#model = tf.keras.models.load_model('my_model', custom_objects={'customLoss':customLoss})\n",
        "es = tf.keras.callbacks.EarlyStopping(monitor='val_loss', mode='min',  patience=30)\n",
        "#mc = tf.keras.callbacks.ModelCheckpoint( 'model.h5' ,monitor='val_loss', mode='min',  save_best_only=True )\n",
        "model.compile(optimizer=opt, loss=[customLoss], metrics=[customLoss,'mse','mae','mape'])"
      ],
      "execution_count": 35,
      "outputs": [
        {
          "output_type": "stream",
          "text": [
            "WARNING:tensorflow:Layer lstm will not use cuDNN kernel since it doesn't meet the cuDNN kernel criteria. It will use generic GPU kernel as fallback when running on GPU\n",
            "WARNING:tensorflow:Layer lstm will not use cuDNN kernel since it doesn't meet the cuDNN kernel criteria. It will use generic GPU kernel as fallback when running on GPU\n",
            "WARNING:tensorflow:Layer lstm will not use cuDNN kernel since it doesn't meet the cuDNN kernel criteria. It will use generic GPU kernel as fallback when running on GPU\n",
            "WARNING:tensorflow:Layer lstm_1 will not use cuDNN kernel since it doesn't meet the cuDNN kernel criteria. It will use generic GPU kernel as fallback when running on GPU\n",
            "WARNING:tensorflow:Layer lstm_1 will not use cuDNN kernel since it doesn't meet the cuDNN kernel criteria. It will use generic GPU kernel as fallback when running on GPU\n",
            "WARNING:tensorflow:Layer lstm_1 will not use cuDNN kernel since it doesn't meet the cuDNN kernel criteria. It will use generic GPU kernel as fallback when running on GPU\n"
          ],
          "name": "stdout"
        }
      ]
    },
    {
      "cell_type": "code",
      "metadata": {
        "colab": {
          "base_uri": "https://localhost:8080/"
        },
        "id": "ufNW_KMhoZch",
        "outputId": "67b5fcbd-0ebd-41f5-a41d-f7f1a94db652"
      },
      "source": [
        "batch_size = 32\n",
        "model.fit(np.asarray(X_train).astype(np.float32), np.asarray(y_train).astype(np.float32), epochs=150, verbose=1 , shuffle=True,\n",
        "      callbacks=[es], batch_size=batch_size, validation_split=0.2)"
      ],
      "execution_count": 36,
      "outputs": [
        {
          "output_type": "stream",
          "text": [
            "Epoch 1/150\n",
            "35/35 [==============================] - 44s 179ms/step - loss: 0.6242 - customLoss: 0.6242 - mse: 0.0883 - mae: 0.2510 - mape: 263872.0465 - val_loss: 0.0366 - val_customLoss: 0.0366 - val_mse: 0.0136 - val_mae: 0.0888 - val_mape: 22.5469\n",
            "Epoch 2/150\n",
            "35/35 [==============================] - 5s 151ms/step - loss: 0.0260 - customLoss: 0.0260 - mse: 0.0107 - mae: 0.0778 - mape: 309401.8214 - val_loss: 0.0265 - val_customLoss: 0.0265 - val_mse: 0.0104 - val_mae: 0.0752 - val_mape: 19.6663\n",
            "Epoch 3/150\n",
            "35/35 [==============================] - 5s 154ms/step - loss: 0.0262 - customLoss: 0.0262 - mse: 0.0101 - mae: 0.0722 - mape: 240740.5219 - val_loss: 0.0208 - val_customLoss: 0.0208 - val_mse: 0.0085 - val_mae: 0.0662 - val_mape: 17.2201\n",
            "Epoch 4/150\n",
            "35/35 [==============================] - 5s 154ms/step - loss: 0.0185 - customLoss: 0.0185 - mse: 0.0079 - mae: 0.0657 - mape: 184787.2402 - val_loss: 0.0184 - val_customLoss: 0.0184 - val_mse: 0.0074 - val_mae: 0.0611 - val_mape: 15.9038\n",
            "Epoch 5/150\n",
            "35/35 [==============================] - 5s 151ms/step - loss: 0.0200 - customLoss: 0.0200 - mse: 0.0083 - mae: 0.0647 - mape: 221964.8078 - val_loss: 0.0171 - val_customLoss: 0.0171 - val_mse: 0.0070 - val_mae: 0.0585 - val_mape: 15.2937\n",
            "Epoch 6/150\n",
            "35/35 [==============================] - 5s 156ms/step - loss: 0.0209 - customLoss: 0.0209 - mse: 0.0086 - mae: 0.0665 - mape: 267759.2745 - val_loss: 0.0181 - val_customLoss: 0.0181 - val_mse: 0.0076 - val_mae: 0.0629 - val_mape: 16.9362\n",
            "Epoch 7/150\n",
            "35/35 [==============================] - 5s 156ms/step - loss: 0.0195 - customLoss: 0.0195 - mse: 0.0079 - mae: 0.0637 - mape: 153954.7420 - val_loss: 0.0170 - val_customLoss: 0.0170 - val_mse: 0.0070 - val_mae: 0.0600 - val_mape: 14.5330\n",
            "Epoch 8/150\n",
            "35/35 [==============================] - 5s 154ms/step - loss: 0.0183 - customLoss: 0.0183 - mse: 0.0078 - mae: 0.0634 - mape: 254852.8389 - val_loss: 0.0162 - val_customLoss: 0.0162 - val_mse: 0.0067 - val_mae: 0.0582 - val_mape: 14.1923\n",
            "Epoch 9/150\n",
            "35/35 [==============================] - 5s 153ms/step - loss: 0.0210 - customLoss: 0.0210 - mse: 0.0084 - mae: 0.0657 - mape: 450928.7330 - val_loss: 0.0149 - val_customLoss: 0.0149 - val_mse: 0.0061 - val_mae: 0.0540 - val_mape: 14.0553\n",
            "Epoch 10/150\n",
            "35/35 [==============================] - 5s 156ms/step - loss: 0.0183 - customLoss: 0.0183 - mse: 0.0075 - mae: 0.0629 - mape: 148383.3584 - val_loss: 0.0147 - val_customLoss: 0.0147 - val_mse: 0.0061 - val_mae: 0.0543 - val_mape: 13.8170\n",
            "Epoch 11/150\n",
            "35/35 [==============================] - 5s 152ms/step - loss: 0.0149 - customLoss: 0.0149 - mse: 0.0065 - mae: 0.0588 - mape: 125121.2770 - val_loss: 0.0170 - val_customLoss: 0.0170 - val_mse: 0.0072 - val_mae: 0.0619 - val_mape: 16.6794\n",
            "Epoch 12/150\n",
            "35/35 [==============================] - 5s 150ms/step - loss: 0.0196 - customLoss: 0.0196 - mse: 0.0078 - mae: 0.0629 - mape: 137000.3601 - val_loss: 0.0144 - val_customLoss: 0.0144 - val_mse: 0.0060 - val_mae: 0.0539 - val_mape: 13.9905\n",
            "Epoch 13/150\n",
            "35/35 [==============================] - 6s 163ms/step - loss: 0.0185 - customLoss: 0.0185 - mse: 0.0076 - mae: 0.0616 - mape: 218778.0189 - val_loss: 0.0146 - val_customLoss: 0.0146 - val_mse: 0.0061 - val_mae: 0.0544 - val_mape: 13.7476\n",
            "Epoch 14/150\n",
            "35/35 [==============================] - 5s 151ms/step - loss: 0.0191 - customLoss: 0.0191 - mse: 0.0077 - mae: 0.0614 - mape: 339052.1910 - val_loss: 0.0150 - val_customLoss: 0.0150 - val_mse: 0.0063 - val_mae: 0.0562 - val_mape: 14.0020\n",
            "Epoch 15/150\n",
            "35/35 [==============================] - 5s 154ms/step - loss: 0.0193 - customLoss: 0.0193 - mse: 0.0077 - mae: 0.0625 - mape: 553185.1367 - val_loss: 0.0164 - val_customLoss: 0.0164 - val_mse: 0.0070 - val_mae: 0.0606 - val_mape: 16.3851\n",
            "Epoch 16/150\n",
            "35/35 [==============================] - 5s 155ms/step - loss: 0.0212 - customLoss: 0.0212 - mse: 0.0084 - mae: 0.0656 - mape: 492798.6432 - val_loss: 0.0143 - val_customLoss: 0.0143 - val_mse: 0.0060 - val_mae: 0.0537 - val_mape: 13.7953\n",
            "Epoch 17/150\n",
            "35/35 [==============================] - 5s 154ms/step - loss: 0.0197 - customLoss: 0.0197 - mse: 0.0078 - mae: 0.0614 - mape: 293287.2320 - val_loss: 0.0174 - val_customLoss: 0.0174 - val_mse: 0.0073 - val_mae: 0.0627 - val_mape: 14.7830\n",
            "Epoch 18/150\n",
            "35/35 [==============================] - 5s 152ms/step - loss: 0.0211 - customLoss: 0.0211 - mse: 0.0082 - mae: 0.0641 - mape: 256299.6780 - val_loss: 0.0146 - val_customLoss: 0.0146 - val_mse: 0.0061 - val_mae: 0.0548 - val_mape: 13.7862\n",
            "Epoch 19/150\n",
            "35/35 [==============================] - 5s 152ms/step - loss: 0.0179 - customLoss: 0.0179 - mse: 0.0073 - mae: 0.0607 - mape: 656844.2037 - val_loss: 0.0144 - val_customLoss: 0.0144 - val_mse: 0.0061 - val_mae: 0.0548 - val_mape: 14.1900\n",
            "Epoch 20/150\n",
            "35/35 [==============================] - 5s 154ms/step - loss: 0.0188 - customLoss: 0.0188 - mse: 0.0076 - mae: 0.0615 - mape: 453950.9896 - val_loss: 0.0143 - val_customLoss: 0.0143 - val_mse: 0.0060 - val_mae: 0.0543 - val_mape: 13.9458\n",
            "Epoch 21/150\n",
            "35/35 [==============================] - 5s 154ms/step - loss: 0.0188 - customLoss: 0.0188 - mse: 0.0077 - mae: 0.0621 - mape: 439272.9944 - val_loss: 0.0157 - val_customLoss: 0.0157 - val_mse: 0.0068 - val_mae: 0.0606 - val_mape: 16.1863\n",
            "Epoch 22/150\n",
            "35/35 [==============================] - 5s 155ms/step - loss: 0.0202 - customLoss: 0.0202 - mse: 0.0080 - mae: 0.0642 - mape: 204083.6407 - val_loss: 0.0143 - val_customLoss: 0.0143 - val_mse: 0.0060 - val_mae: 0.0546 - val_mape: 14.0984\n",
            "Epoch 23/150\n",
            "35/35 [==============================] - 5s 151ms/step - loss: 0.0196 - customLoss: 0.0196 - mse: 0.0078 - mae: 0.0618 - mape: 582452.7659 - val_loss: 0.0144 - val_customLoss: 0.0144 - val_mse: 0.0061 - val_mae: 0.0554 - val_mape: 14.5354\n",
            "Epoch 24/150\n",
            "35/35 [==============================] - 5s 151ms/step - loss: 0.0204 - customLoss: 0.0204 - mse: 0.0082 - mae: 0.0633 - mape: 249611.9499 - val_loss: 0.0167 - val_customLoss: 0.0167 - val_mse: 0.0071 - val_mae: 0.0610 - val_mape: 14.4613\n",
            "Epoch 25/150\n",
            "35/35 [==============================] - 5s 149ms/step - loss: 0.0169 - customLoss: 0.0169 - mse: 0.0068 - mae: 0.0589 - mape: 539877.4796 - val_loss: 0.0145 - val_customLoss: 0.0145 - val_mse: 0.0061 - val_mae: 0.0554 - val_mape: 13.9058\n",
            "Epoch 26/150\n",
            "35/35 [==============================] - 5s 154ms/step - loss: 0.0219 - customLoss: 0.0219 - mse: 0.0085 - mae: 0.0636 - mape: 306010.3898 - val_loss: 0.0159 - val_customLoss: 0.0159 - val_mse: 0.0068 - val_mae: 0.0591 - val_mape: 14.1935\n",
            "Epoch 27/150\n",
            "35/35 [==============================] - 5s 151ms/step - loss: 0.0169 - customLoss: 0.0169 - mse: 0.0071 - mae: 0.0608 - mape: 221906.3382 - val_loss: 0.0143 - val_customLoss: 0.0143 - val_mse: 0.0060 - val_mae: 0.0546 - val_mape: 14.0234\n",
            "Epoch 28/150\n",
            "35/35 [==============================] - 5s 148ms/step - loss: 0.0197 - customLoss: 0.0197 - mse: 0.0080 - mae: 0.0633 - mape: 758503.3031 - val_loss: 0.0143 - val_customLoss: 0.0143 - val_mse: 0.0060 - val_mae: 0.0551 - val_mape: 14.1708\n",
            "Epoch 29/150\n",
            "35/35 [==============================] - 5s 150ms/step - loss: 0.0206 - customLoss: 0.0206 - mse: 0.0081 - mae: 0.0631 - mape: 735948.3036 - val_loss: 0.0145 - val_customLoss: 0.0145 - val_mse: 0.0061 - val_mae: 0.0549 - val_mape: 13.7887\n",
            "Epoch 30/150\n",
            "35/35 [==============================] - 5s 149ms/step - loss: 0.0177 - customLoss: 0.0177 - mse: 0.0072 - mae: 0.0598 - mape: 181823.6626 - val_loss: 0.0145 - val_customLoss: 0.0145 - val_mse: 0.0061 - val_mae: 0.0561 - val_mape: 14.3912\n",
            "Epoch 31/150\n",
            "35/35 [==============================] - 5s 152ms/step - loss: 0.0159 - customLoss: 0.0159 - mse: 0.0068 - mae: 0.0597 - mape: 204826.9219 - val_loss: 0.0146 - val_customLoss: 0.0146 - val_mse: 0.0062 - val_mae: 0.0563 - val_mape: 14.1067\n",
            "Epoch 32/150\n",
            "35/35 [==============================] - 5s 149ms/step - loss: 0.0218 - customLoss: 0.0218 - mse: 0.0084 - mae: 0.0634 - mape: 1031489.6832 - val_loss: 0.0148 - val_customLoss: 0.0148 - val_mse: 0.0063 - val_mae: 0.0565 - val_mape: 13.9053\n",
            "Epoch 33/150\n",
            "35/35 [==============================] - 5s 151ms/step - loss: 0.0169 - customLoss: 0.0169 - mse: 0.0070 - mae: 0.0597 - mape: 179328.4820 - val_loss: 0.0145 - val_customLoss: 0.0145 - val_mse: 0.0061 - val_mae: 0.0555 - val_mape: 13.9675\n",
            "Epoch 34/150\n",
            "35/35 [==============================] - 5s 150ms/step - loss: 0.0180 - customLoss: 0.0180 - mse: 0.0072 - mae: 0.0597 - mape: 412516.7494 - val_loss: 0.0143 - val_customLoss: 0.0143 - val_mse: 0.0061 - val_mae: 0.0555 - val_mape: 14.2530\n",
            "Epoch 35/150\n",
            "35/35 [==============================] - 5s 149ms/step - loss: 0.0175 - customLoss: 0.0175 - mse: 0.0073 - mae: 0.0603 - mape: 333892.7156 - val_loss: 0.0154 - val_customLoss: 0.0154 - val_mse: 0.0065 - val_mae: 0.0575 - val_mape: 13.9998\n",
            "Epoch 36/150\n",
            "35/35 [==============================] - 5s 150ms/step - loss: 0.0198 - customLoss: 0.0198 - mse: 0.0078 - mae: 0.0619 - mape: 352733.2117 - val_loss: 0.0147 - val_customLoss: 0.0147 - val_mse: 0.0062 - val_mae: 0.0569 - val_mape: 14.3868\n",
            "Epoch 37/150\n",
            "35/35 [==============================] - 5s 147ms/step - loss: 0.0174 - customLoss: 0.0174 - mse: 0.0073 - mae: 0.0609 - mape: 324021.7040 - val_loss: 0.0150 - val_customLoss: 0.0150 - val_mse: 0.0063 - val_mae: 0.0561 - val_mape: 13.8432\n",
            "Epoch 38/150\n",
            "35/35 [==============================] - 5s 148ms/step - loss: 0.0198 - customLoss: 0.0198 - mse: 0.0080 - mae: 0.0627 - mape: 332873.3276 - val_loss: 0.0148 - val_customLoss: 0.0148 - val_mse: 0.0062 - val_mae: 0.0565 - val_mape: 13.9834\n",
            "Epoch 39/150\n",
            "35/35 [==============================] - 5s 149ms/step - loss: 0.0160 - customLoss: 0.0160 - mse: 0.0068 - mae: 0.0583 - mape: 354500.6642 - val_loss: 0.0153 - val_customLoss: 0.0153 - val_mse: 0.0065 - val_mae: 0.0584 - val_mape: 14.2807\n",
            "Epoch 40/150\n",
            "35/35 [==============================] - 5s 145ms/step - loss: 0.0173 - customLoss: 0.0173 - mse: 0.0072 - mae: 0.0604 - mape: 479870.3086 - val_loss: 0.0145 - val_customLoss: 0.0145 - val_mse: 0.0062 - val_mae: 0.0566 - val_mape: 14.7826\n",
            "Epoch 41/150\n",
            "35/35 [==============================] - 5s 144ms/step - loss: 0.0198 - customLoss: 0.0198 - mse: 0.0078 - mae: 0.0613 - mape: 722691.5780 - val_loss: 0.0146 - val_customLoss: 0.0146 - val_mse: 0.0062 - val_mae: 0.0559 - val_mape: 13.9699\n",
            "Epoch 42/150\n",
            "35/35 [==============================] - 5s 153ms/step - loss: 0.0189 - customLoss: 0.0189 - mse: 0.0077 - mae: 0.0620 - mape: 358207.2650 - val_loss: 0.0159 - val_customLoss: 0.0159 - val_mse: 0.0068 - val_mae: 0.0598 - val_mape: 14.3709\n",
            "Epoch 43/150\n",
            "35/35 [==============================] - 5s 151ms/step - loss: 0.0221 - customLoss: 0.0221 - mse: 0.0085 - mae: 0.0635 - mape: 882581.0208 - val_loss: 0.0145 - val_customLoss: 0.0145 - val_mse: 0.0061 - val_mae: 0.0559 - val_mape: 14.2648\n",
            "Epoch 44/150\n",
            "35/35 [==============================] - 5s 149ms/step - loss: 0.0157 - customLoss: 0.0157 - mse: 0.0066 - mae: 0.0578 - mape: 161456.2247 - val_loss: 0.0151 - val_customLoss: 0.0151 - val_mse: 0.0065 - val_mae: 0.0582 - val_mape: 14.3827\n",
            "Epoch 45/150\n",
            "35/35 [==============================] - 5s 156ms/step - loss: 0.0183 - customLoss: 0.0183 - mse: 0.0076 - mae: 0.0614 - mape: 450443.5249 - val_loss: 0.0144 - val_customLoss: 0.0144 - val_mse: 0.0060 - val_mae: 0.0548 - val_mape: 13.8429\n",
            "Epoch 46/150\n",
            "35/35 [==============================] - 5s 151ms/step - loss: 0.0209 - customLoss: 0.0209 - mse: 0.0083 - mae: 0.0643 - mape: 360837.7189 - val_loss: 0.0146 - val_customLoss: 0.0146 - val_mse: 0.0062 - val_mae: 0.0557 - val_mape: 13.8922\n",
            "Epoch 47/150\n",
            "35/35 [==============================] - 5s 151ms/step - loss: 0.0190 - customLoss: 0.0190 - mse: 0.0075 - mae: 0.0601 - mape: 278794.7284 - val_loss: 0.0151 - val_customLoss: 0.0151 - val_mse: 0.0064 - val_mae: 0.0575 - val_mape: 14.0257\n",
            "Epoch 48/150\n",
            "35/35 [==============================] - 5s 146ms/step - loss: 0.0158 - customLoss: 0.0158 - mse: 0.0066 - mae: 0.0577 - mape: 150780.2387 - val_loss: 0.0162 - val_customLoss: 0.0162 - val_mse: 0.0069 - val_mae: 0.0604 - val_mape: 14.4526\n",
            "Epoch 49/150\n",
            "35/35 [==============================] - 5s 151ms/step - loss: 0.0171 - customLoss: 0.0171 - mse: 0.0071 - mae: 0.0604 - mape: 166057.4407 - val_loss: 0.0148 - val_customLoss: 0.0148 - val_mse: 0.0064 - val_mae: 0.0579 - val_mape: 15.1125\n",
            "Epoch 50/150\n",
            "35/35 [==============================] - 5s 150ms/step - loss: 0.0194 - customLoss: 0.0194 - mse: 0.0076 - mae: 0.0605 - mape: 276928.3304 - val_loss: 0.0146 - val_customLoss: 0.0146 - val_mse: 0.0062 - val_mae: 0.0559 - val_mape: 14.0119\n",
            "Epoch 51/150\n",
            "35/35 [==============================] - 5s 152ms/step - loss: 0.0156 - customLoss: 0.0156 - mse: 0.0065 - mae: 0.0579 - mape: 225070.7043 - val_loss: 0.0161 - val_customLoss: 0.0161 - val_mse: 0.0068 - val_mae: 0.0599 - val_mape: 14.3888\n",
            "Epoch 52/150\n",
            "35/35 [==============================] - 5s 147ms/step - loss: 0.0181 - customLoss: 0.0181 - mse: 0.0073 - mae: 0.0599 - mape: 443374.0090 - val_loss: 0.0147 - val_customLoss: 0.0147 - val_mse: 0.0062 - val_mae: 0.0565 - val_mape: 14.0557\n",
            "Epoch 53/150\n",
            "35/35 [==============================] - 5s 147ms/step - loss: 0.0169 - customLoss: 0.0169 - mse: 0.0070 - mae: 0.0590 - mape: 502011.9062 - val_loss: 0.0149 - val_customLoss: 0.0149 - val_mse: 0.0065 - val_mae: 0.0591 - val_mape: 15.3550\n",
            "Epoch 54/150\n",
            "35/35 [==============================] - 5s 150ms/step - loss: 0.0187 - customLoss: 0.0187 - mse: 0.0075 - mae: 0.0605 - mape: 457679.4288 - val_loss: 0.0146 - val_customLoss: 0.0146 - val_mse: 0.0062 - val_mae: 0.0561 - val_mape: 14.0565\n",
            "Epoch 55/150\n",
            "35/35 [==============================] - 5s 146ms/step - loss: 0.0173 - customLoss: 0.0173 - mse: 0.0070 - mae: 0.0595 - mape: 228992.6140 - val_loss: 0.0152 - val_customLoss: 0.0152 - val_mse: 0.0065 - val_mae: 0.0585 - val_mape: 14.3219\n",
            "Epoch 56/150\n",
            "35/35 [==============================] - 5s 149ms/step - loss: 0.0182 - customLoss: 0.0182 - mse: 0.0074 - mae: 0.0607 - mape: 449190.9448 - val_loss: 0.0147 - val_customLoss: 0.0147 - val_mse: 0.0062 - val_mae: 0.0568 - val_mape: 14.2015\n",
            "Epoch 57/150\n",
            "35/35 [==============================] - 5s 147ms/step - loss: 0.0176 - customLoss: 0.0176 - mse: 0.0073 - mae: 0.0611 - mape: 468166.8481 - val_loss: 0.0152 - val_customLoss: 0.0152 - val_mse: 0.0065 - val_mae: 0.0577 - val_mape: 14.0952\n"
          ],
          "name": "stdout"
        },
        {
          "output_type": "execute_result",
          "data": {
            "text/plain": [
              "<tensorflow.python.keras.callbacks.History at 0x7f6592065410>"
            ]
          },
          "metadata": {
            "tags": []
          },
          "execution_count": 36
        }
      ]
    },
    {
      "cell_type": "code",
      "metadata": {
        "colab": {
          "base_uri": "https://localhost:8080/"
        },
        "id": "-bDKkF5BYM8f",
        "outputId": "40a41bf8-9ae0-4693-a693-ebc44f359cc7"
      },
      "source": [
        "model.save('my_model') "
      ],
      "execution_count": 37,
      "outputs": [
        {
          "output_type": "stream",
          "text": [
            "INFO:tensorflow:Assets written to: my_model/assets\n"
          ],
          "name": "stdout"
        }
      ]
    },
    {
      "cell_type": "markdown",
      "metadata": {
        "id": "6l4w9JM0ihCX"
      },
      "source": [
        "# Testing"
      ]
    },
    {
      "cell_type": "code",
      "metadata": {
        "colab": {
          "base_uri": "https://localhost:8080/"
        },
        "id": "vSEUfUTZ8YG4",
        "outputId": "ee6230ad-03ee-44c3-ee61-6011b606a8d3"
      },
      "source": [
        "y_train.max(),y_train.min()"
      ],
      "execution_count": 38,
      "outputs": [
        {
          "output_type": "execute_result",
          "data": {
            "text/plain": [
              "(1.0000000000000002, 0.0)"
            ]
          },
          "metadata": {
            "tags": []
          },
          "execution_count": 38
        }
      ]
    },
    {
      "cell_type": "code",
      "metadata": {
        "id": "G45Vza6LOqBk"
      },
      "source": [
        "X_test, y_test = split_sequences(data_test, data_test_y, lookback_days,forward_days)\n",
        "X_test_original = X_test"
      ],
      "execution_count": 39,
      "outputs": []
    },
    {
      "cell_type": "code",
      "metadata": {
        "id": "Sr27oDqdSstj"
      },
      "source": [
        "X_test=X_test.reshape(X_test.shape[0],lookback_days*X_features)\n",
        "y_test=y_test.reshape(y_test.shape[0],y_features)"
      ],
      "execution_count": 40,
      "outputs": []
    },
    {
      "cell_type": "code",
      "metadata": {
        "id": "oDy-8aTnNaep"
      },
      "source": [
        "xtest_scaler = MinMaxScaler().fit(X_test)\n",
        "X_test = xtest_scaler.transform(X_test)\n",
        "ytest_scaler = MinMaxScaler(feature_range=(0, 1)).fit(y_test)\n",
        "#y_scaler.fit(y_test)\n",
        "y_test = ytest_scaler.transform(y_test)"
      ],
      "execution_count": 41,
      "outputs": []
    },
    {
      "cell_type": "code",
      "metadata": {
        "id": "-srbMGEBOkSK"
      },
      "source": [
        "X_test = X_test.reshape(X_test.shape[0],lookback_days, X_features)\n",
        "#y_test = y_test.reshape(y_test.shape[0],forward_days, y_features)"
      ],
      "execution_count": 42,
      "outputs": []
    },
    {
      "cell_type": "code",
      "metadata": {
        "id": "lHJKpGpOOkWL"
      },
      "source": [
        "y_pred = model.predict(X_test,batch_size = 16)"
      ],
      "execution_count": 43,
      "outputs": []
    },
    {
      "cell_type": "code",
      "metadata": {
        "colab": {
          "base_uri": "https://localhost:8080/"
        },
        "id": "ls3bB4CDCPg3",
        "outputId": "4fb8d47d-68ef-456c-f3f5-42974370de50"
      },
      "source": [
        "evaluation = model.evaluate(X_test, y_test)\n",
        "print(evaluation) #'mse','mae', 'mape'"
      ],
      "execution_count": 44,
      "outputs": [
        {
          "output_type": "stream",
          "text": [
            "12/12 [==============================] - 0s 11ms/step - loss: 0.0946 - customLoss: 0.0946 - mse: 0.0348 - mae: 0.1545 - mape: 1160387.8750\n",
            "[0.09457249194383621, 0.09457249939441681, 0.03475010022521019, 0.15450230240821838, 1160387.875]\n"
          ],
          "name": "stdout"
        }
      ]
    },
    {
      "cell_type": "code",
      "metadata": {
        "id": "EPvPKhxbOkYu"
      },
      "source": [
        "y_pred = y_pred.reshape(y_pred.shape[0],y_features)\n",
        "y_pred = ytest_scaler.inverse_transform(y_pred)"
      ],
      "execution_count": 45,
      "outputs": []
    },
    {
      "cell_type": "code",
      "metadata": {
        "id": "GDp9CDMCK4fw"
      },
      "source": [
        "#y_pred = y_pred.reshape(y_pred.shape[0],forward_days,y_features)"
      ],
      "execution_count": 46,
      "outputs": []
    },
    {
      "cell_type": "code",
      "metadata": {
        "id": "pWGIsqM_O4H0"
      },
      "source": [
        "y_test = y_test.reshape(y_test.shape[0],y_features)\n",
        "#y_true = y_test\n",
        "y_true = ytest_scaler.inverse_transform(y_test)"
      ],
      "execution_count": 47,
      "outputs": []
    },
    {
      "cell_type": "code",
      "metadata": {
        "id": "Iz3PvwjqLSqU"
      },
      "source": [
        "X_test = X_test.reshape(X_test.shape[0],lookback_days*X_features)\n",
        "X_test = xtest_scaler.inverse_transform(X_test)\n",
        "#y_true = y_true.reshape(y_true.shape[0],forward_days,y_features)"
      ],
      "execution_count": 48,
      "outputs": []
    },
    {
      "cell_type": "code",
      "metadata": {
        "id": "glInJEhla-0M"
      },
      "source": [
        "diff_true = array([y_true[:,x] - X_test_original[:,0,-1] for x in [0,1,2,3,4,5]])\n",
        "diff_pred = array([y_pred[:,x] - X_test_original[:,0,-1] for x in [0,1,2,3,4,5]])"
      ],
      "execution_count": 49,
      "outputs": []
    },
    {
      "cell_type": "code",
      "metadata": {
        "id": "PZGVOgZNYuWy"
      },
      "source": [
        "diff_true1 = array([y_true[:,x] - X_test_original[:,1,-1] for x in [1,3,5]])\n",
        "diff_true2 = array([y_true[:,x] - X_test_original[:,0,-1] for x in [0,2,4]])\n",
        "diff_true=np.concatenate((diff_true1,diff_true2),axis=1)"
      ],
      "execution_count": 50,
      "outputs": []
    },
    {
      "cell_type": "code",
      "metadata": {
        "id": "X1tI7Ba3YuWz"
      },
      "source": [
        "diff_pred1 = array([y_pred[:,x] - X_test_original[:,1,-1] for x in [1,3,5]])\n",
        "diff_pred2 = array([y_pred[:,x] - X_test_original[:,0,-1] for x in [0,2,4]])\n",
        "diff_pred=np.concatenate((diff_pred1,diff_pred2),axis=1)"
      ],
      "execution_count": 51,
      "outputs": []
    },
    {
      "cell_type": "code",
      "metadata": {
        "id": "WaMrZi2BRdy6"
      },
      "source": [
        "def rsquared(y, y_hat):\n",
        "    y_bar = y.mean()\n",
        "    ss_tot = ((y-y_bar)**2).sum()\n",
        "    ss_res = ((y-y_hat)**2).sum()\n",
        "    return 1 - (ss_res/ss_tot)"
      ],
      "execution_count": 52,
      "outputs": []
    },
    {
      "cell_type": "code",
      "metadata": {
        "colab": {
          "base_uri": "https://localhost:8080/"
        },
        "id": "OGs5oaw9j7To",
        "outputId": "d2cc7106-97cc-4d80-9071-31aeec9d94d5"
      },
      "source": [
        "y_bar = y_true.mean()\n",
        "ss_tot = ((y_true-y_bar)**2).sum()\n",
        "ss_res = ((y_true-y_pred)**2).sum()\n",
        "print(ss_res)\n",
        "print(ss_tot)\n",
        "\n",
        "y_bar = diff_true.mean()\n",
        "ss_tot = ((diff_true-y_bar)**2).sum()\n",
        "ss_res = ((diff_true-diff_pred)**2).sum()\n",
        "print(ss_res)\n",
        "print(ss_tot)"
      ],
      "execution_count": 53,
      "outputs": [
        {
          "output_type": "stream",
          "text": [
            "3.49191569589461\n",
            "1.5571794546355493\n",
            "3.491915695894612\n",
            "2051624.0413665138\n"
          ],
          "name": "stdout"
        }
      ]
    },
    {
      "cell_type": "code",
      "metadata": {
        "colab": {
          "base_uri": "https://localhost:8080/"
        },
        "id": "kA446QyHQXao",
        "outputId": "863959db-6ea6-43c6-dd2d-94cd0bd1d1c7"
      },
      "source": [
        "import sklearn.metrics as metrics\n",
        "mae = metrics.mean_absolute_error(y_true, y_pred)\n",
        "mse = metrics.mean_squared_error(y_true, y_pred)\n",
        "rmse = np.sqrt(mse) #mse**(0.5)  \n",
        "r2 = rsquared(y_true, y_pred)\n",
        "mae_diff = metrics.mean_absolute_error(diff_true, diff_pred)\n",
        "mse_diff = metrics.mean_squared_error(diff_true, diff_pred)\n",
        "rmse_diff = np.sqrt(mse_diff) #mse**(0.5)  \n",
        "r2_diff = rsquared(diff_true, diff_pred)\n",
        "print(\"Results of sklearn.metrics:\")\n",
        "print(\"MAE:\",mae)\n",
        "print(\"MSE:\", mse)\n",
        "print(\"RMSE:\", rmse)\n",
        "print(\"R-Squared:\", r2)\n",
        "print(\"MAE_diff:\",mae_diff)\n",
        "print(\"MSE_diff:\", mse_diff)\n",
        "print(\"RMSE_diff:\", rmse_diff)\n",
        "print(\"R-Squared diff:\", r2_diff)"
      ],
      "execution_count": 54,
      "outputs": [
        {
          "output_type": "stream",
          "text": [
            "Results of sklearn.metrics:\n",
            "MAE: 0.03327323669561163\n",
            "MSE: 0.0016486854088265388\n",
            "RMSE: 0.04060400730009957\n",
            "R-Squared: -1.2424619625564461\n",
            "MAE_diff: 0.033273236695611635\n",
            "MSE_diff: 0.00164868540882654\n",
            "RMSE_diff: 0.04060400730009958\n",
            "R-Squared diff: 0.9999982979748602\n"
          ],
          "name": "stdout"
        }
      ]
    },
    {
      "cell_type": "code",
      "metadata": {
        "id": "T4TUUvi1pJTn"
      },
      "source": [
        "y_pred_len = y_pred.shape[0]"
      ],
      "execution_count": 55,
      "outputs": []
    },
    {
      "cell_type": "code",
      "metadata": {
        "id": "kxIPD_6F8-Lm"
      },
      "source": [
        "dataset_prev = pd.DataFrame({\n",
        "    'open': X_test_original[:,-1,0],'close': X_test_original[:,-1,1]\n",
        "                        })\n",
        "dataset_per = pd.DataFrame({\n",
        "    'open1PerChg': y_pred[:,0], 'close1PerChg': y_pred[:,1],\n",
        "    'open2PerChg': y_pred[:,2], 'close2PerChg': y_pred[:,3],\n",
        "    'open3PerChg': y_pred[:,4], 'close3PerChg': y_pred[:,5]\n",
        "                         })\n",
        "datasetarray = pd.DataFrame({\n",
        "    'open1': y_pred[:,0], 'close1': y_pred[:,1]        ,\n",
        "    'open2': y_pred[:,2], 'close2': y_pred[:,3]  ,\n",
        "    'open3': y_pred[:,4], 'close3': y_pred[:,5]                 })\n",
        "\n",
        "datasetarray['open1'] = dataset_prev['open'] + (dataset_prev['open'] * dataset_per['open1PerChg'])\n",
        "datasetarray['open2'] = dataset_prev['open'] + (dataset_prev['open'] * dataset_per['open2PerChg'])\n",
        "datasetarray['open3'] = dataset_prev['open'] + (dataset_prev['open'] * dataset_per['open3PerChg'])\n",
        "datasetarray['close1'] = dataset_prev['close'] + (dataset_prev['close'] * dataset_per['close1PerChg'])\n",
        "datasetarray['close2'] = dataset_prev['close'] + (dataset_prev['close'] * dataset_per['close2PerChg'])\n",
        "datasetarray['close3'] = dataset_prev['close'] + (dataset_prev['close'] * dataset_per['close3PerChg'])\n",
        "\n",
        "dataset_trueper = pd.DataFrame({\n",
        "    'open1PerChg': y_true[:,0], 'close1PerChg': y_true[:,1],\n",
        "    'open2PerChg': y_true[:,2], 'close2PerChg': y_true[:,3],\n",
        "    'open3PerChg': y_true[:,4], 'close3PerChg': y_true[:,5]\n",
        "                         })\n",
        "dataset_truearray = pd.DataFrame({\n",
        "    'open1': y_true[:,0], 'close1': y_true[:,1]        ,\n",
        "    'open2': y_true[:,2], 'close2': y_true[:,3]  ,\n",
        "    'open3': y_true[:,4], 'close3': y_true[:,5]                 })\n",
        "\n",
        "dataset_truearray['open1'] = dataset_prev['open'] + (dataset_prev['open'] * dataset_trueper['open1PerChg'])\n",
        "dataset_truearray['open2'] = dataset_prev['open'] + (dataset_prev['open'] * dataset_trueper['open2PerChg'])\n",
        "dataset_truearray['open3'] = dataset_prev['open'] + (dataset_prev['open'] * dataset_trueper['open3PerChg'])\n",
        "dataset_truearray['close1'] = dataset_prev['close'] + (dataset_prev['close'] * dataset_trueper['close1PerChg'])\n",
        "dataset_truearray['close2'] = dataset_prev['close'] + (dataset_prev['close'] * dataset_trueper['close2PerChg'])\n",
        "dataset_truearray['close3'] = dataset_prev['close'] + (dataset_prev['close'] * dataset_trueper['close3PerChg'])\n"
      ],
      "execution_count": 56,
      "outputs": []
    },
    {
      "cell_type": "code",
      "metadata": {
        "id": "snwJsJwx8-Lp"
      },
      "source": [
        "# dataset1 = dataset[:-3][['open','close']]\n",
        "# dataset_true1 = dataset_true[:-1][['open','close']]\n",
        "# datasetarray = dataset1.values.reshape(dataset1.shape[0],2)\n",
        "datasetarray = datasetarray[:-3]\n",
        "datasetarray = np.asarray(datasetarray).astype(np.float32)\n",
        "# dataset_truearray = dataset_true1.values.reshape(dataset_true1.shape[0],2)\n",
        "dataset_truearray = dataset_truearray[:-3]\n",
        "dataset_truearray = np.asarray(dataset_truearray).astype(np.float32)\n"
      ],
      "execution_count": 57,
      "outputs": []
    },
    {
      "cell_type": "code",
      "metadata": {
        "colab": {
          "base_uri": "https://localhost:8080/"
        },
        "id": "tSwHh8CI8-Lq",
        "outputId": "a7c3613f-4be7-4a6a-f1ee-8745e153f71b"
      },
      "source": [
        "import sklearn.metrics as metrics\n",
        "mae = metrics.mean_absolute_error(datasetarray, dataset_truearray)\n",
        "mse = metrics.mean_squared_error(datasetarray, dataset_truearray)\n",
        "rmse = np.sqrt(mse) #mse**(0.5)  \n",
        "r2 = rsquared(datasetarray, dataset_truearray)\n",
        "print(\"Results of sklearn.metrics:\")\n",
        "print(\"MAE:\",mae)\n",
        "print(\"MSE:\", mse)\n",
        "print(\"RMSE:\", rmse)\n",
        "print(\"R-Squared:\", r2)"
      ],
      "execution_count": 58,
      "outputs": [
        {
          "output_type": "stream",
          "text": [
            "Results of sklearn.metrics:\n",
            "MAE: 58.3264\n",
            "MSE: 4904.166\n",
            "RMSE: 70.029755\n",
            "R-Squared: 0.6908219158649445\n"
          ],
          "name": "stdout"
        }
      ]
    },
    {
      "cell_type": "code",
      "metadata": {
        "id": "1X2LTvRbYm0n"
      },
      "source": [
        "dataset_prev = pd.DataFrame({\n",
        "    'open': X_test_original[:,-1,0],'close': X_test_original[:,-1,1]\n",
        "                        })\n",
        "dataset_per = pd.DataFrame({\n",
        "    'openPerChg': y_pred[:,0], 'closePerChg': y_pred[:,1]\n",
        "                         })\n",
        "dataset = pd.DataFrame({\n",
        "    'open': y_pred[:,0], 'close': y_pred[:,1]                       })\n",
        "dataset['open'] = dataset_prev['open'] + (dataset_prev['open'] * dataset_per['openPerChg'])\n",
        "dataset['close'] = dataset_prev['close'] + (dataset_prev['close'] * dataset_per['closePerChg'])\n",
        "\n",
        "dataset_trueper = pd.DataFrame({\n",
        "    'openPerChg': y_true[:,0], 'closePerChg': y_true[:,1]\n",
        "                        })\n",
        "dataset_true = pd.DataFrame({\n",
        "    'open': y_pred[:,0], 'close': y_pred[:,1]                       })\n",
        "dataset_true['open'] = dataset_prev['open'] + (dataset_prev['open'] * dataset_trueper['openPerChg'])\n",
        "dataset_true['close'] = dataset_prev['close'] + (dataset_prev['close'] * dataset_trueper['closePerChg'])\n",
        "\n",
        "\n",
        "dataset.loc[:,'date'] = pd.to_datetime(df_A[-y_pred_len-2:-2].index)\n",
        "dataset_true.loc[:,'date'] = pd.to_datetime(df_A[-y_pred_len-2:-2].index)"
      ],
      "execution_count": 59,
      "outputs": []
    },
    {
      "cell_type": "code",
      "metadata": {
        "id": "ptq0CwVhw47p"
      },
      "source": [
        "dataset=dataset.assign(low=lambda d: d[['open', 'close']].min(1))\n",
        "dataset=dataset.assign(high=lambda d: d[['open', 'close']].max(1))\n",
        "dataset_true=dataset_true.assign(low=lambda d: d[['open', 'close']].min(1))\n",
        "dataset_true=dataset_true.assign(high=lambda d: d[['open', 'close']].max(1))"
      ],
      "execution_count": 60,
      "outputs": []
    },
    {
      "cell_type": "code",
      "metadata": {
        "colab": {
          "base_uri": "https://localhost:8080/"
        },
        "id": "EwRTRWyxLInC",
        "outputId": "e8a7aa43-1554-4286-ec49-03143a7e5799"
      },
      "source": [
        "%pip install https://github.com/matplotlib/mpl_finance/archive/master.zip"
      ],
      "execution_count": 61,
      "outputs": [
        {
          "output_type": "stream",
          "text": [
            "Collecting https://github.com/matplotlib/mpl_finance/archive/master.zip\n",
            "\u001b[?25l  Downloading https://github.com/matplotlib/mpl_finance/archive/master.zip\n",
            "\u001b[K     | 399kB 4.7MB/s\n",
            "\u001b[?25hRequirement already satisfied: matplotlib in /usr/local/lib/python3.7/dist-packages (from mpl-finance==0.10.1) (3.2.2)\n",
            "Requirement already satisfied: pyparsing!=2.0.4,!=2.1.2,!=2.1.6,>=2.0.1 in /usr/local/lib/python3.7/dist-packages (from matplotlib->mpl-finance==0.10.1) (2.4.7)\n",
            "Requirement already satisfied: kiwisolver>=1.0.1 in /usr/local/lib/python3.7/dist-packages (from matplotlib->mpl-finance==0.10.1) (1.3.1)\n",
            "Requirement already satisfied: python-dateutil>=2.1 in /usr/local/lib/python3.7/dist-packages (from matplotlib->mpl-finance==0.10.1) (2.8.1)\n",
            "Requirement already satisfied: numpy>=1.11 in /usr/local/lib/python3.7/dist-packages (from matplotlib->mpl-finance==0.10.1) (1.19.5)\n",
            "Requirement already satisfied: cycler>=0.10 in /usr/local/lib/python3.7/dist-packages (from matplotlib->mpl-finance==0.10.1) (0.10.0)\n",
            "Requirement already satisfied: six>=1.5 in /usr/local/lib/python3.7/dist-packages (from python-dateutil>=2.1->matplotlib->mpl-finance==0.10.1) (1.15.0)\n",
            "Building wheels for collected packages: mpl-finance\n",
            "  Building wheel for mpl-finance (setup.py) ... \u001b[?25l\u001b[?25hdone\n",
            "  Created wheel for mpl-finance: filename=mpl_finance-0.10.1-cp37-none-any.whl size=8424 sha256=609cfa095fc674a04ce4fdc69e554881e08ca35b117bc1e6a69e9128fe7afb04\n",
            "  Stored in directory: /tmp/pip-ephem-wheel-cache-glb8treq/wheels/8f/bf/8a/6c858b2a3be945c7b2d658fbf6ab797b451d686cbee8aa2679\n",
            "Successfully built mpl-finance\n",
            "Installing collected packages: mpl-finance\n",
            "Successfully installed mpl-finance-0.10.1\n"
          ],
          "name": "stdout"
        }
      ]
    },
    {
      "cell_type": "code",
      "metadata": {
        "id": "HaDr9uJ-CT0S"
      },
      "source": [
        "import matplotlib.pyplot as plt\n",
        "import matplotlib.dates as mdates\n",
        "import matplotlib.ticker as mticker\n",
        "import datetime as dt\n",
        "import mpl_finance as mpf "
      ],
      "execution_count": 62,
      "outputs": []
    },
    {
      "cell_type": "code",
      "metadata": {
        "colab": {
          "base_uri": "https://localhost:8080/",
          "height": 0
        },
        "id": "tMDYwU9Mu7Pw",
        "outputId": "694852c2-2d45-40b4-ed53-a6f14fb44212"
      },
      "source": [
        "import plotly.graph_objects as go\n",
        "\n",
        "fig = go.Figure(data=\n",
        "                [go.Ohlc(x=dataset['date'],\n",
        "                open=dataset['open'],\n",
        "                high=dataset['high'],\n",
        "                low=dataset['low'],\n",
        "                close=dataset['close'],\n",
        "                showlegend=False,\n",
        "                name=\"predicted\"),\n",
        "                 go.Ohlc(x=dataset_true['date'],\n",
        "                open=dataset_true['open'],\n",
        "                high=dataset_true['high'],\n",
        "                low=dataset_true['low'],\n",
        "                close=dataset_true['close'],\n",
        "                showlegend=False,\n",
        "                name=\"true\",\n",
        "    increasing_line_color= 'cyan', decreasing_line_color= 'gray'\n",
        ")])\n",
        "fig.update_layout(\n",
        "    autosize=False,\n",
        "    width=1000,\n",
        "    height=800,)\n",
        "fig.update(layout_xaxis_rangeslider_visible=False)\n",
        "fig.show()"
      ],
      "execution_count": 63,
      "outputs": [
        {
          "output_type": "display_data",
          "data": {
            "text/html": [
              "<html>\n",
              "<head><meta charset=\"utf-8\" /></head>\n",
              "<body>\n",
              "    <div>\n",
              "            <script src=\"https://cdnjs.cloudflare.com/ajax/libs/mathjax/2.7.5/MathJax.js?config=TeX-AMS-MML_SVG\"></script><script type=\"text/javascript\">if (window.MathJax) {MathJax.Hub.Config({SVG: {font: \"STIX-Web\"}});}</script>\n",
              "                <script type=\"text/javascript\">window.PlotlyConfig = {MathJaxConfig: 'local'};</script>\n",
              "        <script src=\"https://cdn.plot.ly/plotly-latest.min.js\"></script>    \n",
              "            <div id=\"48acf510-b9ed-4367-bcfe-fd608b6de7df\" class=\"plotly-graph-div\" style=\"height:800px; width:1000px;\"></div>\n",
              "            <script type=\"text/javascript\">\n",
              "                \n",
              "                    window.PLOTLYENV=window.PLOTLYENV || {};\n",
              "                    \n",
              "                if (document.getElementById(\"48acf510-b9ed-4367-bcfe-fd608b6de7df\")) {\n",
              "                    Plotly.newPlot(\n",
              "                        '48acf510-b9ed-4367-bcfe-fd608b6de7df',\n",
              "                        [{\"close\": [1775.1459522944115, 1795.1597014643237, 1832.1166516246224, 1821.0669019950346, 1845.1886315976735, 1859.6107097748834, 1883.3189765383354, 1895.1280173866649, 1882.6598291744217, 1892.559349342585, 1915.7640989032313, 1878.91396522238, 1882.6049256896486, 1878.5419034446134, 1872.769290511332, 1879.6303095359258, 1900.7917384919137, 1898.8916814194117, 1901.079221687855, 1923.390879971085, 1928.2363105625957, 1993.4350079190945, 1997.4370136459709, 2007.7242679499693, 2034.1292589339623, 1989.3260662870127, 1952.5264893562476, 1945.887725964423, 1932.5903371063514, 1980.4601248845781, 1983.2591806678101, 1983.1649388186158, 1963.5491411007752, 1901.623389639417, 1934.5853999797594, 1920.0713242798242, 1937.8531177032096, 1908.630293720069, 1927.9403604484248, 1967.9413583290989, 1968.1727693760736, 2006.1629046011494, 1996.2070650151, 1997.6256060598942, 1964.7097675962802, 1946.3024296676317, 1903.1325074845472, 1883.534618525557, 1858.4922925415603, 1864.437047648933, 1750.0020236815908, 1714.4123686249372, 1784.0714972521835, 1756.4289424023048, 1815.852560121752, 1827.2569752406157, 1766.8668765582993, 1759.5262185152412, 1785.278139119784, 1764.099191122482, 1660.3905785517395, 1777.490357994791, 1639.2421440288842, 1535.1413041681633, 1527.9507273218999, 1595.0871472082995, 1663.50823010172, 1663.009643783407, 1626.308125845073, 1640.6501808594512, 1754.0794731241292, 1752.6412216106048, 1711.1637881642027, 1634.8803409181887, 1630.0100780028733, 1597.1960244567535, 1618.3336796077785, 1591.7803778892114, 1511.3431035218039, 1494.0561211578824, 1515.3676934612022, 1500.2990976437216, 1579.822301833305, 1579.886086671788, 1676.5362521106144, 1671.8767429367635, 1689.218276564331, 1770.6572700686572, 1667.705139835581, 1697.9927783034434, 1628.3118415990305, 1639.511162101384, 1641.9587523795858, 1661.6045727599374, 1656.6145194705516, 1589.915974325746, 1519.0430288871817, 1549.3344213828507, 1492.998484669172, 1458.8168684090738, 1375.6637606962747, 1342.2733836393063, 1469.189762199898, 1460.0136876584675, 1476.2830139494931, 1500.153318070991, 1537.3003850079026, 1498.2044723066413, 1572.8992472160676, 1626.6350073211624, 1653.7154269024084, 1656.5011244642012, 1653.0707875130524, 1637.244713570884, 1613.414129020955, 1670.5516237174347, 1679.3555027136147, 1688.5209293887165, 1691.0608452031365, 1626.9095528994264, 1634.2739519980391, 1648.6693890777565, 1664.273856668062, 1631.522448121202, 1587.694819403919, 1663.6484130870538, 1712.30519682882, 1620.1383696399034, 1628.1069814385187, 1653.3249166990954, 1636.4990134844247, 1610.301207861273, 1585.3867643851938, 1587.5656797743868, 1635.6401689894433, 1637.1793213300407, 1620.6661842121748, 1605.4417749923714, 1625.5463906362663, 1619.680857911643, 1617.7067034759239, 1629.5849356379474, 1631.7075805395143, 1634.8001831765484, 1640.0179064667786, 1638.4408037142293, 1671.0622405499553, 1695.2413854534411, 1692.35225078273, 1668.569013262096, 1626.4849654647157, 1621.0006112713486, 1671.5427533445463, 1673.5151416582707, 1691.821196788633, 1686.5606191270292, 1712.6096050091462, 1741.8712855128733, 1761.8695520351, 1796.9441119204669, 1819.260809988647, 1764.260562037953, 1773.9690673785017, 1782.9887728779984, 1765.0209600631194, 1772.3581343371648, 1779.7308792765689, 1812.797517953522, 1812.6859724311846, 1819.1222696919108, 1817.3279588250741, 1835.4811772862456, 1848.0571735627623, 1833.8154224223574, 1845.1624546246524, 1841.6351871723157, 1840.4413127156247, 1842.0097895577278, 1859.9767959793626, 1861.502412856229, 1858.1894225004655, 1883.5573998107438, 1919.8401690962278, 1897.7359968519886, 1898.0399799926672, 1946.0632291705283, 1933.7268323642536, 1921.640266400278, 1906.5728643526177, 1895.6559447730826, 1957.0035034818613, 1944.8864980303981, 1915.3712866995484, 1911.983712364251, 1894.0896300398433, 1884.1183396030651, 1817.0716953514006, 1834.3647517248223, 1865.3396302225046, 1901.558751001788, 1863.1397939971648, 1853.0578350476962, 1851.5581509701442, 1853.6711691064152, 1809.623972686311, 1817.3595630260868, 1830.4824879015785, 1813.2327906412595, 1810.3950532456925, 1769.2026998934762, 1687.0688012355927, 1723.8355054445224, 1732.7533531951485, 1748.4920207034972, 1797.7920235638917, 1854.0750754622459, 1856.976183013595, 1848.569907012332, 1863.3015888064792, 1862.62867886734, 1878.7767900005658, 1894.041100918475, 1901.2786037450996, 1910.6742936172664, 1903.6407218969866, 1906.2530760053646, 1870.6319455064631, 1890.1959880583072, 1896.542004958702, 1885.9901509050676, 1914.373740230775, 1926.57278376401, 1931.1873668567277, 1935.2088673346448, 1944.58666491341, 1980.584989158706, 2009.6080649096436, 1993.4769634416261, 2003.3013253614772, 2013.161021949756, 2001.9990692510275, 1984.2655551875375, 1970.2855159967253, 1957.0394833662867, 1978.1552742761057, 1987.0493305497462, 1993.4355406421228, 1966.5890148634842, 1936.0389555849451, 1905.5779955170965, 1891.8098121609964, 1860.1521225915453, 1848.8026924739363, 1816.82442086796, 1758.981805596073, 1781.591448459441, 1787.1983138907221, 1826.5229428208474, 1801.2850881530849, 1778.6305520481167, 1817.8864421161265, 1756.6474239556521, 1769.7557216483694, 1786.0327645354864, 1809.3959814179887, 1794.5367391363045, 1816.4673165977058, 1797.5110032660468, 1742.583880782327, 1761.6869773940557, 1754.5859165459754, 1756.8978258637944, 1778.8457224860274, 1768.6919379933906, 1782.098239348514, 1792.7500276357634, 1832.553830159117, 1825.2894957572569, 1823.0130953470582, 1812.2365638966771, 1814.6186698696217, 1835.110846849249, 1830.8773915520896, 1799.5053711870285, 1814.0746597892753, 1809.0850645178784, 1813.0807974943891, 1785.9112356040887, 1777.1847811700118, 1733.7378790939074, 1760.389410636909, 1732.1130690773866, 1717.7960982096306, 1728.310229274041, 1728.0965190194925, 1705.820793546094, 1716.9656224626788, 1732.1447500933937, 1725.1782293515698, 1698.1583241004269, 1714.5910653181695, 1712.8744307199786, 1724.4764384751395, 1728.9510627438844, 1759.725023406634, 1769.6994147962673, 1779.6446348649895, 1749.7665008278332, 1777.7182043486405, 1757.8683595760094, 1754.2550379395566, 1772.7570794381904, 1753.4110924239603, 1769.398670334292, 1755.277380129728, 1772.8593374809075, 1769.5051318882988, 1784.424524923282, 1797.296395410328, 1794.6086879158156, 1788.3892574032911, 1781.1462501178585, 1778.5842099628426, 1764.781988270815, 1770.8526372704655, 1746.4020681106672, 1747.7327090414237, 1732.9976190203815, 1745.853051632464, 1746.4808096043203, 1739.0753705854333, 1728.5538629971668, 1739.3513430972962, 1767.5966359709691, 1790.4078112299399, 1812.076482216174, 1794.1886652932642, 1775.15954260264, 1763.3033121342992, 1754.1844061278427, 1733.6968860689285, 1744.6298376207378, 1742.3204603380236, 1732.0744177050346, 1741.5616598603215, 1753.0779275091986, 1753.6925757387212, 1761.8733567412341, 1783.2111610832465, 1776.5499419089879, 1784.778593805561, 1778.9300531193148, 1785.4810575707816], \"high\": [1775.1459522944115, 1795.1597014643237, 1832.1166516246224, 1821.0669019950346, 1845.1886315976735, 1859.6107097748834, 1883.3189765383354, 1895.1280173866649, 1882.6598291744217, 1892.559349342585, 1915.7640989032313, 1878.91396522238, 1882.6049256896486, 1878.5419034446134, 1872.769290511332, 1879.6303095359258, 1900.7917384919137, 1898.8916814194117, 1901.079221687855, 1923.390879971085, 1928.2363105625957, 1993.4350079190945, 1997.4370136459709, 2007.7242679499693, 2034.1292589339623, 1989.3260662870127, 1952.5264893562476, 1945.887725964423, 1932.5903371063514, 1980.4601248845781, 1983.2591806678101, 1983.1649388186158, 1963.5491411007752, 1901.623389639417, 1934.5853999797594, 1920.0713242798242, 1937.8531177032096, 1908.630293720069, 1927.9403604484248, 1967.9413583290989, 1968.1727693760736, 2006.1629046011494, 1996.2070650151, 1997.6256060598942, 1964.7097675962802, 1946.3024296676317, 1903.1325074845472, 1883.534618525557, 1858.4922925415603, 1864.437047648933, 1793.9977745628516, 1714.4123686249372, 1784.0714972521835, 1756.4289424023048, 1815.852560121752, 1827.2569752406157, 1766.8668765582993, 1759.5262185152412, 1785.278139119784, 1764.099191122482, 1713.7074992665248, 1777.490357994791, 1639.2421440288842, 1603.4849604964256, 1527.9507273218999, 1595.0871472082995, 1663.50823010172, 1663.009643783407, 1626.308125845073, 1640.6501808594512, 1754.0794731241292, 1752.6412216106048, 1711.1637881642027, 1642.310358789914, 1630.0100780028733, 1601.8685984530584, 1618.3336796077785, 1591.7803778892114, 1525.908333699459, 1494.0561211578824, 1515.3676934612022, 1500.2990976437216, 1579.822301833305, 1579.886086671788, 1676.5362521106144, 1671.8767429367635, 1689.218276564331, 1770.6572700686572, 1699.3400171101093, 1697.9927783034434, 1649.8563772349098, 1639.511162101384, 1641.9587523795858, 1661.6045727599374, 1656.6145194705516, 1589.915974325746, 1519.0430288871817, 1549.3344213828507, 1492.998484669172, 1458.8168684090738, 1416.2554470050527, 1342.2733836393063, 1469.189762199898, 1460.0136876584675, 1476.2830139494931, 1500.153318070991, 1537.3003850079026, 1498.2044723066413, 1572.8992472160676, 1626.6350073211624, 1653.7154269024084, 1656.5011244642012, 1653.0707875130524, 1637.244713570884, 1613.414129020955, 1670.5516237174347, 1679.3555027136147, 1688.5209293887165, 1691.0608452031365, 1626.9095528994264, 1634.2739519980391, 1648.6693890777565, 1664.273856668062, 1631.522448121202, 1587.694819403919, 1663.6484130870538, 1712.30519682882, 1620.1383696399034, 1628.1069814385187, 1653.3249166990954, 1636.4990134844247, 1610.301207861273, 1585.3867643851938, 1587.5656797743868, 1635.6401689894433, 1637.1793213300407, 1620.6661842121748, 1605.4417749923714, 1625.5463906362663, 1619.680857911643, 1617.7067034759239, 1629.5849356379474, 1631.7075805395143, 1634.8001831765484, 1640.0179064667786, 1638.4408037142293, 1671.0622405499553, 1695.2413854534411, 1692.35225078273, 1668.569013262096, 1626.4849654647157, 1621.0006112713486, 1671.5427533445463, 1673.5151416582707, 1691.821196788633, 1686.5606191270292, 1712.6096050091462, 1741.8712855128733, 1761.8695520351, 1796.9441119204669, 1819.260809988647, 1764.260562037953, 1773.9690673785017, 1782.9887728779984, 1765.0209600631194, 1772.3581343371648, 1779.7308792765689, 1812.797517953522, 1812.6859724311846, 1819.1222696919108, 1817.3279588250741, 1835.4811772862456, 1848.0571735627623, 1833.8154224223574, 1845.1624546246524, 1841.6351871723157, 1840.4413127156247, 1842.0097895577278, 1859.9767959793626, 1861.502412856229, 1858.1894225004655, 1883.5573998107438, 1919.8401690962278, 1897.7359968519886, 1898.0399799926672, 1946.0632291705283, 1933.7268323642536, 1921.640266400278, 1906.5728643526177, 1895.6559447730826, 1957.0035034818613, 1944.8864980303981, 1915.3712866995484, 1911.983712364251, 1894.0896300398433, 1884.1183396030651, 1817.0716953514006, 1834.3647517248223, 1865.3396302225046, 1901.558751001788, 1863.1397939971648, 1853.0578350476962, 1851.5581509701442, 1853.6711691064152, 1809.623972686311, 1817.3595630260868, 1830.4824879015785, 1813.2327906412595, 1810.3950532456925, 1769.2026998934762, 1698.6107943911447, 1723.8355054445224, 1732.7533531951485, 1748.4920207034972, 1797.7920235638917, 1854.0750754622459, 1856.976183013595, 1848.569907012332, 1863.3015888064792, 1862.62867886734, 1878.7767900005658, 1894.041100918475, 1901.2786037450996, 1910.6742936172664, 1903.6407218969866, 1906.2530760053646, 1870.6319455064631, 1890.1959880583072, 1896.542004958702, 1885.9901509050676, 1914.373740230775, 1926.57278376401, 1931.1873668567277, 1935.2088673346448, 1944.58666491341, 1980.584989158706, 2009.6080649096436, 1993.4769634416261, 2003.3013253614772, 2013.161021949756, 2001.9990692510275, 1984.2655551875375, 1970.2855159967253, 1957.0394833662867, 1978.1552742761057, 1987.0493305497462, 1993.4355406421228, 1966.5890148634842, 1936.0389555849451, 1905.5779955170965, 1891.8098121609964, 1860.1521225915453, 1848.8026924739363, 1816.82442086796, 1758.981805596073, 1781.591448459441, 1787.1983138907221, 1826.5229428208474, 1801.2850881530849, 1778.6305520481167, 1817.8864421161265, 1756.6474239556521, 1769.7557216483694, 1786.0327645354864, 1809.3959814179887, 1794.5367391363045, 1816.4673165977058, 1797.5110032660468, 1742.583880782327, 1761.6869773940557, 1754.5859165459754, 1756.8978258637944, 1778.8457224860274, 1768.6919379933906, 1782.098239348514, 1792.7500276357634, 1832.553830159117, 1825.2894957572569, 1823.0130953470582, 1812.2365638966771, 1814.6186698696217, 1835.110846849249, 1830.8773915520896, 1799.5053711870285, 1814.0746597892753, 1809.0850645178784, 1813.0807974943891, 1785.9112356040887, 1777.1847811700118, 1733.7378790939074, 1760.389410636909, 1732.1130690773866, 1717.7960982096306, 1728.310229274041, 1728.0965190194925, 1705.820793546094, 1716.9656224626788, 1732.1447500933937, 1725.1782293515698, 1698.1583241004269, 1714.5910653181695, 1712.8744307199786, 1724.4764384751395, 1728.9510627438844, 1759.725023406634, 1769.6994147962673, 1779.6446348649895, 1749.7665008278332, 1777.7182043486405, 1757.8683595760094, 1754.2550379395566, 1772.7570794381904, 1753.4110924239603, 1769.398670334292, 1755.277380129728, 1772.8593374809075, 1769.5051318882988, 1784.424524923282, 1797.296395410328, 1794.6086879158156, 1788.3892574032911, 1781.1462501178585, 1778.5842099628426, 1764.781988270815, 1770.8526372704655, 1746.4020681106672, 1747.7327090414237, 1732.9976190203815, 1745.853051632464, 1746.4808096043203, 1739.0753705854333, 1728.5538629971668, 1739.3513430972962, 1767.5966359709691, 1790.4078112299399, 1812.076482216174, 1794.1886652932642, 1775.15954260264, 1763.3033121342992, 1754.1844061278427, 1733.6968860689285, 1744.6298376207378, 1742.3204603380236, 1732.0744177050346, 1741.5616598603215, 1753.0779275091986, 1753.6925757387212, 1761.8733567412341, 1783.2111610832465, 1776.5499419089879, 1784.778593805561, 1778.9300531193148, 1785.4810575707816], \"low\": [1727.0997459556438, 1724.9362855255604, 1729.422744644371, 1776.7394560563343, 1764.9351645540319, 1792.4618088671696, 1798.4700763896108, 1818.6645730510354, 1824.726157744235, 1834.4705608878285, 1854.4761451208, 1845.1190294416392, 1839.5098111122988, 1822.2411466130452, 1826.5923960820119, 1816.582556962967, 1813.072148403246, 1842.7010635450406, 1845.6407840111924, 1850.0899248756468, 1871.787105963269, 1887.0823886668722, 1929.3049997822277, 1938.545786306262, 1957.0891240295023, 1968.1230997263524, 1937.2315375718472, 1871.3943835320133, 1902.3428370952606, 1860.986415084857, 1924.4463510885835, 1930.258996784687, 1923.504732468315, 1886.6568275215195, 1851.930077556157, 1873.053890734911, 1871.2290284704345, 1886.2736992329155, 1837.6775059241918, 1875.3602991598905, 1900.0660847574472, 1923.924378881311, 1934.7574731736277, 1951.7836959270016, 1930.6223475153074, 1913.0269426685254, 1881.525478322059, 1851.6443902021601, 1809.297525897622, 1795.7847636791312, 1750.0020236815908, 1664.8364550620317, 1746.4805597662926, 1733.8605923764408, 1723.224632492289, 1780.2093704696235, 1760.0758658301665, 1724.37322208054, 1723.7480618655682, 1682.8015555977572, 1660.3905785517395, 1645.1544765271847, 1593.8927722850758, 1535.1413041681633, 1436.6595537224453, 1517.3245319681482, 1569.9833619033989, 1622.7715774294693, 1603.3931610394716, 1564.839941141538, 1618.5144709944725, 1697.0235703513026, 1676.187388356775, 1634.8803409181887, 1595.7464589824667, 1597.1960244567535, 1529.7104198736743, 1535.470409411937, 1511.3431035218039, 1390.4441050253808, 1492.5257472390886, 1466.9556206427515, 1488.5578478313982, 1524.2988216675485, 1561.3774776677615, 1620.0186511785269, 1625.0913123711944, 1711.4843285369934, 1667.705139835581, 1562.3096109135486, 1628.3118415990305, 1570.5130212665667, 1623.022222287953, 1613.652799770236, 1624.3971168994904, 1583.4780359566212, 1513.9025205597281, 1488.5314498841763, 1491.4758607030326, 1434.4057589918375, 1375.6637606962747, 1301.2790999859571, 1323.7173889386686, 1406.3139299400636, 1425.1658077684333, 1461.4610281569921, 1417.747285133958, 1470.5499584365643, 1480.3629937022924, 1550.1779073511025, 1610.9099772616628, 1599.6941751943177, 1588.0059808330552, 1587.5278742312585, 1562.451971489936, 1578.9636558294296, 1629.264644342993, 1625.0550216436386, 1655.5771716237068, 1625.4070977084339, 1600.839035063982, 1586.124840205648, 1614.4994600396603, 1588.3401739025185, 1576.1671506319944, 1567.8207056745887, 1635.2164384306188, 1582.7463949492062, 1567.5204601027071, 1586.7666870349572, 1614.081027207896, 1569.4965571165085, 1532.5920229926705, 1546.503794078746, 1550.3805105686188, 1591.489816378802, 1570.5795394498855, 1573.2712532939063, 1547.8795979097486, 1575.5088163912296, 1566.475407626082, 1569.7636111602187, 1587.8726351491068, 1572.571297468965, 1575.3030833982002, 1581.7822009297088, 1601.801015638739, 1630.397248286754, 1648.6453367394197, 1641.5427928113277, 1614.8432056940396, 1553.1220682355524, 1575.2343111210166, 1616.224094349891, 1630.3208258338273, 1637.507721621273, 1648.7761051803827, 1657.6207729723974, 1697.4056954292055, 1713.0051051321389, 1738.753830419243, 1751.7234893779332, 1701.2274724161507, 1734.8633687384427, 1726.3399963696088, 1712.3106327652931, 1728.373188783412, 1741.1474388515494, 1751.7796438312525, 1766.7235074236032, 1760.889675458286, 1768.745523903519, 1772.8190242075925, 1784.4646036403774, 1779.982052050531, 1787.17572626324, 1786.7045942278787, 1780.3163635209203, 1789.2172283041996, 1809.8913333669789, 1805.6982114073726, 1792.5856111575977, 1827.1118812299164, 1859.6626485697925, 1851.7754846401513, 1863.0987357012928, 1882.2777408733964, 1863.8206628119556, 1866.6216694422774, 1847.3163963263155, 1881.6546006686985, 1851.5427772669082, 1872.7639280081175, 1852.2793541001379, 1834.0341873466969, 1832.045936010778, 1772.7845746775529, 1775.56641138345, 1764.4570600001953, 1820.3783280250445, 1827.2827591221294, 1788.2748509686808, 1809.5750368905829, 1787.3430019444322, 1772.706074509972, 1771.9944961047054, 1768.976962769404, 1759.6240870960428, 1761.9283300385096, 1727.6065398843257, 1687.0688012355927, 1639.943151208453, 1688.512209773141, 1676.9442043949857, 1701.795741921851, 1757.916723638773, 1816.8408674485981, 1788.5471234764082, 1800.6417564814592, 1797.9582522809505, 1809.855642663315, 1833.8176821355569, 1839.9263372858059, 1864.571882762711, 1847.781553614021, 1844.5184360994563, 1843.5825483544604, 1825.0287696432515, 1834.104011759162, 1841.0348434927146, 1854.3422517691415, 1851.0327175778393, 1866.901757603704, 1860.0257198312247, 1865.3662043976533, 1878.7432078000174, 1925.7478606895302, 1954.0205716394257, 1937.2414597026618, 1949.8282700030377, 1939.3062291963302, 1936.0061605658093, 1910.0384108011458, 1920.949821234277, 1901.6731080944942, 1925.7451963224867, 1900.102813445551, 1930.7624885737896, 1873.9613441750407, 1862.4358789250255, 1825.013495920516, 1831.770095171783, 1806.3728419903146, 1780.6534734178308, 1708.4731398597896, 1729.6969470216718, 1712.1223373335315, 1742.972479864955, 1765.0728132910153, 1733.1709253916188, 1720.5817087069154, 1730.132872146858, 1719.4559727832757, 1729.827119873653, 1753.98922288242, 1750.3261308316141, 1754.8767509944014, 1763.0123763233423, 1729.1659730272704, 1703.8876622611415, 1712.286573854044, 1692.193080559373, 1719.0695604234934, 1732.947704102724, 1706.367884427309, 1740.031864196062, 1756.2691929096754, 1771.8704054816753, 1774.447080053389, 1756.8488126639277, 1746.5966077503467, 1771.2008353122633, 1775.3988798299542, 1758.0516736924037, 1741.665233592027, 1751.3273699861238, 1755.145214729162, 1755.8476450768612, 1712.8620301038027, 1726.0065397873464, 1684.3747023045216, 1699.3047118195318, 1685.0668062865734, 1664.8943011908477, 1683.2638129591942, 1665.7136925164996, 1651.5074726231396, 1664.06067100158, 1669.4577844648811, 1660.65113572859, 1657.898420021695, 1663.322030082949, 1680.3454736255148, 1666.812381359145, 1679.5160236254046, 1709.5350419702909, 1731.8000438773097, 1723.3709241399165, 1705.8077681496343, 1723.6035637074565, 1697.6504731410523, 1707.0533638611, 1636.1675123186797, 1685.1191608539684, 1711.0627463433575, 1697.3484897708195, 1712.479892877168, 1724.2632366380449, 1736.553706369852, 1744.6664174901125, 1736.5450142659247, 1739.4935343508432, 1723.9809427924934, 1714.8119538798928, 1711.3675941761448, 1710.4880136876054, 1689.1779014473968, 1697.812454572554, 1676.7121895190803, 1695.098080011804, 1687.3669725393165, 1681.6890929974616, 1677.6907534605325, 1691.6254262002185, 1717.1635388764707, 1737.664412010461, 1753.6324156216388, 1740.808581299466, 1697.733307480812, 1711.3515486767892, 1700.8651732672006, 1688.8210016477387, 1688.0808480558862, 1684.9324690636854, 1679.4271309204155, 1687.400265596807, 1701.8720337189734, 1703.7386045381427, 1714.3351903443036, 1730.6794388719445, 1716.6878997590393, 1735.0328839145632, 1724.1480045116587], \"name\": \"predicted\", \"open\": [1727.0997459556438, 1724.9362855255604, 1729.422744644371, 1776.7394560563343, 1764.9351645540319, 1792.4618088671696, 1798.4700763896108, 1818.6645730510354, 1824.726157744235, 1834.4705608878285, 1854.4761451208, 1845.1190294416392, 1839.5098111122988, 1822.2411466130452, 1826.5923960820119, 1816.582556962967, 1813.072148403246, 1842.7010635450406, 1845.6407840111924, 1850.0899248756468, 1871.787105963269, 1887.0823886668722, 1929.3049997822277, 1938.545786306262, 1957.0891240295023, 1968.1230997263524, 1937.2315375718472, 1871.3943835320133, 1902.3428370952606, 1860.986415084857, 1924.4463510885835, 1930.258996784687, 1923.504732468315, 1886.6568275215195, 1851.930077556157, 1873.053890734911, 1871.2290284704345, 1886.2736992329155, 1837.6775059241918, 1875.3602991598905, 1900.0660847574472, 1923.924378881311, 1934.7574731736277, 1951.7836959270016, 1930.6223475153074, 1913.0269426685254, 1881.525478322059, 1851.6443902021601, 1809.297525897622, 1795.7847636791312, 1793.9977745628516, 1664.8364550620317, 1746.4805597662926, 1733.8605923764408, 1723.224632492289, 1780.2093704696235, 1760.0758658301665, 1724.37322208054, 1723.7480618655682, 1682.8015555977572, 1713.7074992665248, 1645.1544765271847, 1593.8927722850758, 1603.4849604964256, 1436.6595537224453, 1517.3245319681482, 1569.9833619033989, 1622.7715774294693, 1603.3931610394716, 1564.839941141538, 1618.5144709944725, 1697.0235703513026, 1676.187388356775, 1642.310358789914, 1595.7464589824667, 1601.8685984530584, 1529.7104198736743, 1535.470409411937, 1525.908333699459, 1390.4441050253808, 1492.5257472390886, 1466.9556206427515, 1488.5578478313982, 1524.2988216675485, 1561.3774776677615, 1620.0186511785269, 1625.0913123711944, 1711.4843285369934, 1699.3400171101093, 1562.3096109135486, 1649.8563772349098, 1570.5130212665667, 1623.022222287953, 1613.652799770236, 1624.3971168994904, 1583.4780359566212, 1513.9025205597281, 1488.5314498841763, 1491.4758607030326, 1434.4057589918375, 1416.2554470050527, 1301.2790999859571, 1323.7173889386686, 1406.3139299400636, 1425.1658077684333, 1461.4610281569921, 1417.747285133958, 1470.5499584365643, 1480.3629937022924, 1550.1779073511025, 1610.9099772616628, 1599.6941751943177, 1588.0059808330552, 1587.5278742312585, 1562.451971489936, 1578.9636558294296, 1629.264644342993, 1625.0550216436386, 1655.5771716237068, 1625.4070977084339, 1600.839035063982, 1586.124840205648, 1614.4994600396603, 1588.3401739025185, 1576.1671506319944, 1567.8207056745887, 1635.2164384306188, 1582.7463949492062, 1567.5204601027071, 1586.7666870349572, 1614.081027207896, 1569.4965571165085, 1532.5920229926705, 1546.503794078746, 1550.3805105686188, 1591.489816378802, 1570.5795394498855, 1573.2712532939063, 1547.8795979097486, 1575.5088163912296, 1566.475407626082, 1569.7636111602187, 1587.8726351491068, 1572.571297468965, 1575.3030833982002, 1581.7822009297088, 1601.801015638739, 1630.397248286754, 1648.6453367394197, 1641.5427928113277, 1614.8432056940396, 1553.1220682355524, 1575.2343111210166, 1616.224094349891, 1630.3208258338273, 1637.507721621273, 1648.7761051803827, 1657.6207729723974, 1697.4056954292055, 1713.0051051321389, 1738.753830419243, 1751.7234893779332, 1701.2274724161507, 1734.8633687384427, 1726.3399963696088, 1712.3106327652931, 1728.373188783412, 1741.1474388515494, 1751.7796438312525, 1766.7235074236032, 1760.889675458286, 1768.745523903519, 1772.8190242075925, 1784.4646036403774, 1779.982052050531, 1787.17572626324, 1786.7045942278787, 1780.3163635209203, 1789.2172283041996, 1809.8913333669789, 1805.6982114073726, 1792.5856111575977, 1827.1118812299164, 1859.6626485697925, 1851.7754846401513, 1863.0987357012928, 1882.2777408733964, 1863.8206628119556, 1866.6216694422774, 1847.3163963263155, 1881.6546006686985, 1851.5427772669082, 1872.7639280081175, 1852.2793541001379, 1834.0341873466969, 1832.045936010778, 1772.7845746775529, 1775.56641138345, 1764.4570600001953, 1820.3783280250445, 1827.2827591221294, 1788.2748509686808, 1809.5750368905829, 1787.3430019444322, 1772.706074509972, 1771.9944961047054, 1768.976962769404, 1759.6240870960428, 1761.9283300385096, 1727.6065398843257, 1698.6107943911447, 1639.943151208453, 1688.512209773141, 1676.9442043949857, 1701.795741921851, 1757.916723638773, 1816.8408674485981, 1788.5471234764082, 1800.6417564814592, 1797.9582522809505, 1809.855642663315, 1833.8176821355569, 1839.9263372858059, 1864.571882762711, 1847.781553614021, 1844.5184360994563, 1843.5825483544604, 1825.0287696432515, 1834.104011759162, 1841.0348434927146, 1854.3422517691415, 1851.0327175778393, 1866.901757603704, 1860.0257198312247, 1865.3662043976533, 1878.7432078000174, 1925.7478606895302, 1954.0205716394257, 1937.2414597026618, 1949.8282700030377, 1939.3062291963302, 1936.0061605658093, 1910.0384108011458, 1920.949821234277, 1901.6731080944942, 1925.7451963224867, 1900.102813445551, 1930.7624885737896, 1873.9613441750407, 1862.4358789250255, 1825.013495920516, 1831.770095171783, 1806.3728419903146, 1780.6534734178308, 1708.4731398597896, 1729.6969470216718, 1712.1223373335315, 1742.972479864955, 1765.0728132910153, 1733.1709253916188, 1720.5817087069154, 1730.132872146858, 1719.4559727832757, 1729.827119873653, 1753.98922288242, 1750.3261308316141, 1754.8767509944014, 1763.0123763233423, 1729.1659730272704, 1703.8876622611415, 1712.286573854044, 1692.193080559373, 1719.0695604234934, 1732.947704102724, 1706.367884427309, 1740.031864196062, 1756.2691929096754, 1771.8704054816753, 1774.447080053389, 1756.8488126639277, 1746.5966077503467, 1771.2008353122633, 1775.3988798299542, 1758.0516736924037, 1741.665233592027, 1751.3273699861238, 1755.145214729162, 1755.8476450768612, 1712.8620301038027, 1726.0065397873464, 1684.3747023045216, 1699.3047118195318, 1685.0668062865734, 1664.8943011908477, 1683.2638129591942, 1665.7136925164996, 1651.5074726231396, 1664.06067100158, 1669.4577844648811, 1660.65113572859, 1657.898420021695, 1663.322030082949, 1680.3454736255148, 1666.812381359145, 1679.5160236254046, 1709.5350419702909, 1731.8000438773097, 1723.3709241399165, 1705.8077681496343, 1723.6035637074565, 1697.6504731410523, 1707.0533638611, 1636.1675123186797, 1685.1191608539684, 1711.0627463433575, 1697.3484897708195, 1712.479892877168, 1724.2632366380449, 1736.553706369852, 1744.6664174901125, 1736.5450142659247, 1739.4935343508432, 1723.9809427924934, 1714.8119538798928, 1711.3675941761448, 1710.4880136876054, 1689.1779014473968, 1697.812454572554, 1676.7121895190803, 1695.098080011804, 1687.3669725393165, 1681.6890929974616, 1677.6907534605325, 1691.6254262002185, 1717.1635388764707, 1737.664412010461, 1753.6324156216388, 1740.808581299466, 1697.733307480812, 1711.3515486767892, 1700.8651732672006, 1688.8210016477387, 1688.0808480558862, 1684.9324690636854, 1679.4271309204155, 1687.400265596807, 1701.8720337189734, 1703.7386045381427, 1714.3351903443036, 1730.6794388719445, 1716.6878997590393, 1735.0328839145632, 1724.1480045116587], \"showlegend\": false, \"type\": \"ohlc\", \"x\": [\"2018-08-01T00:00:00\", \"2018-08-02T00:00:00\", \"2018-08-03T00:00:00\", \"2018-08-06T00:00:00\", \"2018-08-07T00:00:00\", \"2018-08-08T00:00:00\", \"2018-08-09T00:00:00\", \"2018-08-10T00:00:00\", \"2018-08-13T00:00:00\", \"2018-08-14T00:00:00\", \"2018-08-15T00:00:00\", \"2018-08-16T00:00:00\", \"2018-08-17T00:00:00\", \"2018-08-20T00:00:00\", \"2018-08-21T00:00:00\", \"2018-08-22T00:00:00\", \"2018-08-23T00:00:00\", \"2018-08-24T00:00:00\", \"2018-08-27T00:00:00\", \"2018-08-28T00:00:00\", \"2018-08-29T00:00:00\", \"2018-08-30T00:00:00\", \"2018-08-31T00:00:00\", \"2018-09-04T00:00:00\", \"2018-09-05T00:00:00\", \"2018-09-06T00:00:00\", \"2018-09-07T00:00:00\", \"2018-09-10T00:00:00\", \"2018-09-11T00:00:00\", \"2018-09-12T00:00:00\", \"2018-09-13T00:00:00\", \"2018-09-14T00:00:00\", \"2018-09-17T00:00:00\", \"2018-09-18T00:00:00\", \"2018-09-19T00:00:00\", \"2018-09-20T00:00:00\", \"2018-09-21T00:00:00\", \"2018-09-24T00:00:00\", \"2018-09-25T00:00:00\", \"2018-09-26T00:00:00\", \"2018-09-27T00:00:00\", \"2018-09-28T00:00:00\", \"2018-10-01T00:00:00\", \"2018-10-02T00:00:00\", \"2018-10-03T00:00:00\", \"2018-10-04T00:00:00\", \"2018-10-05T00:00:00\", \"2018-10-08T00:00:00\", \"2018-10-09T00:00:00\", \"2018-10-10T00:00:00\", \"2018-10-11T00:00:00\", \"2018-10-12T00:00:00\", \"2018-10-15T00:00:00\", \"2018-10-16T00:00:00\", \"2018-10-17T00:00:00\", \"2018-10-18T00:00:00\", \"2018-10-19T00:00:00\", \"2018-10-22T00:00:00\", \"2018-10-23T00:00:00\", \"2018-10-24T00:00:00\", \"2018-10-25T00:00:00\", \"2018-10-26T00:00:00\", \"2018-10-29T00:00:00\", \"2018-10-30T00:00:00\", \"2018-10-31T00:00:00\", \"2018-11-01T00:00:00\", \"2018-11-02T00:00:00\", \"2018-11-05T00:00:00\", \"2018-11-06T00:00:00\", \"2018-11-07T00:00:00\", \"2018-11-08T00:00:00\", \"2018-11-09T00:00:00\", \"2018-11-12T00:00:00\", \"2018-11-13T00:00:00\", \"2018-11-14T00:00:00\", \"2018-11-15T00:00:00\", \"2018-11-16T00:00:00\", \"2018-11-19T00:00:00\", \"2018-11-20T00:00:00\", \"2018-11-21T00:00:00\", \"2018-11-23T00:00:00\", \"2018-11-26T00:00:00\", \"2018-11-27T00:00:00\", \"2018-11-28T00:00:00\", \"2018-11-29T00:00:00\", \"2018-11-30T00:00:00\", \"2018-12-03T00:00:00\", \"2018-12-04T00:00:00\", \"2018-12-06T00:00:00\", \"2018-12-07T00:00:00\", \"2018-12-10T00:00:00\", \"2018-12-11T00:00:00\", \"2018-12-12T00:00:00\", \"2018-12-13T00:00:00\", \"2018-12-14T00:00:00\", \"2018-12-17T00:00:00\", \"2018-12-18T00:00:00\", \"2018-12-19T00:00:00\", \"2018-12-20T00:00:00\", \"2018-12-21T00:00:00\", \"2018-12-24T00:00:00\", \"2018-12-26T00:00:00\", \"2018-12-27T00:00:00\", \"2018-12-28T00:00:00\", \"2018-12-31T00:00:00\", \"2019-01-02T00:00:00\", \"2019-01-03T00:00:00\", \"2019-01-04T00:00:00\", \"2019-01-07T00:00:00\", \"2019-01-08T00:00:00\", \"2019-01-09T00:00:00\", \"2019-01-10T00:00:00\", \"2019-01-11T00:00:00\", \"2019-01-14T00:00:00\", \"2019-01-15T00:00:00\", \"2019-01-16T00:00:00\", \"2019-01-17T00:00:00\", \"2019-01-18T00:00:00\", \"2019-01-22T00:00:00\", \"2019-01-23T00:00:00\", \"2019-01-24T00:00:00\", \"2019-01-25T00:00:00\", \"2019-01-28T00:00:00\", \"2019-01-29T00:00:00\", \"2019-01-30T00:00:00\", \"2019-01-31T00:00:00\", \"2019-02-01T00:00:00\", \"2019-02-04T00:00:00\", \"2019-02-05T00:00:00\", \"2019-02-06T00:00:00\", \"2019-02-07T00:00:00\", \"2019-02-08T00:00:00\", \"2019-02-11T00:00:00\", \"2019-02-12T00:00:00\", \"2019-02-13T00:00:00\", \"2019-02-14T00:00:00\", \"2019-02-15T00:00:00\", \"2019-02-19T00:00:00\", \"2019-02-20T00:00:00\", \"2019-02-21T00:00:00\", \"2019-02-22T00:00:00\", \"2019-02-25T00:00:00\", \"2019-02-26T00:00:00\", \"2019-02-27T00:00:00\", \"2019-02-28T00:00:00\", \"2019-03-01T00:00:00\", \"2019-03-04T00:00:00\", \"2019-03-05T00:00:00\", \"2019-03-06T00:00:00\", \"2019-03-07T00:00:00\", \"2019-03-08T00:00:00\", \"2019-03-11T00:00:00\", \"2019-03-12T00:00:00\", \"2019-03-13T00:00:00\", \"2019-03-14T00:00:00\", \"2019-03-15T00:00:00\", \"2019-03-18T00:00:00\", \"2019-03-19T00:00:00\", \"2019-03-20T00:00:00\", \"2019-03-21T00:00:00\", \"2019-03-22T00:00:00\", \"2019-03-25T00:00:00\", \"2019-03-26T00:00:00\", \"2019-03-27T00:00:00\", \"2019-03-28T00:00:00\", \"2019-03-29T00:00:00\", \"2019-04-01T00:00:00\", \"2019-04-02T00:00:00\", \"2019-04-03T00:00:00\", \"2019-04-04T00:00:00\", \"2019-04-05T00:00:00\", \"2019-04-08T00:00:00\", \"2019-04-09T00:00:00\", \"2019-04-10T00:00:00\", \"2019-04-11T00:00:00\", \"2019-04-12T00:00:00\", \"2019-04-15T00:00:00\", \"2019-04-16T00:00:00\", \"2019-04-17T00:00:00\", \"2019-04-18T00:00:00\", \"2019-04-22T00:00:00\", \"2019-04-23T00:00:00\", \"2019-04-24T00:00:00\", \"2019-04-25T00:00:00\", \"2019-04-26T00:00:00\", \"2019-04-29T00:00:00\", \"2019-04-30T00:00:00\", \"2019-05-01T00:00:00\", \"2019-05-02T00:00:00\", \"2019-05-03T00:00:00\", \"2019-05-06T00:00:00\", \"2019-05-07T00:00:00\", \"2019-05-08T00:00:00\", \"2019-05-09T00:00:00\", \"2019-05-10T00:00:00\", \"2019-05-13T00:00:00\", \"2019-05-14T00:00:00\", \"2019-05-15T00:00:00\", \"2019-05-16T00:00:00\", \"2019-05-17T00:00:00\", \"2019-05-20T00:00:00\", \"2019-05-21T00:00:00\", \"2019-05-22T00:00:00\", \"2019-05-23T00:00:00\", \"2019-05-24T00:00:00\", \"2019-05-28T00:00:00\", \"2019-05-29T00:00:00\", \"2019-05-30T00:00:00\", \"2019-05-31T00:00:00\", \"2019-06-03T00:00:00\", \"2019-06-04T00:00:00\", \"2019-06-05T00:00:00\", \"2019-06-06T00:00:00\", \"2019-06-07T00:00:00\", \"2019-06-10T00:00:00\", \"2019-06-11T00:00:00\", \"2019-06-12T00:00:00\", \"2019-06-13T00:00:00\", \"2019-06-14T00:00:00\", \"2019-06-17T00:00:00\", \"2019-06-18T00:00:00\", \"2019-06-19T00:00:00\", \"2019-06-20T00:00:00\", \"2019-06-21T00:00:00\", \"2019-06-24T00:00:00\", \"2019-06-25T00:00:00\", \"2019-06-26T00:00:00\", \"2019-06-27T00:00:00\", \"2019-06-28T00:00:00\", \"2019-07-01T00:00:00\", \"2019-07-02T00:00:00\", \"2019-07-03T00:00:00\", \"2019-07-05T00:00:00\", \"2019-07-08T00:00:00\", \"2019-07-09T00:00:00\", \"2019-07-10T00:00:00\", \"2019-07-11T00:00:00\", \"2019-07-12T00:00:00\", \"2019-07-15T00:00:00\", \"2019-07-16T00:00:00\", \"2019-07-17T00:00:00\", \"2019-07-18T00:00:00\", \"2019-07-19T00:00:00\", \"2019-07-22T00:00:00\", \"2019-07-23T00:00:00\", \"2019-07-24T00:00:00\", \"2019-07-25T00:00:00\", \"2019-07-26T00:00:00\", \"2019-07-29T00:00:00\", \"2019-07-30T00:00:00\", \"2019-07-31T00:00:00\", \"2019-08-01T00:00:00\", \"2019-08-02T00:00:00\", \"2019-08-05T00:00:00\", \"2019-08-06T00:00:00\", \"2019-08-07T00:00:00\", \"2019-08-08T00:00:00\", \"2019-08-09T00:00:00\", \"2019-08-12T00:00:00\", \"2019-08-13T00:00:00\", \"2019-08-14T00:00:00\", \"2019-08-15T00:00:00\", \"2019-08-16T00:00:00\", \"2019-08-19T00:00:00\", \"2019-08-20T00:00:00\", \"2019-08-21T00:00:00\", \"2019-08-22T00:00:00\", \"2019-08-23T00:00:00\", \"2019-08-26T00:00:00\", \"2019-08-27T00:00:00\", \"2019-08-28T00:00:00\", \"2019-08-29T00:00:00\", \"2019-08-30T00:00:00\", \"2019-09-03T00:00:00\", \"2019-09-04T00:00:00\", \"2019-09-05T00:00:00\", \"2019-09-06T00:00:00\", \"2019-09-09T00:00:00\", \"2019-09-10T00:00:00\", \"2019-09-11T00:00:00\", \"2019-09-12T00:00:00\", \"2019-09-13T00:00:00\", \"2019-09-16T00:00:00\", \"2019-09-17T00:00:00\", \"2019-09-18T00:00:00\", \"2019-09-19T00:00:00\", \"2019-09-20T00:00:00\", \"2019-09-23T00:00:00\", \"2019-09-24T00:00:00\", \"2019-09-25T00:00:00\", \"2019-09-26T00:00:00\", \"2019-09-27T00:00:00\", \"2019-09-30T00:00:00\", \"2019-10-01T00:00:00\", \"2019-10-02T00:00:00\", \"2019-10-03T00:00:00\", \"2019-10-04T00:00:00\", \"2019-10-07T00:00:00\", \"2019-10-08T00:00:00\", \"2019-10-09T00:00:00\", \"2019-10-10T00:00:00\", \"2019-10-11T00:00:00\", \"2019-10-14T00:00:00\", \"2019-10-15T00:00:00\", \"2019-10-16T00:00:00\", \"2019-10-17T00:00:00\", \"2019-10-18T00:00:00\", \"2019-10-21T00:00:00\", \"2019-10-22T00:00:00\", \"2019-10-23T00:00:00\", \"2019-10-24T00:00:00\", \"2019-10-25T00:00:00\", \"2019-10-28T00:00:00\", \"2019-10-29T00:00:00\", \"2019-10-30T00:00:00\", \"2019-10-31T00:00:00\", \"2019-11-01T00:00:00\", \"2019-11-04T00:00:00\", \"2019-11-05T00:00:00\", \"2019-11-06T00:00:00\", \"2019-11-07T00:00:00\", \"2019-11-08T00:00:00\", \"2019-11-11T00:00:00\", \"2019-11-12T00:00:00\", \"2019-11-13T00:00:00\", \"2019-11-14T00:00:00\", \"2019-11-15T00:00:00\", \"2019-11-18T00:00:00\", \"2019-11-19T00:00:00\", \"2019-11-20T00:00:00\", \"2019-11-21T00:00:00\", \"2019-11-22T00:00:00\", \"2019-11-25T00:00:00\", \"2019-11-26T00:00:00\", \"2019-11-27T00:00:00\", \"2019-11-29T00:00:00\", \"2019-12-02T00:00:00\", \"2019-12-03T00:00:00\", \"2019-12-04T00:00:00\", \"2019-12-05T00:00:00\", \"2019-12-06T00:00:00\", \"2019-12-09T00:00:00\", \"2019-12-10T00:00:00\", \"2019-12-11T00:00:00\", \"2019-12-12T00:00:00\", \"2019-12-13T00:00:00\", \"2019-12-16T00:00:00\", \"2019-12-17T00:00:00\", \"2019-12-18T00:00:00\", \"2019-12-19T00:00:00\", \"2019-12-20T00:00:00\", \"2019-12-23T00:00:00\", \"2019-12-24T00:00:00\"]}, {\"close\": [1797.1700439453125, 1834.3299560546875, 1823.2900390625, 1847.75, 1862.47998046875, 1886.52001953125, 1898.52001953125, 1886.300048828125, 1896.199951171875, 1919.6500244140625, 1882.6199951171875, 1886.52001953125, 1882.219970703125, 1876.7099609375, 1883.4200439453125, 1904.9000244140625, 1902.9000244140625, 1905.3900146484375, 1927.6800537109375, 1932.8199462890625, 1998.0999755859375, 2002.3800048828125, 2012.7099609375, 2039.510009765625, 1994.8199462890625, 1958.31005859375, 1952.0699462890625, 1939.010009765625, 1987.1500244140625, 1990.0, 1989.8699951171875, 1970.18994140625, 1908.030029296875, 1941.050048828125, 1926.4200439453125, 1944.300048828125, 1915.010009765625, 1934.3599853515625, 1974.550048828125, 1974.8499755859375, 2012.97998046875, 2003.0, 2004.3599853515625, 1971.31005859375, 1952.760009765625, 1909.4200439453125, 1889.6500244140625, 1864.4200439453125, 1870.3199462890625, 1755.25, 1719.3599853515625, 1788.6099853515625, 1760.949951171875, 1819.9599609375, 1831.72998046875, 1770.719970703125, 1764.030029296875, 1789.300048828125, 1768.699951171875, 1664.199951171875, 1782.1700439453125, 1642.81005859375, 1538.8800048828125, 1530.4200439453125, 1598.010009765625, 1665.530029296875, 1665.530029296875, 1627.800048828125, 1642.81005859375, 1755.489990234375, 1754.9100341796875, 1712.4300537109375, 1636.8499755859375, 1631.1700439453125, 1599.010009765625, 1619.43994140625, 1593.4100341796875, 1512.2900390625, 1495.4599609375, 1516.72998046875, 1502.06005859375, 1581.3299560546875, 1581.4200439453125, 1677.75, 1673.5699462890625, 1690.1700439453125, 1772.3599853515625, 1668.4000244140625, 1699.18994140625, 1629.1300048828125, 1641.030029296875, 1643.239990234375, 1663.5400390625, 1658.3800048828125, 1591.9100341796875, 1520.9100341796875, 1551.47998046875, 1495.0799560546875, 1460.8299560546875, 1377.449951171875, 1343.9599609375, 1470.9000244140625, 1461.6400146484375, 1478.02001953125, 1501.969970703125, 1539.1300048828125, 1500.280029296875, 1575.3900146484375, 1629.510009765625, 1656.5799560546875, 1659.4200439453125, 1656.219970703125, 1640.56005859375, 1617.2099609375, 1674.56005859375, 1683.780029296875, 1693.219970703125, 1696.199951171875, 1632.1700439453125, 1640.02001953125, 1654.9300537109375, 1670.5699462890625, 1637.8900146484375, 1593.8800048828125, 1670.4300537109375, 1718.72998046875, 1626.22998046875, 1633.31005859375, 1658.81005859375, 1640.260009765625, 1614.3699951171875, 1588.219970703125, 1591.0, 1638.010009765625, 1640.0, 1622.6500244140625, 1607.949951171875, 1627.5799560546875, 1622.0999755859375, 1619.43994140625, 1631.56005859375, 1633.0, 1636.4000244140625, 1641.0899658203125, 1639.8299560546875, 1671.72998046875, 1696.1700439453125, 1692.4300537109375, 1668.949951171875, 1625.949951171875, 1620.800048828125, 1670.6199951171875, 1673.0999755859375, 1690.81005859375, 1686.219970703125, 1712.3599853515625, 1742.1500244140625, 1761.8499755859375, 1797.27001953125, 1819.260009765625, 1764.77001953125, 1774.260009765625, 1783.760009765625, 1765.699951171875, 1773.4200439453125, 1780.75, 1814.18994140625, 1813.97998046875, 1820.699951171875, 1818.8599853515625, 1837.280029296875, 1849.8599853515625, 1835.8399658203125, 1847.3299560546875, 1844.0699462890625, 1843.06005859375, 1844.8699951171875, 1863.0400390625, 1864.8199462890625, 1861.68994140625, 1887.31005859375, 1923.77001953125, 1901.75, 1902.25, 1950.6300048828125, 1938.4300537109375, 1926.52001953125, 1911.52001953125, 1900.8199462890625, 1962.4599609375, 1950.550048828125, 1921.0, 1917.77001953125, 1899.8699951171875, 1889.97998046875, 1822.6800537109375, 1840.1199951171875, 1871.1500244140625, 1907.5699462890625, 1869.0, 1858.969970703125, 1857.52001953125, 1859.6800537109375, 1815.47998046875, 1823.280029296875, 1836.4300537109375, 1819.18994140625, 1816.3199462890625, 1775.0699462890625, 1692.68994140625, 1729.56005859375, 1738.5, 1754.3599853515625, 1804.030029296875, 1860.6300048828125, 1863.699951171875, 1855.3199462890625, 1870.300048828125, 1869.6700439453125, 1886.030029296875, 1901.3699951171875, 1908.7900390625, 1918.18994140625, 1911.300048828125, 1913.9000244140625, 1878.27001953125, 1897.8299560546875, 1904.280029296875, 1893.6300048828125, 1922.18994140625, 1934.31005859375, 1939.0, 1942.9100341796875, 1952.3199462890625, 1988.300048828125, 2017.4100341796875, 2001.0699462890625, 2011.0, 2020.989990234375, 2009.9000244140625, 1992.030029296875, 1977.9000244140625, 1964.52001953125, 1985.6300048828125, 1994.489990234375, 2000.81005859375, 1973.8199462890625, 1943.050048828125, 1912.449951171875, 1898.530029296875, 1866.780029296875, 1855.3199462890625, 1823.239990234375, 1765.1300048828125, 1787.8299560546875, 1793.4000244140625, 1832.8900146484375, 1807.5799560546875, 1784.9200439453125, 1824.3399658203125, 1762.9599609375, 1776.1199951171875, 1792.5699462890625, 1816.1199951171875, 1801.3800048828125, 1823.5400390625, 1804.6600341796875, 1749.6199951171875, 1768.8699951171875, 1761.8299560546875, 1764.25, 1786.4000244140625, 1776.2900390625, 1789.8399658203125, 1800.6199951171875, 1840.719970703125, 1833.510009765625, 1831.3499755859375, 1820.550048828125, 1822.989990234375, 1843.550048828125, 1839.3399658203125, 1807.8399658203125, 1822.550048828125, 1817.4599609375, 1821.5, 1794.1600341796875, 1785.300048828125, 1741.6099853515625, 1768.3299560546875, 1739.8399658203125, 1725.449951171875, 1735.9100341796875, 1735.6500244140625, 1713.22998046875, 1724.4200439453125, 1739.6500244140625, 1732.6600341796875, 1705.510009765625, 1721.989990234375, 1720.260009765625, 1731.9200439453125, 1736.4300537109375, 1767.3800048828125, 1777.4300537109375, 1787.47998046875, 1757.510009765625, 1785.6600341796875, 1765.72998046875, 1762.1700439453125, 1780.780029296875, 1761.3299560546875, 1777.0799560546875, 1762.7099609375, 1779.989990234375, 1776.6600341796875, 1791.43994140625, 1804.6600341796875, 1801.7099609375, 1795.77001953125, 1788.199951171875, 1785.8800048828125, 1771.6500244140625, 1778.0, 1753.1099853515625, 1754.5999755859375, 1739.489990234375, 1752.530029296875, 1752.7900390625, 1745.530029296875, 1734.7099609375, 1745.719970703125, 1773.8399658203125, 1796.93994140625, 1818.510009765625, 1800.800048828125, 1781.5999755859375, 1769.9599609375, 1760.68994140625, 1740.47998046875, 1751.5999755859375, 1749.510009765625, 1739.2099609375, 1748.719970703125, 1760.3299560546875, 1760.93994140625, 1769.2099609375, 1790.6600341796875, 1784.030029296875, 1792.280029296875, 1786.5, 1793.0, 1789.2099609375], \"decreasing\": {\"line\": {\"color\": \"gray\"}}, \"high\": [1797.1700439453125, 1834.3299560546875, 1837.739990234375, 1847.75, 1862.47998046875, 1886.52001953125, 1898.52001953125, 1888.510009765625, 1898.5, 1919.6500244140625, 1909.550048828125, 1903.93994140625, 1885.800048828125, 1890.5699462890625, 1883.4200439453125, 1904.9000244140625, 1907.1700439453125, 1910.510009765625, 1927.6800537109375, 1937.72998046875, 1998.0999755859375, 2002.3800048828125, 2012.7099609375, 2039.510009765625, 2038.1099853515625, 2006.510009765625, 1952.0699462890625, 1971.0, 1987.1500244140625, 1994.0, 2000.0, 1992.9300537109375, 1954.72998046875, 1941.050048828125, 1940.5, 1944.300048828125, 1954.219970703125, 1934.3599853515625, 1974.550048828125, 1974.8499755859375, 2012.97998046875, 2004.4100341796875, 2021.989990234375, 1999.989990234375, 1981.699951171875, 1949.0, 1917.989990234375, 1874.0, 1870.3199462890625, 1857.8900146484375, 1724.0, 1808.0, 1795.0, 1819.9599609375, 1842.7900390625, 1821.489990234375, 1785.1600341796875, 1789.300048828125, 1768.699951171875, 1773.699951171875, 1782.1700439453125, 1649.5899658203125, 1660.0, 1530.4200439453125, 1598.010009765625, 1665.530029296875, 1678.5899658203125, 1657.5699462890625, 1642.81005859375, 1755.489990234375, 1755.0, 1732.5, 1698.239990234375, 1649.2900390625, 1656.3199462890625, 1619.43994140625, 1593.4100341796875, 1577.010009765625, 1495.4599609375, 1542.989990234375, 1517.0, 1581.3299560546875, 1581.4200439453125, 1677.75, 1674.989990234375, 1690.1700439453125, 1772.3599853515625, 1756.0, 1699.18994140625, 1705.0699462890625, 1641.030029296875, 1678.0, 1669.0, 1680.0, 1638.0, 1566.0, 1551.47998046875, 1543.050048828125, 1484.0, 1464.989990234375, 1346.0, 1470.9000244140625, 1461.6400146484375, 1478.02001953125, 1510.800048828125, 1539.1300048828125, 1520.010009765625, 1575.3900146484375, 1629.510009765625, 1664.68994140625, 1659.4200439453125, 1656.219970703125, 1640.56005859375, 1617.2099609375, 1674.56005859375, 1684.219970703125, 1693.219970703125, 1712.0, 1681.0, 1656.0, 1654.9300537109375, 1670.5699462890625, 1643.5899658203125, 1631.27001953125, 1670.4300537109375, 1718.72998046875, 1638.8800048828125, 1633.31005859375, 1658.81005859375, 1670.75, 1625.0, 1588.219970703125, 1600.97998046875, 1638.010009765625, 1647.0, 1624.5, 1627.8599853515625, 1627.5799560546875, 1630.0, 1619.8499755859375, 1631.56005859375, 1641.449951171875, 1636.4000244140625, 1641.0899658203125, 1639.8299560546875, 1671.72998046875, 1696.1700439453125, 1702.949951171875, 1695.969970703125, 1667.3699951171875, 1620.800048828125, 1670.6199951171875, 1673.0999755859375, 1690.81005859375, 1691.199951171875, 1712.3599853515625, 1742.1500244140625, 1761.8499755859375, 1797.27001953125, 1819.260009765625, 1810.1700439453125, 1774.260009765625, 1793.0, 1784.1300048828125, 1773.4200439453125, 1786.5799560546875, 1814.18994140625, 1813.97998046875, 1826.719970703125, 1820.6500244140625, 1837.280029296875, 1849.8599853515625, 1845.489990234375, 1847.3299560546875, 1848.699951171875, 1848.4000244140625, 1844.8699951171875, 1863.0400390625, 1872.989990234375, 1868.7900390625, 1887.31005859375, 1923.77001953125, 1925.0, 1917.0, 1950.6300048828125, 1949.0, 1930.0999755859375, 1933.0899658203125, 1913.3299560546875, 1962.4599609375, 1950.550048828125, 1939.989990234375, 1918.8699951171875, 1900.0, 1898.0, 1836.56005859375, 1840.1199951171875, 1871.1500244140625, 1907.5699462890625, 1893.050048828125, 1858.969970703125, 1874.7900390625, 1859.6800537109375, 1836.5899658203125, 1835.8900146484375, 1836.4300537109375, 1823.1199951171875, 1825.489990234375, 1790.010009765625, 1760.010009765625, 1729.56005859375, 1749.5999755859375, 1754.3599853515625, 1804.030029296875, 1860.6300048828125, 1883.25, 1855.3199462890625, 1870.300048828125, 1869.6700439453125, 1886.030029296875, 1901.3699951171875, 1908.7900390625, 1933.3299560546875, 1916.0999755859375, 1913.9000244140625, 1911.8399658203125, 1897.8299560546875, 1904.280029296875, 1909.0999755859375, 1922.97998046875, 1934.31005859375, 1939.0, 1942.9100341796875, 1952.3199462890625, 1988.300048828125, 2017.4100341796875, 2025.6199951171875, 2011.0, 2021.4000244140625, 2010.5799560546875, 2007.050048828125, 1980.010009765625, 1991.2099609375, 1985.6300048828125, 1995.989990234375, 2000.81005859375, 2001.0, 1943.050048828125, 1930.0, 1898.530029296875, 1898.1099853515625, 1871.719970703125, 1845.0699462890625, 1770.219970703125, 1792.22998046875, 1793.4000244140625, 1832.8900146484375, 1828.949951171875, 1795.989990234375, 1824.3399658203125, 1793.010009765625, 1781.989990234375, 1792.8900146484375, 1818.0799560546875, 1814.5, 1823.5400390625, 1828.0, 1793.030029296875, 1768.8699951171875, 1775.72998046875, 1764.25, 1786.4000244140625, 1797.489990234375, 1789.8399658203125, 1805.0, 1840.719970703125, 1838.219970703125, 1841.0, 1822.75, 1822.989990234375, 1843.550048828125, 1842.010009765625, 1824.02001953125, 1822.550048828125, 1817.4599609375, 1821.5, 1821.7099609375, 1785.300048828125, 1790.6099853515625, 1768.3299560546875, 1762.7900390625, 1748.0, 1735.9100341796875, 1746.0, 1727.739990234375, 1724.4200439453125, 1739.6500244140625, 1732.6600341796875, 1722.489990234375, 1721.989990234375, 1725.239990234375, 1742.9200439453125, 1736.4300537109375, 1767.3800048828125, 1777.4300537109375, 1796.489990234375, 1787.800048828125, 1785.6600341796875, 1788.1500244140625, 1762.1700439453125, 1780.780029296875, 1761.3299560546875, 1777.0799560546875, 1774.81005859375, 1779.989990234375, 1776.6600341796875, 1791.43994140625, 1804.6600341796875, 1809.1600341796875, 1801.0, 1803.760009765625, 1787.8900146484375, 1778.0, 1778.0, 1773.3900146484375, 1754.5999755859375, 1760.050048828125, 1752.530029296875, 1756.989990234375, 1749.1400146484375, 1743.0, 1745.719970703125, 1773.8399658203125, 1796.93994140625, 1818.510009765625, 1817.780029296875, 1804.4000244140625, 1769.9599609375, 1774.010009765625, 1763.5, 1751.5999755859375, 1750.6600341796875, 1747.4000244140625, 1748.719970703125, 1760.3299560546875, 1765.0, 1769.2099609375, 1790.6600341796875, 1795.02001953125, 1792.280029296875, 1799.6199951171875, 1793.0, 1793.81005859375], \"increasing\": {\"line\": {\"color\": \"cyan\"}}, \"low\": [1784.0, 1788.77001953125, 1823.2900390625, 1825.81005859375, 1854.530029296875, 1861.0, 1882.0, 1886.300048828125, 1896.199951171875, 1919.3900146484375, 1882.6199951171875, 1886.52001953125, 1882.219970703125, 1876.7099609375, 1880.0, 1876.6400146484375, 1902.9000244140625, 1905.3900146484375, 1915.0, 1932.8199462890625, 1953.449951171875, 1997.4200439453125, 2007.0, 2026.5, 1994.8199462890625, 1958.31005859375, 1938.7099609375, 1939.010009765625, 1928.27001953125, 1990.0, 1989.8699951171875, 1970.18994140625, 1908.030029296875, 1918.6500244140625, 1926.4200439453125, 1938.5799560546875, 1915.010009765625, 1903.7900390625, 1942.9000244140625, 1968.5, 1993.239990234375, 2003.0, 2004.3599853515625, 1971.31005859375, 1952.760009765625, 1909.4200439453125, 1889.6500244140625, 1864.4200439453125, 1859.989990234375, 1755.25, 1719.3599853515625, 1788.6099853515625, 1760.949951171875, 1783.5, 1831.72998046875, 1770.719970703125, 1764.030029296875, 1784.0, 1742.239990234375, 1664.199951171875, 1703.3399658203125, 1642.81005859375, 1538.8800048828125, 1486.1600341796875, 1569.989990234375, 1623.530029296875, 1665.530029296875, 1627.800048828125, 1618.3499755859375, 1673.0, 1754.9100341796875, 1712.4300537109375, 1636.8499755859375, 1631.1700439453125, 1599.010009765625, 1581.010009765625, 1587.5, 1512.2900390625, 1437.5, 1516.72998046875, 1502.06005859375, 1539.0, 1575.989990234375, 1613.9200439453125, 1673.5699462890625, 1679.5, 1769.4599609375, 1668.4000244140625, 1614.8699951171875, 1629.1300048828125, 1623.8399658203125, 1643.239990234375, 1663.5400390625, 1658.3800048828125, 1591.9100341796875, 1520.9100341796875, 1540.0, 1495.0799560546875, 1460.8299560546875, 1377.449951171875, 1343.9599609375, 1368.8900146484375, 1454.199951171875, 1473.3499755859375, 1501.969970703125, 1465.199951171875, 1500.280029296875, 1530.0, 1602.31005859375, 1656.5799560546875, 1652.97998046875, 1641.010009765625, 1640.550048828125, 1615.0, 1632.0, 1683.780029296875, 1680.0, 1696.199951171875, 1632.1700439453125, 1640.02001953125, 1641.0699462890625, 1670.5, 1637.8900146484375, 1593.8800048828125, 1623.0, 1692.8499755859375, 1626.22998046875, 1623.0, 1643.3399658203125, 1640.260009765625, 1614.3699951171875, 1586.0, 1591.0, 1604.0, 1640.0, 1622.6500244140625, 1607.949951171875, 1601.0, 1622.0999755859375, 1619.43994140625, 1623.5, 1633.0, 1625.97998046875, 1628.1800537109375, 1635.25, 1655.1300048828125, 1685.0, 1692.4300537109375, 1668.949951171875, 1625.949951171875, 1604.010009765625, 1626.1199951171875, 1669.0, 1683.0, 1686.219970703125, 1703.0, 1712.699951171875, 1753.510009765625, 1769.93994140625, 1796.260009765625, 1764.77001953125, 1757.7900390625, 1783.760009765625, 1765.699951171875, 1770.0, 1780.75, 1800.1099853515625, 1811.02001953125, 1820.699951171875, 1818.8599853515625, 1829.0, 1833.22998046875, 1835.8399658203125, 1841.0, 1844.0699462890625, 1843.06005859375, 1842.0, 1851.3499755859375, 1864.8199462890625, 1861.68994140625, 1855.4000244140625, 1891.199951171875, 1901.75, 1902.25, 1929.0, 1938.4300537109375, 1926.52001953125, 1911.52001953125, 1900.8199462890625, 1949.0, 1917.97998046875, 1921.0, 1917.77001953125, 1899.8699951171875, 1889.97998046875, 1822.6800537109375, 1839.5, 1827.949951171875, 1885.93994140625, 1869.0, 1852.68994140625, 1857.52001953125, 1851.780029296875, 1815.47998046875, 1823.280029296875, 1832.75, 1819.18994140625, 1816.3199462890625, 1775.0699462890625, 1692.68994140625, 1699.239990234375, 1738.5, 1737.7099609375, 1763.699951171875, 1822.0, 1863.699951171875, 1853.97998046875, 1866.719970703125, 1864.0, 1876.5, 1901.3499755859375, 1907.8399658203125, 1918.18994140625, 1911.300048828125, 1912.6600341796875, 1878.27001953125, 1892.47998046875, 1902.0, 1893.6300048828125, 1922.18994140625, 1919.3800048828125, 1935.8900146484375, 1928.5999755859375, 1934.1199951171875, 1947.800048828125, 1996.510009765625, 2001.0699462890625, 2008.27001953125, 2020.989990234375, 2009.9000244140625, 1992.030029296875, 1977.9000244140625, 1964.52001953125, 1971.1400146484375, 1994.489990234375, 1969.300048828125, 1973.8199462890625, 1942.0, 1912.449951171875, 1891.1199951171875, 1866.780029296875, 1855.3199462890625, 1823.239990234375, 1765.1300048828125, 1787.8299560546875, 1773.989990234375, 1806.0, 1807.5799560546875, 1784.9200439453125, 1783.0, 1762.9599609375, 1776.1199951171875, 1792.5699462890625, 1816.1199951171875, 1801.3800048828125, 1819.3900146484375, 1804.6600341796875, 1749.6199951171875, 1766.9100341796875, 1761.8299560546875, 1755.0, 1783.0, 1776.2900390625, 1770.0, 1800.6199951171875, 1821.949951171875, 1833.510009765625, 1831.3499755859375, 1820.550048828125, 1812.1400146484375, 1837.6300048828125, 1839.3399658203125, 1807.8399658203125, 1807.0799560546875, 1817.0400390625, 1821.02001953125, 1794.1600341796875, 1777.0, 1741.6099853515625, 1747.3599853515625, 1739.8399658203125, 1725.449951171875, 1726.989990234375, 1735.6500244140625, 1713.22998046875, 1713.0, 1726.02001953125, 1731.6300048828125, 1705.510009765625, 1719.6099853515625, 1720.260009765625, 1731.9200439453125, 1728.9100341796875, 1742.1400146484375, 1773.3299560546875, 1787.47998046875, 1757.510009765625, 1769.6600341796875, 1765.72998046875, 1761.300048828125, 1771.0899658203125, 1697.550048828125, 1748.06005859375, 1762.7099609375, 1760.239990234375, 1775.989990234375, 1788.010009765625, 1801.010009765625, 1801.7099609375, 1795.77001953125, 1788.199951171875, 1785.8800048828125, 1771.6500244140625, 1774.6600341796875, 1753.1099853515625, 1751.4300537109375, 1739.489990234375, 1738.300048828125, 1752.7900390625, 1745.530029296875, 1734.7099609375, 1739.02001953125, 1753.25, 1779.9200439453125, 1801.0, 1800.800048828125, 1781.5999755859375, 1760.0, 1760.68994140625, 1740.47998046875, 1751.199951171875, 1749.510009765625, 1739.2099609375, 1741.6700439453125, 1750.0, 1760.93994140625, 1767.0, 1778.010009765625, 1784.030029296875, 1780.5, 1786.5, 1788.260009765625, 1789.2099609375], \"name\": \"true\", \"open\": [1784.0, 1788.77001953125, 1837.739990234375, 1825.81005859375, 1854.530029296875, 1861.0, 1882.0, 1888.510009765625, 1898.5, 1919.3900146484375, 1909.550048828125, 1903.93994140625, 1885.800048828125, 1890.5699462890625, 1880.0, 1876.6400146484375, 1907.1700439453125, 1910.510009765625, 1915.0, 1937.72998046875, 1953.449951171875, 1997.4200439453125, 2007.0, 2026.5, 2038.1099853515625, 2006.510009765625, 1938.7099609375, 1971.0, 1928.27001953125, 1994.0, 2000.0, 1992.9300537109375, 1954.72998046875, 1918.6500244140625, 1940.5, 1938.5799560546875, 1954.219970703125, 1903.7900390625, 1942.9000244140625, 1968.5, 1993.239990234375, 2004.4100341796875, 2021.989990234375, 1999.989990234375, 1981.699951171875, 1949.0, 1917.989990234375, 1874.0, 1859.989990234375, 1857.8900146484375, 1724.0, 1808.0, 1795.0, 1783.5, 1842.7900390625, 1821.489990234375, 1785.1600341796875, 1784.0, 1742.239990234375, 1773.699951171875, 1703.3399658203125, 1649.5899658203125, 1660.0, 1486.1600341796875, 1569.989990234375, 1623.530029296875, 1678.5899658203125, 1657.5699462890625, 1618.3499755859375, 1673.0, 1755.0, 1732.5, 1698.239990234375, 1649.2900390625, 1656.3199462890625, 1581.010009765625, 1587.5, 1577.010009765625, 1437.5, 1542.989990234375, 1517.0, 1539.0, 1575.989990234375, 1613.9200439453125, 1674.989990234375, 1679.5, 1769.4599609375, 1756.0, 1614.8699951171875, 1705.0699462890625, 1623.8399658203125, 1678.0, 1669.0, 1680.0, 1638.0, 1566.0, 1540.0, 1543.050048828125, 1484.0, 1464.989990234375, 1346.0, 1368.8900146484375, 1454.199951171875, 1473.3499755859375, 1510.800048828125, 1465.199951171875, 1520.010009765625, 1530.0, 1602.31005859375, 1664.68994140625, 1652.97998046875, 1641.010009765625, 1640.550048828125, 1615.0, 1632.0, 1684.219970703125, 1680.0, 1712.0, 1681.0, 1656.0, 1641.0699462890625, 1670.5, 1643.5899658203125, 1631.27001953125, 1623.0, 1692.8499755859375, 1638.8800048828125, 1623.0, 1643.3399658203125, 1670.75, 1625.0, 1586.0, 1600.97998046875, 1604.0, 1647.0, 1624.5, 1627.8599853515625, 1601.0, 1630.0, 1619.8499755859375, 1623.5, 1641.449951171875, 1625.97998046875, 1628.1800537109375, 1635.25, 1655.1300048828125, 1685.0, 1702.949951171875, 1695.969970703125, 1667.3699951171875, 1604.010009765625, 1626.1199951171875, 1669.0, 1683.0, 1691.199951171875, 1703.0, 1712.699951171875, 1753.510009765625, 1769.93994140625, 1796.260009765625, 1810.1700439453125, 1757.7900390625, 1793.0, 1784.1300048828125, 1770.0, 1786.5799560546875, 1800.1099853515625, 1811.02001953125, 1826.719970703125, 1820.6500244140625, 1829.0, 1833.22998046875, 1845.489990234375, 1841.0, 1848.699951171875, 1848.4000244140625, 1842.0, 1851.3499755859375, 1872.989990234375, 1868.7900390625, 1855.4000244140625, 1891.199951171875, 1925.0, 1917.0, 1929.0, 1949.0, 1930.0999755859375, 1933.0899658203125, 1913.3299560546875, 1949.0, 1917.97998046875, 1939.989990234375, 1918.8699951171875, 1900.0, 1898.0, 1836.56005859375, 1839.5, 1827.949951171875, 1885.93994140625, 1893.050048828125, 1852.68994140625, 1874.7900390625, 1851.780029296875, 1836.5899658203125, 1835.8900146484375, 1832.75, 1823.1199951171875, 1825.489990234375, 1790.010009765625, 1760.010009765625, 1699.239990234375, 1749.5999755859375, 1737.7099609375, 1763.699951171875, 1822.0, 1883.25, 1853.97998046875, 1866.719970703125, 1864.0, 1876.5, 1901.3499755859375, 1907.8399658203125, 1933.3299560546875, 1916.0999755859375, 1912.6600341796875, 1911.8399658203125, 1892.47998046875, 1902.0, 1909.0999755859375, 1922.97998046875, 1919.3800048828125, 1935.8900146484375, 1928.5999755859375, 1934.1199951171875, 1947.800048828125, 1996.510009765625, 2025.6199951171875, 2008.27001953125, 2021.4000244140625, 2010.5799560546875, 2007.050048828125, 1980.010009765625, 1991.2099609375, 1971.1400146484375, 1995.989990234375, 1969.300048828125, 2001.0, 1942.0, 1930.0, 1891.1199951171875, 1898.1099853515625, 1871.719970703125, 1845.0699462890625, 1770.219970703125, 1792.22998046875, 1773.989990234375, 1806.0, 1828.949951171875, 1795.989990234375, 1783.0, 1793.010009765625, 1781.989990234375, 1792.8900146484375, 1818.0799560546875, 1814.5, 1819.3900146484375, 1828.0, 1793.030029296875, 1766.9100341796875, 1775.72998046875, 1755.0, 1783.0, 1797.489990234375, 1770.0, 1805.0, 1821.949951171875, 1838.219970703125, 1841.0, 1822.75, 1812.1400146484375, 1837.6300048828125, 1842.010009765625, 1824.02001953125, 1807.0799560546875, 1817.0400390625, 1821.02001953125, 1821.7099609375, 1777.0, 1790.6099853515625, 1747.3599853515625, 1762.7900390625, 1748.0, 1726.989990234375, 1746.0, 1727.739990234375, 1713.0, 1726.02001953125, 1731.6300048828125, 1722.489990234375, 1719.6099853515625, 1725.239990234375, 1742.9200439453125, 1728.9100341796875, 1742.1400146484375, 1773.3299560546875, 1796.489990234375, 1787.800048828125, 1769.6600341796875, 1788.1500244140625, 1761.300048828125, 1771.0899658203125, 1697.550048828125, 1748.06005859375, 1774.81005859375, 1760.239990234375, 1775.989990234375, 1788.010009765625, 1801.010009765625, 1809.1600341796875, 1801.0, 1803.760009765625, 1787.8900146484375, 1778.0, 1774.6600341796875, 1773.3900146484375, 1751.4300537109375, 1760.050048828125, 1738.300048828125, 1756.989990234375, 1749.1400146484375, 1743.0, 1739.02001953125, 1753.25, 1779.9200439453125, 1801.0, 1817.780029296875, 1804.4000244140625, 1760.0, 1774.010009765625, 1763.5, 1751.199951171875, 1750.6600341796875, 1747.4000244140625, 1741.6700439453125, 1750.0, 1765.0, 1767.0, 1778.010009765625, 1795.02001953125, 1780.5, 1799.6199951171875, 1788.260009765625, 1793.81005859375], \"showlegend\": false, \"type\": \"ohlc\", \"x\": [\"2018-08-01T00:00:00\", \"2018-08-02T00:00:00\", \"2018-08-03T00:00:00\", \"2018-08-06T00:00:00\", \"2018-08-07T00:00:00\", \"2018-08-08T00:00:00\", \"2018-08-09T00:00:00\", \"2018-08-10T00:00:00\", \"2018-08-13T00:00:00\", \"2018-08-14T00:00:00\", \"2018-08-15T00:00:00\", \"2018-08-16T00:00:00\", \"2018-08-17T00:00:00\", \"2018-08-20T00:00:00\", \"2018-08-21T00:00:00\", \"2018-08-22T00:00:00\", \"2018-08-23T00:00:00\", \"2018-08-24T00:00:00\", \"2018-08-27T00:00:00\", \"2018-08-28T00:00:00\", \"2018-08-29T00:00:00\", \"2018-08-30T00:00:00\", \"2018-08-31T00:00:00\", \"2018-09-04T00:00:00\", \"2018-09-05T00:00:00\", \"2018-09-06T00:00:00\", \"2018-09-07T00:00:00\", \"2018-09-10T00:00:00\", \"2018-09-11T00:00:00\", \"2018-09-12T00:00:00\", \"2018-09-13T00:00:00\", \"2018-09-14T00:00:00\", \"2018-09-17T00:00:00\", \"2018-09-18T00:00:00\", \"2018-09-19T00:00:00\", \"2018-09-20T00:00:00\", \"2018-09-21T00:00:00\", \"2018-09-24T00:00:00\", \"2018-09-25T00:00:00\", \"2018-09-26T00:00:00\", \"2018-09-27T00:00:00\", \"2018-09-28T00:00:00\", \"2018-10-01T00:00:00\", \"2018-10-02T00:00:00\", \"2018-10-03T00:00:00\", \"2018-10-04T00:00:00\", \"2018-10-05T00:00:00\", \"2018-10-08T00:00:00\", \"2018-10-09T00:00:00\", \"2018-10-10T00:00:00\", \"2018-10-11T00:00:00\", \"2018-10-12T00:00:00\", \"2018-10-15T00:00:00\", \"2018-10-16T00:00:00\", \"2018-10-17T00:00:00\", \"2018-10-18T00:00:00\", \"2018-10-19T00:00:00\", \"2018-10-22T00:00:00\", \"2018-10-23T00:00:00\", \"2018-10-24T00:00:00\", \"2018-10-25T00:00:00\", \"2018-10-26T00:00:00\", \"2018-10-29T00:00:00\", \"2018-10-30T00:00:00\", \"2018-10-31T00:00:00\", \"2018-11-01T00:00:00\", \"2018-11-02T00:00:00\", \"2018-11-05T00:00:00\", \"2018-11-06T00:00:00\", \"2018-11-07T00:00:00\", \"2018-11-08T00:00:00\", \"2018-11-09T00:00:00\", \"2018-11-12T00:00:00\", \"2018-11-13T00:00:00\", \"2018-11-14T00:00:00\", \"2018-11-15T00:00:00\", \"2018-11-16T00:00:00\", \"2018-11-19T00:00:00\", \"2018-11-20T00:00:00\", \"2018-11-21T00:00:00\", \"2018-11-23T00:00:00\", \"2018-11-26T00:00:00\", \"2018-11-27T00:00:00\", \"2018-11-28T00:00:00\", \"2018-11-29T00:00:00\", \"2018-11-30T00:00:00\", \"2018-12-03T00:00:00\", \"2018-12-04T00:00:00\", \"2018-12-06T00:00:00\", \"2018-12-07T00:00:00\", \"2018-12-10T00:00:00\", \"2018-12-11T00:00:00\", \"2018-12-12T00:00:00\", \"2018-12-13T00:00:00\", \"2018-12-14T00:00:00\", \"2018-12-17T00:00:00\", \"2018-12-18T00:00:00\", \"2018-12-19T00:00:00\", \"2018-12-20T00:00:00\", \"2018-12-21T00:00:00\", \"2018-12-24T00:00:00\", \"2018-12-26T00:00:00\", \"2018-12-27T00:00:00\", \"2018-12-28T00:00:00\", \"2018-12-31T00:00:00\", \"2019-01-02T00:00:00\", \"2019-01-03T00:00:00\", \"2019-01-04T00:00:00\", \"2019-01-07T00:00:00\", \"2019-01-08T00:00:00\", \"2019-01-09T00:00:00\", \"2019-01-10T00:00:00\", \"2019-01-11T00:00:00\", \"2019-01-14T00:00:00\", \"2019-01-15T00:00:00\", \"2019-01-16T00:00:00\", \"2019-01-17T00:00:00\", \"2019-01-18T00:00:00\", \"2019-01-22T00:00:00\", \"2019-01-23T00:00:00\", \"2019-01-24T00:00:00\", \"2019-01-25T00:00:00\", \"2019-01-28T00:00:00\", \"2019-01-29T00:00:00\", \"2019-01-30T00:00:00\", \"2019-01-31T00:00:00\", \"2019-02-01T00:00:00\", \"2019-02-04T00:00:00\", \"2019-02-05T00:00:00\", \"2019-02-06T00:00:00\", \"2019-02-07T00:00:00\", \"2019-02-08T00:00:00\", \"2019-02-11T00:00:00\", \"2019-02-12T00:00:00\", \"2019-02-13T00:00:00\", \"2019-02-14T00:00:00\", \"2019-02-15T00:00:00\", \"2019-02-19T00:00:00\", \"2019-02-20T00:00:00\", \"2019-02-21T00:00:00\", \"2019-02-22T00:00:00\", \"2019-02-25T00:00:00\", \"2019-02-26T00:00:00\", \"2019-02-27T00:00:00\", \"2019-02-28T00:00:00\", \"2019-03-01T00:00:00\", \"2019-03-04T00:00:00\", \"2019-03-05T00:00:00\", \"2019-03-06T00:00:00\", \"2019-03-07T00:00:00\", \"2019-03-08T00:00:00\", \"2019-03-11T00:00:00\", \"2019-03-12T00:00:00\", \"2019-03-13T00:00:00\", \"2019-03-14T00:00:00\", \"2019-03-15T00:00:00\", \"2019-03-18T00:00:00\", \"2019-03-19T00:00:00\", \"2019-03-20T00:00:00\", \"2019-03-21T00:00:00\", \"2019-03-22T00:00:00\", \"2019-03-25T00:00:00\", \"2019-03-26T00:00:00\", \"2019-03-27T00:00:00\", \"2019-03-28T00:00:00\", \"2019-03-29T00:00:00\", \"2019-04-01T00:00:00\", \"2019-04-02T00:00:00\", \"2019-04-03T00:00:00\", \"2019-04-04T00:00:00\", \"2019-04-05T00:00:00\", \"2019-04-08T00:00:00\", \"2019-04-09T00:00:00\", \"2019-04-10T00:00:00\", \"2019-04-11T00:00:00\", \"2019-04-12T00:00:00\", \"2019-04-15T00:00:00\", \"2019-04-16T00:00:00\", \"2019-04-17T00:00:00\", \"2019-04-18T00:00:00\", \"2019-04-22T00:00:00\", \"2019-04-23T00:00:00\", \"2019-04-24T00:00:00\", \"2019-04-25T00:00:00\", \"2019-04-26T00:00:00\", \"2019-04-29T00:00:00\", \"2019-04-30T00:00:00\", \"2019-05-01T00:00:00\", \"2019-05-02T00:00:00\", \"2019-05-03T00:00:00\", \"2019-05-06T00:00:00\", \"2019-05-07T00:00:00\", \"2019-05-08T00:00:00\", \"2019-05-09T00:00:00\", \"2019-05-10T00:00:00\", \"2019-05-13T00:00:00\", \"2019-05-14T00:00:00\", \"2019-05-15T00:00:00\", \"2019-05-16T00:00:00\", \"2019-05-17T00:00:00\", \"2019-05-20T00:00:00\", \"2019-05-21T00:00:00\", \"2019-05-22T00:00:00\", \"2019-05-23T00:00:00\", \"2019-05-24T00:00:00\", \"2019-05-28T00:00:00\", \"2019-05-29T00:00:00\", \"2019-05-30T00:00:00\", \"2019-05-31T00:00:00\", \"2019-06-03T00:00:00\", \"2019-06-04T00:00:00\", \"2019-06-05T00:00:00\", \"2019-06-06T00:00:00\", \"2019-06-07T00:00:00\", \"2019-06-10T00:00:00\", \"2019-06-11T00:00:00\", \"2019-06-12T00:00:00\", \"2019-06-13T00:00:00\", \"2019-06-14T00:00:00\", \"2019-06-17T00:00:00\", \"2019-06-18T00:00:00\", \"2019-06-19T00:00:00\", \"2019-06-20T00:00:00\", \"2019-06-21T00:00:00\", \"2019-06-24T00:00:00\", \"2019-06-25T00:00:00\", \"2019-06-26T00:00:00\", \"2019-06-27T00:00:00\", \"2019-06-28T00:00:00\", \"2019-07-01T00:00:00\", \"2019-07-02T00:00:00\", \"2019-07-03T00:00:00\", \"2019-07-05T00:00:00\", \"2019-07-08T00:00:00\", \"2019-07-09T00:00:00\", \"2019-07-10T00:00:00\", \"2019-07-11T00:00:00\", \"2019-07-12T00:00:00\", \"2019-07-15T00:00:00\", \"2019-07-16T00:00:00\", \"2019-07-17T00:00:00\", \"2019-07-18T00:00:00\", \"2019-07-19T00:00:00\", \"2019-07-22T00:00:00\", \"2019-07-23T00:00:00\", \"2019-07-24T00:00:00\", \"2019-07-25T00:00:00\", \"2019-07-26T00:00:00\", \"2019-07-29T00:00:00\", \"2019-07-30T00:00:00\", \"2019-07-31T00:00:00\", \"2019-08-01T00:00:00\", \"2019-08-02T00:00:00\", \"2019-08-05T00:00:00\", \"2019-08-06T00:00:00\", \"2019-08-07T00:00:00\", \"2019-08-08T00:00:00\", \"2019-08-09T00:00:00\", \"2019-08-12T00:00:00\", \"2019-08-13T00:00:00\", \"2019-08-14T00:00:00\", \"2019-08-15T00:00:00\", \"2019-08-16T00:00:00\", \"2019-08-19T00:00:00\", \"2019-08-20T00:00:00\", \"2019-08-21T00:00:00\", \"2019-08-22T00:00:00\", \"2019-08-23T00:00:00\", \"2019-08-26T00:00:00\", \"2019-08-27T00:00:00\", \"2019-08-28T00:00:00\", \"2019-08-29T00:00:00\", \"2019-08-30T00:00:00\", \"2019-09-03T00:00:00\", \"2019-09-04T00:00:00\", \"2019-09-05T00:00:00\", \"2019-09-06T00:00:00\", \"2019-09-09T00:00:00\", \"2019-09-10T00:00:00\", \"2019-09-11T00:00:00\", \"2019-09-12T00:00:00\", \"2019-09-13T00:00:00\", \"2019-09-16T00:00:00\", \"2019-09-17T00:00:00\", \"2019-09-18T00:00:00\", \"2019-09-19T00:00:00\", \"2019-09-20T00:00:00\", \"2019-09-23T00:00:00\", \"2019-09-24T00:00:00\", \"2019-09-25T00:00:00\", \"2019-09-26T00:00:00\", \"2019-09-27T00:00:00\", \"2019-09-30T00:00:00\", \"2019-10-01T00:00:00\", \"2019-10-02T00:00:00\", \"2019-10-03T00:00:00\", \"2019-10-04T00:00:00\", \"2019-10-07T00:00:00\", \"2019-10-08T00:00:00\", \"2019-10-09T00:00:00\", \"2019-10-10T00:00:00\", \"2019-10-11T00:00:00\", \"2019-10-14T00:00:00\", \"2019-10-15T00:00:00\", \"2019-10-16T00:00:00\", \"2019-10-17T00:00:00\", \"2019-10-18T00:00:00\", \"2019-10-21T00:00:00\", \"2019-10-22T00:00:00\", \"2019-10-23T00:00:00\", \"2019-10-24T00:00:00\", \"2019-10-25T00:00:00\", \"2019-10-28T00:00:00\", \"2019-10-29T00:00:00\", \"2019-10-30T00:00:00\", \"2019-10-31T00:00:00\", \"2019-11-01T00:00:00\", \"2019-11-04T00:00:00\", \"2019-11-05T00:00:00\", \"2019-11-06T00:00:00\", \"2019-11-07T00:00:00\", \"2019-11-08T00:00:00\", \"2019-11-11T00:00:00\", \"2019-11-12T00:00:00\", \"2019-11-13T00:00:00\", \"2019-11-14T00:00:00\", \"2019-11-15T00:00:00\", \"2019-11-18T00:00:00\", \"2019-11-19T00:00:00\", \"2019-11-20T00:00:00\", \"2019-11-21T00:00:00\", \"2019-11-22T00:00:00\", \"2019-11-25T00:00:00\", \"2019-11-26T00:00:00\", \"2019-11-27T00:00:00\", \"2019-11-29T00:00:00\", \"2019-12-02T00:00:00\", \"2019-12-03T00:00:00\", \"2019-12-04T00:00:00\", \"2019-12-05T00:00:00\", \"2019-12-06T00:00:00\", \"2019-12-09T00:00:00\", \"2019-12-10T00:00:00\", \"2019-12-11T00:00:00\", \"2019-12-12T00:00:00\", \"2019-12-13T00:00:00\", \"2019-12-16T00:00:00\", \"2019-12-17T00:00:00\", \"2019-12-18T00:00:00\", \"2019-12-19T00:00:00\", \"2019-12-20T00:00:00\", \"2019-12-23T00:00:00\", \"2019-12-24T00:00:00\"]}],\n",
              "                        {\"autosize\": false, \"height\": 800, \"template\": {\"data\": {\"bar\": [{\"error_x\": {\"color\": \"#2a3f5f\"}, \"error_y\": {\"color\": \"#2a3f5f\"}, \"marker\": {\"line\": {\"color\": \"#E5ECF6\", \"width\": 0.5}}, \"type\": \"bar\"}], \"barpolar\": [{\"marker\": {\"line\": {\"color\": \"#E5ECF6\", \"width\": 0.5}}, \"type\": \"barpolar\"}], \"carpet\": [{\"aaxis\": {\"endlinecolor\": \"#2a3f5f\", \"gridcolor\": \"white\", \"linecolor\": \"white\", \"minorgridcolor\": \"white\", \"startlinecolor\": \"#2a3f5f\"}, \"baxis\": {\"endlinecolor\": \"#2a3f5f\", \"gridcolor\": \"white\", \"linecolor\": \"white\", \"minorgridcolor\": \"white\", \"startlinecolor\": \"#2a3f5f\"}, \"type\": \"carpet\"}], \"choropleth\": [{\"colorbar\": {\"outlinewidth\": 0, \"ticks\": \"\"}, \"type\": \"choropleth\"}], \"contour\": [{\"colorbar\": {\"outlinewidth\": 0, \"ticks\": \"\"}, \"colorscale\": [[0.0, \"#0d0887\"], [0.1111111111111111, \"#46039f\"], [0.2222222222222222, \"#7201a8\"], [0.3333333333333333, \"#9c179e\"], [0.4444444444444444, \"#bd3786\"], [0.5555555555555556, \"#d8576b\"], [0.6666666666666666, \"#ed7953\"], [0.7777777777777778, \"#fb9f3a\"], [0.8888888888888888, \"#fdca26\"], [1.0, \"#f0f921\"]], \"type\": \"contour\"}], \"contourcarpet\": [{\"colorbar\": {\"outlinewidth\": 0, \"ticks\": \"\"}, \"type\": \"contourcarpet\"}], \"heatmap\": [{\"colorbar\": {\"outlinewidth\": 0, \"ticks\": \"\"}, \"colorscale\": [[0.0, \"#0d0887\"], [0.1111111111111111, \"#46039f\"], [0.2222222222222222, \"#7201a8\"], [0.3333333333333333, \"#9c179e\"], [0.4444444444444444, \"#bd3786\"], [0.5555555555555556, \"#d8576b\"], [0.6666666666666666, \"#ed7953\"], [0.7777777777777778, \"#fb9f3a\"], [0.8888888888888888, \"#fdca26\"], [1.0, \"#f0f921\"]], \"type\": \"heatmap\"}], \"heatmapgl\": [{\"colorbar\": {\"outlinewidth\": 0, \"ticks\": \"\"}, \"colorscale\": [[0.0, \"#0d0887\"], [0.1111111111111111, \"#46039f\"], [0.2222222222222222, \"#7201a8\"], [0.3333333333333333, \"#9c179e\"], [0.4444444444444444, \"#bd3786\"], [0.5555555555555556, \"#d8576b\"], [0.6666666666666666, \"#ed7953\"], [0.7777777777777778, \"#fb9f3a\"], [0.8888888888888888, \"#fdca26\"], [1.0, \"#f0f921\"]], \"type\": \"heatmapgl\"}], \"histogram\": [{\"marker\": {\"colorbar\": {\"outlinewidth\": 0, \"ticks\": \"\"}}, \"type\": \"histogram\"}], \"histogram2d\": [{\"colorbar\": {\"outlinewidth\": 0, \"ticks\": \"\"}, \"colorscale\": [[0.0, \"#0d0887\"], [0.1111111111111111, \"#46039f\"], [0.2222222222222222, \"#7201a8\"], [0.3333333333333333, \"#9c179e\"], [0.4444444444444444, \"#bd3786\"], [0.5555555555555556, \"#d8576b\"], [0.6666666666666666, \"#ed7953\"], [0.7777777777777778, \"#fb9f3a\"], [0.8888888888888888, \"#fdca26\"], [1.0, \"#f0f921\"]], \"type\": \"histogram2d\"}], \"histogram2dcontour\": [{\"colorbar\": {\"outlinewidth\": 0, \"ticks\": \"\"}, \"colorscale\": [[0.0, \"#0d0887\"], [0.1111111111111111, \"#46039f\"], [0.2222222222222222, \"#7201a8\"], [0.3333333333333333, \"#9c179e\"], [0.4444444444444444, \"#bd3786\"], [0.5555555555555556, \"#d8576b\"], [0.6666666666666666, \"#ed7953\"], [0.7777777777777778, \"#fb9f3a\"], [0.8888888888888888, \"#fdca26\"], [1.0, \"#f0f921\"]], \"type\": \"histogram2dcontour\"}], \"mesh3d\": [{\"colorbar\": {\"outlinewidth\": 0, \"ticks\": \"\"}, \"type\": \"mesh3d\"}], \"parcoords\": [{\"line\": {\"colorbar\": {\"outlinewidth\": 0, \"ticks\": \"\"}}, \"type\": \"parcoords\"}], \"pie\": [{\"automargin\": true, \"type\": \"pie\"}], \"scatter\": [{\"marker\": {\"colorbar\": {\"outlinewidth\": 0, \"ticks\": \"\"}}, \"type\": \"scatter\"}], \"scatter3d\": [{\"line\": {\"colorbar\": {\"outlinewidth\": 0, \"ticks\": \"\"}}, \"marker\": {\"colorbar\": {\"outlinewidth\": 0, \"ticks\": \"\"}}, \"type\": \"scatter3d\"}], \"scattercarpet\": [{\"marker\": {\"colorbar\": {\"outlinewidth\": 0, \"ticks\": \"\"}}, \"type\": \"scattercarpet\"}], \"scattergeo\": [{\"marker\": {\"colorbar\": {\"outlinewidth\": 0, \"ticks\": \"\"}}, \"type\": \"scattergeo\"}], \"scattergl\": [{\"marker\": {\"colorbar\": {\"outlinewidth\": 0, \"ticks\": \"\"}}, \"type\": \"scattergl\"}], \"scattermapbox\": [{\"marker\": {\"colorbar\": {\"outlinewidth\": 0, \"ticks\": \"\"}}, \"type\": \"scattermapbox\"}], \"scatterpolar\": [{\"marker\": {\"colorbar\": {\"outlinewidth\": 0, \"ticks\": \"\"}}, \"type\": \"scatterpolar\"}], \"scatterpolargl\": [{\"marker\": {\"colorbar\": {\"outlinewidth\": 0, \"ticks\": \"\"}}, \"type\": \"scatterpolargl\"}], \"scatterternary\": [{\"marker\": {\"colorbar\": {\"outlinewidth\": 0, \"ticks\": \"\"}}, \"type\": \"scatterternary\"}], \"surface\": [{\"colorbar\": {\"outlinewidth\": 0, \"ticks\": \"\"}, \"colorscale\": [[0.0, \"#0d0887\"], [0.1111111111111111, \"#46039f\"], [0.2222222222222222, \"#7201a8\"], [0.3333333333333333, \"#9c179e\"], [0.4444444444444444, \"#bd3786\"], [0.5555555555555556, \"#d8576b\"], [0.6666666666666666, \"#ed7953\"], [0.7777777777777778, \"#fb9f3a\"], [0.8888888888888888, \"#fdca26\"], [1.0, \"#f0f921\"]], \"type\": \"surface\"}], \"table\": [{\"cells\": {\"fill\": {\"color\": \"#EBF0F8\"}, \"line\": {\"color\": \"white\"}}, \"header\": {\"fill\": {\"color\": \"#C8D4E3\"}, \"line\": {\"color\": \"white\"}}, \"type\": \"table\"}]}, \"layout\": {\"annotationdefaults\": {\"arrowcolor\": \"#2a3f5f\", \"arrowhead\": 0, \"arrowwidth\": 1}, \"coloraxis\": {\"colorbar\": {\"outlinewidth\": 0, \"ticks\": \"\"}}, \"colorscale\": {\"diverging\": [[0, \"#8e0152\"], [0.1, \"#c51b7d\"], [0.2, \"#de77ae\"], [0.3, \"#f1b6da\"], [0.4, \"#fde0ef\"], [0.5, \"#f7f7f7\"], [0.6, \"#e6f5d0\"], [0.7, \"#b8e186\"], [0.8, \"#7fbc41\"], [0.9, \"#4d9221\"], [1, \"#276419\"]], \"sequential\": [[0.0, \"#0d0887\"], [0.1111111111111111, \"#46039f\"], [0.2222222222222222, \"#7201a8\"], [0.3333333333333333, \"#9c179e\"], [0.4444444444444444, \"#bd3786\"], [0.5555555555555556, \"#d8576b\"], [0.6666666666666666, \"#ed7953\"], [0.7777777777777778, \"#fb9f3a\"], [0.8888888888888888, \"#fdca26\"], [1.0, \"#f0f921\"]], \"sequentialminus\": [[0.0, \"#0d0887\"], [0.1111111111111111, \"#46039f\"], [0.2222222222222222, \"#7201a8\"], [0.3333333333333333, \"#9c179e\"], [0.4444444444444444, \"#bd3786\"], [0.5555555555555556, \"#d8576b\"], [0.6666666666666666, \"#ed7953\"], [0.7777777777777778, \"#fb9f3a\"], [0.8888888888888888, \"#fdca26\"], [1.0, \"#f0f921\"]]}, \"colorway\": [\"#636efa\", \"#EF553B\", \"#00cc96\", \"#ab63fa\", \"#FFA15A\", \"#19d3f3\", \"#FF6692\", \"#B6E880\", \"#FF97FF\", \"#FECB52\"], \"font\": {\"color\": \"#2a3f5f\"}, \"geo\": {\"bgcolor\": \"white\", \"lakecolor\": \"white\", \"landcolor\": \"#E5ECF6\", \"showlakes\": true, \"showland\": true, \"subunitcolor\": \"white\"}, \"hoverlabel\": {\"align\": \"left\"}, \"hovermode\": \"closest\", \"mapbox\": {\"style\": \"light\"}, \"paper_bgcolor\": \"white\", \"plot_bgcolor\": \"#E5ECF6\", \"polar\": {\"angularaxis\": {\"gridcolor\": \"white\", \"linecolor\": \"white\", \"ticks\": \"\"}, \"bgcolor\": \"#E5ECF6\", \"radialaxis\": {\"gridcolor\": \"white\", \"linecolor\": \"white\", \"ticks\": \"\"}}, \"scene\": {\"xaxis\": {\"backgroundcolor\": \"#E5ECF6\", \"gridcolor\": \"white\", \"gridwidth\": 2, \"linecolor\": \"white\", \"showbackground\": true, \"ticks\": \"\", \"zerolinecolor\": \"white\"}, \"yaxis\": {\"backgroundcolor\": \"#E5ECF6\", \"gridcolor\": \"white\", \"gridwidth\": 2, \"linecolor\": \"white\", \"showbackground\": true, \"ticks\": \"\", \"zerolinecolor\": \"white\"}, \"zaxis\": {\"backgroundcolor\": \"#E5ECF6\", \"gridcolor\": \"white\", \"gridwidth\": 2, \"linecolor\": \"white\", \"showbackground\": true, \"ticks\": \"\", \"zerolinecolor\": \"white\"}}, \"shapedefaults\": {\"line\": {\"color\": \"#2a3f5f\"}}, \"ternary\": {\"aaxis\": {\"gridcolor\": \"white\", \"linecolor\": \"white\", \"ticks\": \"\"}, \"baxis\": {\"gridcolor\": \"white\", \"linecolor\": \"white\", \"ticks\": \"\"}, \"bgcolor\": \"#E5ECF6\", \"caxis\": {\"gridcolor\": \"white\", \"linecolor\": \"white\", \"ticks\": \"\"}}, \"title\": {\"x\": 0.05}, \"xaxis\": {\"automargin\": true, \"gridcolor\": \"white\", \"linecolor\": \"white\", \"ticks\": \"\", \"title\": {\"standoff\": 15}, \"zerolinecolor\": \"white\", \"zerolinewidth\": 2}, \"yaxis\": {\"automargin\": true, \"gridcolor\": \"white\", \"linecolor\": \"white\", \"ticks\": \"\", \"title\": {\"standoff\": 15}, \"zerolinecolor\": \"white\", \"zerolinewidth\": 2}}}, \"width\": 1000, \"xaxis\": {\"rangeslider\": {\"visible\": false}}},\n",
              "                        {\"responsive\": true}\n",
              "                    ).then(function(){\n",
              "                            \n",
              "var gd = document.getElementById('48acf510-b9ed-4367-bcfe-fd608b6de7df');\n",
              "var x = new MutationObserver(function (mutations, observer) {{\n",
              "        var display = window.getComputedStyle(gd).display;\n",
              "        if (!display || display === 'none') {{\n",
              "            console.log([gd, 'removed!']);\n",
              "            Plotly.purge(gd);\n",
              "            observer.disconnect();\n",
              "        }}\n",
              "}});\n",
              "\n",
              "// Listen for the removal of the full notebook cells\n",
              "var notebookContainer = gd.closest('#notebook-container');\n",
              "if (notebookContainer) {{\n",
              "    x.observe(notebookContainer, {childList: true});\n",
              "}}\n",
              "\n",
              "// Listen for the clearing of the current output cell\n",
              "var outputEl = gd.closest('.output');\n",
              "if (outputEl) {{\n",
              "    x.observe(outputEl, {childList: true});\n",
              "}}\n",
              "\n",
              "                        })\n",
              "                };\n",
              "                \n",
              "            </script>\n",
              "        </div>\n",
              "</body>\n",
              "</html>"
            ]
          },
          "metadata": {
            "tags": []
          }
        }
      ]
    },
    {
      "cell_type": "markdown",
      "metadata": {
        "id": "Dm9io2bxiJ9i"
      },
      "source": [
        "# EVALUATION"
      ]
    },
    {
      "cell_type": "code",
      "metadata": {
        "colab": {
          "base_uri": "https://localhost:8080/"
        },
        "id": "u0t16p9h1RXq",
        "outputId": "7fa2adca-2049-49dd-ec99-d3abb4cef7ea"
      },
      "source": [
        "%pip install yfinance"
      ],
      "execution_count": 64,
      "outputs": [
        {
          "output_type": "stream",
          "text": [
            "Requirement already satisfied: yfinance in /usr/local/lib/python3.7/dist-packages (0.1.55)\n",
            "Requirement already satisfied: pandas>=0.24 in /usr/local/lib/python3.7/dist-packages (from yfinance) (1.1.5)\n",
            "Requirement already satisfied: requests>=2.20 in /usr/local/lib/python3.7/dist-packages (from yfinance) (2.23.0)\n",
            "Requirement already satisfied: multitasking>=0.0.7 in /usr/local/lib/python3.7/dist-packages (from yfinance) (0.0.9)\n",
            "Requirement already satisfied: lxml>=4.5.1 in /usr/local/lib/python3.7/dist-packages (from yfinance) (4.6.2)\n",
            "Requirement already satisfied: numpy>=1.15 in /usr/local/lib/python3.7/dist-packages (from yfinance) (1.19.5)\n",
            "Requirement already satisfied: pytz>=2017.2 in /usr/local/lib/python3.7/dist-packages (from pandas>=0.24->yfinance) (2018.9)\n",
            "Requirement already satisfied: python-dateutil>=2.7.3 in /usr/local/lib/python3.7/dist-packages (from pandas>=0.24->yfinance) (2.8.1)\n",
            "Requirement already satisfied: certifi>=2017.4.17 in /usr/local/lib/python3.7/dist-packages (from requests>=2.20->yfinance) (2020.12.5)\n",
            "Requirement already satisfied: urllib3!=1.25.0,!=1.25.1,<1.26,>=1.21.1 in /usr/local/lib/python3.7/dist-packages (from requests>=2.20->yfinance) (1.24.3)\n",
            "Requirement already satisfied: idna<3,>=2.5 in /usr/local/lib/python3.7/dist-packages (from requests>=2.20->yfinance) (2.10)\n",
            "Requirement already satisfied: chardet<4,>=3.0.2 in /usr/local/lib/python3.7/dist-packages (from requests>=2.20->yfinance) (3.0.4)\n",
            "Requirement already satisfied: six>=1.5 in /usr/local/lib/python3.7/dist-packages (from python-dateutil>=2.7.3->pandas>=0.24->yfinance) (1.15.0)\n"
          ],
          "name": "stdout"
        }
      ]
    },
    {
      "cell_type": "code",
      "metadata": {
        "id": "mDH1aRtz1RXr"
      },
      "source": [
        "import yfinance as yf\n",
        "ticker = 'GOOG'\n",
        "index = yf.Ticker(ticker)\n",
        "\n",
        "# get historical market data\n",
        "hist = index.history(start='2020-06-01', end= '2020-12-30', actions=False)"
      ],
      "execution_count": 65,
      "outputs": []
    },
    {
      "cell_type": "code",
      "metadata": {
        "id": "joYe7gnKTwdz"
      },
      "source": [
        "def test_data_prediction(df_test):\n",
        "  #df_test['Date'] = pd.to_datetime(df_test['Date'])\n",
        "  #df_test.set_index('Date', inplace=True)\n",
        "\n",
        "\n",
        "\n",
        "  df_test_ti = get_technical_indicators(df_test)\n",
        "  #df_test_ti = df_test_ti.dropna()\n",
        "  df_test = df_test.fillna(method='backfill')\n",
        "  #df_test_ti = df_test_ti.dropna()\n",
        "  df_test_y = df_test.copy()\n",
        "  df_test_y = df_test_y[['OpenPerChg1','ClosePerChg1','OpenPerChg2','ClosePerChg2','OpenPerChg3','ClosePerChg3']]\n",
        "  df_test_ti = df_test_ti[['Open','Close','High', 'Low','Volume','20sd','MACD']]\n",
        "\n",
        "  args_test = df_test_ti.values.reshape(df_test_ti.shape[0],7)\n",
        "  args_test_y = df_test_y.values.reshape(df_test_y.shape[0],6)\n",
        "\n",
        "  in_seq_test = args_test\n",
        "  in_seq_test_y = args_test_y\n",
        "\n",
        "  division =  35\n",
        "\n",
        "  data_train = in_seq_test[:division]\n",
        "  data_test = in_seq_test[(division-lookback_days):]\n",
        "\n",
        "  data_train_y = in_seq_test_y[:division]\n",
        "  data_test_y = in_seq_test_y[(division-lookback_days):]\n",
        "\n",
        "  X_test, y_test = split_sequences(data_test, data_test_y, lookback_days,forward_days)\n",
        "\n",
        "  X_features = X_test.shape[2]\n",
        "  y_features = y_test.shape[2]\n",
        "  X_test_original = X_test\n",
        "  X_test=X_test.reshape(X_test.shape[0],lookback_days*X_features)\n",
        "  y_test=y_test.reshape(y_test.shape[0],y_features)\n",
        "\n",
        "  xtest_scaler = MinMaxScaler().fit(X_test)\n",
        "  X_test = xtest_scaler.transform(X_test)\n",
        "  ytest_scaler = MinMaxScaler().fit(y_test)\n",
        "  #y_scaler.fit(y_test)\n",
        "  y_test = ytest_scaler.transform(y_test)\n",
        "\n",
        "  X_test = X_test.reshape(X_test.shape[0],lookback_days, X_features)\n",
        "\n",
        "  y_pred = model.predict(X_test,batch_size = 16)\n",
        "  y_pred = y_pred.reshape(y_pred.shape[0],y_features)\n",
        "  y_hat = ytest_scaler.inverse_transform(y_pred)\n",
        "\n",
        "  y_test = y_test.reshape(y_test.shape[0],y_features)\n",
        "  #y_true = y_test\n",
        "  y_true = ytest_scaler.inverse_transform(y_test)\n",
        "\n",
        "  return y_test,y_true,y_pred,y_hat,X_test_original"
      ],
      "execution_count": 66,
      "outputs": []
    },
    {
      "cell_type": "code",
      "metadata": {
        "id": "USuP-hahNmaJ"
      },
      "source": [
        "y_test1,y_true1,y_pred1,y_hat1,X_test_original1 = test_data_prediction(hist)"
      ],
      "execution_count": 67,
      "outputs": []
    },
    {
      "cell_type": "code",
      "metadata": {
        "id": "fKOPkkEcQcO_"
      },
      "source": [
        "y_test=y_test1\n",
        "y_true=y_true1\n",
        "y_pred=y_pred1\n",
        "y_hat=y_hat1\n",
        "X_test_original = X_test_original1"
      ],
      "execution_count": 68,
      "outputs": []
    },
    {
      "cell_type": "code",
      "metadata": {
        "id": "y-814V-WLapv"
      },
      "source": [
        "diff_true = array([y_true[:,x] - X_test_original[:,0,-1] for x in [0,1,2,3,4,5]])\n",
        "diff_pred = array([y_hat[:,x] - X_test_original[:,0,-1] for x in [0,1,2,3,4,5]])"
      ],
      "execution_count": 69,
      "outputs": []
    },
    {
      "cell_type": "code",
      "metadata": {
        "id": "YkD1XGSIa1cV"
      },
      "source": [
        "#diff_pred[diff_pred<0] = - diff_pred[diff_pred<0]\n",
        "#diff_true[diff_true<0] = - diff_true[diff_true<0]"
      ],
      "execution_count": 70,
      "outputs": []
    },
    {
      "cell_type": "code",
      "metadata": {
        "colab": {
          "base_uri": "https://localhost:8080/"
        },
        "id": "TOooO6pgRA0r",
        "outputId": "58219f70-8beb-481b-e808-fd2a68468edf"
      },
      "source": [
        "import sklearn.metrics as metrics\n",
        "mae = metrics.mean_absolute_error(y_true[:-3], y_hat[:-3])\n",
        "mse = metrics.mean_squared_error(y_true[:-3], y_hat[:-3])\n",
        "rmse = np.sqrt(mse) #mse**(0.5)  \n",
        "r2 = rsquared(y_true[:-3], y_hat[:-3])\n",
        "\n",
        "print(\"Results of sklearn.metrics:\")\n",
        "print(\"MAE:\",mae)\n",
        "print(\"MSE:\", mse)\n",
        "print(\"RMSE:\", rmse)\n",
        "print(\"R-Squared:\", r2)"
      ],
      "execution_count": 71,
      "outputs": [
        {
          "output_type": "stream",
          "text": [
            "Results of sklearn.metrics:\n",
            "MAE: 0.025095574612852473\n",
            "MSE: 0.0011261139624003339\n",
            "RMSE: 0.03355762152477934\n",
            "R-Squared: -0.6713742143779415\n"
          ],
          "name": "stdout"
        }
      ]
    },
    {
      "cell_type": "code",
      "metadata": {
        "id": "c8AIyDdR8_A-"
      },
      "source": [
        "y_pred=y_hat\n",
        "y_pred_len = y_pred.shape[0]"
      ],
      "execution_count": 72,
      "outputs": []
    },
    {
      "cell_type": "code",
      "metadata": {
        "id": "NLTgf1ayUGNl"
      },
      "source": [
        "new_row1 = {'open':y_pred[-2,2] , 'close':y_pred[-2,3]}\n",
        "new_row2 = {'open':y_pred[-1,4] , 'close':y_pred[-1,4]}"
      ],
      "execution_count": 73,
      "outputs": []
    },
    {
      "cell_type": "code",
      "metadata": {
        "id": "qn0EoLtd06u-"
      },
      "source": [
        "from datetime import timedelta\n",
        "dataset_prev = pd.DataFrame({\n",
        "    'open': X_test_original[:,-1,0],'close': X_test_original[:,-1,1]\n",
        "                        })\n",
        "dataset_per = pd.DataFrame({\n",
        "    'openPerChg': y_pred[:,0], 'closePerChg': y_pred[:,1]\n",
        "                         })\n",
        "dataset = pd.DataFrame({\n",
        "    'open': y_pred[:,0], 'close': y_pred[:,1]                       })\n",
        "dataset['open'] = dataset_prev['open'] + (dataset_prev['open'] * dataset_per['openPerChg'])\n",
        "dataset['close'] = dataset_prev['close'] + (dataset_prev['close'] * dataset_per['closePerChg'])\n",
        "\n",
        "dataset_trueper = pd.DataFrame({\n",
        "    'openPerChg': y_true[:,0], 'closePerChg': y_true[:,1]\n",
        "                        })\n",
        "dataset_true = pd.DataFrame({\n",
        "    'open': y_pred[:,0], 'close': y_pred[:,1]                       })\n",
        "dataset_true['open'] = dataset_prev['open'] + (dataset_prev['open'] * dataset_trueper['openPerChg'])\n",
        "dataset_true['close'] = dataset_prev['close'] + (dataset_prev['close'] * dataset_trueper['closePerChg'])\n",
        "\n",
        "\n",
        "new_row1 = {'open':X_test_original[-1,-1,0] + (X_test_original[-1,-1,0] * y_pred[-1,2]),\n",
        "            'close':X_test_original[-1,-1,1] + (X_test_original[-1,-1,1] * y_pred[-1,3])}\n",
        "new_row2 = {'open':X_test_original[-1,-1,0] + (X_test_original[-1,-1,0] * y_pred[-1,4]) , \n",
        "            'close':X_test_original[-1,-1,1] + (X_test_original[-1,-1,1] * y_pred[-1,5])}\n",
        "\n",
        "tempDf = pd.to_datetime(hist[-y_pred_len:].index)\n",
        "dataset.loc[:,'date'] = pd.to_datetime(hist[-y_pred_len:].index)\n",
        "dataset_true.loc[:,'date'] = pd.to_datetime(hist[-y_pred_len:].index)\n",
        "\n",
        "dataset = dataset.append(new_row1, ignore_index=True)\n",
        "dataset = dataset.append(new_row2, ignore_index=True)\n",
        "dataset.loc[y_pred_len,'date'] = pd.to_datetime(tempDf[-1] + timedelta(days=1))\n",
        "dataset.loc[y_pred_len+1,'date'] = pd.to_datetime(tempDf[-1] + timedelta(days=2))"
      ],
      "execution_count": 74,
      "outputs": []
    },
    {
      "cell_type": "code",
      "metadata": {
        "id": "WyW05CWqivdd"
      },
      "source": [
        "dataset_prev = pd.DataFrame({\n",
        "    'open': X_test_original[:,-1,0],'close': X_test_original[:,-1,1]\n",
        "                        })\n",
        "                        \n",
        "dataset_per = pd.DataFrame({\n",
        "    'open1PerChg': y_pred[:,0], 'close1PerChg': y_pred[:,1],\n",
        "    'open2PerChg': y_pred[:,2], 'close2PerChg': y_pred[:,3],\n",
        "    'open3PerChg': y_pred[:,4], 'close3PerChg': y_pred[:,5]\n",
        "                         })\n",
        "datasetarray = pd.DataFrame({\n",
        "    'open1': y_pred[:,0], 'close1': y_pred[:,1]        ,\n",
        "    'open2': y_pred[:,2], 'close2': y_pred[:,3]  ,\n",
        "    'open3': y_pred[:,4], 'close3': y_pred[:,5]                 })\n",
        "\n",
        "datasetarray['open1'] = dataset_prev['open'] + (dataset_prev['open'] * dataset_per['open1PerChg'])\n",
        "datasetarray['open2'] = dataset_prev['open'] + (dataset_prev['open'] * dataset_per['open2PerChg'])\n",
        "datasetarray['open3'] = dataset_prev['open'] + (dataset_prev['open'] * dataset_per['open3PerChg'])\n",
        "datasetarray['close1'] = dataset_prev['close'] + (dataset_prev['close'] * dataset_per['close1PerChg'])\n",
        "datasetarray['close2'] = dataset_prev['close'] + (dataset_prev['close'] * dataset_per['close2PerChg'])\n",
        "datasetarray['close3'] = dataset_prev['close'] + (dataset_prev['close'] * dataset_per['close3PerChg'])\n",
        "\n",
        "dataset_trueper = pd.DataFrame({\n",
        "    'open1PerChg': y_true[:,0], 'close1PerChg': y_true[:,1],\n",
        "    'open2PerChg': y_true[:,2], 'close2PerChg': y_true[:,3],\n",
        "    'open3PerChg': y_true[:,4], 'close3PerChg': y_true[:,5]\n",
        "                         })\n",
        "dataset_truearray = pd.DataFrame({\n",
        "    'open1': y_true[:,0], 'close1': y_true[:,1]        ,\n",
        "    'open2': y_true[:,2], 'close2': y_true[:,3]  ,\n",
        "    'open3': y_true[:,4], 'close3': y_true[:,5]                 })\n",
        "\n",
        "dataset_truearray['open1'] = dataset_prev['open'] + (dataset_prev['open'] * dataset_trueper['open1PerChg'])\n",
        "dataset_truearray['open2'] = dataset_prev['open'] + (dataset_prev['open'] * dataset_trueper['open2PerChg'])\n",
        "dataset_truearray['open3'] = dataset_prev['open'] + (dataset_prev['open'] * dataset_trueper['open3PerChg'])\n",
        "dataset_truearray['close1'] = dataset_prev['close'] + (dataset_prev['close'] * dataset_trueper['close1PerChg'])\n",
        "dataset_truearray['close2'] = dataset_prev['close'] + (dataset_prev['close'] * dataset_trueper['close2PerChg'])\n",
        "dataset_truearray['close3'] = dataset_prev['close'] + (dataset_prev['close'] * dataset_trueper['close3PerChg'])\n"
      ],
      "execution_count": 75,
      "outputs": []
    },
    {
      "cell_type": "code",
      "metadata": {
        "id": "zyHhvoc2WaQW"
      },
      "source": [
        "# dataset1 = dataset[:-3][['open','close']]\n",
        "# dataset_true1 = dataset_true[:-1][['open','close']]\n",
        "# datasetarray = dataset1.values.reshape(dataset1.shape[0],2)\n",
        "datasetarray = datasetarray[:-3]\n",
        "datasetarray = np.asarray(datasetarray).astype(np.float32)\n",
        "# dataset_truearray = dataset_true1.values.reshape(dataset_true1.shape[0],2)\n",
        "dataset_truearray = dataset_truearray[:-3]\n",
        "dataset_truearray = np.asarray(dataset_truearray).astype(np.float32)\n"
      ],
      "execution_count": 76,
      "outputs": []
    },
    {
      "cell_type": "code",
      "metadata": {
        "colab": {
          "base_uri": "https://localhost:8080/"
        },
        "id": "rNtgdk61V7AP",
        "outputId": "63a2a44d-77b6-4ca9-dd54-a666868e8adc"
      },
      "source": [
        "import sklearn.metrics as metrics\n",
        "mae = metrics.mean_absolute_error(datasetarray, dataset_truearray)\n",
        "mse = metrics.mean_squared_error(datasetarray, dataset_truearray)\n",
        "rmse = np.sqrt(mse) #mse**(0.5)  \n",
        "r2 = rsquared(datasetarray, dataset_truearray)\n",
        "print(\"Results of sklearn.metrics:\")\n",
        "print(\"MAE:\",mae)\n",
        "print(\"MSE:\", mse)\n",
        "print(\"RMSE:\", rmse)\n",
        "print(\"R-Squared:\", r2)"
      ],
      "execution_count": 77,
      "outputs": [
        {
          "output_type": "stream",
          "text": [
            "Results of sklearn.metrics:\n",
            "MAE: 40.11948\n",
            "MSE: 2856.9883\n",
            "RMSE: 53.4508\n",
            "R-Squared: 0.8017612099647522\n"
          ],
          "name": "stdout"
        }
      ]
    },
    {
      "cell_type": "code",
      "metadata": {
        "colab": {
          "base_uri": "https://localhost:8080/",
          "height": 52
        },
        "id": "2u4Gkhyz1IiH",
        "outputId": "5cc5e4d4-c143-42f7-ada0-a2145f8dbc33"
      },
      "source": [
        "'''Results of sklearn.metrics:\n",
        "MAE: 99.565636\n",
        "MSE: 13574.67\n",
        "RMSE: 116.51038\n",
        "R-Squared: 0.8122207224369049\n",
        "\n",
        "MAE: 35.6758\n",
        "MSE: 2044.9722\n",
        "RMSE: 45.221367\n",
        "R-Squared: 0.8556911498308182'''"
      ],
      "execution_count": 78,
      "outputs": [
        {
          "output_type": "execute_result",
          "data": {
            "application/vnd.google.colaboratory.intrinsic+json": {
              "type": "string"
            },
            "text/plain": [
              "'Results of sklearn.metrics:\\nMAE: 99.565636\\nMSE: 13574.67\\nRMSE: 116.51038\\nR-Squared: 0.8122207224369049\\n\\nMAE: 35.6758\\nMSE: 2044.9722\\nRMSE: 45.221367\\nR-Squared: 0.8556911498308182'"
            ]
          },
          "metadata": {
            "tags": []
          },
          "execution_count": 78
        }
      ]
    },
    {
      "cell_type": "code",
      "metadata": {
        "id": "14cK_0jowuXn"
      },
      "source": [
        "dataset=dataset.assign(low=lambda d: d[['open', 'close']].min(1))\n",
        "dataset=dataset.assign(high=lambda d: d[['open', 'close']].max(1))\n",
        "dataset_true=dataset_true.assign(low=lambda d: d[['open', 'close']].min(1))\n",
        "dataset_true=dataset_true.assign(high=lambda d: d[['open', 'close']].max(1))"
      ],
      "execution_count": 79,
      "outputs": []
    },
    {
      "cell_type": "code",
      "metadata": {
        "colab": {
          "base_uri": "https://localhost:8080/",
          "height": 817
        },
        "id": "lRzUq7Tip9k9",
        "outputId": "436fc02a-2c97-4c76-a753-b19caef0e706"
      },
      "source": [
        "import plotly.graph_objects as go\n",
        "\n",
        "import pandas as pd\n",
        "from datetime import datetime\n",
        "\n",
        "fig = go.Figure(data=\n",
        "                [go.Ohlc(x=dataset['date'],\n",
        "                open=dataset['open'],\n",
        "                high=dataset['high'],\n",
        "                low=dataset['low'],\n",
        "                close=dataset['close'],\n",
        "                showlegend=False,\n",
        "                name=\"predicted\"),\n",
        "                 go.Ohlc(x=dataset_true['date'],\n",
        "                open=dataset_true['open'],\n",
        "                high=dataset_true['high'],\n",
        "                low=dataset_true['low'],\n",
        "                close=dataset_true['close'],\n",
        "                showlegend=False,\n",
        "                name=\"true\",\n",
        "    increasing_line_color= 'blue', decreasing_line_color= 'yellow'\n",
        ")])\n",
        "fig.update_layout(\n",
        "    autosize=False,\n",
        "    width=1000,\n",
        "    height=800,)\n",
        "fig.update(layout_xaxis_rangeslider_visible=False)\n",
        "fig.show()\n"
      ],
      "execution_count": 80,
      "outputs": [
        {
          "output_type": "display_data",
          "data": {
            "text/html": [
              "<html>\n",
              "<head><meta charset=\"utf-8\" /></head>\n",
              "<body>\n",
              "    <div>\n",
              "            <script src=\"https://cdnjs.cloudflare.com/ajax/libs/mathjax/2.7.5/MathJax.js?config=TeX-AMS-MML_SVG\"></script><script type=\"text/javascript\">if (window.MathJax) {MathJax.Hub.Config({SVG: {font: \"STIX-Web\"}});}</script>\n",
              "                <script type=\"text/javascript\">window.PlotlyConfig = {MathJaxConfig: 'local'};</script>\n",
              "        <script src=\"https://cdn.plot.ly/plotly-latest.min.js\"></script>    \n",
              "            <div id=\"4e453e4e-37ee-48d1-8161-f34e649aab2a\" class=\"plotly-graph-div\" style=\"height:800px; width:1000px;\"></div>\n",
              "            <script type=\"text/javascript\">\n",
              "                \n",
              "                    window.PLOTLYENV=window.PLOTLYENV || {};\n",
              "                    \n",
              "                if (document.getElementById(\"4e453e4e-37ee-48d1-8161-f34e649aab2a\")) {\n",
              "                    Plotly.newPlot(\n",
              "                        '4e453e4e-37ee-48d1-8161-f34e649aab2a',\n",
              "                        [{\"close\": [1562.0337318352622, 1554.5097978596532, 1564.3646555872624, 1511.443945554249, 1507.323648093637, 1525.4072300991152, 1495.331883005876, 1516.8466468498787, 1526.1310516354429, 1477.921136406562, 1469.4671584389096, 1460.2932962770292, 1469.1122162043462, 1495.6798077639125, 1490.183820281644, 1491.8419632126188, 1476.2855518842262, 1502.3956120077198, 1514.2374907474473, 1503.520936056685, 1513.8976322154601, 1554.425571069131, 1543.6296589583676, 1577.7028970046085, 1576.6847333895662, 1584.518769259305, 1604.7500788282716, 1648.5541774295139, 1630.9612000305967, 1640.8508735670719, 1630.9703075004743, 1657.067275519648, 1724.8351792161525, 1638.0389909646506, 1587.5689737522748, 1528.5202579824886, 1553.271719821913, 1527.8463036497094, 1516.740440008584, 1514.7148962159615, 1536.8974724465263, 1515.8416137055845, 1490.6717328839977, 1454.7118244850037, 1426.1674478657933, 1459.9928433288865, 1410.2619600962782, 1422.865186245918, 1439.6506423909536, 1458.5848642580493, 1463.3536287002762, 1463.1844963375831, 1483.5890475709357, 1451.60396291217, 1479.0018647852316, 1446.4833167621578, 1453.0636216499097, 1478.506166777555, 1507.447591563092, 1561.4296817460777, 1563.9988255743522, 1560.588795158994, 1551.690384626461, 1565.510062141451, 1527.402887468196, 1548.4863428842168, 1585.8768726185178, 1607.7758461686042, 1633.6171134389006, 1583.411907333515, 1597.4254821341096, 1510.1364740138904, 1560.448420972768, 1613.8469931665015, 1619.3020844168689, 1643.7274334746553, 1742.4908078370356, 1757.274674947248, 1755.771586086892, 1757.203580882633, 1734.6133139145757, 1746.9155168570353, 1743.9584013133838, 1771.1500850697569, 1775.4260040074694, 1764.192257442787, 1740.7269824839032, 1757.8296104202952, 1736.1130145229909, 1728.790712639308, 1762.725116770507, 1765.3805393689136, 1787.0054009799042, 1754.643480189947, 1791.6442430440734, 1821.3280522486452, 1820.0606772689298, 1821.2470056128238, 1812.8170762297486, 1811.8893762786154, 1777.5306421805867, 1768.2562427942128, 1774.5590787129913, 1752.3873209767255, 1759.9880802467985, 1755.0352085977793, 1739.9157947866295, 1722.908755942733, 1731.3598919069527, 1715.546320401365, 1724.432555299902, 1730.7232989532085, 1767.9195779667828, 1750.4516610914943, 1739.9837775752733, 1692.519310900062], \"high\": [1562.0337318352622, 1598.8312249725043, 1571.8685285327956, 1577.987338370107, 1509.0037800576388, 1525.5202948441863, 1534.6886269658412, 1516.8466468498787, 1526.1310516354429, 1514.0743423427252, 1495.588276679844, 1485.800408378465, 1478.7749955603788, 1495.6798077639125, 1509.9699350539595, 1497.0954934614274, 1502.7073392159982, 1502.3956120077198, 1520.696879413365, 1526.0504120590747, 1525.302827899958, 1554.425571069131, 1564.586894117954, 1577.7028970046085, 1588.789612083333, 1605.9677861668263, 1604.7500788282716, 1648.5541774295139, 1666.7498069686112, 1646.2133357051953, 1661.166679472804, 1657.067275519648, 1724.8351792161525, 1722.7730529271698, 1636.9453440779848, 1544.7203496451057, 1569.235444345221, 1571.6087158599366, 1546.982992887497, 1549.1843811210294, 1546.3097684383392, 1565.1908176790366, 1505.4449792727828, 1506.8246091370288, 1448.7681435992254, 1459.9928433288865, 1467.6371019331782, 1422.865186245918, 1441.213049659683, 1482.5360841723036, 1478.7564612825543, 1474.81471351839, 1492.379431828474, 1469.641881260381, 1479.0018647852316, 1482.868710035571, 1471.0337395992374, 1478.506166777555, 1507.447591563092, 1561.4296817460777, 1590.446161052287, 1585.4786717395546, 1553.8047048679596, 1572.6245401918513, 1587.3789192244794, 1548.4863428842168, 1585.8768726185178, 1607.7758461686042, 1633.8170780198307, 1632.9076692481026, 1603.8124657822739, 1567.653862524868, 1560.448420972768, 1680.2103130861042, 1636.6268196882017, 1643.7274334746553, 1742.4908078370356, 1791.6436347770505, 1764.6349224854787, 1802.067843435397, 1741.8507520686553, 1760.9627899946645, 1758.5193697585332, 1771.1500850697569, 1782.93439806881, 1788.1942114724218, 1776.2846647114136, 1757.8296104202952, 1776.3336351889848, 1760.6418091432743, 1762.725116770507, 1784.3228828473898, 1787.0054009799042, 1792.6153671615918, 1791.6442430440734, 1821.3280522486452, 1835.3705308860203, 1835.9085588548173, 1830.4715102640912, 1821.4739971275237, 1823.396633209239, 1780.251225003048, 1774.5590787129913, 1784.6941071678884, 1774.0186310879283, 1782.2339354856517, 1777.7872474519827, 1763.1507970514228, 1731.3598919069527, 1743.4099299608038, 1737.1470216573339, 1743.8989599165507, 1767.9195779667828, 1796.9726656551725, 1739.9837775752733, 1756.064413882541], \"low\": [1526.8600968348828, 1554.5097978596532, 1564.3646555872624, 1511.443945554249, 1507.323648093637, 1525.4072300991152, 1495.331883005876, 1515.57110014618, 1505.9406651360914, 1477.921136406562, 1469.4671584389096, 1460.2932962770292, 1469.1122162043462, 1481.4133853350068, 1490.183820281644, 1491.8419632126188, 1476.2855518842262, 1495.6501258769676, 1514.2374907474473, 1503.520936056685, 1513.8976322154601, 1536.9190319613995, 1543.6296589583676, 1554.5481933268798, 1576.6847333895662, 1584.518769259305, 1594.3403885757848, 1620.1502633169293, 1630.9612000305967, 1640.8508735670719, 1630.9703075004743, 1649.3640633561956, 1687.2582465365035, 1638.0389909646506, 1587.5689737522748, 1528.5202579824886, 1553.271719821913, 1527.8463036497094, 1516.740440008584, 1514.7148962159615, 1536.8974724465263, 1515.8416137055845, 1490.6717328839977, 1454.7118244850037, 1426.1674478657933, 1458.4602202865278, 1410.2619600962782, 1419.241711012721, 1439.6506423909536, 1458.5848642580493, 1463.3536287002762, 1463.1844963375831, 1483.5890475709357, 1451.60396291217, 1473.6788974950186, 1446.4833167621578, 1453.0636216499097, 1471.5166115943055, 1500.8578402989572, 1549.5866073705256, 1563.9988255743522, 1560.588795158994, 1551.690384626461, 1565.510062141451, 1527.402887468196, 1533.6537923827805, 1580.3550234090353, 1600.2300538805787, 1633.6171134389006, 1583.411907333515, 1597.4254821341096, 1510.1364740138904, 1529.9822747623068, 1613.8469931665015, 1619.3020844168689, 1640.580648835476, 1719.823239940264, 1757.274674947248, 1755.771586086892, 1757.203580882633, 1734.6133139145757, 1746.9155168570353, 1743.9584013133838, 1768.7720177456558, 1775.4260040074694, 1764.192257442787, 1740.7269824839032, 1749.3463941455857, 1736.1130145229909, 1728.790712639308, 1741.4827891078312, 1765.3805393689136, 1784.4667863597188, 1754.643480189947, 1785.4822199300825, 1809.345786228448, 1820.0606772689298, 1821.2470056128238, 1812.8170762297486, 1811.8893762786154, 1777.5306421805867, 1768.2562427942128, 1773.3572443244268, 1752.3873209767255, 1759.9880802467985, 1755.0352085977793, 1739.9157947866295, 1722.908755942733, 1722.4129856512523, 1715.546320401365, 1724.432555299902, 1730.7232989532085, 1760.8064292553768, 1750.4516610914943, 1737.7994491976679, 1692.519310900062], \"name\": \"predicted\", \"open\": [1526.8600968348828, 1598.8312249725043, 1571.8685285327956, 1577.987338370107, 1509.0037800576388, 1525.5202948441863, 1534.6886269658412, 1515.57110014618, 1505.9406651360914, 1514.0743423427252, 1495.588276679844, 1485.800408378465, 1478.7749955603788, 1481.4133853350068, 1509.9699350539595, 1497.0954934614274, 1502.7073392159982, 1495.6501258769676, 1520.696879413365, 1526.0504120590747, 1525.302827899958, 1536.9190319613995, 1564.586894117954, 1554.5481933268798, 1588.789612083333, 1605.9677861668263, 1594.3403885757848, 1620.1502633169293, 1666.7498069686112, 1646.2133357051953, 1661.166679472804, 1649.3640633561956, 1687.2582465365035, 1722.7730529271698, 1636.9453440779848, 1544.7203496451057, 1569.235444345221, 1571.6087158599366, 1546.982992887497, 1549.1843811210294, 1546.3097684383392, 1565.1908176790366, 1505.4449792727828, 1506.8246091370288, 1448.7681435992254, 1458.4602202865278, 1467.6371019331782, 1419.241711012721, 1441.213049659683, 1482.5360841723036, 1478.7564612825543, 1474.81471351839, 1492.379431828474, 1469.641881260381, 1473.6788974950186, 1482.868710035571, 1471.0337395992374, 1471.5166115943055, 1500.8578402989572, 1549.5866073705256, 1590.446161052287, 1585.4786717395546, 1553.8047048679596, 1572.6245401918513, 1587.3789192244794, 1533.6537923827805, 1580.3550234090353, 1600.2300538805787, 1633.8170780198307, 1632.9076692481026, 1603.8124657822739, 1567.653862524868, 1529.9822747623068, 1680.2103130861042, 1636.6268196882017, 1640.580648835476, 1719.823239940264, 1791.6436347770505, 1764.6349224854787, 1802.067843435397, 1741.8507520686553, 1760.9627899946645, 1758.5193697585332, 1768.7720177456558, 1782.93439806881, 1788.1942114724218, 1776.2846647114136, 1749.3463941455857, 1776.3336351889848, 1760.6418091432743, 1741.4827891078312, 1784.3228828473898, 1784.4667863597188, 1792.6153671615918, 1785.4822199300825, 1809.345786228448, 1835.3705308860203, 1835.9085588548173, 1830.4715102640912, 1821.4739971275237, 1823.396633209239, 1780.251225003048, 1773.3572443244268, 1784.6941071678884, 1774.0186310879283, 1782.2339354856517, 1777.7872474519827, 1763.1507970514228, 1722.4129856512523, 1743.4099299608038, 1737.1470216573339, 1743.8989599165507, 1760.8064292553768, 1796.9726656551725, 1737.7994491976679, 1756.064413882541], \"showlegend\": false, \"type\": \"ohlc\", \"x\": [\"2020-07-20T00:00:00\", \"2020-07-21T00:00:00\", \"2020-07-22T00:00:00\", \"2020-07-23T00:00:00\", \"2020-07-24T00:00:00\", \"2020-07-27T00:00:00\", \"2020-07-28T00:00:00\", \"2020-07-29T00:00:00\", \"2020-07-30T00:00:00\", \"2020-07-31T00:00:00\", \"2020-08-03T00:00:00\", \"2020-08-04T00:00:00\", \"2020-08-05T00:00:00\", \"2020-08-06T00:00:00\", \"2020-08-07T00:00:00\", \"2020-08-10T00:00:00\", \"2020-08-11T00:00:00\", \"2020-08-12T00:00:00\", \"2020-08-13T00:00:00\", \"2020-08-14T00:00:00\", \"2020-08-17T00:00:00\", \"2020-08-18T00:00:00\", \"2020-08-19T00:00:00\", \"2020-08-20T00:00:00\", \"2020-08-21T00:00:00\", \"2020-08-24T00:00:00\", \"2020-08-25T00:00:00\", \"2020-08-26T00:00:00\", \"2020-08-27T00:00:00\", \"2020-08-28T00:00:00\", \"2020-08-31T00:00:00\", \"2020-09-01T00:00:00\", \"2020-09-02T00:00:00\", \"2020-09-03T00:00:00\", \"2020-09-04T00:00:00\", \"2020-09-08T00:00:00\", \"2020-09-09T00:00:00\", \"2020-09-10T00:00:00\", \"2020-09-11T00:00:00\", \"2020-09-14T00:00:00\", \"2020-09-15T00:00:00\", \"2020-09-16T00:00:00\", \"2020-09-17T00:00:00\", \"2020-09-18T00:00:00\", \"2020-09-21T00:00:00\", \"2020-09-22T00:00:00\", \"2020-09-23T00:00:00\", \"2020-09-24T00:00:00\", \"2020-09-25T00:00:00\", \"2020-09-28T00:00:00\", \"2020-09-29T00:00:00\", \"2020-09-30T00:00:00\", \"2020-10-01T00:00:00\", \"2020-10-02T00:00:00\", \"2020-10-05T00:00:00\", \"2020-10-06T00:00:00\", \"2020-10-07T00:00:00\", \"2020-10-08T00:00:00\", \"2020-10-09T00:00:00\", \"2020-10-12T00:00:00\", \"2020-10-13T00:00:00\", \"2020-10-14T00:00:00\", \"2020-10-15T00:00:00\", \"2020-10-16T00:00:00\", \"2020-10-19T00:00:00\", \"2020-10-20T00:00:00\", \"2020-10-21T00:00:00\", \"2020-10-22T00:00:00\", \"2020-10-23T00:00:00\", \"2020-10-26T00:00:00\", \"2020-10-27T00:00:00\", \"2020-10-28T00:00:00\", \"2020-10-29T00:00:00\", \"2020-10-30T00:00:00\", \"2020-11-02T00:00:00\", \"2020-11-03T00:00:00\", \"2020-11-04T00:00:00\", \"2020-11-05T00:00:00\", \"2020-11-06T00:00:00\", \"2020-11-09T00:00:00\", \"2020-11-10T00:00:00\", \"2020-11-11T00:00:00\", \"2020-11-12T00:00:00\", \"2020-11-13T00:00:00\", \"2020-11-16T00:00:00\", \"2020-11-17T00:00:00\", \"2020-11-18T00:00:00\", \"2020-11-19T00:00:00\", \"2020-11-20T00:00:00\", \"2020-11-23T00:00:00\", \"2020-11-24T00:00:00\", \"2020-11-25T00:00:00\", \"2020-11-27T00:00:00\", \"2020-11-30T00:00:00\", \"2020-12-01T00:00:00\", \"2020-12-02T00:00:00\", \"2020-12-03T00:00:00\", \"2020-12-04T00:00:00\", \"2020-12-07T00:00:00\", \"2020-12-08T00:00:00\", \"2020-12-09T00:00:00\", \"2020-12-10T00:00:00\", \"2020-12-11T00:00:00\", \"2020-12-14T00:00:00\", \"2020-12-15T00:00:00\", \"2020-12-16T00:00:00\", \"2020-12-17T00:00:00\", \"2020-12-18T00:00:00\", \"2020-12-21T00:00:00\", \"2020-12-22T00:00:00\", \"2020-12-23T00:00:00\", \"2020-12-24T00:00:00\", \"2020-12-28T00:00:00\", \"2020-12-29T00:00:00\", \"2020-12-30T00:00:00\", \"2020-12-31T00:00:00\"]}, {\"close\": [1558.4200439453125, 1568.489990234375, 1515.6800537109375, 1511.8699951171875, 1530.199951171875, 1500.3399658203125, 1522.02001953125, 1531.449951171875, 1482.9599609375, 1474.449951171875, 1464.969970703125, 1473.6099853515625, 1500.0999755859375, 1494.489990234375, 1496.0999755859375, 1480.3199462890625, 1506.6199951171875, 1518.449951171875, 1507.72998046875, 1517.97998046875, 1558.5999755859375, 1547.530029296875, 1581.75, 1580.4200439453125, 1588.199951171875, 1608.219970703125, 1652.3800048828125, 1634.3299560546875, 1644.4100341796875, 1634.1800537109375, 1660.7099609375, 1728.280029296875, 1641.8399658203125, 1591.0400390625, 1532.3900146484375, 1556.9599609375, 1532.02001953125, 1520.719970703125, 1519.280029296875, 1541.43994140625, 1520.9000244140625, 1495.530029296875, 1459.989990234375, 1431.1600341796875, 1465.4599609375, 1415.2099609375, 1428.2900390625, 1444.9599609375, 1464.52001953125, 1469.3299560546875, 1469.5999755859375, 1490.0899658203125, 1458.4200439453125, 1486.02001953125, 1453.43994140625, 1460.2900390625, 1485.9300537109375, 1515.219970703125, 1569.1500244140625, 1571.6800537109375, 1568.0799560546875, 1559.1300048828125, 1573.010009765625, 1534.6099853515625, 1555.9300537109375, 1593.31005859375, 1615.3299560546875, 1641.0, 1590.449951171875, 1604.260009765625, 1516.6199951171875, 1567.239990234375, 1621.010009765625, 1626.030029296875, 1650.2099609375, 1749.1300048828125, 1763.3699951171875, 1761.75, 1763.0, 1740.3900146484375, 1752.7099609375, 1749.8399658203125, 1777.02001953125, 1781.3800048828125, 1770.1500244140625, 1746.780029296875, 1763.9200439453125, 1742.18994140625, 1734.8599853515625, 1768.8800048828125, 1771.4300537109375, 1793.18994140625, 1760.739990234375, 1798.0999755859375, 1827.949951171875, 1826.77001953125, 1827.989990234375, 1819.47998046875, 1818.550048828125, 1784.1300048828125, 1775.3299560546875, 1781.77001953125, 1760.06005859375, 1767.77001953125, 1763.0, 1747.9000244140625, 1731.010009765625, 1739.3699951171875, 1723.5, 1732.3800048828125, 1738.8499755859375, 1776.0899658203125, 1758.719970703125, null], \"decreasing\": {\"line\": {\"color\": \"yellow\"}}, \"high\": [1586.989990234375, 1568.489990234375, 1566.969970703125, 1511.8699951171875, 1530.199951171875, 1525.1800537109375, 1522.02001953125, 1531.449951171875, 1505.010009765625, 1486.6400146484375, 1476.5699462890625, 1473.6099853515625, 1500.0999755859375, 1500.0, 1496.0999755859375, 1492.43994140625, 1506.6199951171875, 1518.449951171875, 1515.6600341796875, 1517.97998046875, 1558.5999755859375, 1553.31005859375, 1581.75, 1580.4200439453125, 1593.97998046875, 1608.219970703125, 1652.3800048828125, 1653.6800537109375, 1644.4100341796875, 1647.8900146484375, 1660.7099609375, 1728.280029296875, 1709.7139892578125, 1624.260009765625, 1533.510009765625, 1557.530029296875, 1560.6400146484375, 1536.0, 1539.0050048828125, 1541.43994140625, 1555.5400390625, 1496.0, 1498.010009765625, 1440.06005859375, 1465.4599609375, 1458.780029296875, 1428.2900390625, 1444.9599609375, 1474.2099609375, 1470.3900146484375, 1469.5999755859375, 1490.0899658203125, 1462.030029296875, 1486.02001953125, 1475.5799560546875, 1464.2900390625, 1485.9300537109375, 1515.219970703125, 1569.1500244140625, 1583.72998046875, 1578.5899658203125, 1559.1300048828125, 1573.010009765625, 1580.4599609375, 1555.9300537109375, 1593.31005859375, 1615.3299560546875, 1641.0, 1625.010009765625, 1604.260009765625, 1559.739990234375, 1567.239990234375, 1672.1099853515625, 1628.1600341796875, 1650.2099609375, 1749.1300048828125, 1781.0, 1761.75, 1790.9000244140625, 1740.3900146484375, 1752.7099609375, 1749.8399658203125, 1777.02001953125, 1781.3800048828125, 1776.93994140625, 1765.22998046875, 1763.9200439453125, 1765.2099609375, 1749.5999755859375, 1768.8800048828125, 1772.8900146484375, 1793.18994140625, 1781.1839599609375, 1798.0999755859375, 1827.949951171875, 1826.77001953125, 1827.989990234375, 1819.47998046875, 1818.550048828125, 1812.010009765625, 1775.3299560546875, 1781.77001953125, 1775.0, 1767.77001953125, 1772.8800048828125, 1768.510009765625, 1754.1800537109375, 1739.3699951171875, 1734.4300537109375, 1732.3800048828125, 1738.8499755859375, 1776.0899658203125, 1787.7900390625, null], \"increasing\": {\"line\": {\"color\": \"blue\"}}, \"low\": [1558.4200439453125, 1560.5, 1515.6800537109375, 1498.9300537109375, 1515.5999755859375, 1500.3399658203125, 1506.3199462890625, 1497.0, 1482.9599609375, 1474.449951171875, 1464.969970703125, 1469.300048828125, 1471.75, 1494.489990234375, 1487.1800537109375, 1480.3199462890625, 1485.5799560546875, 1510.3399658203125, 1507.72998046875, 1514.6700439453125, 1526.1800537109375, 1547.530029296875, 1543.449951171875, 1577.030029296875, 1588.199951171875, 1582.0699462890625, 1608.0, 1634.3299560546875, 1633.489990234375, 1634.1800537109375, 1636.6300048828125, 1673.7750244140625, 1641.8399658203125, 1591.0400390625, 1532.3900146484375, 1556.9599609375, 1532.02001953125, 1520.719970703125, 1519.280029296875, 1536.0, 1520.9000244140625, 1495.530029296875, 1459.989990234375, 1431.1600341796875, 1450.0899658203125, 1415.2099609375, 1411.030029296875, 1432.6300048828125, 1464.52001953125, 1469.3299560546875, 1466.800048828125, 1484.27001953125, 1458.4200439453125, 1466.2099609375, 1453.43994140625, 1460.2900390625, 1465.0899658203125, 1494.699951171875, 1543.0, 1571.6800537109375, 1568.0799560546875, 1547.1500244140625, 1565.8499755859375, 1534.6099853515625, 1527.050048828125, 1573.3299560546875, 1593.050048828125, 1626.0699462890625, 1590.449951171875, 1595.6700439453125, 1516.6199951171875, 1522.3599853515625, 1621.010009765625, 1626.030029296875, 1631.780029296875, 1710.280029296875, 1763.3699951171875, 1753.949951171875, 1763.0, 1731.0899658203125, 1750.0, 1747.6300048828125, 1757.6300048828125, 1771.699951171875, 1770.1500244140625, 1746.780029296875, 1738.3800048828125, 1742.18994140625, 1734.8599853515625, 1730.5, 1771.4300537109375, 1773.0899658203125, 1760.739990234375, 1774.3699951171875, 1798.0999755859375, 1824.010009765625, 1824.52001953125, 1819.0, 1810.0999755859375, 1784.1300048828125, 1769.800048828125, 1763.06005859375, 1760.06005859375, 1764.4200439453125, 1763.0, 1747.9000244140625, 1731.010009765625, 1713.510009765625, 1723.5, 1728.1099853515625, 1735.0, 1751.635009765625, 1758.719970703125, null], \"name\": \"true\", \"open\": [1586.989990234375, 1560.5, 1566.969970703125, 1498.9300537109375, 1515.5999755859375, 1525.1800537109375, 1506.3199462890625, 1497.0, 1505.010009765625, 1486.6400146484375, 1476.5699462890625, 1469.300048828125, 1471.75, 1500.0, 1487.1800537109375, 1492.43994140625, 1485.5799560546875, 1510.3399658203125, 1515.6600341796875, 1514.6700439453125, 1526.1800537109375, 1553.31005859375, 1543.449951171875, 1577.030029296875, 1593.97998046875, 1582.0699462890625, 1608.0, 1653.6800537109375, 1633.489990234375, 1647.8900146484375, 1636.6300048828125, 1673.7750244140625, 1709.7139892578125, 1624.260009765625, 1533.510009765625, 1557.530029296875, 1560.6400146484375, 1536.0, 1539.0050048828125, 1536.0, 1555.5400390625, 1496.0, 1498.010009765625, 1440.06005859375, 1450.0899658203125, 1458.780029296875, 1411.030029296875, 1432.6300048828125, 1474.2099609375, 1470.3900146484375, 1466.800048828125, 1484.27001953125, 1462.030029296875, 1466.2099609375, 1475.5799560546875, 1464.2900390625, 1465.0899658203125, 1494.699951171875, 1543.0, 1583.72998046875, 1578.5899658203125, 1547.1500244140625, 1565.8499755859375, 1580.4599609375, 1527.050048828125, 1573.3299560546875, 1593.050048828125, 1626.0699462890625, 1625.010009765625, 1595.6700439453125, 1559.739990234375, 1522.3599853515625, 1672.1099853515625, 1628.1600341796875, 1631.780029296875, 1710.280029296875, 1781.0, 1753.949951171875, 1790.9000244140625, 1731.0899658203125, 1750.0, 1747.6300048828125, 1757.6300048828125, 1771.699951171875, 1776.93994140625, 1765.22998046875, 1738.3800048828125, 1765.2099609375, 1749.5999755859375, 1730.5, 1772.8900146484375, 1773.0899658203125, 1781.1839599609375, 1774.3699951171875, 1798.0999755859375, 1824.010009765625, 1824.52001953125, 1819.0, 1810.0999755859375, 1812.010009765625, 1769.800048828125, 1763.06005859375, 1775.0, 1764.4200439453125, 1772.8800048828125, 1768.510009765625, 1754.1800537109375, 1713.510009765625, 1734.4300537109375, 1728.1099853515625, 1735.0, 1751.635009765625, 1787.7900390625, null], \"showlegend\": false, \"type\": \"ohlc\", \"x\": [\"2020-07-20T00:00:00\", \"2020-07-21T00:00:00\", \"2020-07-22T00:00:00\", \"2020-07-23T00:00:00\", \"2020-07-24T00:00:00\", \"2020-07-27T00:00:00\", \"2020-07-28T00:00:00\", \"2020-07-29T00:00:00\", \"2020-07-30T00:00:00\", \"2020-07-31T00:00:00\", \"2020-08-03T00:00:00\", \"2020-08-04T00:00:00\", \"2020-08-05T00:00:00\", \"2020-08-06T00:00:00\", \"2020-08-07T00:00:00\", \"2020-08-10T00:00:00\", \"2020-08-11T00:00:00\", \"2020-08-12T00:00:00\", \"2020-08-13T00:00:00\", \"2020-08-14T00:00:00\", \"2020-08-17T00:00:00\", \"2020-08-18T00:00:00\", \"2020-08-19T00:00:00\", \"2020-08-20T00:00:00\", \"2020-08-21T00:00:00\", \"2020-08-24T00:00:00\", \"2020-08-25T00:00:00\", \"2020-08-26T00:00:00\", \"2020-08-27T00:00:00\", \"2020-08-28T00:00:00\", \"2020-08-31T00:00:00\", \"2020-09-01T00:00:00\", \"2020-09-02T00:00:00\", \"2020-09-03T00:00:00\", \"2020-09-04T00:00:00\", \"2020-09-08T00:00:00\", \"2020-09-09T00:00:00\", \"2020-09-10T00:00:00\", \"2020-09-11T00:00:00\", \"2020-09-14T00:00:00\", \"2020-09-15T00:00:00\", \"2020-09-16T00:00:00\", \"2020-09-17T00:00:00\", \"2020-09-18T00:00:00\", \"2020-09-21T00:00:00\", \"2020-09-22T00:00:00\", \"2020-09-23T00:00:00\", \"2020-09-24T00:00:00\", \"2020-09-25T00:00:00\", \"2020-09-28T00:00:00\", \"2020-09-29T00:00:00\", \"2020-09-30T00:00:00\", \"2020-10-01T00:00:00\", \"2020-10-02T00:00:00\", \"2020-10-05T00:00:00\", \"2020-10-06T00:00:00\", \"2020-10-07T00:00:00\", \"2020-10-08T00:00:00\", \"2020-10-09T00:00:00\", \"2020-10-12T00:00:00\", \"2020-10-13T00:00:00\", \"2020-10-14T00:00:00\", \"2020-10-15T00:00:00\", \"2020-10-16T00:00:00\", \"2020-10-19T00:00:00\", \"2020-10-20T00:00:00\", \"2020-10-21T00:00:00\", \"2020-10-22T00:00:00\", \"2020-10-23T00:00:00\", \"2020-10-26T00:00:00\", \"2020-10-27T00:00:00\", \"2020-10-28T00:00:00\", \"2020-10-29T00:00:00\", \"2020-10-30T00:00:00\", \"2020-11-02T00:00:00\", \"2020-11-03T00:00:00\", \"2020-11-04T00:00:00\", \"2020-11-05T00:00:00\", \"2020-11-06T00:00:00\", \"2020-11-09T00:00:00\", \"2020-11-10T00:00:00\", \"2020-11-11T00:00:00\", \"2020-11-12T00:00:00\", \"2020-11-13T00:00:00\", \"2020-11-16T00:00:00\", \"2020-11-17T00:00:00\", \"2020-11-18T00:00:00\", \"2020-11-19T00:00:00\", \"2020-11-20T00:00:00\", \"2020-11-23T00:00:00\", \"2020-11-24T00:00:00\", \"2020-11-25T00:00:00\", \"2020-11-27T00:00:00\", \"2020-11-30T00:00:00\", \"2020-12-01T00:00:00\", \"2020-12-02T00:00:00\", \"2020-12-03T00:00:00\", \"2020-12-04T00:00:00\", \"2020-12-07T00:00:00\", \"2020-12-08T00:00:00\", \"2020-12-09T00:00:00\", \"2020-12-10T00:00:00\", \"2020-12-11T00:00:00\", \"2020-12-14T00:00:00\", \"2020-12-15T00:00:00\", \"2020-12-16T00:00:00\", \"2020-12-17T00:00:00\", \"2020-12-18T00:00:00\", \"2020-12-21T00:00:00\", \"2020-12-22T00:00:00\", \"2020-12-23T00:00:00\", \"2020-12-24T00:00:00\", \"2020-12-28T00:00:00\", \"2020-12-29T00:00:00\"]}],\n",
              "                        {\"autosize\": false, \"height\": 800, \"template\": {\"data\": {\"bar\": [{\"error_x\": {\"color\": \"#2a3f5f\"}, \"error_y\": {\"color\": \"#2a3f5f\"}, \"marker\": {\"line\": {\"color\": \"#E5ECF6\", \"width\": 0.5}}, \"type\": \"bar\"}], \"barpolar\": [{\"marker\": {\"line\": {\"color\": \"#E5ECF6\", \"width\": 0.5}}, \"type\": \"barpolar\"}], \"carpet\": [{\"aaxis\": {\"endlinecolor\": \"#2a3f5f\", \"gridcolor\": \"white\", \"linecolor\": \"white\", \"minorgridcolor\": \"white\", \"startlinecolor\": \"#2a3f5f\"}, \"baxis\": {\"endlinecolor\": \"#2a3f5f\", \"gridcolor\": \"white\", \"linecolor\": \"white\", \"minorgridcolor\": \"white\", \"startlinecolor\": \"#2a3f5f\"}, \"type\": \"carpet\"}], \"choropleth\": [{\"colorbar\": {\"outlinewidth\": 0, \"ticks\": \"\"}, \"type\": \"choropleth\"}], \"contour\": [{\"colorbar\": {\"outlinewidth\": 0, \"ticks\": \"\"}, \"colorscale\": [[0.0, \"#0d0887\"], [0.1111111111111111, \"#46039f\"], [0.2222222222222222, \"#7201a8\"], [0.3333333333333333, \"#9c179e\"], [0.4444444444444444, \"#bd3786\"], [0.5555555555555556, \"#d8576b\"], [0.6666666666666666, \"#ed7953\"], [0.7777777777777778, \"#fb9f3a\"], [0.8888888888888888, \"#fdca26\"], [1.0, \"#f0f921\"]], \"type\": \"contour\"}], \"contourcarpet\": [{\"colorbar\": {\"outlinewidth\": 0, \"ticks\": \"\"}, \"type\": \"contourcarpet\"}], \"heatmap\": [{\"colorbar\": {\"outlinewidth\": 0, \"ticks\": \"\"}, \"colorscale\": [[0.0, \"#0d0887\"], [0.1111111111111111, \"#46039f\"], [0.2222222222222222, \"#7201a8\"], [0.3333333333333333, \"#9c179e\"], [0.4444444444444444, \"#bd3786\"], [0.5555555555555556, \"#d8576b\"], [0.6666666666666666, \"#ed7953\"], [0.7777777777777778, \"#fb9f3a\"], [0.8888888888888888, \"#fdca26\"], [1.0, \"#f0f921\"]], \"type\": \"heatmap\"}], \"heatmapgl\": [{\"colorbar\": {\"outlinewidth\": 0, \"ticks\": \"\"}, \"colorscale\": [[0.0, \"#0d0887\"], [0.1111111111111111, \"#46039f\"], [0.2222222222222222, \"#7201a8\"], [0.3333333333333333, \"#9c179e\"], [0.4444444444444444, \"#bd3786\"], [0.5555555555555556, \"#d8576b\"], [0.6666666666666666, \"#ed7953\"], [0.7777777777777778, \"#fb9f3a\"], [0.8888888888888888, \"#fdca26\"], [1.0, \"#f0f921\"]], \"type\": \"heatmapgl\"}], \"histogram\": [{\"marker\": {\"colorbar\": {\"outlinewidth\": 0, \"ticks\": \"\"}}, \"type\": \"histogram\"}], \"histogram2d\": [{\"colorbar\": {\"outlinewidth\": 0, \"ticks\": \"\"}, \"colorscale\": [[0.0, \"#0d0887\"], [0.1111111111111111, \"#46039f\"], [0.2222222222222222, \"#7201a8\"], [0.3333333333333333, \"#9c179e\"], [0.4444444444444444, \"#bd3786\"], [0.5555555555555556, \"#d8576b\"], [0.6666666666666666, \"#ed7953\"], [0.7777777777777778, \"#fb9f3a\"], [0.8888888888888888, \"#fdca26\"], [1.0, \"#f0f921\"]], \"type\": \"histogram2d\"}], \"histogram2dcontour\": [{\"colorbar\": {\"outlinewidth\": 0, \"ticks\": \"\"}, \"colorscale\": [[0.0, \"#0d0887\"], [0.1111111111111111, \"#46039f\"], [0.2222222222222222, \"#7201a8\"], [0.3333333333333333, \"#9c179e\"], [0.4444444444444444, \"#bd3786\"], [0.5555555555555556, \"#d8576b\"], [0.6666666666666666, \"#ed7953\"], [0.7777777777777778, \"#fb9f3a\"], [0.8888888888888888, \"#fdca26\"], [1.0, \"#f0f921\"]], \"type\": \"histogram2dcontour\"}], \"mesh3d\": [{\"colorbar\": {\"outlinewidth\": 0, \"ticks\": \"\"}, \"type\": \"mesh3d\"}], \"parcoords\": [{\"line\": {\"colorbar\": {\"outlinewidth\": 0, \"ticks\": \"\"}}, \"type\": \"parcoords\"}], \"pie\": [{\"automargin\": true, \"type\": \"pie\"}], \"scatter\": [{\"marker\": {\"colorbar\": {\"outlinewidth\": 0, \"ticks\": \"\"}}, \"type\": \"scatter\"}], \"scatter3d\": [{\"line\": {\"colorbar\": {\"outlinewidth\": 0, \"ticks\": \"\"}}, \"marker\": {\"colorbar\": {\"outlinewidth\": 0, \"ticks\": \"\"}}, \"type\": \"scatter3d\"}], \"scattercarpet\": [{\"marker\": {\"colorbar\": {\"outlinewidth\": 0, \"ticks\": \"\"}}, \"type\": \"scattercarpet\"}], \"scattergeo\": [{\"marker\": {\"colorbar\": {\"outlinewidth\": 0, \"ticks\": \"\"}}, \"type\": \"scattergeo\"}], \"scattergl\": [{\"marker\": {\"colorbar\": {\"outlinewidth\": 0, \"ticks\": \"\"}}, \"type\": \"scattergl\"}], \"scattermapbox\": [{\"marker\": {\"colorbar\": {\"outlinewidth\": 0, \"ticks\": \"\"}}, \"type\": \"scattermapbox\"}], \"scatterpolar\": [{\"marker\": {\"colorbar\": {\"outlinewidth\": 0, \"ticks\": \"\"}}, \"type\": \"scatterpolar\"}], \"scatterpolargl\": [{\"marker\": {\"colorbar\": {\"outlinewidth\": 0, \"ticks\": \"\"}}, \"type\": \"scatterpolargl\"}], \"scatterternary\": [{\"marker\": {\"colorbar\": {\"outlinewidth\": 0, \"ticks\": \"\"}}, \"type\": \"scatterternary\"}], \"surface\": [{\"colorbar\": {\"outlinewidth\": 0, \"ticks\": \"\"}, \"colorscale\": [[0.0, \"#0d0887\"], [0.1111111111111111, \"#46039f\"], [0.2222222222222222, \"#7201a8\"], [0.3333333333333333, \"#9c179e\"], [0.4444444444444444, \"#bd3786\"], [0.5555555555555556, \"#d8576b\"], [0.6666666666666666, \"#ed7953\"], [0.7777777777777778, \"#fb9f3a\"], [0.8888888888888888, \"#fdca26\"], [1.0, \"#f0f921\"]], \"type\": \"surface\"}], \"table\": [{\"cells\": {\"fill\": {\"color\": \"#EBF0F8\"}, \"line\": {\"color\": \"white\"}}, \"header\": {\"fill\": {\"color\": \"#C8D4E3\"}, \"line\": {\"color\": \"white\"}}, \"type\": \"table\"}]}, \"layout\": {\"annotationdefaults\": {\"arrowcolor\": \"#2a3f5f\", \"arrowhead\": 0, \"arrowwidth\": 1}, \"coloraxis\": {\"colorbar\": {\"outlinewidth\": 0, \"ticks\": \"\"}}, \"colorscale\": {\"diverging\": [[0, \"#8e0152\"], [0.1, \"#c51b7d\"], [0.2, \"#de77ae\"], [0.3, \"#f1b6da\"], [0.4, \"#fde0ef\"], [0.5, \"#f7f7f7\"], [0.6, \"#e6f5d0\"], [0.7, \"#b8e186\"], [0.8, \"#7fbc41\"], [0.9, \"#4d9221\"], [1, \"#276419\"]], \"sequential\": [[0.0, \"#0d0887\"], [0.1111111111111111, \"#46039f\"], [0.2222222222222222, \"#7201a8\"], [0.3333333333333333, \"#9c179e\"], [0.4444444444444444, \"#bd3786\"], [0.5555555555555556, \"#d8576b\"], [0.6666666666666666, \"#ed7953\"], [0.7777777777777778, \"#fb9f3a\"], [0.8888888888888888, \"#fdca26\"], [1.0, \"#f0f921\"]], \"sequentialminus\": [[0.0, \"#0d0887\"], [0.1111111111111111, \"#46039f\"], [0.2222222222222222, \"#7201a8\"], [0.3333333333333333, \"#9c179e\"], [0.4444444444444444, \"#bd3786\"], [0.5555555555555556, \"#d8576b\"], [0.6666666666666666, \"#ed7953\"], [0.7777777777777778, \"#fb9f3a\"], [0.8888888888888888, \"#fdca26\"], [1.0, \"#f0f921\"]]}, \"colorway\": [\"#636efa\", \"#EF553B\", \"#00cc96\", \"#ab63fa\", \"#FFA15A\", \"#19d3f3\", \"#FF6692\", \"#B6E880\", \"#FF97FF\", \"#FECB52\"], \"font\": {\"color\": \"#2a3f5f\"}, \"geo\": {\"bgcolor\": \"white\", \"lakecolor\": \"white\", \"landcolor\": \"#E5ECF6\", \"showlakes\": true, \"showland\": true, \"subunitcolor\": \"white\"}, \"hoverlabel\": {\"align\": \"left\"}, \"hovermode\": \"closest\", \"mapbox\": {\"style\": \"light\"}, \"paper_bgcolor\": \"white\", \"plot_bgcolor\": \"#E5ECF6\", \"polar\": {\"angularaxis\": {\"gridcolor\": \"white\", \"linecolor\": \"white\", \"ticks\": \"\"}, \"bgcolor\": \"#E5ECF6\", \"radialaxis\": {\"gridcolor\": \"white\", \"linecolor\": \"white\", \"ticks\": \"\"}}, \"scene\": {\"xaxis\": {\"backgroundcolor\": \"#E5ECF6\", \"gridcolor\": \"white\", \"gridwidth\": 2, \"linecolor\": \"white\", \"showbackground\": true, \"ticks\": \"\", \"zerolinecolor\": \"white\"}, \"yaxis\": {\"backgroundcolor\": \"#E5ECF6\", \"gridcolor\": \"white\", \"gridwidth\": 2, \"linecolor\": \"white\", \"showbackground\": true, \"ticks\": \"\", \"zerolinecolor\": \"white\"}, \"zaxis\": {\"backgroundcolor\": \"#E5ECF6\", \"gridcolor\": \"white\", \"gridwidth\": 2, \"linecolor\": \"white\", \"showbackground\": true, \"ticks\": \"\", \"zerolinecolor\": \"white\"}}, \"shapedefaults\": {\"line\": {\"color\": \"#2a3f5f\"}}, \"ternary\": {\"aaxis\": {\"gridcolor\": \"white\", \"linecolor\": \"white\", \"ticks\": \"\"}, \"baxis\": {\"gridcolor\": \"white\", \"linecolor\": \"white\", \"ticks\": \"\"}, \"bgcolor\": \"#E5ECF6\", \"caxis\": {\"gridcolor\": \"white\", \"linecolor\": \"white\", \"ticks\": \"\"}}, \"title\": {\"x\": 0.05}, \"xaxis\": {\"automargin\": true, \"gridcolor\": \"white\", \"linecolor\": \"white\", \"ticks\": \"\", \"title\": {\"standoff\": 15}, \"zerolinecolor\": \"white\", \"zerolinewidth\": 2}, \"yaxis\": {\"automargin\": true, \"gridcolor\": \"white\", \"linecolor\": \"white\", \"ticks\": \"\", \"title\": {\"standoff\": 15}, \"zerolinecolor\": \"white\", \"zerolinewidth\": 2}}}, \"width\": 1000, \"xaxis\": {\"rangeslider\": {\"visible\": false}}},\n",
              "                        {\"responsive\": true}\n",
              "                    ).then(function(){\n",
              "                            \n",
              "var gd = document.getElementById('4e453e4e-37ee-48d1-8161-f34e649aab2a');\n",
              "var x = new MutationObserver(function (mutations, observer) {{\n",
              "        var display = window.getComputedStyle(gd).display;\n",
              "        if (!display || display === 'none') {{\n",
              "            console.log([gd, 'removed!']);\n",
              "            Plotly.purge(gd);\n",
              "            observer.disconnect();\n",
              "        }}\n",
              "}});\n",
              "\n",
              "// Listen for the removal of the full notebook cells\n",
              "var notebookContainer = gd.closest('#notebook-container');\n",
              "if (notebookContainer) {{\n",
              "    x.observe(notebookContainer, {childList: true});\n",
              "}}\n",
              "\n",
              "// Listen for the clearing of the current output cell\n",
              "var outputEl = gd.closest('.output');\n",
              "if (outputEl) {{\n",
              "    x.observe(outputEl, {childList: true});\n",
              "}}\n",
              "\n",
              "                        })\n",
              "                };\n",
              "                \n",
              "            </script>\n",
              "        </div>\n",
              "</body>\n",
              "</html>"
            ]
          },
          "metadata": {
            "tags": []
          }
        }
      ]
    },
    {
      "cell_type": "code",
      "metadata": {
        "colab": {
          "base_uri": "https://localhost:8080/"
        },
        "id": "chVcichqi7Oa",
        "outputId": "c9ef9e56-7bfa-4a47-fdaa-cc37defbd186"
      },
      "source": [
        "!zip -r /content/my_model.zip /content/my_model\n",
        "\n",
        "from google.colab import files\n",
        "#files.download(\"/content/my_model.zip\")"
      ],
      "execution_count": 81,
      "outputs": [
        {
          "output_type": "stream",
          "text": [
            "  adding: content/my_model/ (stored 0%)\n",
            "  adding: content/my_model/saved_model.pb (deflated 90%)\n",
            "  adding: content/my_model/assets/ (stored 0%)\n",
            "  adding: content/my_model/variables/ (stored 0%)\n",
            "  adding: content/my_model/variables/variables.data-00000-of-00001 (deflated 8%)\n",
            "  adding: content/my_model/variables/variables.index (deflated 70%)\n"
          ],
          "name": "stdout"
        }
      ]
    },
    {
      "cell_type": "code",
      "metadata": {
        "id": "4vlJ9JRhHFxr"
      },
      "source": [
        "#files.download(\"/content/my_model.zip\")"
      ],
      "execution_count": 82,
      "outputs": []
    },
    {
      "cell_type": "code",
      "metadata": {
        "id": "uBn3UiPQp8Kx"
      },
      "source": [
        ""
      ],
      "execution_count": 82,
      "outputs": []
    }
  ]
}